{
 "cells": [
  {
   "cell_type": "code",
   "execution_count": 5,
   "metadata": {
    "collapsed": true
   },
   "outputs": [],
   "source": [
    "import numpy as np\n",
    "import pandas as pd\n",
    "import matplotlib.pyplot as plt \n",
    "from sklearn.datasets import load_digits\n",
    "from sklearn.metrics import accuracy_score"
   ]
  },
  {
   "cell_type": "code",
   "execution_count": 2,
   "metadata": {
    "collapsed": true
   },
   "outputs": [],
   "source": [
    "%matplotlib inline"
   ]
  },
  {
   "cell_type": "code",
   "execution_count": 3,
   "metadata": {},
   "outputs": [
    {
     "name": "stdout",
     "output_type": "stream",
     "text": [
      "(1797, 64)\n"
     ]
    },
    {
     "data": {
      "text/plain": [
       "<matplotlib.figure.Figure at 0x1a0a82e0f0>"
      ]
     },
     "metadata": {},
     "output_type": "display_data"
    },
    {
     "data": {
      "image/png": "[encoded data removed]",
      "text/plain": [
       "<matplotlib.figure.Figure at 0x1a0a82e128>"
      ]
     },
     "metadata": {},
     "output_type": "display_data"
    }
   ],
   "source": [
    "digits = load_digits()\n",
    "print(digits.data.shape)\n",
    "\n",
    "plt.gray() \n",
    "plt.matshow(digits.images[0]) \n",
    "plt.show() "
   ]
  },
  {
   "cell_type": "markdown",
   "metadata": {},
   "source": [
    "### Определите модель с наилучшим показателем метрики accuracy, используя различные модели и варьируя их параметры."
   ]
  },
  {
   "cell_type": "markdown",
   "metadata": {},
   "source": [
    "Что мы имеем:\n",
    "Обучающиеся алгоритмы. Возьмем только изученные из пакета sklearn:\n",
    "\n",
    "1. linear_model.SGDClassifier (http://scikit-learn.org/stable/modules/generated/sklearn.linear_model.SGDClassifier.html)\n",
    "2. ensemble.RandomForestClassifier (http://scikit-learn.org/stable/modules/generated/sklearn.ensemble.RandomForestClassifier.html)\n",
    "3. ensemble.BaggingClassifier (http://scikit-learn.org/stable/modules/generated/sklearn.ensemble.BaggingClassifier.html)\n",
    "4. ensemble.ExtraTreesClassifier (http://scikit-learn.org/stable/modules/generated/sklearn.ensemble.ExtraTreesClassifier.html)\n",
    "5. ensemble.VotingClassifier (http://scikit-learn.org/stable/modules/generated/sklearn.ensemble.VotingClassifier.html)\n",
    "6. ensemble.AdaBoostClassifier (http://scikit-learn.org/stable/modules/generated/sklearn.ensemble.AdaBoostClassifier.html)\n",
    "7. neighbors.KNeighborsClassifier (http://scikit-learn.org/stable/modules/generated/sklearn.neighbors.KNeighborsClassifier.html)\n",
    "8. tree.DecisionTreeClassifier (http://scikit-learn.org/stable/modules/generated/sklearn.tree.DecisionTreeClassifier.html)\n",
    "9. tree.ExtraTreeClassifier (http://scikit-learn.org/stable/modules/generated/sklearn.tree.ExtraTreeClassifier.html)"
   ]
  },
  {
   "cell_type": "markdown",
   "metadata": {},
   "source": [
    "Теперь подготовим данные для обучения, для этого разобъем данные на обучающую и тестовую выборку"
   ]
  },
  {
   "cell_type": "code",
   "execution_count": 4,
   "metadata": {
    "collapsed": true
   },
   "outputs": [],
   "source": [
    "from sklearn.model_selection import train_test_split\n",
    "x_train, x_test, y_train, y_test = train_test_split(digits.data, digits.target)"
   ]
  },
  {
   "cell_type": "markdown",
   "metadata": {},
   "source": [
    "Теперь надо подготовить разные наборы параметов для обучения, для этого для каждого алгоритма нужно прописать серию параметов которые мы будем менять. Начнем по порядку:"
   ]
  },
  {
   "cell_type": "markdown",
   "metadata": {},
   "source": [
    "#### SGDClassifier\n",
    "Основные параметры: \n",
    "- loss : str, default: ‘hinge’\n",
    "Функция потерь\n",
    "Возможные параметры для классификации: \n",
    "\n",
    "1. ‘hinge’ - кусочно-линейная функция потерь (или hinge loss). Которая зануляется на тех объектах, которые достаточно далеко от разделяющей поверхности\n",
    "2. ‘log’ - $$\\large logloss = - \\frac{1}{l} \\cdot \\sum_{i=1}^l (y_i \\cdot log(\\hat y_i) + (1 - y_i) \\cdot log(1 - \\hat y_i))$$  \n",
    "\n",
    "можно представить минимизацию logloss как задачу максимизации accuracy путем штрафа за неверные предсказания. Однако необходимо отметить, что logloss крайне сильно штрафует за уверенность классификатора в неверном ответе.\n",
    "\n",
    "3. ‘modified\\_huber’ - Функция потерь Хьюбера — это функция потерь, используемая в устойчивой регрессии, которая менее чувствительна к выбросам, чем квадратичная ошибка. ( https://ru.wikipedia.org/wiki/%D0%A4%D1%83%D0%BD%D0%BA%D1%86%D0%B8%D1%8F_%D0%BF%D0%BE%D1%82%D0%B5%D1%80%D1%8C_%D0%A5%D1%8C%D1%8E%D0%B1%D0%B5%D1%80%D0%B0 )\n",
    "4. ‘squared_hinge’ - квадратичная функция потерь\n",
    "5. ‘perceptron’ - ХЗ что это за функция такая\n",
    "\n",
    "\n",
    "- penalty : str,\n",
    "Нормализация, т.е. штраф за выбросы\n",
    "Возможные параметры:\n",
    "‘none’, ‘l2’, ‘l1’, ‘elasticnet’\n",
    "\n",
    "- alpha : float\n",
    "\n",
    "Мультипликатор/множитель регуляризации. По умолчанию 0.0001 Так же используется для learning_rate когда он задан как ‘optimal’.\n",
    "\n",
    "- max_iter : int, optional\n",
    "\n",
    "Максимальное кол-во проходов по тренировочным данным \n",
    "\n",
    "- tol : float or None, optional\n",
    "\n",
    "Критерий остановки. Если None то остановка произойдет при условии (loss > previous_loss - tol)\n",
    "\n",
    "- shuffle : bool, optional\n",
    "\n",
    "Будут ли перемешаны данные после каждой эпохи/прохода. Defaults to True.\n",
    "\n",
    "- epsilon : float\n",
    "\n",
    "Указывает на интенсивность действия функции потерь. Только для функций потерь ‘huber’, ‘epsilon_insensitive’, ‘squared_epsilon_insensitive’. Для «huber» определяет порог, при котором становится менее важным получить правильное предсказание. Для эпсилон-чувствительности любые различия между текущим прогнозом и правильной меткой игнорируются, если они меньше этого порога.\n",
    "\n",
    "- learning_rate : string, optional\n",
    "\n",
    "Тип скорости обучения. \n",
    "Возможные значения:\n",
    "‘constant’: eta = eta0\n",
    "‘optimal’: eta = 1.0 / (alpha * (t + t0)) [default]\n",
    "‘invscaling’: eta = eta0 / pow(t, power_t)\n",
    "\n",
    "- eta0 : double\n",
    "\n",
    "Начальная скорость обучения для типов скорости обучения «constant» или «invscaling». Значение по умолчанию равно 0.0, так как eta0 не используется в типе по умолчанию ‘optimal’\n",
    "\n",
    "- class_weight : dict, {class_label: weight} or “balanced” or None, optional\n",
    "\n",
    "Предустановлен для параметра fit_weight. Веса, связанные с классами. Если не указано, все классы должны иметь вес один. «balanced» режим использует значения y для автоматической регулировки весов, обратно пропорциональных частотам класса во входных данных, как  n_samples / (n_classes * np.bincount(y))\n",
    "\n",
    "\n",
    "\n"
   ]
  },
  {
   "cell_type": "code",
   "execution_count": null,
   "metadata": {
    "collapsed": true
   },
   "outputs": [],
   "source": []
  }
 ],
 "metadata": {
  "kernelspec": {
   "display_name": "Python 3",
   "language": "python",
   "name": "python3"
  },
  "language_info": {
   "codemirror_mode": {
    "name": "ipython",
    "version": 3
   },
   "file_extension": ".py",
   "mimetype": "text/x-python",
   "name": "python",
   "nbconvert_exporter": "python",
   "pygments_lexer": "ipython3",
   "version": "3.6.2"
  }
 },
 "nbformat": 4,
 "nbformat_minor": 2
}
