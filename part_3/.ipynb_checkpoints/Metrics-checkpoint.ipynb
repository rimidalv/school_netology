{
 "cells": [
  {
   "cell_type": "code",
   "execution_count": 1,
   "metadata": {
    "collapsed": true
   },
   "outputs": [],
   "source": [
    "import numpy as np\n",
    "import pandas as pd\n",
    "import matplotlib.pyplot as plt \n",
    "from sklearn.datasets import load_digits\n",
    "from sklearn.metrics import accuracy_score"
   ]
  },
  {
   "cell_type": "code",
   "execution_count": 2,
   "metadata": {
    "collapsed": true
   },
   "outputs": [],
   "source": [
    "%matplotlib inline"
   ]
  },
  {
   "cell_type": "code",
   "execution_count": 3,
   "metadata": {},
   "outputs": [
    {
     "name": "stdout",
     "output_type": "stream",
     "text": [
      "(1797, 64)\n"
     ]
    },
    {
     "data": {
      "text/plain": [
       "<matplotlib.figure.Figure at 0x1a108c5eb8>"
      ]
     },
     "metadata": {},
     "output_type": "display_data"
    },
    {
     "data": {
      "image/png": "[encoded data removed]",
      "text/plain": [
       "<matplotlib.figure.Figure at 0x1a108e1080>"
      ]
     },
     "metadata": {},
     "output_type": "display_data"
    }
   ],
   "source": [
    "digits = load_digits()\n",
    "print(digits.data.shape)\n",
    "\n",
    "plt.gray() \n",
    "plt.matshow(digits.images[0]) \n",
    "plt.show() "
   ]
  },
  {
   "cell_type": "markdown",
   "metadata": {},
   "source": [
    "### Определите модель с наилучшим показателем метрики accuracy, используя различные модели и варьируя их параметры."
   ]
  },
  {
   "cell_type": "markdown",
   "metadata": {},
   "source": [
    "Что мы имеем:\n",
    "Обучающиеся алгоритмы. Возьмем только изученные из пакета sklearn:\n",
    "\n",
    "0. linear_model.LogisticRegression(http://scikit-learn.org/stable/modules/generated/sklearn.linear_model.LogisticRegression.html)\n",
    "1. linear_model.SGDClassifier (http://scikit-learn.org/stable/modules/generated/sklearn.linear_model.SGDClassifier.html)\n",
    "2. ensemble.RandomForestClassifier (http://scikit-learn.org/stable/modules/generated/sklearn.ensemble.RandomForestClassifier.html)\n",
    "3. ensemble.BaggingClassifier (http://scikit-learn.org/stable/modules/generated/sklearn.ensemble.BaggingClassifier.html)\n",
    "4. ensemble.ExtraTreesClassifier (http://scikit-learn.org/stable/modules/generated/sklearn.ensemble.ExtraTreesClassifier.html)\n",
    "5. ensemble.VotingClassifier (http://scikit-learn.org/stable/modules/generated/sklearn.ensemble.VotingClassifier.html)\n",
    "6. ensemble.AdaBoostClassifier (http://scikit-learn.org/stable/modules/generated/sklearn.ensemble.AdaBoostClassifier.html)\n",
    "7. neighbors.KNeighborsClassifier (http://scikit-learn.org/stable/modules/generated/sklearn.neighbors.KNeighborsClassifier.html)\n",
    "8. tree.DecisionTreeClassifier (http://scikit-learn.org/stable/modules/generated/sklearn.tree.DecisionTreeClassifier.html)\n",
    "9. tree.ExtraTreeClassifier (http://scikit-learn.org/stable/modules/generated/sklearn.tree.ExtraTreeClassifier.html)\n"
   ]
  },
  {
   "cell_type": "code",
   "execution_count": 4,
   "metadata": {
    "collapsed": true
   },
   "outputs": [],
   "source": [
    "from sklearn.linear_model import SGDClassifier, LogisticRegression\n",
    "from sklearn.ensemble import RandomForestClassifier, BaggingClassifier, ExtraTreesClassifier, VotingClassifier, AdaBoostClassifier\n",
    "from sklearn.neighbors import KNeighborsClassifier\n",
    "from sklearn.tree import DecisionTreeClassifier, ExtraTreeClassifier"
   ]
  },
  {
   "cell_type": "markdown",
   "metadata": {},
   "source": [
    "Теперь подготовим данные для обучения, для этого разобъем данные на обучающую и тестовую выборку"
   ]
  },
  {
   "cell_type": "code",
   "execution_count": 5,
   "metadata": {
    "collapsed": true
   },
   "outputs": [],
   "source": [
    "from sklearn.model_selection import train_test_split\n",
    "x_train, x_test, y_train, y_test = train_test_split(digits.data, digits.target)"
   ]
  },
  {
   "cell_type": "markdown",
   "metadata": {},
   "source": [
    "Теперь надо подготовить разные наборы параметов для обучения, для этого для каждого алгоритма нужно прописать серию параметов которые мы будем менять. Начнем по порядку:"
   ]
  },
  {
   "cell_type": "markdown",
   "metadata": {},
   "source": [
    "#### SGDClassifier\n",
    "Основные параметры: \n",
    "- loss : str, default: ‘hinge’\n",
    "Функция потерь\n",
    "Возможные параметры для классификации: \n",
    "\n",
    "1. ‘hinge’ - кусочно-линейная функция потерь (или hinge loss). Которая зануляется на тех объектах, которые достаточно далеко от разделяющей поверхности\n",
    "2. ‘log’ - $$\\large logloss = - \\frac{1}{l} \\cdot \\sum_{i=1}^l (y_i \\cdot log(\\hat y_i) + (1 - y_i) \\cdot log(1 - \\hat y_i))$$  \n",
    "\n",
    "можно представить минимизацию logloss как задачу максимизации accuracy путем штрафа за неверные предсказания. Однако необходимо отметить, что logloss крайне сильно штрафует за уверенность классификатора в неверном ответе.\n",
    "\n",
    "3. ‘modified\\_huber’ - Функция потерь Хьюбера — это функция потерь, используемая в устойчивой регрессии, которая менее чувствительна к выбросам, чем квадратичная ошибка. ( https://ru.wikipedia.org/wiki/%D0%A4%D1%83%D0%BD%D0%BA%D1%86%D0%B8%D1%8F_%D0%BF%D0%BE%D1%82%D0%B5%D1%80%D1%8C_%D0%A5%D1%8C%D1%8E%D0%B1%D0%B5%D1%80%D0%B0 )\n",
    "4. ‘squared_hinge’ - квадратичная функция потерь\n",
    "5. ‘perceptron’ - ХЗ что это за функция такая\n",
    "\n",
    "\n",
    "- penalty : str,\n",
    "Нормализация, т.е. штраф за выбросы\n",
    "Возможные параметры:\n",
    "‘none’, ‘l2’, ‘l1’, ‘elasticnet’\n",
    "\n",
    "- alpha : float\n",
    "\n",
    "Мультипликатор/множитель регуляризации. По умолчанию 0.0001 Так же используется для learning_rate когда он задан как ‘optimal’.\n",
    "\n",
    "- max_iter : int, optional\n",
    "\n",
    "Максимальное кол-во проходов по тренировочным данным \n",
    "\n",
    "- tol : float or None, optional\n",
    "\n",
    "Критерий остановки. Если None то остановка произойдет при условии (loss > previous_loss - tol)\n",
    "\n",
    "- shuffle : bool, optional\n",
    "\n",
    "Будут ли перемешаны данные после каждой эпохи/прохода. Defaults to True.\n",
    "\n",
    "- epsilon : float\n",
    "\n",
    "Указывает на интенсивность действия функции потерь. Только для функций потерь ‘huber’, ‘epsilon_insensitive’, ‘squared_epsilon_insensitive’. Для «huber» определяет порог, при котором становится менее важным получить правильное предсказание. Для эпсилон-чувствительности любые различия между текущим прогнозом и правильной меткой игнорируются, если они меньше этого порога.\n",
    "\n",
    "- learning_rate : string, optional\n",
    "\n",
    "Тип скорости обучения. \n",
    "Возможные значения:\n",
    "‘constant’: eta = eta0\n",
    "‘optimal’: eta = 1.0 / (alpha * (t + t0)) [default]\n",
    "‘invscaling’: eta = eta0 / pow(t, power_t)\n",
    "\n",
    "- eta0 : double\n",
    "\n",
    "Начальная скорость обучения для типов скорости обучения «constant» или «invscaling». Значение по умолчанию равно 0.0, так как eta0 не используется в типе по умолчанию ‘optimal’\n",
    "\n",
    "- class_weight : dict, {class_label: weight} or “balanced” or None, optional\n",
    "\n",
    "Предустановлен для параметра fit_weight. Веса, связанные с классами. Если не указано, все классы должны иметь вес один. «balanced» режим использует значения y для автоматической регулировки весов, обратно пропорциональных частотам класса во входных данных, как  n_samples / (n_classes * np.bincount(y))\n",
    "\n",
    "\n",
    "\n"
   ]
  },
  {
   "cell_type": "markdown",
   "metadata": {},
   "source": [
    "##### Создадим набор (структуру) для изменения параметров для grid"
   ]
  },
  {
   "cell_type": "code",
   "execution_count": 6,
   "metadata": {},
   "outputs": [
    {
     "name": "stderr",
     "output_type": "stream",
     "text": [
      "/Users/vladimir/anaconda3/lib/python3.6/site-packages/sklearn/linear_model/stochastic_gradient.py:84: FutureWarning: max_iter and tol parameters have been added in <class 'sklearn.linear_model.stochastic_gradient.SGDClassifier'> in 0.19. If both are left unset, they default to max_iter=5 and tol=None. If tol is not None, max_iter defaults to max_iter=1000. From 0.21, default max_iter will be 1000, and default tol will be 1e-3.\n",
      "  \"and default tol will be 1e-3.\" % type(self), FutureWarning)\n"
     ]
    }
   ],
   "source": [
    "\n",
    "SGD_data = {\n",
    "    \"model\" : SGDClassifier(),\n",
    "    \"params\" : {\n",
    "        \"loss\" : [\"hinge\", \"log\", \"modified_huber\", \"squared_hinge\", \"perceptron\"],\n",
    "        \"penalty\" : ['none', 'l2', 'l1', 'elasticnet'],\n",
    "        \"alpha\" : [10**float(c) for c in np.arange(-5,-3)],\n",
    "        \"shuffle\" : [True, False],\n",
    "        \"epsilon\" : [10**float(c) for c in np.arange(-5,0)],\n",
    "        \"learning_rate\" : [\"constant\", \"optimal\",\"invscaling\"],\n",
    "        \"eta0\" : [10**float(c) for c in np.arange(-5,0)],\n",
    "        \"class_weight\" : [\"balanced\", None],\n",
    "#         \"max_iter\" : np.linspace(5, 20, 10) # запишем сразу сюда то что получилось,а то больно долго считать еще раз\n",
    "    }\n",
    "}"
   ]
  },
  {
   "cell_type": "markdown",
   "metadata": {},
   "source": [
    "#### LogisticRegression\n",
    "Основные параметры: \n",
    "- penalty : str, default: ‘l2’\n",
    "Нормализация, т.е. штраф за выбросы\n",
    "Возможные параметры:\n",
    "‘l2’, ‘l1’\n",
    "\n",
    "- dual : bool, default: False\n",
    "ХЗ что это, похоже на какой то двойной доп штраф когда количество фичей больше кол-ва примеров. По умолчанию выключено.\n",
    "Dual or primal formulation. Dual formulation is only implemented for l2 penalty with liblinear solver. Prefer dual=False when n_samples > n_features.\n",
    "\n",
    "- tol : float, default: 1e-4\n",
    "Tolerance - критерий остановки\n",
    "\n",
    "- C : float, default: 1.0\n",
    "Инвертированный коэффициент штрафа для регулляризации\n",
    "\n",
    "- class_weight : dict or ‘balanced’, default: None\n",
    "Либо в ручную засовываем веса для классов, либо выбираем balanced или никак не взвешиваем классы\n",
    "Weights associated with classes in the form {class_label: weight}. If not given, all classes are supposed to have weight one.\n",
    "“balanced” режим использует значения y для автоматической корректировки весов, обратно пропорциональных частотам класса во входных данных, как n_samples / (n_classes * np.bincount(y)).\n",
    "\n",
    "- solver : {‘newton-cg’, ‘lbfgs’, ‘liblinear’, ‘sag’, ‘saga’}, default: ‘liblinear’ \n",
    "Алгоритм для решения оптимизационных проблем:\n",
    "Для маленьких выборок ‘liblinear’ - хороший выбор, в то время как ‘sag’ и ‘saga’ гораздо быстрее для больших выборок.\n",
    "Для мультиклассовых задач используется только ‘newton-cg’, ‘sag’, ‘saga’ и ‘lbfgs’\n",
    "\n",
    "‘liblinear’ ограничен схемой один против всех.\n",
    "\n",
    "‘newton-cg’, ‘lbfgs’ и ‘sag’ обрабатывают только L2 нормализацию, в то время как ‘liblinear’ и ‘saga’ обрабатывают L1 нормализацию.\n",
    "\n",
    "- max_iter : int, default: 100\n",
    "Используется только для newton-cg, sag и lbfgs решателей. Максимальное количество итераций, принятых для решателей.\n",
    "\n",
    "- multi_class : str, {‘ovr’, ‘multinomial’}, default: ‘ovr’\n",
    "Если выбранно ‘ovr’, то двоичная проблема обучается на каждой метке. Кроме того, минимизация потерь - это многочленная потеря, соответствующая всему распределению вероятности. Не работает для liblinear solver."
   ]
  },
  {
   "cell_type": "markdown",
   "metadata": {},
   "source": [
    "##### Создадим набор (структуру) для изменения параметров для grid"
   ]
  },
  {
   "cell_type": "code",
   "execution_count": 7,
   "metadata": {},
   "outputs": [],
   "source": [
    "LR_data = {\n",
    "    \"model\" : LogisticRegression(),\n",
    "    \"params\" : {\n",
    "#         \"penalty\" : ['l2', 'l1'],\n",
    "        \"tol\" : [10**float(c) for c in np.arange(-6,0)],\n",
    "        \"C\" : 10**np.linspace(-3, 1, 10),    \n",
    "        \"class_weight\" : [\"balanced\", None],\n",
    "        \"solver\" : ['newton-cg', 'sag', 'saga' , 'lbfgs'],\n",
    "#         \"max_iter\" : np.linspace(100, 1000, 10) #запишем сразу сюда то что получилось,а то больно долго считать еще раз\n",
    "    }\n",
    "}"
   ]
  },
  {
   "cell_type": "code",
   "execution_count": 8,
   "metadata": {
    "collapsed": true
   },
   "outputs": [],
   "source": [
    "from sklearn.model_selection import GridSearchCV"
   ]
  },
  {
   "cell_type": "markdown",
   "metadata": {},
   "source": [
    "Возьмем модели из записанного ранее кэша"
   ]
  },
  {
   "cell_type": "code",
   "execution_count": 14,
   "metadata": {},
   "outputs": [
    {
     "name": "stdout",
     "output_type": "stream",
     "text": [
      "no data for model SGDClassifier\n",
      "no data for model LogisticRegression\n"
     ]
    }
   ],
   "source": [
    "from sklearn.externals import joblib\n",
    "models = [SGD_data, LR_data]\n",
    "results = {}\n",
    "for data in models:\n",
    "    model = data[\"model\"]\n",
    "    try:\n",
    "        results[model.__class__.__name__] = joblib.load('{}.pkl'.format(model.__class__.__name__)) \n",
    "        models.remove(data)\n",
    "    except:\n",
    "        print(\"no data for model {}\".format(model.__class__.__name__))\n",
    "    \n",
    "# type(result['SGDClassifier'])"
   ]
  },
  {
   "cell_type": "code",
   "execution_count": null,
   "metadata": {},
   "outputs": [],
   "source": [
    "%%time\n",
    "\n",
    "for data in models:\n",
    "    model = data[\"model\"]\n",
    "    params = data[\"params\"]\n",
    "    grid = params\n",
    "    gridsearch = GridSearchCV(model, grid, scoring='accuracy', cv=5)\n",
    "    result = gridsearch.fit(x_train, y_train)\n",
    "    results[ model.__class__.__name__] = result.best_estimator_\n",
    "    print(\"\"\"{} : \n",
    "best score: {}\n",
    "best estimator: {}\"\"\".format(key, result.best_score_, result.best_estimator_))\n",
    "    joblib.dump(result.best_estimator_ , '{}.pkl'.format(model.__class__.__name__)) "
   ]
  },
  {
   "cell_type": "code",
   "execution_count": null,
   "metadata": {
    "collapsed": true
   },
   "outputs": [],
   "source": []
  }
 ],
 "metadata": {
  "kernelspec": {
   "display_name": "Python 3",
   "language": "python",
   "name": "python3"
  },
  "language_info": {
   "codemirror_mode": {
    "name": "ipython",
    "version": 3
   },
   "file_extension": ".py",
   "mimetype": "text/x-python",
   "name": "python",
   "nbconvert_exporter": "python",
   "pygments_lexer": "ipython3",
   "version": "3.6.2"
  }
 },
 "nbformat": 4,
 "nbformat_minor": 2
}
