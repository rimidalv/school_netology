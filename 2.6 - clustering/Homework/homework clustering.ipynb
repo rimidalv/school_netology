{
 "cells": [
  {
   "cell_type": "markdown",
   "metadata": {},
   "source": [
    "# Кластеризация. Домашнее задание"
   ]
  },
  {
   "cell_type": "markdown",
   "metadata": {},
   "source": [
    "### Данные\n",
    "\n",
    "В предложенных файлах информация с публичных слушаний Москвы по правилам землепользования и застройки (ПЗЗ). В них комментарии жителей города были застенагрофированы, проклассифицированы (за/против) и нанесены на карту. Данные предоставлены в 2 вариантах, для задания можно использовать любой:\n",
    "* geo_comment.xlsx\n",
    "    * **comment** - комментарий одного или списка жителей к проект\n",
    "    * **multiplier** - количество авторов комментария (может быть 1, может быть список)\n",
    "    * **x, y** - координаты адреса, по которому был дан определённой комментарий\n",
    "    * **comment_class** - за (1) / против (-1)\n",
    "* geo.xlsx - те же данные, но без текстов комментариев и по 1 голосу на строку (ранее в 1 строке могло быть **multiplier** > 1 голоса)\n",
    "    * **x, y** - координаты адреса, по которому был дан определённой комментарий\n",
    "    * **comment_class** - за (1) / против (-1)\n",
    "    \n",
    "### Обязательное задание\n",
    "\n",
    "* визуально разделить город на районы безотносительно голосов (провести кластеризацию и вывести картинку)\n",
    "* аналогично исследовать скопления голосов за и против отдельно\n",
    "* *подобрать оптимальное число кластеров при помощи кода из тетрадки в конце занятия (оптимально)*\n",
    "* приложить ноутбук\n",
    "\n",
    "### Дополнительные задания\n",
    "* найти наиболее активные в голосовании районы *(подсказка: DBSCAN, не плотные районы обозначены одной меткой и закрашены одним цветом, cmap='gray')*\n",
    "* для тех, кто уже попробовал работу с текстом: выделить основные тематики комментариев жителей, можно использовать всю имеющуюся дополнительную информацию"
   ]
  },
  {
   "cell_type": "code",
   "execution_count": 2,
   "metadata": {
    "collapsed": true
   },
   "outputs": [],
   "source": [
    "import numpy as np\n",
    "import pandas as pd\n",
    "from matplotlib import pyplot as plt\n",
    "%matplotlib inline\n",
    "import seaborn as sns"
   ]
  },
  {
   "cell_type": "code",
   "execution_count": 3,
   "metadata": {
    "collapsed": true
   },
   "outputs": [],
   "source": [
    "geo_data = pd.read_excel('geo.xlsx')\n",
    "geo_comment_data = pd.read_excel('geo_comment.xlsx')"
   ]
  },
  {
   "cell_type": "code",
   "execution_count": 6,
   "metadata": {},
   "outputs": [
    {
     "name": "stdout",
     "output_type": "stream",
     "text": [
      "<class 'pandas.core.frame.DataFrame'>\n",
      "Int64Index: 10000 entries, 0 to 9999\n",
      "Data columns (total 3 columns):\n",
      "x                10000 non-null float64\n",
      "y                10000 non-null float64\n",
      "comment_class    10000 non-null int64\n",
      "dtypes: float64(2), int64(1)\n",
      "memory usage: 312.5 KB\n"
     ]
    }
   ],
   "source": [
    "geo_data[: 10000].info()"
   ]
  },
  {
   "cell_type": "code",
   "execution_count": 7,
   "metadata": {},
   "outputs": [
    {
     "data": {
      "text/html": [
       "<div>\n",
       "<style>\n",
       "    .dataframe thead tr:only-child th {\n",
       "        text-align: right;\n",
       "    }\n",
       "\n",
       "    .dataframe thead th {\n",
       "        text-align: left;\n",
       "    }\n",
       "\n",
       "    .dataframe tbody tr th {\n",
       "        vertical-align: top;\n",
       "    }\n",
       "</style>\n",
       "<table border=\"1\" class=\"dataframe\">\n",
       "  <thead>\n",
       "    <tr style=\"text-align: right;\">\n",
       "      <th></th>\n",
       "      <th>x</th>\n",
       "      <th>y</th>\n",
       "      <th>comment_class</th>\n",
       "      <th>multiplier</th>\n",
       "      <th>comment</th>\n",
       "    </tr>\n",
       "  </thead>\n",
       "  <tbody>\n",
       "    <tr>\n",
       "      <th>0</th>\n",
       "      <td>37.612416</td>\n",
       "      <td>55.777454</td>\n",
       "      <td>-1</td>\n",
       "      <td>1</td>\n",
       "      <td>Во все разделы правил землепользования и застр...</td>\n",
       "    </tr>\n",
       "    <tr>\n",
       "      <th>1</th>\n",
       "      <td>37.612416</td>\n",
       "      <td>55.777454</td>\n",
       "      <td>-1</td>\n",
       "      <td>1</td>\n",
       "      <td>На основании вступившего в законную силу судеб...</td>\n",
       "    </tr>\n",
       "    <tr>\n",
       "      <th>2</th>\n",
       "      <td>37.603298</td>\n",
       "      <td>55.742108</td>\n",
       "      <td>-1</td>\n",
       "      <td>1</td>\n",
       "      <td>Внести в Проект правил землепользования и заст...</td>\n",
       "    </tr>\n",
       "    <tr>\n",
       "      <th>3</th>\n",
       "      <td>37.558526</td>\n",
       "      <td>55.728758</td>\n",
       "      <td>-1</td>\n",
       "      <td>1</td>\n",
       "      <td>Учитывая социальную значимость проекта строите...</td>\n",
       "    </tr>\n",
       "    <tr>\n",
       "      <th>4</th>\n",
       "      <td>37.566431</td>\n",
       "      <td>55.731794</td>\n",
       "      <td>-1</td>\n",
       "      <td>1</td>\n",
       "      <td>Учитывая социальную значимость проекта строите...</td>\n",
       "    </tr>\n",
       "  </tbody>\n",
       "</table>\n",
       "</div>"
      ],
      "text/plain": [
       "           x          y  comment_class  multiplier  \\\n",
       "0  37.612416  55.777454             -1           1   \n",
       "1  37.612416  55.777454             -1           1   \n",
       "2  37.603298  55.742108             -1           1   \n",
       "3  37.558526  55.728758             -1           1   \n",
       "4  37.566431  55.731794             -1           1   \n",
       "\n",
       "                                             comment  \n",
       "0  Во все разделы правил землепользования и застр...  \n",
       "1  На основании вступившего в законную силу судеб...  \n",
       "2  Внести в Проект правил землепользования и заст...  \n",
       "3  Учитывая социальную значимость проекта строите...  \n",
       "4  Учитывая социальную значимость проекта строите...  "
      ]
     },
     "execution_count": 7,
     "metadata": {},
     "output_type": "execute_result"
    }
   ],
   "source": [
    "geo_comment_data.head()"
   ]
  },
  {
   "cell_type": "markdown",
   "metadata": {},
   "source": [
    "Попробуем разбить на кластеры координаты."
   ]
  },
  {
   "cell_type": "code",
   "execution_count": 8,
   "metadata": {
    "collapsed": true
   },
   "outputs": [],
   "source": [
    "from sklearn.cluster import KMeans, AgglomerativeClustering, DBSCAN, AffinityPropagation\n",
    "from sklearn.metrics import adjusted_rand_score, silhouette_score"
   ]
  },
  {
   "cell_type": "code",
   "execution_count": 16,
   "metadata": {
    "collapsed": true
   },
   "outputs": [],
   "source": [
    "algorithms = [\n",
    "    AffinityPropagation(),\n",
    "    KMeans(n_clusters=2),\n",
    "    AgglomerativeClustering(n_clusters=2),\n",
    "    DBSCAN(),\n",
    "]"
   ]
  },
  {
   "cell_type": "code",
   "execution_count": 17,
   "metadata": {
    "collapsed": true
   },
   "outputs": [],
   "source": [
    "def get_descr(algo_name, y, y_pred, X):\n",
    "    return \"{}\\nARI {:.2f}\\nSilhouette {:.2f}\".format(\n",
    "        algo_name,\n",
    "        adjusted_rand_score(y, y_pred),\n",
    "        silhouette_score(X, y_pred)\n",
    "    )"
   ]
  },
  {
   "cell_type": "code",
   "execution_count": 18,
   "metadata": {
    "collapsed": true
   },
   "outputs": [],
   "source": [
    "import warnings\n",
    "warnings.filterwarnings('ignore')"
   ]
  },
  {
   "cell_type": "code",
   "execution_count": 21,
   "metadata": {},
   "outputs": [
    {
     "data": {
      "text/plain": [
       "array([ 0.4408269 ,  0.4408269 ,  0.28314165, ...,  0.07916078,\n",
       "        0.07916078,  0.07916078])"
      ]
     },
     "execution_count": 21,
     "metadata": {},
     "output_type": "execute_result"
    }
   ],
   "source": [
    "from sklearn.preprocessing import StandardScaler\n",
    "scaler = StandardScaler()\n",
    "y = geo_data[: 10000].copy().comment_class\n",
    "X = geo_data[: 10000].copy().drop(\"comment_class\", axis=1)\n",
    "X_scaled = scaler.fit_transform(X)\n",
    "# X_scaled = geo_data.copy().drop(\"comment_class\", axis=1)\n",
    "X_scaled[:, 0]"
   ]
  },
  {
   "cell_type": "code",
   "execution_count": 22,
   "metadata": {},
   "outputs": [
    {
     "data": {
      "image/png": "[encoded data removed]",
      "text/plain": [
       "<matplotlib.figure.Figure at 0x1a0bad56d8>"
      ]
     },
     "metadata": {},
     "output_type": "display_data"
    }
   ],
   "source": [
    "fig, axes = plt.subplots(1, 5, figsize=(15, 2))\n",
    "clusters_num = 3\n",
    "axes[0].scatter(X_scaled[:, 0], X_scaled[:, 1], c=y, cmap='autumn', s=60)\n",
    "# axes[0].set_title(get_descr(\"Random\", y, clusters_num, X_scaled))\n",
    "for ax, algorithm in zip(axes[1:], algorithms):\n",
    "    # кластеризуем и выводим картинку\n",
    "    clusters = algorithm.fit_predict(X_scaled)\n",
    "    ax.scatter(X_scaled[:, 0], X_scaled[:, 1], c=clusters, cmap='autumn', s=60)\n",
    "    ax.set_title(get_descr(algorithm.__class__.__name__, y, clusters, X_scaled))\n",
    "    \n",
    "    # если есть центры кластеров - выведем их\n",
    "    if algorithm.__class__.__name__ in {'KMeans', 'AffinityPropagation'}:\n",
    "        centers = algorithm.cluster_centers_\n",
    "        ax.scatter(centers[:, 0], centers[:, 1], s=50)"
   ]
  },
  {
   "cell_type": "code",
   "execution_count": null,
   "metadata": {
    "collapsed": true
   },
   "outputs": [],
   "source": []
  }
 ],
 "metadata": {
  "anaconda-cloud": {},
  "kernelspec": {
   "display_name": "Python 3",
   "language": "python",
   "name": "python3"
  },
  "language_info": {
   "codemirror_mode": {
    "name": "ipython",
    "version": 3
   },
   "file_extension": ".py",
   "mimetype": "text/x-python",
   "name": "python",
   "nbconvert_exporter": "python",
   "pygments_lexer": "ipython3",
   "version": "3.6.2"
  }
 },
 "nbformat": 4,
 "nbformat_minor": 2
}
