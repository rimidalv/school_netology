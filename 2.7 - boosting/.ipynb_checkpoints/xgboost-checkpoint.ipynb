{
 "cells": [
  {
   "cell_type": "markdown",
   "metadata": {},
   "source": [
    "# XGBoost"
   ]
  },
  {
   "cell_type": "code",
   "execution_count": 1,
   "metadata": {
    "collapsed": true
   },
   "outputs": [],
   "source": [
    "# https://www.kaggle.com/c/titanic"
   ]
  },
  {
   "cell_type": "code",
   "execution_count": 2,
   "metadata": {
    "collapsed": true
   },
   "outputs": [],
   "source": [
    "import sklearn\n",
    "import pandas as pd"
   ]
  },
  {
   "cell_type": "code",
   "execution_count": 4,
   "metadata": {},
   "outputs": [
    {
     "ename": "FileNotFoundError",
     "evalue": "File b'/titanic/train.csv' does not exist",
     "output_type": "error",
     "traceback": [
      "\u001b[0;31m---------------------------------------------------------------------------\u001b[0m",
      "\u001b[0;31mFileNotFoundError\u001b[0m                         Traceback (most recent call last)",
      "\u001b[0;32m<ipython-input-4-e4aa95da13e3>\u001b[0m in \u001b[0;36m<module>\u001b[0;34m()\u001b[0m\n\u001b[1;32m      1\u001b[0m \u001b[0;31m# Загружаем данные из файлов\u001b[0m\u001b[0;34m\u001b[0m\u001b[0;34m\u001b[0m\u001b[0m\n\u001b[0;32m----> 2\u001b[0;31m \u001b[0mtrain\u001b[0m \u001b[0;34m=\u001b[0m \u001b[0mpd\u001b[0m\u001b[0;34m.\u001b[0m\u001b[0mread_csv\u001b[0m\u001b[0;34m(\u001b[0m\u001b[0;34m'/titanic/train.csv'\u001b[0m\u001b[0;34m)\u001b[0m\u001b[0;34m\u001b[0m\u001b[0m\n\u001b[0m\u001b[1;32m      3\u001b[0m \u001b[0mtest\u001b[0m \u001b[0;34m=\u001b[0m \u001b[0mpd\u001b[0m\u001b[0;34m.\u001b[0m\u001b[0mread_csv\u001b[0m\u001b[0;34m(\u001b[0m\u001b[0;34m'/titanic/test.csv'\u001b[0m\u001b[0;34m)\u001b[0m\u001b[0;34m\u001b[0m\u001b[0m\n",
      "\u001b[0;32m/anaconda3/lib/python3.6/site-packages/pandas/io/parsers.py\u001b[0m in \u001b[0;36mparser_f\u001b[0;34m(filepath_or_buffer, sep, delimiter, header, names, index_col, usecols, squeeze, prefix, mangle_dupe_cols, dtype, engine, converters, true_values, false_values, skipinitialspace, skiprows, nrows, na_values, keep_default_na, na_filter, verbose, skip_blank_lines, parse_dates, infer_datetime_format, keep_date_col, date_parser, dayfirst, iterator, chunksize, compression, thousands, decimal, lineterminator, quotechar, quoting, escapechar, comment, encoding, dialect, tupleize_cols, error_bad_lines, warn_bad_lines, skipfooter, skip_footer, doublequote, delim_whitespace, as_recarray, compact_ints, use_unsigned, low_memory, buffer_lines, memory_map, float_precision)\u001b[0m\n\u001b[1;32m    653\u001b[0m                     skip_blank_lines=skip_blank_lines)\n\u001b[1;32m    654\u001b[0m \u001b[0;34m\u001b[0m\u001b[0m\n\u001b[0;32m--> 655\u001b[0;31m         \u001b[0;32mreturn\u001b[0m \u001b[0m_read\u001b[0m\u001b[0;34m(\u001b[0m\u001b[0mfilepath_or_buffer\u001b[0m\u001b[0;34m,\u001b[0m \u001b[0mkwds\u001b[0m\u001b[0;34m)\u001b[0m\u001b[0;34m\u001b[0m\u001b[0m\n\u001b[0m\u001b[1;32m    656\u001b[0m \u001b[0;34m\u001b[0m\u001b[0m\n\u001b[1;32m    657\u001b[0m     \u001b[0mparser_f\u001b[0m\u001b[0;34m.\u001b[0m\u001b[0m__name__\u001b[0m \u001b[0;34m=\u001b[0m \u001b[0mname\u001b[0m\u001b[0;34m\u001b[0m\u001b[0m\n",
      "\u001b[0;32m/anaconda3/lib/python3.6/site-packages/pandas/io/parsers.py\u001b[0m in \u001b[0;36m_read\u001b[0;34m(filepath_or_buffer, kwds)\u001b[0m\n\u001b[1;32m    403\u001b[0m \u001b[0;34m\u001b[0m\u001b[0m\n\u001b[1;32m    404\u001b[0m     \u001b[0;31m# Create the parser.\u001b[0m\u001b[0;34m\u001b[0m\u001b[0;34m\u001b[0m\u001b[0m\n\u001b[0;32m--> 405\u001b[0;31m     \u001b[0mparser\u001b[0m \u001b[0;34m=\u001b[0m \u001b[0mTextFileReader\u001b[0m\u001b[0;34m(\u001b[0m\u001b[0mfilepath_or_buffer\u001b[0m\u001b[0;34m,\u001b[0m \u001b[0;34m**\u001b[0m\u001b[0mkwds\u001b[0m\u001b[0;34m)\u001b[0m\u001b[0;34m\u001b[0m\u001b[0m\n\u001b[0m\u001b[1;32m    406\u001b[0m \u001b[0;34m\u001b[0m\u001b[0m\n\u001b[1;32m    407\u001b[0m     \u001b[0;32mif\u001b[0m \u001b[0mchunksize\u001b[0m \u001b[0;32mor\u001b[0m \u001b[0miterator\u001b[0m\u001b[0;34m:\u001b[0m\u001b[0;34m\u001b[0m\u001b[0m\n",
      "\u001b[0;32m/anaconda3/lib/python3.6/site-packages/pandas/io/parsers.py\u001b[0m in \u001b[0;36m__init__\u001b[0;34m(self, f, engine, **kwds)\u001b[0m\n\u001b[1;32m    762\u001b[0m             \u001b[0mself\u001b[0m\u001b[0;34m.\u001b[0m\u001b[0moptions\u001b[0m\u001b[0;34m[\u001b[0m\u001b[0;34m'has_index_names'\u001b[0m\u001b[0;34m]\u001b[0m \u001b[0;34m=\u001b[0m \u001b[0mkwds\u001b[0m\u001b[0;34m[\u001b[0m\u001b[0;34m'has_index_names'\u001b[0m\u001b[0;34m]\u001b[0m\u001b[0;34m\u001b[0m\u001b[0m\n\u001b[1;32m    763\u001b[0m \u001b[0;34m\u001b[0m\u001b[0m\n\u001b[0;32m--> 764\u001b[0;31m         \u001b[0mself\u001b[0m\u001b[0;34m.\u001b[0m\u001b[0m_make_engine\u001b[0m\u001b[0;34m(\u001b[0m\u001b[0mself\u001b[0m\u001b[0;34m.\u001b[0m\u001b[0mengine\u001b[0m\u001b[0;34m)\u001b[0m\u001b[0;34m\u001b[0m\u001b[0m\n\u001b[0m\u001b[1;32m    765\u001b[0m \u001b[0;34m\u001b[0m\u001b[0m\n\u001b[1;32m    766\u001b[0m     \u001b[0;32mdef\u001b[0m \u001b[0mclose\u001b[0m\u001b[0;34m(\u001b[0m\u001b[0mself\u001b[0m\u001b[0;34m)\u001b[0m\u001b[0;34m:\u001b[0m\u001b[0;34m\u001b[0m\u001b[0m\n",
      "\u001b[0;32m/anaconda3/lib/python3.6/site-packages/pandas/io/parsers.py\u001b[0m in \u001b[0;36m_make_engine\u001b[0;34m(self, engine)\u001b[0m\n\u001b[1;32m    983\u001b[0m     \u001b[0;32mdef\u001b[0m \u001b[0m_make_engine\u001b[0m\u001b[0;34m(\u001b[0m\u001b[0mself\u001b[0m\u001b[0;34m,\u001b[0m \u001b[0mengine\u001b[0m\u001b[0;34m=\u001b[0m\u001b[0;34m'c'\u001b[0m\u001b[0;34m)\u001b[0m\u001b[0;34m:\u001b[0m\u001b[0;34m\u001b[0m\u001b[0m\n\u001b[1;32m    984\u001b[0m         \u001b[0;32mif\u001b[0m \u001b[0mengine\u001b[0m \u001b[0;34m==\u001b[0m \u001b[0;34m'c'\u001b[0m\u001b[0;34m:\u001b[0m\u001b[0;34m\u001b[0m\u001b[0m\n\u001b[0;32m--> 985\u001b[0;31m             \u001b[0mself\u001b[0m\u001b[0;34m.\u001b[0m\u001b[0m_engine\u001b[0m \u001b[0;34m=\u001b[0m \u001b[0mCParserWrapper\u001b[0m\u001b[0;34m(\u001b[0m\u001b[0mself\u001b[0m\u001b[0;34m.\u001b[0m\u001b[0mf\u001b[0m\u001b[0;34m,\u001b[0m \u001b[0;34m**\u001b[0m\u001b[0mself\u001b[0m\u001b[0;34m.\u001b[0m\u001b[0moptions\u001b[0m\u001b[0;34m)\u001b[0m\u001b[0;34m\u001b[0m\u001b[0m\n\u001b[0m\u001b[1;32m    986\u001b[0m         \u001b[0;32melse\u001b[0m\u001b[0;34m:\u001b[0m\u001b[0;34m\u001b[0m\u001b[0m\n\u001b[1;32m    987\u001b[0m             \u001b[0;32mif\u001b[0m \u001b[0mengine\u001b[0m \u001b[0;34m==\u001b[0m \u001b[0;34m'python'\u001b[0m\u001b[0;34m:\u001b[0m\u001b[0;34m\u001b[0m\u001b[0m\n",
      "\u001b[0;32m/anaconda3/lib/python3.6/site-packages/pandas/io/parsers.py\u001b[0m in \u001b[0;36m__init__\u001b[0;34m(self, src, **kwds)\u001b[0m\n\u001b[1;32m   1603\u001b[0m         \u001b[0mkwds\u001b[0m\u001b[0;34m[\u001b[0m\u001b[0;34m'allow_leading_cols'\u001b[0m\u001b[0;34m]\u001b[0m \u001b[0;34m=\u001b[0m \u001b[0mself\u001b[0m\u001b[0;34m.\u001b[0m\u001b[0mindex_col\u001b[0m \u001b[0;32mis\u001b[0m \u001b[0;32mnot\u001b[0m \u001b[0;32mFalse\u001b[0m\u001b[0;34m\u001b[0m\u001b[0m\n\u001b[1;32m   1604\u001b[0m \u001b[0;34m\u001b[0m\u001b[0m\n\u001b[0;32m-> 1605\u001b[0;31m         \u001b[0mself\u001b[0m\u001b[0;34m.\u001b[0m\u001b[0m_reader\u001b[0m \u001b[0;34m=\u001b[0m \u001b[0mparsers\u001b[0m\u001b[0;34m.\u001b[0m\u001b[0mTextReader\u001b[0m\u001b[0;34m(\u001b[0m\u001b[0msrc\u001b[0m\u001b[0;34m,\u001b[0m \u001b[0;34m**\u001b[0m\u001b[0mkwds\u001b[0m\u001b[0;34m)\u001b[0m\u001b[0;34m\u001b[0m\u001b[0m\n\u001b[0m\u001b[1;32m   1606\u001b[0m \u001b[0;34m\u001b[0m\u001b[0m\n\u001b[1;32m   1607\u001b[0m         \u001b[0;31m# XXX\u001b[0m\u001b[0;34m\u001b[0m\u001b[0;34m\u001b[0m\u001b[0m\n",
      "\u001b[0;32mpandas/_libs/parsers.pyx\u001b[0m in \u001b[0;36mpandas._libs.parsers.TextReader.__cinit__ (pandas/_libs/parsers.c:4209)\u001b[0;34m()\u001b[0m\n",
      "\u001b[0;32mpandas/_libs/parsers.pyx\u001b[0m in \u001b[0;36mpandas._libs.parsers.TextReader._setup_parser_source (pandas/_libs/parsers.c:8873)\u001b[0;34m()\u001b[0m\n",
      "\u001b[0;31mFileNotFoundError\u001b[0m: File b'/titanic/train.csv' does not exist"
     ]
    }
   ],
   "source": [
    "# Загружаем данные из файлов\n",
    "train = pd.read_csv('/titanic/train.csv')\n",
    "test = pd.read_csv('/titanic/test.csv')"
   ]
  },
  {
   "cell_type": "code",
   "execution_count": 8,
   "metadata": {},
   "outputs": [
    {
     "data": {
      "text/html": [
       "<div>\n",
       "<table border=\"1\" class=\"dataframe\">\n",
       "  <thead>\n",
       "    <tr style=\"text-align: right;\">\n",
       "      <th></th>\n",
       "      <th>PassengerId</th>\n",
       "      <th>Survived</th>\n",
       "      <th>Pclass</th>\n",
       "      <th>Name</th>\n",
       "      <th>Sex</th>\n",
       "      <th>Age</th>\n",
       "      <th>SibSp</th>\n",
       "      <th>Parch</th>\n",
       "      <th>Ticket</th>\n",
       "      <th>Fare</th>\n",
       "      <th>Cabin</th>\n",
       "      <th>Embarked</th>\n",
       "    </tr>\n",
       "  </thead>\n",
       "  <tbody>\n",
       "    <tr>\n",
       "      <th>0</th>\n",
       "      <td>1</td>\n",
       "      <td>0</td>\n",
       "      <td>3</td>\n",
       "      <td>Braund, Mr. Owen Harris</td>\n",
       "      <td>male</td>\n",
       "      <td>22.0</td>\n",
       "      <td>1</td>\n",
       "      <td>0</td>\n",
       "      <td>A/5 21171</td>\n",
       "      <td>7.2500</td>\n",
       "      <td>NaN</td>\n",
       "      <td>S</td>\n",
       "    </tr>\n",
       "    <tr>\n",
       "      <th>1</th>\n",
       "      <td>2</td>\n",
       "      <td>1</td>\n",
       "      <td>1</td>\n",
       "      <td>Cumings, Mrs. John Bradley (Florence Briggs Th...</td>\n",
       "      <td>female</td>\n",
       "      <td>38.0</td>\n",
       "      <td>1</td>\n",
       "      <td>0</td>\n",
       "      <td>PC 17599</td>\n",
       "      <td>71.2833</td>\n",
       "      <td>C85</td>\n",
       "      <td>C</td>\n",
       "    </tr>\n",
       "    <tr>\n",
       "      <th>2</th>\n",
       "      <td>3</td>\n",
       "      <td>1</td>\n",
       "      <td>3</td>\n",
       "      <td>Heikkinen, Miss. Laina</td>\n",
       "      <td>female</td>\n",
       "      <td>26.0</td>\n",
       "      <td>0</td>\n",
       "      <td>0</td>\n",
       "      <td>STON/O2. 3101282</td>\n",
       "      <td>7.9250</td>\n",
       "      <td>NaN</td>\n",
       "      <td>S</td>\n",
       "    </tr>\n",
       "    <tr>\n",
       "      <th>3</th>\n",
       "      <td>4</td>\n",
       "      <td>1</td>\n",
       "      <td>1</td>\n",
       "      <td>Futrelle, Mrs. Jacques Heath (Lily May Peel)</td>\n",
       "      <td>female</td>\n",
       "      <td>35.0</td>\n",
       "      <td>1</td>\n",
       "      <td>0</td>\n",
       "      <td>113803</td>\n",
       "      <td>53.1000</td>\n",
       "      <td>C123</td>\n",
       "      <td>S</td>\n",
       "    </tr>\n",
       "    <tr>\n",
       "      <th>4</th>\n",
       "      <td>5</td>\n",
       "      <td>0</td>\n",
       "      <td>3</td>\n",
       "      <td>Allen, Mr. William Henry</td>\n",
       "      <td>male</td>\n",
       "      <td>35.0</td>\n",
       "      <td>0</td>\n",
       "      <td>0</td>\n",
       "      <td>373450</td>\n",
       "      <td>8.0500</td>\n",
       "      <td>NaN</td>\n",
       "      <td>S</td>\n",
       "    </tr>\n",
       "  </tbody>\n",
       "</table>\n",
       "</div>"
      ],
      "text/plain": [
       "   PassengerId  Survived  Pclass  \\\n",
       "0            1         0       3   \n",
       "1            2         1       1   \n",
       "2            3         1       3   \n",
       "3            4         1       1   \n",
       "4            5         0       3   \n",
       "\n",
       "                                                Name     Sex   Age  SibSp  \\\n",
       "0                            Braund, Mr. Owen Harris    male  22.0      1   \n",
       "1  Cumings, Mrs. John Bradley (Florence Briggs Th...  female  38.0      1   \n",
       "2                             Heikkinen, Miss. Laina  female  26.0      0   \n",
       "3       Futrelle, Mrs. Jacques Heath (Lily May Peel)  female  35.0      1   \n",
       "4                           Allen, Mr. William Henry    male  35.0      0   \n",
       "\n",
       "   Parch            Ticket     Fare Cabin Embarked  \n",
       "0      0         A/5 21171   7.2500   NaN        S  \n",
       "1      0          PC 17599  71.2833   C85        C  \n",
       "2      0  STON/O2. 3101282   7.9250   NaN        S  \n",
       "3      0            113803  53.1000  C123        S  \n",
       "4      0            373450   8.0500   NaN        S  "
      ]
     },
     "execution_count": 8,
     "metadata": {},
     "output_type": "execute_result"
    }
   ],
   "source": [
    "train.head()"
   ]
  },
  {
   "cell_type": "markdown",
   "metadata": {},
   "source": [
    "## Предобработка данных"
   ]
  },
  {
   "cell_type": "code",
   "execution_count": 9,
   "metadata": {
    "collapsed": true
   },
   "outputs": [],
   "source": [
    "# Заполняем пропуски в данных медианными \n",
    "# значениями факторов на обучающей выборке\n",
    "train_median = train.median()\n",
    "train_imp = train.fillna(train_median)\n",
    "test_imp = test.fillna(train_median)"
   ]
  },
  {
   "cell_type": "code",
   "execution_count": 10,
   "metadata": {
    "collapsed": true
   },
   "outputs": [],
   "source": [
    "# Бинаризуем категориальные признаки\n",
    "CATEGORY_COL = ['Sex', 'Pclass', 'Embarked']\n",
    "train_dummies = pd.get_dummies(train_imp, columns=CATEGORY_COL, drop_first=True)\n",
    "test_dummies = pd.get_dummies(test_imp, columns=CATEGORY_COL, drop_first=True)"
   ]
  },
  {
   "cell_type": "code",
   "execution_count": 11,
   "metadata": {},
   "outputs": [
    {
     "data": {
      "text/html": [
       "<div>\n",
       "<table border=\"1\" class=\"dataframe\">\n",
       "  <thead>\n",
       "    <tr style=\"text-align: right;\">\n",
       "      <th></th>\n",
       "      <th>PassengerId</th>\n",
       "      <th>Survived</th>\n",
       "      <th>Name</th>\n",
       "      <th>Age</th>\n",
       "      <th>SibSp</th>\n",
       "      <th>Parch</th>\n",
       "      <th>Ticket</th>\n",
       "      <th>Fare</th>\n",
       "      <th>Cabin</th>\n",
       "      <th>Sex_male</th>\n",
       "      <th>Pclass_2</th>\n",
       "      <th>Pclass_3</th>\n",
       "      <th>Embarked_Q</th>\n",
       "      <th>Embarked_S</th>\n",
       "    </tr>\n",
       "  </thead>\n",
       "  <tbody>\n",
       "    <tr>\n",
       "      <th>0</th>\n",
       "      <td>1</td>\n",
       "      <td>0</td>\n",
       "      <td>Braund, Mr. Owen Harris</td>\n",
       "      <td>22.0</td>\n",
       "      <td>1</td>\n",
       "      <td>0</td>\n",
       "      <td>A/5 21171</td>\n",
       "      <td>7.2500</td>\n",
       "      <td>NaN</td>\n",
       "      <td>1</td>\n",
       "      <td>0</td>\n",
       "      <td>1</td>\n",
       "      <td>0</td>\n",
       "      <td>1</td>\n",
       "    </tr>\n",
       "    <tr>\n",
       "      <th>1</th>\n",
       "      <td>2</td>\n",
       "      <td>1</td>\n",
       "      <td>Cumings, Mrs. John Bradley (Florence Briggs Th...</td>\n",
       "      <td>38.0</td>\n",
       "      <td>1</td>\n",
       "      <td>0</td>\n",
       "      <td>PC 17599</td>\n",
       "      <td>71.2833</td>\n",
       "      <td>C85</td>\n",
       "      <td>0</td>\n",
       "      <td>0</td>\n",
       "      <td>0</td>\n",
       "      <td>0</td>\n",
       "      <td>0</td>\n",
       "    </tr>\n",
       "    <tr>\n",
       "      <th>2</th>\n",
       "      <td>3</td>\n",
       "      <td>1</td>\n",
       "      <td>Heikkinen, Miss. Laina</td>\n",
       "      <td>26.0</td>\n",
       "      <td>0</td>\n",
       "      <td>0</td>\n",
       "      <td>STON/O2. 3101282</td>\n",
       "      <td>7.9250</td>\n",
       "      <td>NaN</td>\n",
       "      <td>0</td>\n",
       "      <td>0</td>\n",
       "      <td>1</td>\n",
       "      <td>0</td>\n",
       "      <td>1</td>\n",
       "    </tr>\n",
       "    <tr>\n",
       "      <th>3</th>\n",
       "      <td>4</td>\n",
       "      <td>1</td>\n",
       "      <td>Futrelle, Mrs. Jacques Heath (Lily May Peel)</td>\n",
       "      <td>35.0</td>\n",
       "      <td>1</td>\n",
       "      <td>0</td>\n",
       "      <td>113803</td>\n",
       "      <td>53.1000</td>\n",
       "      <td>C123</td>\n",
       "      <td>0</td>\n",
       "      <td>0</td>\n",
       "      <td>0</td>\n",
       "      <td>0</td>\n",
       "      <td>1</td>\n",
       "    </tr>\n",
       "    <tr>\n",
       "      <th>4</th>\n",
       "      <td>5</td>\n",
       "      <td>0</td>\n",
       "      <td>Allen, Mr. William Henry</td>\n",
       "      <td>35.0</td>\n",
       "      <td>0</td>\n",
       "      <td>0</td>\n",
       "      <td>373450</td>\n",
       "      <td>8.0500</td>\n",
       "      <td>NaN</td>\n",
       "      <td>1</td>\n",
       "      <td>0</td>\n",
       "      <td>1</td>\n",
       "      <td>0</td>\n",
       "      <td>1</td>\n",
       "    </tr>\n",
       "  </tbody>\n",
       "</table>\n",
       "</div>"
      ],
      "text/plain": [
       "   PassengerId  Survived                                               Name  \\\n",
       "0            1         0                            Braund, Mr. Owen Harris   \n",
       "1            2         1  Cumings, Mrs. John Bradley (Florence Briggs Th...   \n",
       "2            3         1                             Heikkinen, Miss. Laina   \n",
       "3            4         1       Futrelle, Mrs. Jacques Heath (Lily May Peel)   \n",
       "4            5         0                           Allen, Mr. William Henry   \n",
       "\n",
       "    Age  SibSp  Parch            Ticket     Fare Cabin  Sex_male  Pclass_2  \\\n",
       "0  22.0      1      0         A/5 21171   7.2500   NaN         1         0   \n",
       "1  38.0      1      0          PC 17599  71.2833   C85         0         0   \n",
       "2  26.0      0      0  STON/O2. 3101282   7.9250   NaN         0         0   \n",
       "3  35.0      1      0            113803  53.1000  C123         0         0   \n",
       "4  35.0      0      0            373450   8.0500   NaN         1         0   \n",
       "\n",
       "   Pclass_3  Embarked_Q  Embarked_S  \n",
       "0         1           0           1  \n",
       "1         0           0           0  \n",
       "2         1           0           1  \n",
       "3         0           0           1  \n",
       "4         1           0           1  "
      ]
     },
     "execution_count": 11,
     "metadata": {},
     "output_type": "execute_result"
    }
   ],
   "source": [
    "train_dummies.head()"
   ]
  },
  {
   "cell_type": "code",
   "execution_count": 12,
   "metadata": {
    "collapsed": true
   },
   "outputs": [],
   "source": [
    "# Удаляем лишние столбцы\n",
    "DROP_COL = ['PassengerId', 'Name', 'Ticket', 'Cabin']\n",
    "TARGET_COL = 'Survived'\n",
    "X_train = train_dummies.drop(DROP_COL + [TARGET_COL], axis=1)\n",
    "y_train = train_dummies[TARGET_COL]\n",
    "X_test = test_dummies.drop(DROP_COL, axis=1)"
   ]
  },
  {
   "cell_type": "markdown",
   "metadata": {},
   "source": [
    "# XGBoost\n",
    "\n",
    "**Основные параметры**\n",
    "\n",
    "| Параметр          | Тип                | Описание                                                                                                                                     | Диапазон значений      |\n",
    "|-------------------|--------------------|----------------------------------------------------------------------------------------------------------------------------------------------|------------------------|\n",
    "| **max_depth**         | int                | Максимальная глубина каждого дерева                                                                                                          | 3-10                   |\n",
    "| **learning_rate**     | float              | Шаг градиентного бустинга                                                                                                                    | 0.01-0.2               |\n",
    "| **n_estimators**      | int                | Размер ансамбля                                                                                                                              | 100-1000               |\n",
    "| **objective**         | string or callable | Оптмизируемый функционал. В отличие от метрики качества, должен быть всюду дифференцируем                                                    |                        |\n",
    "| **booster**           | string             | Какой бустинг использовать                                                                                                                   | [gbtree,gblinear,dart] |\n",
    "| **nthread**           | int                | Количество потоков, в котором будет обучаться XGBoost                                                                                        |                        |\n",
    "| **n_jobs**            | int                | -//-                                                                                                                                         |                        |\n",
    "| **gamma**             | float              |  Минимальный прирост качества функционала ошибки, при котором лист дерева будет поделён на поддеревья. Минимальный критерий ветвления дерева |                        |\n",
    "| **min_child_weight**  | float              | Минимальная сумма весов в листе дерева для того, чтобы его не выкинуть                                                                       |                        |\n",
    "| **max_delta_step**    | int                | Максимальный шаг, с которым можно обновлять веса деревьев                                                                                    |                        |\n",
    "| **subsample**         | float              | На какой случайной доли обучающей выборки будет обучаться каждое дерево                                                                      |                        |\n",
    "| **colsample_bytree**  | float              | На какой случайной доли признаков будет обучаться каждое дерево                                                                              | [0.5-1]                |\n",
    "| **colsample_bylevel** | float              | Какая доля признаков пойдёт в каждое поддерево                                                                                               |                        |\n",
    "| **reg_alpha**         | float              | L1-регуляризация для листьев дерева                                                                                                          |                        |\n",
    "| **reg_lambda**        | float              | L2-регуляризация для листьев дерева                                                                                                          |                        |\n",
    "| **scale_pos_weight**  | float              | Какой вес придадим второму классу объектов (1) по сравнению с первым (0). Используется при сильно несбалансированной выборке                 |                        |\n",
    "| **base_score**        | float              |  До какого скора объекты будут отнесену к первому классу (0) и с какого ко второму (1). По умолчанию 0.5. Обычно не тюнят                    |                        |\n",
    "| **seed**              | int                | Начальная точка для генератора случайных чисел                                                                                               |                        |\n",
    "| **random_state**      | int                | -//-                                                                                                                                         |                        |\n",
    "| **missing**           | float (optional)   | Что принимать за пропущенные значения. По умолчанию np.nan.                                                                                  |                        |\n",
    "| **silent**            | boolean            | Если True, то выводить всю информацию об обучении                                                                                            |                        |"
   ]
  },
  {
   "cell_type": "markdown",
   "metadata": {},
   "source": [
    "# Упражнение 1\n",
    "Используя текущее описание параметров и предыдущее упражнение, произведите базовый подбор параметров XGBoost'a, используя метрику **AUC**. Сравните полученное качество (**AUC**) с полученным ранее на RandomForest и GradientBoosting"
   ]
  },
  {
   "cell_type": "code",
   "execution_count": null,
   "metadata": {
    "collapsed": true
   },
   "outputs": [],
   "source": [
    "import xgboost\n",
    "\n",
    "clf = xgboost.XGBClassifier()\n",
    "\n",
    "## TODO: ваш GridSearch\n",
    "..."
   ]
  },
  {
   "cell_type": "markdown",
   "metadata": {},
   "source": [
    "# Более умный и последовательный тюнинг\n",
    "Взято [отсюда](https://www.analyticsvidhya.com/blog/2016/03/complete-guide-parameter-tuning-xgboost-with-codes-python/). Это наиболее полный и часто используемый мануал для тюнинга XGBoost.\n",
    "**Алгоритм:**\n",
    "1. Choose a relatively high learning rate. Generally a learning rate of 0.1 works but somewhere between 0.05 to 0.3 should work for different problems. Determine the optimum number of trees for this learning rate. XGBoost has a very useful function called as “cv” which performs cross-validation at each boosting iteration and thus returns the optimum number of trees required.\n",
    "2. Tune tree-specific parameters ( max_depth, min_child_weight, gamma, subsample, colsample_bytree) for decided learning rate and number of trees. Note that we can choose different parameters to define a tree and I’ll take up an example here.\n",
    "3. Tune regularization parameters (lambda, alpha) for xgboost which can help reduce model complexity and enhance performance.\n",
    "4. Lower the learning rate and decide the optimal parameters ."
   ]
  },
  {
   "cell_type": "markdown",
   "metadata": {},
   "source": [
    "## Шаг 1: Зафиксируем learning_rate и параметры дерева и подберём n_estimators\n",
    "\n",
    "Параметры:\n",
    "\n",
    "* **max_depth**. Как указанов в таблице выше, обычно варьируется в интервале от 3 до 10 (но от задачи к задаче значения могут меняться). В качестве начального значения обычно используют 5\n",
    "* **min_child_weight**. Если выборка сильно несбалансирована, то лучше выбрать значение \"1\". Иначе лучше выбрать значение \"2\" и зафиксировать\n",
    "* **gamma**. Обычно выставляют значение в интервале от 0 до 0.2 и фиксируют. В дальнейшем этот параметр всегда можно затюнить отдельно\n",
    "* **subsample, colsample_bytree**. Выставим 0.8 и зафиксируем. Можно также проварьировать в интервале 0.5-0.9.\n",
    "* **scale_pos_weight**. Выставляется в зафисимости от соотношения классов в выборке и фиксируется"
   ]
  },
  {
   "cell_type": "code",
   "execution_count": 35,
   "metadata": {},
   "outputs": [
    {
     "name": "stdout",
     "output_type": "stream",
     "text": [
      "Fitting 4 folds for each of 8 candidates, totalling 32 fits\n",
      "[CV] colsample_bytree=0.8, scale_pos_weight=0.622950819672, learning_rate=0.1, min_child_weight=2, n_estimators=10, subsample=0.8, max_depth=5, gamma=0.1 \n",
      "[CV]  colsample_bytree=0.8, scale_pos_weight=0.622950819672, learning_rate=0.1, min_child_weight=2, n_estimators=10, subsample=0.8, max_depth=5, gamma=0.1, score=0.843174, total=   0.0s\n",
      "[CV] colsample_bytree=0.8, scale_pos_weight=0.622950819672, learning_rate=0.1, min_child_weight=2, n_estimators=10, subsample=0.8, max_depth=5, gamma=0.1 \n",
      "[CV]  colsample_bytree=0.8, scale_pos_weight=0.622950819672, learning_rate=0.1, min_child_weight=2, n_estimators=10, subsample=0.8, max_depth=5, gamma=0.1, score=0.813701, total=   0.0s\n",
      "[CV] colsample_bytree=0.8, scale_pos_weight=0.622950819672, learning_rate=0.1, min_child_weight=2, n_estimators=10, subsample=0.8, max_depth=5, gamma=0.1 \n",
      "[CV]  colsample_bytree=0.8, scale_pos_weight=0.622950819672, learning_rate=0.1, min_child_weight=2, n_estimators=10, subsample=0.8, max_depth=5, gamma=0.1, score=0.912238, total=   0.0s\n",
      "[CV] colsample_bytree=0.8, scale_pos_weight=0.622950819672, learning_rate=0.1, min_child_weight=2, n_estimators=10, subsample=0.8, max_depth=5, gamma=0.1 \n",
      "[CV]  colsample_bytree=0.8, scale_pos_weight=0.622950819672, learning_rate=0.1, min_child_weight=2, n_estimators=10, subsample=0.8, max_depth=5, gamma=0.1, score=0.859069, total=   0.0s\n",
      "[CV] colsample_bytree=0.8, scale_pos_weight=0.622950819672, learning_rate=0.1, min_child_weight=2, n_estimators=30, subsample=0.8, max_depth=5, gamma=0.1 \n",
      "[CV]  colsample_bytree=0.8, scale_pos_weight=0.622950819672, learning_rate=0.1, min_child_weight=2, n_estimators=30, subsample=0.8, max_depth=5, gamma=0.1, score=0.852426, total=   0.0s\n",
      "[CV] colsample_bytree=0.8, scale_pos_weight=0.622950819672, learning_rate=0.1, min_child_weight=2, n_estimators=30, subsample=0.8, max_depth=5, gamma=0.1 \n"
     ]
    },
    {
     "name": "stderr",
     "output_type": "stream",
     "text": [
      "c:\\users\\artem\\anaconda3\\envs\\lasagne2.7\\lib\\site-packages\\xgboost-0.6-py2.7.egg\\xgboost\\sklearn.py:171: DeprecationWarning: The nthread parameter is deprecated as of version .6.Please use n_jobs instead.nthread is deprecated.\n",
      "  'nthread is deprecated.', DeprecationWarning)\n",
      "c:\\users\\artem\\anaconda3\\envs\\lasagne2.7\\lib\\site-packages\\xgboost-0.6-py2.7.egg\\xgboost\\sklearn.py:171: DeprecationWarning: The nthread parameter is deprecated as of version .6.Please use n_jobs instead.nthread is deprecated.\n",
      "  'nthread is deprecated.', DeprecationWarning)\n",
      "[Parallel(n_jobs=1)]: Done   1 out of   1 | elapsed:    0.0s remaining:    0.0s\n",
      "c:\\users\\artem\\anaconda3\\envs\\lasagne2.7\\lib\\site-packages\\xgboost-0.6-py2.7.egg\\xgboost\\sklearn.py:171: DeprecationWarning: The nthread parameter is deprecated as of version .6.Please use n_jobs instead.nthread is deprecated.\n",
      "  'nthread is deprecated.', DeprecationWarning)\n",
      "[Parallel(n_jobs=1)]: Done   2 out of   2 | elapsed:    0.0s remaining:    0.0s\n",
      "c:\\users\\artem\\anaconda3\\envs\\lasagne2.7\\lib\\site-packages\\xgboost-0.6-py2.7.egg\\xgboost\\sklearn.py:171: DeprecationWarning: The nthread parameter is deprecated as of version .6.Please use n_jobs instead.nthread is deprecated.\n",
      "  'nthread is deprecated.', DeprecationWarning)\n",
      "[Parallel(n_jobs=1)]: Done   3 out of   3 | elapsed:    0.0s remaining:    0.0s\n",
      "c:\\users\\artem\\anaconda3\\envs\\lasagne2.7\\lib\\site-packages\\xgboost-0.6-py2.7.egg\\xgboost\\sklearn.py:171: DeprecationWarning: The nthread parameter is deprecated as of version .6.Please use n_jobs instead.nthread is deprecated.\n",
      "  'nthread is deprecated.', DeprecationWarning)\n",
      "[Parallel(n_jobs=1)]: Done   4 out of   4 | elapsed:    0.0s remaining:    0.0s\n",
      "c:\\users\\artem\\anaconda3\\envs\\lasagne2.7\\lib\\site-packages\\xgboost-0.6-py2.7.egg\\xgboost\\sklearn.py:171: DeprecationWarning: The nthread parameter is deprecated as of version .6.Please use n_jobs instead.nthread is deprecated.\n",
      "  'nthread is deprecated.', DeprecationWarning)\n",
      "c:\\users\\artem\\anaconda3\\envs\\lasagne2.7\\lib\\site-packages\\xgboost-0.6-py2.7.egg\\xgboost\\sklearn.py:171: DeprecationWarning: The nthread parameter is deprecated as of version .6.Please use n_jobs instead.nthread is deprecated.\n",
      "  'nthread is deprecated.', DeprecationWarning)\n"
     ]
    },
    {
     "name": "stdout",
     "output_type": "stream",
     "text": [
      "[CV]  colsample_bytree=0.8, scale_pos_weight=0.622950819672, learning_rate=0.1, min_child_weight=2, n_estimators=30, subsample=0.8, max_depth=5, gamma=0.1, score=0.810526, total=   0.0s\n",
      "[CV] colsample_bytree=0.8, scale_pos_weight=0.622950819672, learning_rate=0.1, min_child_weight=2, n_estimators=30, subsample=0.8, max_depth=5, gamma=0.1 \n",
      "[CV]  colsample_bytree=0.8, scale_pos_weight=0.622950819672, learning_rate=0.1, min_child_weight=2, n_estimators=30, subsample=0.8, max_depth=5, gamma=0.1, score=0.919406, total=   0.0s\n",
      "[CV] colsample_bytree=0.8, scale_pos_weight=0.622950819672, learning_rate=0.1, min_child_weight=2, n_estimators=30, subsample=0.8, max_depth=5, gamma=0.1 \n",
      "[CV]  colsample_bytree=0.8, scale_pos_weight=0.622950819672, learning_rate=0.1, min_child_weight=2, n_estimators=30, subsample=0.8, max_depth=5, gamma=0.1, score=0.864353, total=   0.0s\n",
      "[CV] colsample_bytree=0.8, scale_pos_weight=0.622950819672, learning_rate=0.1, min_child_weight=2, n_estimators=50, subsample=0.8, max_depth=5, gamma=0.1 \n",
      "[CV]  colsample_bytree=0.8, scale_pos_weight=0.622950819672, learning_rate=0.1, min_child_weight=2, n_estimators=50, subsample=0.8, max_depth=5, gamma=0.1, score=0.848890, total=   0.0s\n",
      "[CV] colsample_bytree=0.8, scale_pos_weight=0.622950819672, learning_rate=0.1, min_child_weight=2, n_estimators=50, subsample=0.8, max_depth=5, gamma=0.1 \n"
     ]
    },
    {
     "name": "stderr",
     "output_type": "stream",
     "text": [
      "c:\\users\\artem\\anaconda3\\envs\\lasagne2.7\\lib\\site-packages\\xgboost-0.6-py2.7.egg\\xgboost\\sklearn.py:171: DeprecationWarning: The nthread parameter is deprecated as of version .6.Please use n_jobs instead.nthread is deprecated.\n",
      "  'nthread is deprecated.', DeprecationWarning)\n",
      "c:\\users\\artem\\anaconda3\\envs\\lasagne2.7\\lib\\site-packages\\xgboost-0.6-py2.7.egg\\xgboost\\sklearn.py:171: DeprecationWarning: The nthread parameter is deprecated as of version .6.Please use n_jobs instead.nthread is deprecated.\n",
      "  'nthread is deprecated.', DeprecationWarning)\n",
      "c:\\users\\artem\\anaconda3\\envs\\lasagne2.7\\lib\\site-packages\\xgboost-0.6-py2.7.egg\\xgboost\\sklearn.py:171: DeprecationWarning: The nthread parameter is deprecated as of version .6.Please use n_jobs instead.nthread is deprecated.\n",
      "  'nthread is deprecated.', DeprecationWarning)\n",
      "c:\\users\\artem\\anaconda3\\envs\\lasagne2.7\\lib\\site-packages\\xgboost-0.6-py2.7.egg\\xgboost\\sklearn.py:171: DeprecationWarning: The nthread parameter is deprecated as of version .6.Please use n_jobs instead.nthread is deprecated.\n",
      "  'nthread is deprecated.', DeprecationWarning)\n"
     ]
    },
    {
     "name": "stdout",
     "output_type": "stream",
     "text": [
      "[CV]  colsample_bytree=0.8, scale_pos_weight=0.622950819672, learning_rate=0.1, min_child_weight=2, n_estimators=50, subsample=0.8, max_depth=5, gamma=0.1, score=0.822348, total=   0.0s\n",
      "[CV] colsample_bytree=0.8, scale_pos_weight=0.622950819672, learning_rate=0.1, min_child_weight=2, n_estimators=50, subsample=0.8, max_depth=5, gamma=0.1 \n",
      "[CV]  colsample_bytree=0.8, scale_pos_weight=0.622950819672, learning_rate=0.1, min_child_weight=2, n_estimators=50, subsample=0.8, max_depth=5, gamma=0.1, score=0.921591, total=   0.0s\n",
      "[CV] colsample_bytree=0.8, scale_pos_weight=0.622950819672, learning_rate=0.1, min_child_weight=2, n_estimators=50, subsample=0.8, max_depth=5, gamma=0.1 \n",
      "[CV]  colsample_bytree=0.8, scale_pos_weight=0.622950819672, learning_rate=0.1, min_child_weight=2, n_estimators=50, subsample=0.8, max_depth=5, gamma=0.1, score=0.861532, total=   0.0s\n",
      "[CV] colsample_bytree=0.8, scale_pos_weight=0.622950819672, learning_rate=0.1, min_child_weight=2, n_estimators=100, subsample=0.8, max_depth=5, gamma=0.1 \n"
     ]
    },
    {
     "name": "stderr",
     "output_type": "stream",
     "text": [
      "c:\\users\\artem\\anaconda3\\envs\\lasagne2.7\\lib\\site-packages\\xgboost-0.6-py2.7.egg\\xgboost\\sklearn.py:171: DeprecationWarning: The nthread parameter is deprecated as of version .6.Please use n_jobs instead.nthread is deprecated.\n",
      "  'nthread is deprecated.', DeprecationWarning)\n",
      "c:\\users\\artem\\anaconda3\\envs\\lasagne2.7\\lib\\site-packages\\xgboost-0.6-py2.7.egg\\xgboost\\sklearn.py:171: DeprecationWarning: The nthread parameter is deprecated as of version .6.Please use n_jobs instead.nthread is deprecated.\n",
      "  'nthread is deprecated.', DeprecationWarning)\n",
      "c:\\users\\artem\\anaconda3\\envs\\lasagne2.7\\lib\\site-packages\\xgboost-0.6-py2.7.egg\\xgboost\\sklearn.py:171: DeprecationWarning: The nthread parameter is deprecated as of version .6.Please use n_jobs instead.nthread is deprecated.\n",
      "  'nthread is deprecated.', DeprecationWarning)\n"
     ]
    },
    {
     "name": "stdout",
     "output_type": "stream",
     "text": [
      "[CV]  colsample_bytree=0.8, scale_pos_weight=0.622950819672, learning_rate=0.1, min_child_weight=2, n_estimators=100, subsample=0.8, max_depth=5, gamma=0.1, score=0.842681, total=   0.1s\n",
      "[CV] colsample_bytree=0.8, scale_pos_weight=0.622950819672, learning_rate=0.1, min_child_weight=2, n_estimators=100, subsample=0.8, max_depth=5, gamma=0.1 \n",
      "[CV]  colsample_bytree=0.8, scale_pos_weight=0.622950819672, learning_rate=0.1, min_child_weight=2, n_estimators=100, subsample=0.8, max_depth=5, gamma=0.1, score=0.821512, total=   0.0s\n",
      "[CV] colsample_bytree=0.8, scale_pos_weight=0.622950819672, learning_rate=0.1, min_child_weight=2, n_estimators=100, subsample=0.8, max_depth=5, gamma=0.1 \n",
      "[CV]  colsample_bytree=0.8, scale_pos_weight=0.622950819672, learning_rate=0.1, min_child_weight=2, n_estimators=100, subsample=0.8, max_depth=5, gamma=0.1, score=0.923689, total=   0.0s\n",
      "[CV] colsample_bytree=0.8, scale_pos_weight=0.622950819672, learning_rate=0.1, min_child_weight=2, n_estimators=100, subsample=0.8, max_depth=5, gamma=0.1 \n"
     ]
    },
    {
     "name": "stderr",
     "output_type": "stream",
     "text": [
      "c:\\users\\artem\\anaconda3\\envs\\lasagne2.7\\lib\\site-packages\\xgboost-0.6-py2.7.egg\\xgboost\\sklearn.py:171: DeprecationWarning: The nthread parameter is deprecated as of version .6.Please use n_jobs instead.nthread is deprecated.\n",
      "  'nthread is deprecated.', DeprecationWarning)\n",
      "c:\\users\\artem\\anaconda3\\envs\\lasagne2.7\\lib\\site-packages\\xgboost-0.6-py2.7.egg\\xgboost\\sklearn.py:171: DeprecationWarning: The nthread parameter is deprecated as of version .6.Please use n_jobs instead.nthread is deprecated.\n",
      "  'nthread is deprecated.', DeprecationWarning)\n",
      "c:\\users\\artem\\anaconda3\\envs\\lasagne2.7\\lib\\site-packages\\xgboost-0.6-py2.7.egg\\xgboost\\sklearn.py:171: DeprecationWarning: The nthread parameter is deprecated as of version .6.Please use n_jobs instead.nthread is deprecated.\n",
      "  'nthread is deprecated.', DeprecationWarning)\n"
     ]
    },
    {
     "name": "stdout",
     "output_type": "stream",
     "text": [
      "[CV]  colsample_bytree=0.8, scale_pos_weight=0.622950819672, learning_rate=0.1, min_child_weight=2, n_estimators=100, subsample=0.8, max_depth=5, gamma=0.1, score=0.878280, total=   0.0s\n",
      "[CV] colsample_bytree=0.8, scale_pos_weight=0.622950819672, learning_rate=0.1, min_child_weight=2, n_estimators=200, subsample=0.8, max_depth=5, gamma=0.1 \n"
     ]
    },
    {
     "name": "stderr",
     "output_type": "stream",
     "text": [
      "c:\\users\\artem\\anaconda3\\envs\\lasagne2.7\\lib\\site-packages\\xgboost-0.6-py2.7.egg\\xgboost\\sklearn.py:171: DeprecationWarning: The nthread parameter is deprecated as of version .6.Please use n_jobs instead.nthread is deprecated.\n",
      "  'nthread is deprecated.', DeprecationWarning)\n"
     ]
    },
    {
     "name": "stdout",
     "output_type": "stream",
     "text": [
      "[CV]  colsample_bytree=0.8, scale_pos_weight=0.622950819672, learning_rate=0.1, min_child_weight=2, n_estimators=200, subsample=0.8, max_depth=5, gamma=0.1, score=0.840132, total=   0.1s\n",
      "[CV] colsample_bytree=0.8, scale_pos_weight=0.622950819672, learning_rate=0.1, min_child_weight=2, n_estimators=200, subsample=0.8, max_depth=5, gamma=0.1 \n",
      "[CV]  colsample_bytree=0.8, scale_pos_weight=0.622950819672, learning_rate=0.1, min_child_weight=2, n_estimators=200, subsample=0.8, max_depth=5, gamma=0.1, score=0.822348, total=   0.0s\n",
      "[CV] colsample_bytree=0.8, scale_pos_weight=0.622950819672, learning_rate=0.1, min_child_weight=2, n_estimators=200, subsample=0.8, max_depth=5, gamma=0.1 \n"
     ]
    },
    {
     "name": "stderr",
     "output_type": "stream",
     "text": [
      "c:\\users\\artem\\anaconda3\\envs\\lasagne2.7\\lib\\site-packages\\xgboost-0.6-py2.7.egg\\xgboost\\sklearn.py:171: DeprecationWarning: The nthread parameter is deprecated as of version .6.Please use n_jobs instead.nthread is deprecated.\n",
      "  'nthread is deprecated.', DeprecationWarning)\n",
      "c:\\users\\artem\\anaconda3\\envs\\lasagne2.7\\lib\\site-packages\\xgboost-0.6-py2.7.egg\\xgboost\\sklearn.py:171: DeprecationWarning: The nthread parameter is deprecated as of version .6.Please use n_jobs instead.nthread is deprecated.\n",
      "  'nthread is deprecated.', DeprecationWarning)\n"
     ]
    },
    {
     "name": "stdout",
     "output_type": "stream",
     "text": [
      "[CV]  colsample_bytree=0.8, scale_pos_weight=0.622950819672, learning_rate=0.1, min_child_weight=2, n_estimators=200, subsample=0.8, max_depth=5, gamma=0.1, score=0.920542, total=   0.1s\n",
      "[CV] colsample_bytree=0.8, scale_pos_weight=0.622950819672, learning_rate=0.1, min_child_weight=2, n_estimators=200, subsample=0.8, max_depth=5, gamma=0.1 \n",
      "[CV]  colsample_bytree=0.8, scale_pos_weight=0.622950819672, learning_rate=0.1, min_child_weight=2, n_estimators=200, subsample=0.8, max_depth=5, gamma=0.1, score=0.874160, total=   0.0s\n",
      "[CV] colsample_bytree=0.8, scale_pos_weight=0.622950819672, learning_rate=0.1, min_child_weight=2, n_estimators=400, subsample=0.8, max_depth=5, gamma=0.1 \n"
     ]
    },
    {
     "name": "stderr",
     "output_type": "stream",
     "text": [
      "c:\\users\\artem\\anaconda3\\envs\\lasagne2.7\\lib\\site-packages\\xgboost-0.6-py2.7.egg\\xgboost\\sklearn.py:171: DeprecationWarning: The nthread parameter is deprecated as of version .6.Please use n_jobs instead.nthread is deprecated.\n",
      "  'nthread is deprecated.', DeprecationWarning)\n",
      "c:\\users\\artem\\anaconda3\\envs\\lasagne2.7\\lib\\site-packages\\xgboost-0.6-py2.7.egg\\xgboost\\sklearn.py:171: DeprecationWarning: The nthread parameter is deprecated as of version .6.Please use n_jobs instead.nthread is deprecated.\n",
      "  'nthread is deprecated.', DeprecationWarning)\n"
     ]
    },
    {
     "name": "stdout",
     "output_type": "stream",
     "text": [
      "[CV]  colsample_bytree=0.8, scale_pos_weight=0.622950819672, learning_rate=0.1, min_child_weight=2, n_estimators=400, subsample=0.8, max_depth=5, gamma=0.1, score=0.838363, total=   0.2s\n",
      "[CV] colsample_bytree=0.8, scale_pos_weight=0.622950819672, learning_rate=0.1, min_child_weight=2, n_estimators=400, subsample=0.8, max_depth=5, gamma=0.1 \n"
     ]
    },
    {
     "name": "stderr",
     "output_type": "stream",
     "text": [
      "c:\\users\\artem\\anaconda3\\envs\\lasagne2.7\\lib\\site-packages\\xgboost-0.6-py2.7.egg\\xgboost\\sklearn.py:171: DeprecationWarning: The nthread parameter is deprecated as of version .6.Please use n_jobs instead.nthread is deprecated.\n",
      "  'nthread is deprecated.', DeprecationWarning)\n"
     ]
    },
    {
     "name": "stdout",
     "output_type": "stream",
     "text": [
      "[CV]  colsample_bytree=0.8, scale_pos_weight=0.622950819672, learning_rate=0.1, min_child_weight=2, n_estimators=400, subsample=0.8, max_depth=5, gamma=0.1, score=0.825439, total=   0.2s\n",
      "[CV] colsample_bytree=0.8, scale_pos_weight=0.622950819672, learning_rate=0.1, min_child_weight=2, n_estimators=400, subsample=0.8, max_depth=5, gamma=0.1 \n"
     ]
    },
    {
     "name": "stderr",
     "output_type": "stream",
     "text": [
      "c:\\users\\artem\\anaconda3\\envs\\lasagne2.7\\lib\\site-packages\\xgboost-0.6-py2.7.egg\\xgboost\\sklearn.py:171: DeprecationWarning: The nthread parameter is deprecated as of version .6.Please use n_jobs instead.nthread is deprecated.\n",
      "  'nthread is deprecated.', DeprecationWarning)\n"
     ]
    },
    {
     "name": "stdout",
     "output_type": "stream",
     "text": [
      "[CV]  colsample_bytree=0.8, scale_pos_weight=0.622950819672, learning_rate=0.1, min_child_weight=2, n_estimators=400, subsample=0.8, max_depth=5, gamma=0.1, score=0.911626, total=   0.2s\n",
      "[CV] colsample_bytree=0.8, scale_pos_weight=0.622950819672, learning_rate=0.1, min_child_weight=2, n_estimators=400, subsample=0.8, max_depth=5, gamma=0.1 \n"
     ]
    },
    {
     "name": "stderr",
     "output_type": "stream",
     "text": [
      "c:\\users\\artem\\anaconda3\\envs\\lasagne2.7\\lib\\site-packages\\xgboost-0.6-py2.7.egg\\xgboost\\sklearn.py:171: DeprecationWarning: The nthread parameter is deprecated as of version .6.Please use n_jobs instead.nthread is deprecated.\n",
      "  'nthread is deprecated.', DeprecationWarning)\n"
     ]
    },
    {
     "name": "stdout",
     "output_type": "stream",
     "text": [
      "[CV]  colsample_bytree=0.8, scale_pos_weight=0.622950819672, learning_rate=0.1, min_child_weight=2, n_estimators=400, subsample=0.8, max_depth=5, gamma=0.1, score=0.873175, total=   0.2s\n",
      "[CV] colsample_bytree=0.8, scale_pos_weight=0.622950819672, learning_rate=0.1, min_child_weight=2, n_estimators=600, subsample=0.8, max_depth=5, gamma=0.1 \n"
     ]
    },
    {
     "name": "stderr",
     "output_type": "stream",
     "text": [
      "c:\\users\\artem\\anaconda3\\envs\\lasagne2.7\\lib\\site-packages\\xgboost-0.6-py2.7.egg\\xgboost\\sklearn.py:171: DeprecationWarning: The nthread parameter is deprecated as of version .6.Please use n_jobs instead.nthread is deprecated.\n",
      "  'nthread is deprecated.', DeprecationWarning)\n"
     ]
    },
    {
     "name": "stdout",
     "output_type": "stream",
     "text": [
      "[CV]  colsample_bytree=0.8, scale_pos_weight=0.622950819672, learning_rate=0.1, min_child_weight=2, n_estimators=600, subsample=0.8, max_depth=5, gamma=0.1, score=0.840008, total=   0.3s\n",
      "[CV] colsample_bytree=0.8, scale_pos_weight=0.622950819672, learning_rate=0.1, min_child_weight=2, n_estimators=600, subsample=0.8, max_depth=5, gamma=0.1 \n"
     ]
    },
    {
     "name": "stderr",
     "output_type": "stream",
     "text": [
      "c:\\users\\artem\\anaconda3\\envs\\lasagne2.7\\lib\\site-packages\\xgboost-0.6-py2.7.egg\\xgboost\\sklearn.py:171: DeprecationWarning: The nthread parameter is deprecated as of version .6.Please use n_jobs instead.nthread is deprecated.\n",
      "  'nthread is deprecated.', DeprecationWarning)\n"
     ]
    },
    {
     "name": "stdout",
     "output_type": "stream",
     "text": [
      "[CV]  colsample_bytree=0.8, scale_pos_weight=0.622950819672, learning_rate=0.1, min_child_weight=2, n_estimators=600, subsample=0.8, max_depth=5, gamma=0.1, score=0.826608, total=   0.3s\n",
      "[CV] colsample_bytree=0.8, scale_pos_weight=0.622950819672, learning_rate=0.1, min_child_weight=2, n_estimators=600, subsample=0.8, max_depth=5, gamma=0.1 \n"
     ]
    },
    {
     "name": "stderr",
     "output_type": "stream",
     "text": [
      "c:\\users\\artem\\anaconda3\\envs\\lasagne2.7\\lib\\site-packages\\xgboost-0.6-py2.7.egg\\xgboost\\sklearn.py:171: DeprecationWarning: The nthread parameter is deprecated as of version .6.Please use n_jobs instead.nthread is deprecated.\n",
      "  'nthread is deprecated.', DeprecationWarning)\n"
     ]
    },
    {
     "name": "stdout",
     "output_type": "stream",
     "text": [
      "[CV]  colsample_bytree=0.8, scale_pos_weight=0.622950819672, learning_rate=0.1, min_child_weight=2, n_estimators=600, subsample=0.8, max_depth=5, gamma=0.1, score=0.910577, total=   0.3s\n",
      "[CV] colsample_bytree=0.8, scale_pos_weight=0.622950819672, learning_rate=0.1, min_child_weight=2, n_estimators=600, subsample=0.8, max_depth=5, gamma=0.1 \n"
     ]
    },
    {
     "name": "stderr",
     "output_type": "stream",
     "text": [
      "c:\\users\\artem\\anaconda3\\envs\\lasagne2.7\\lib\\site-packages\\xgboost-0.6-py2.7.egg\\xgboost\\sklearn.py:171: DeprecationWarning: The nthread parameter is deprecated as of version .6.Please use n_jobs instead.nthread is deprecated.\n",
      "  'nthread is deprecated.', DeprecationWarning)\n"
     ]
    },
    {
     "name": "stdout",
     "output_type": "stream",
     "text": [
      "[CV]  colsample_bytree=0.8, scale_pos_weight=0.622950819672, learning_rate=0.1, min_child_weight=2, n_estimators=600, subsample=0.8, max_depth=5, gamma=0.1, score=0.871294, total=   0.3s\n",
      "[CV] colsample_bytree=0.8, scale_pos_weight=0.622950819672, learning_rate=0.1, min_child_weight=2, n_estimators=1000, subsample=0.8, max_depth=5, gamma=0.1 \n"
     ]
    },
    {
     "name": "stderr",
     "output_type": "stream",
     "text": [
      "c:\\users\\artem\\anaconda3\\envs\\lasagne2.7\\lib\\site-packages\\xgboost-0.6-py2.7.egg\\xgboost\\sklearn.py:171: DeprecationWarning: The nthread parameter is deprecated as of version .6.Please use n_jobs instead.nthread is deprecated.\n",
      "  'nthread is deprecated.', DeprecationWarning)\n"
     ]
    },
    {
     "name": "stdout",
     "output_type": "stream",
     "text": [
      "[CV]  colsample_bytree=0.8, scale_pos_weight=0.622950819672, learning_rate=0.1, min_child_weight=2, n_estimators=1000, subsample=0.8, max_depth=5, gamma=0.1, score=0.834334, total=   0.9s\n",
      "[CV] colsample_bytree=0.8, scale_pos_weight=0.622950819672, learning_rate=0.1, min_child_weight=2, n_estimators=1000, subsample=0.8, max_depth=5, gamma=0.1 \n"
     ]
    },
    {
     "name": "stderr",
     "output_type": "stream",
     "text": [
      "c:\\users\\artem\\anaconda3\\envs\\lasagne2.7\\lib\\site-packages\\xgboost-0.6-py2.7.egg\\xgboost\\sklearn.py:171: DeprecationWarning: The nthread parameter is deprecated as of version .6.Please use n_jobs instead.nthread is deprecated.\n",
      "  'nthread is deprecated.', DeprecationWarning)\n"
     ]
    },
    {
     "name": "stdout",
     "output_type": "stream",
     "text": [
      "[CV]  colsample_bytree=0.8, scale_pos_weight=0.622950819672, learning_rate=0.1, min_child_weight=2, n_estimators=1000, subsample=0.8, max_depth=5, gamma=0.1, score=0.823768, total=   0.7s\n",
      "[CV] colsample_bytree=0.8, scale_pos_weight=0.622950819672, learning_rate=0.1, min_child_weight=2, n_estimators=1000, subsample=0.8, max_depth=5, gamma=0.1 \n"
     ]
    },
    {
     "name": "stderr",
     "output_type": "stream",
     "text": [
      "c:\\users\\artem\\anaconda3\\envs\\lasagne2.7\\lib\\site-packages\\xgboost-0.6-py2.7.egg\\xgboost\\sklearn.py:171: DeprecationWarning: The nthread parameter is deprecated as of version .6.Please use n_jobs instead.nthread is deprecated.\n",
      "  'nthread is deprecated.', DeprecationWarning)\n"
     ]
    },
    {
     "name": "stdout",
     "output_type": "stream",
     "text": [
      "[CV]  colsample_bytree=0.8, scale_pos_weight=0.622950819672, learning_rate=0.1, min_child_weight=2, n_estimators=1000, subsample=0.8, max_depth=5, gamma=0.1, score=0.906206, total=   0.6s\n",
      "[CV] colsample_bytree=0.8, scale_pos_weight=0.622950819672, learning_rate=0.1, min_child_weight=2, n_estimators=1000, subsample=0.8, max_depth=5, gamma=0.1 \n"
     ]
    },
    {
     "name": "stderr",
     "output_type": "stream",
     "text": [
      "c:\\users\\artem\\anaconda3\\envs\\lasagne2.7\\lib\\site-packages\\xgboost-0.6-py2.7.egg\\xgboost\\sklearn.py:171: DeprecationWarning: The nthread parameter is deprecated as of version .6.Please use n_jobs instead.nthread is deprecated.\n",
      "  'nthread is deprecated.', DeprecationWarning)\n"
     ]
    },
    {
     "name": "stdout",
     "output_type": "stream",
     "text": [
      "[CV]  colsample_bytree=0.8, scale_pos_weight=0.622950819672, learning_rate=0.1, min_child_weight=2, n_estimators=1000, subsample=0.8, max_depth=5, gamma=0.1, score=0.873712, total=   0.7s\n",
      "('Best score (AUC): ', 0.86652737057695028)\n",
      "Best params: \n"
     ]
    },
    {
     "name": "stderr",
     "output_type": "stream",
     "text": [
      "[Parallel(n_jobs=1)]: Done  32 out of  32 | elapsed:    8.3s finished\n",
      "c:\\users\\artem\\anaconda3\\envs\\lasagne2.7\\lib\\site-packages\\xgboost-0.6-py2.7.egg\\xgboost\\sklearn.py:171: DeprecationWarning: The nthread parameter is deprecated as of version .6.Please use n_jobs instead.nthread is deprecated.\n",
      "  'nthread is deprecated.', DeprecationWarning)\n"
     ]
    },
    {
     "data": {
      "text/plain": [
       "{'base_score': 0.5,\n",
       " 'booster': 'gbtree',\n",
       " 'colsample_bylevel': 1,\n",
       " 'colsample_bytree': 0.8,\n",
       " 'gamma': 0.1,\n",
       " 'learning_rate': 0.1,\n",
       " 'max_delta_step': 0,\n",
       " 'max_depth': 5,\n",
       " 'min_child_weight': 2,\n",
       " 'missing': None,\n",
       " 'n_estimators': 100,\n",
       " 'n_jobs': 1,\n",
       " 'nthread': 1,\n",
       " 'objective': 'binary:logistic',\n",
       " 'random_state': 0,\n",
       " 'reg_alpha': 0,\n",
       " 'reg_lambda': 1,\n",
       " 'scale_pos_weight': 0.6229508196721312,\n",
       " 'seed': 0,\n",
       " 'silent': True,\n",
       " 'subsample': 0.8}"
      ]
     },
     "execution_count": 35,
     "metadata": {},
     "output_type": "execute_result"
    }
   ],
   "source": [
    "from sklearn.model_selection import KFold\n",
    "from sklearn.model_selection import GridSearchCV\n",
    "\n",
    "ones_ratio = y_train[y_train == 1].shape[0] * 1.0 / y_train[y_train == 0].shape[0] # посчитаем соотношение между классами\n",
    "\n",
    "param_grid = {\n",
    "    # параметры ансамбля\n",
    "    'n_estimators': [10, 30, 50, 100, 200, 400, 600, 1000],\n",
    "    'learning_rate': [0.1],\n",
    "    \n",
    "    # параметры дерева\n",
    "    'max_depth': [5],\n",
    "    'min_child_weight': [2],\n",
    "    'gamma': [0.1],\n",
    "    'subsample': [0.8],\n",
    "    'colsample_bytree': [0.8],\n",
    "    'scale_pos_weight': [ones_ratio],\n",
    "    \n",
    "    # параметры регуляризации\n",
    "    'reg_alpha': [0.0],\n",
    "    'reg_lambda': [1.0]\n",
    "}\n",
    "\n",
    "cv = KFold(n_splits=4, shuffle=True)\n",
    "\n",
    "clf = xgboost.XGBClassifier()\n",
    "gs = GridSearchCV(clf, param_grid, scoring='roc_auc', cv=cv, verbose=5)\n",
    "\n",
    "gs.fit(X_train, y_train)\n",
    "best_params = gs.best_estimator_.get_params()\n",
    "print('Best score (AUC): ', gs.best_score_)\n",
    "print('Best params: ')\n",
    "best_params"
   ]
  },
  {
   "cell_type": "markdown",
   "metadata": {},
   "source": [
    "## Шаг 2. Подбираем параметры дерева\n",
    "* **max_depth** - будем варьировать от 3 до 10 с шагом 2\n",
    "* **min_child_weight** - от 1 до 6 с шагом 2"
   ]
  },
  {
   "cell_type": "code",
   "execution_count": 36,
   "metadata": {},
   "outputs": [
    {
     "name": "stdout",
     "output_type": "stream",
     "text": [
      "Fitting 4 folds for each of 12 candidates, totalling 48 fits\n",
      "[CV] max_depth=3, min_child_weight=1 .................................\n"
     ]
    },
    {
     "name": "stderr",
     "output_type": "stream",
     "text": [
      "c:\\users\\artem\\anaconda3\\envs\\lasagne2.7\\lib\\site-packages\\xgboost-0.6-py2.7.egg\\xgboost\\sklearn.py:171: DeprecationWarning: The nthread parameter is deprecated as of version .6.Please use n_jobs instead.nthread is deprecated.\n",
      "  'nthread is deprecated.', DeprecationWarning)\n",
      "c:\\users\\artem\\anaconda3\\envs\\lasagne2.7\\lib\\site-packages\\xgboost-0.6-py2.7.egg\\xgboost\\sklearn.py:171: DeprecationWarning: The nthread parameter is deprecated as of version .6.Please use n_jobs instead.nthread is deprecated.\n",
      "  'nthread is deprecated.', DeprecationWarning)\n",
      "c:\\users\\artem\\anaconda3\\envs\\lasagne2.7\\lib\\site-packages\\xgboost-0.6-py2.7.egg\\xgboost\\sklearn.py:171: DeprecationWarning: The nthread parameter is deprecated as of version .6.Please use n_jobs instead.nthread is deprecated.\n",
      "  'nthread is deprecated.', DeprecationWarning)\n",
      "[Parallel(n_jobs=1)]: Done   1 out of   1 | elapsed:    0.1s remaining:    0.0s\n",
      "c:\\users\\artem\\anaconda3\\envs\\lasagne2.7\\lib\\site-packages\\xgboost-0.6-py2.7.egg\\xgboost\\sklearn.py:171: DeprecationWarning: The nthread parameter is deprecated as of version .6.Please use n_jobs instead.nthread is deprecated.\n",
      "  'nthread is deprecated.', DeprecationWarning)\n"
     ]
    },
    {
     "name": "stdout",
     "output_type": "stream",
     "text": [
      "[CV] .. max_depth=3, min_child_weight=1, score=0.838931, total=   0.1s\n",
      "[CV] max_depth=3, min_child_weight=1 .................................\n",
      "[CV] .. max_depth=3, min_child_weight=1, score=0.889280, total=   0.0s\n",
      "[CV] max_depth=3, min_child_weight=1 .................................\n",
      "[CV] .. max_depth=3, min_child_weight=1, score=0.853873, total=   0.0s\n",
      "[CV] max_depth=3, min_child_weight=1 .................................\n"
     ]
    },
    {
     "name": "stderr",
     "output_type": "stream",
     "text": [
      "[Parallel(n_jobs=1)]: Done   2 out of   2 | elapsed:    0.2s remaining:    0.0s\n",
      "c:\\users\\artem\\anaconda3\\envs\\lasagne2.7\\lib\\site-packages\\xgboost-0.6-py2.7.egg\\xgboost\\sklearn.py:171: DeprecationWarning: The nthread parameter is deprecated as of version .6.Please use n_jobs instead.nthread is deprecated.\n",
      "  'nthread is deprecated.', DeprecationWarning)\n",
      "[Parallel(n_jobs=1)]: Done   3 out of   3 | elapsed:    0.3s remaining:    0.0s\n",
      "c:\\users\\artem\\anaconda3\\envs\\lasagne2.7\\lib\\site-packages\\xgboost-0.6-py2.7.egg\\xgboost\\sklearn.py:171: DeprecationWarning: The nthread parameter is deprecated as of version .6.Please use n_jobs instead.nthread is deprecated.\n",
      "  'nthread is deprecated.', DeprecationWarning)\n"
     ]
    },
    {
     "name": "stdout",
     "output_type": "stream",
     "text": [
      "[CV] .. max_depth=3, min_child_weight=1, score=0.873006, total=   0.0s\n"
     ]
    },
    {
     "name": "stderr",
     "output_type": "stream",
     "text": [
      "[Parallel(n_jobs=1)]: Done   4 out of   4 | elapsed:    0.4s remaining:    0.0s\n",
      "c:\\users\\artem\\anaconda3\\envs\\lasagne2.7\\lib\\site-packages\\xgboost-0.6-py2.7.egg\\xgboost\\sklearn.py:171: DeprecationWarning: The nthread parameter is deprecated as of version .6.Please use n_jobs instead.nthread is deprecated.\n",
      "  'nthread is deprecated.', DeprecationWarning)\n"
     ]
    },
    {
     "name": "stdout",
     "output_type": "stream",
     "text": [
      "[CV] max_depth=3, min_child_weight=3 .................................\n",
      "[CV] .. max_depth=3, min_child_weight=3, score=0.834428, total=   0.0s\n",
      "[CV] max_depth=3, min_child_weight=3 .................................\n",
      "[CV] .. max_depth=3, min_child_weight=3, score=0.881977, total=   0.0s\n",
      "[CV] max_depth=3, min_child_weight=3 .................................\n"
     ]
    },
    {
     "name": "stderr",
     "output_type": "stream",
     "text": [
      "c:\\users\\artem\\anaconda3\\envs\\lasagne2.7\\lib\\site-packages\\xgboost-0.6-py2.7.egg\\xgboost\\sklearn.py:171: DeprecationWarning: The nthread parameter is deprecated as of version .6.Please use n_jobs instead.nthread is deprecated.\n",
      "  'nthread is deprecated.', DeprecationWarning)\n",
      "c:\\users\\artem\\anaconda3\\envs\\lasagne2.7\\lib\\site-packages\\xgboost-0.6-py2.7.egg\\xgboost\\sklearn.py:171: DeprecationWarning: The nthread parameter is deprecated as of version .6.Please use n_jobs instead.nthread is deprecated.\n",
      "  'nthread is deprecated.', DeprecationWarning)\n",
      "c:\\users\\artem\\anaconda3\\envs\\lasagne2.7\\lib\\site-packages\\xgboost-0.6-py2.7.egg\\xgboost\\sklearn.py:171: DeprecationWarning: The nthread parameter is deprecated as of version .6.Please use n_jobs instead.nthread is deprecated.\n",
      "  'nthread is deprecated.', DeprecationWarning)\n"
     ]
    },
    {
     "name": "stdout",
     "output_type": "stream",
     "text": [
      "[CV] .. max_depth=3, min_child_weight=3, score=0.858977, total=   0.0s\n",
      "[CV] max_depth=3, min_child_weight=3 .................................\n",
      "[CV] .. max_depth=3, min_child_weight=3, score=0.870534, total=   0.0s\n",
      "[CV] max_depth=3, min_child_weight=5 .................................\n",
      "[CV] .. max_depth=3, min_child_weight=5, score=0.841919, total=   0.0s\n",
      "[CV] max_depth=3, min_child_weight=5 .................................\n"
     ]
    },
    {
     "name": "stderr",
     "output_type": "stream",
     "text": [
      "c:\\users\\artem\\anaconda3\\envs\\lasagne2.7\\lib\\site-packages\\xgboost-0.6-py2.7.egg\\xgboost\\sklearn.py:171: DeprecationWarning: The nthread parameter is deprecated as of version .6.Please use n_jobs instead.nthread is deprecated.\n",
      "  'nthread is deprecated.', DeprecationWarning)\n",
      "c:\\users\\artem\\anaconda3\\envs\\lasagne2.7\\lib\\site-packages\\xgboost-0.6-py2.7.egg\\xgboost\\sklearn.py:171: DeprecationWarning: The nthread parameter is deprecated as of version .6.Please use n_jobs instead.nthread is deprecated.\n",
      "  'nthread is deprecated.', DeprecationWarning)\n",
      "c:\\users\\artem\\anaconda3\\envs\\lasagne2.7\\lib\\site-packages\\xgboost-0.6-py2.7.egg\\xgboost\\sklearn.py:171: DeprecationWarning: The nthread parameter is deprecated as of version .6.Please use n_jobs instead.nthread is deprecated.\n",
      "  'nthread is deprecated.', DeprecationWarning)\n"
     ]
    },
    {
     "name": "stdout",
     "output_type": "stream",
     "text": [
      "[CV] .. max_depth=3, min_child_weight=5, score=0.885455, total=   0.0s\n",
      "[CV] max_depth=3, min_child_weight=5 .................................\n",
      "[CV] .. max_depth=3, min_child_weight=5, score=0.857398, total=   0.0s\n",
      "[CV] max_depth=3, min_child_weight=5 .................................\n",
      "[CV] .. max_depth=3, min_child_weight=5, score=0.860881, total=   0.0s\n",
      "[CV] max_depth=5, min_child_weight=1 .................................\n"
     ]
    },
    {
     "name": "stderr",
     "output_type": "stream",
     "text": [
      "c:\\users\\artem\\anaconda3\\envs\\lasagne2.7\\lib\\site-packages\\xgboost-0.6-py2.7.egg\\xgboost\\sklearn.py:171: DeprecationWarning: The nthread parameter is deprecated as of version .6.Please use n_jobs instead.nthread is deprecated.\n",
      "  'nthread is deprecated.', DeprecationWarning)\n",
      "c:\\users\\artem\\anaconda3\\envs\\lasagne2.7\\lib\\site-packages\\xgboost-0.6-py2.7.egg\\xgboost\\sklearn.py:171: DeprecationWarning: The nthread parameter is deprecated as of version .6.Please use n_jobs instead.nthread is deprecated.\n",
      "  'nthread is deprecated.', DeprecationWarning)\n",
      "c:\\users\\artem\\anaconda3\\envs\\lasagne2.7\\lib\\site-packages\\xgboost-0.6-py2.7.egg\\xgboost\\sklearn.py:171: DeprecationWarning: The nthread parameter is deprecated as of version .6.Please use n_jobs instead.nthread is deprecated.\n",
      "  'nthread is deprecated.', DeprecationWarning)\n"
     ]
    },
    {
     "name": "stdout",
     "output_type": "stream",
     "text": [
      "[CV] .. max_depth=5, min_child_weight=1, score=0.844992, total=   0.0s\n",
      "[CV] max_depth=5, min_child_weight=1 .................................\n",
      "[CV] .. max_depth=5, min_child_weight=1, score=0.894584, total=   0.0s\n",
      "[CV] max_depth=5, min_child_weight=1 .................................\n"
     ]
    },
    {
     "name": "stderr",
     "output_type": "stream",
     "text": [
      "c:\\users\\artem\\anaconda3\\envs\\lasagne2.7\\lib\\site-packages\\xgboost-0.6-py2.7.egg\\xgboost\\sklearn.py:171: DeprecationWarning: The nthread parameter is deprecated as of version .6.Please use n_jobs instead.nthread is deprecated.\n",
      "  'nthread is deprecated.', DeprecationWarning)\n",
      "c:\\users\\artem\\anaconda3\\envs\\lasagne2.7\\lib\\site-packages\\xgboost-0.6-py2.7.egg\\xgboost\\sklearn.py:171: DeprecationWarning: The nthread parameter is deprecated as of version .6.Please use n_jobs instead.nthread is deprecated.\n",
      "  'nthread is deprecated.', DeprecationWarning)\n"
     ]
    },
    {
     "name": "stdout",
     "output_type": "stream",
     "text": [
      "[CV] .. max_depth=5, min_child_weight=1, score=0.841557, total=   0.0s\n",
      "[CV] max_depth=5, min_child_weight=1 .................................\n",
      "[CV] .. max_depth=5, min_child_weight=1, score=0.865404, total=   0.0s\n",
      "[CV] max_depth=5, min_child_weight=3 .................................\n"
     ]
    },
    {
     "name": "stderr",
     "output_type": "stream",
     "text": [
      "c:\\users\\artem\\anaconda3\\envs\\lasagne2.7\\lib\\site-packages\\xgboost-0.6-py2.7.egg\\xgboost\\sklearn.py:171: DeprecationWarning: The nthread parameter is deprecated as of version .6.Please use n_jobs instead.nthread is deprecated.\n",
      "  'nthread is deprecated.', DeprecationWarning)\n",
      "c:\\users\\artem\\anaconda3\\envs\\lasagne2.7\\lib\\site-packages\\xgboost-0.6-py2.7.egg\\xgboost\\sklearn.py:171: DeprecationWarning: The nthread parameter is deprecated as of version .6.Please use n_jobs instead.nthread is deprecated.\n",
      "  'nthread is deprecated.', DeprecationWarning)\n"
     ]
    },
    {
     "name": "stdout",
     "output_type": "stream",
     "text": [
      "[CV] .. max_depth=5, min_child_weight=3, score=0.842466, total=   0.0s\n",
      "[CV] max_depth=5, min_child_weight=3 .................................\n",
      "[CV] .. max_depth=5, min_child_weight=3, score=0.892410, total=   0.0s\n",
      "[CV] max_depth=5, min_child_weight=3 .................................\n"
     ]
    },
    {
     "name": "stderr",
     "output_type": "stream",
     "text": [
      "c:\\users\\artem\\anaconda3\\envs\\lasagne2.7\\lib\\site-packages\\xgboost-0.6-py2.7.egg\\xgboost\\sklearn.py:171: DeprecationWarning: The nthread parameter is deprecated as of version .6.Please use n_jobs instead.nthread is deprecated.\n",
      "  'nthread is deprecated.', DeprecationWarning)\n",
      "c:\\users\\artem\\anaconda3\\envs\\lasagne2.7\\lib\\site-packages\\xgboost-0.6-py2.7.egg\\xgboost\\sklearn.py:171: DeprecationWarning: The nthread parameter is deprecated as of version .6.Please use n_jobs instead.nthread is deprecated.\n",
      "  'nthread is deprecated.', DeprecationWarning)\n"
     ]
    },
    {
     "name": "stdout",
     "output_type": "stream",
     "text": [
      "[CV] .. max_depth=5, min_child_weight=3, score=0.853873, total=   0.0s\n",
      "[CV] max_depth=5, min_child_weight=3 .................................\n",
      "[CV] .. max_depth=5, min_child_weight=3, score=0.862326, total=   0.0s\n",
      "[CV] max_depth=5, min_child_weight=5 .................................\n"
     ]
    },
    {
     "name": "stderr",
     "output_type": "stream",
     "text": [
      "c:\\users\\artem\\anaconda3\\envs\\lasagne2.7\\lib\\site-packages\\xgboost-0.6-py2.7.egg\\xgboost\\sklearn.py:171: DeprecationWarning: The nthread parameter is deprecated as of version .6.Please use n_jobs instead.nthread is deprecated.\n",
      "  'nthread is deprecated.', DeprecationWarning)\n",
      "c:\\users\\artem\\anaconda3\\envs\\lasagne2.7\\lib\\site-packages\\xgboost-0.6-py2.7.egg\\xgboost\\sklearn.py:171: DeprecationWarning: The nthread parameter is deprecated as of version .6.Please use n_jobs instead.nthread is deprecated.\n",
      "  'nthread is deprecated.', DeprecationWarning)\n",
      "c:\\users\\artem\\anaconda3\\envs\\lasagne2.7\\lib\\site-packages\\xgboost-0.6-py2.7.egg\\xgboost\\sklearn.py:171: DeprecationWarning: The nthread parameter is deprecated as of version .6.Please use n_jobs instead.nthread is deprecated.\n",
      "  'nthread is deprecated.', DeprecationWarning)\n"
     ]
    },
    {
     "name": "stdout",
     "output_type": "stream",
     "text": [
      "[CV] .. max_depth=5, min_child_weight=5, score=0.845328, total=   0.0s\n",
      "[CV] max_depth=5, min_child_weight=5 .................................\n",
      "[CV] .. max_depth=5, min_child_weight=5, score=0.884542, total=   0.0s\n",
      "[CV] max_depth=5, min_child_weight=5 .................................\n",
      "[CV] .. max_depth=5, min_child_weight=5, score=0.860922, total=   0.0s\n",
      "[CV] max_depth=5, min_child_weight=5 .................................\n",
      "[CV] .. max_depth=5, min_child_weight=5, score=0.858269, total=   0.0s\n",
      "[CV] max_depth=7, min_child_weight=1 .................................\n"
     ]
    },
    {
     "name": "stderr",
     "output_type": "stream",
     "text": [
      "c:\\users\\artem\\anaconda3\\envs\\lasagne2.7\\lib\\site-packages\\xgboost-0.6-py2.7.egg\\xgboost\\sklearn.py:171: DeprecationWarning: The nthread parameter is deprecated as of version .6.Please use n_jobs instead.nthread is deprecated.\n",
      "  'nthread is deprecated.', DeprecationWarning)\n",
      "c:\\users\\artem\\anaconda3\\envs\\lasagne2.7\\lib\\site-packages\\xgboost-0.6-py2.7.egg\\xgboost\\sklearn.py:171: DeprecationWarning: The nthread parameter is deprecated as of version .6.Please use n_jobs instead.nthread is deprecated.\n",
      "  'nthread is deprecated.', DeprecationWarning)\n"
     ]
    },
    {
     "name": "stdout",
     "output_type": "stream",
     "text": [
      "[CV] .. max_depth=7, min_child_weight=1, score=0.842256, total=   0.1s\n",
      "[CV] max_depth=7, min_child_weight=1 .................................\n",
      "[CV] .. max_depth=7, min_child_weight=1, score=0.902408, total=   0.1s\n",
      "[CV] max_depth=7, min_child_weight=1 .................................\n"
     ]
    },
    {
     "name": "stderr",
     "output_type": "stream",
     "text": [
      "c:\\users\\artem\\anaconda3\\envs\\lasagne2.7\\lib\\site-packages\\xgboost-0.6-py2.7.egg\\xgboost\\sklearn.py:171: DeprecationWarning: The nthread parameter is deprecated as of version .6.Please use n_jobs instead.nthread is deprecated.\n",
      "  'nthread is deprecated.', DeprecationWarning)\n",
      "c:\\users\\artem\\anaconda3\\envs\\lasagne2.7\\lib\\site-packages\\xgboost-0.6-py2.7.egg\\xgboost\\sklearn.py:171: DeprecationWarning: The nthread parameter is deprecated as of version .6.Please use n_jobs instead.nthread is deprecated.\n",
      "  'nthread is deprecated.', DeprecationWarning)\n"
     ]
    },
    {
     "name": "stdout",
     "output_type": "stream",
     "text": [
      "[CV] .. max_depth=7, min_child_weight=1, score=0.841800, total=   0.0s\n",
      "[CV] max_depth=7, min_child_weight=1 .................................\n",
      "[CV] .. max_depth=7, min_child_weight=1, score=0.857942, total=   0.0s\n",
      "[CV] max_depth=7, min_child_weight=3 .................................\n"
     ]
    },
    {
     "name": "stderr",
     "output_type": "stream",
     "text": [
      "c:\\users\\artem\\anaconda3\\envs\\lasagne2.7\\lib\\site-packages\\xgboost-0.6-py2.7.egg\\xgboost\\sklearn.py:171: DeprecationWarning: The nthread parameter is deprecated as of version .6.Please use n_jobs instead.nthread is deprecated.\n",
      "  'nthread is deprecated.', DeprecationWarning)\n",
      "c:\\users\\artem\\anaconda3\\envs\\lasagne2.7\\lib\\site-packages\\xgboost-0.6-py2.7.egg\\xgboost\\sklearn.py:171: DeprecationWarning: The nthread parameter is deprecated as of version .6.Please use n_jobs instead.nthread is deprecated.\n",
      "  'nthread is deprecated.', DeprecationWarning)\n"
     ]
    },
    {
     "name": "stdout",
     "output_type": "stream",
     "text": [
      "[CV] .. max_depth=7, min_child_weight=3, score=0.847222, total=   0.0s\n",
      "[CV] max_depth=7, min_child_weight=3 .................................\n",
      "[CV] .. max_depth=7, min_child_weight=3, score=0.891019, total=   0.0s\n",
      "[CV] max_depth=7, min_child_weight=3 .................................\n"
     ]
    },
    {
     "name": "stderr",
     "output_type": "stream",
     "text": [
      "c:\\users\\artem\\anaconda3\\envs\\lasagne2.7\\lib\\site-packages\\xgboost-0.6-py2.7.egg\\xgboost\\sklearn.py:171: DeprecationWarning: The nthread parameter is deprecated as of version .6.Please use n_jobs instead.nthread is deprecated.\n",
      "  'nthread is deprecated.', DeprecationWarning)\n",
      "c:\\users\\artem\\anaconda3\\envs\\lasagne2.7\\lib\\site-packages\\xgboost-0.6-py2.7.egg\\xgboost\\sklearn.py:171: DeprecationWarning: The nthread parameter is deprecated as of version .6.Please use n_jobs instead.nthread is deprecated.\n",
      "  'nthread is deprecated.', DeprecationWarning)\n"
     ]
    },
    {
     "name": "stdout",
     "output_type": "stream",
     "text": [
      "[CV] .. max_depth=7, min_child_weight=3, score=0.854035, total=   0.0s\n",
      "[CV] max_depth=7, min_child_weight=3 .................................\n",
      "[CV] .. max_depth=7, min_child_weight=3, score=0.859341, total=   0.0s\n",
      "[CV] max_depth=7, min_child_weight=5 .................................\n"
     ]
    },
    {
     "name": "stderr",
     "output_type": "stream",
     "text": [
      "c:\\users\\artem\\anaconda3\\envs\\lasagne2.7\\lib\\site-packages\\xgboost-0.6-py2.7.egg\\xgboost\\sklearn.py:171: DeprecationWarning: The nthread parameter is deprecated as of version .6.Please use n_jobs instead.nthread is deprecated.\n",
      "  'nthread is deprecated.', DeprecationWarning)\n",
      "c:\\users\\artem\\anaconda3\\envs\\lasagne2.7\\lib\\site-packages\\xgboost-0.6-py2.7.egg\\xgboost\\sklearn.py:171: DeprecationWarning: The nthread parameter is deprecated as of version .6.Please use n_jobs instead.nthread is deprecated.\n",
      "  'nthread is deprecated.', DeprecationWarning)\n"
     ]
    },
    {
     "name": "stdout",
     "output_type": "stream",
     "text": [
      "[CV] .. max_depth=7, min_child_weight=5, score=0.842719, total=   0.0s\n",
      "[CV] max_depth=7, min_child_weight=5 .................................\n",
      "[CV] .. max_depth=7, min_child_weight=5, score=0.885107, total=   0.0s\n",
      "[CV] max_depth=7, min_child_weight=5 .................................\n",
      "[CV] .. max_depth=7, min_child_weight=5, score=0.859788, total=   0.0s\n",
      "[CV] max_depth=7, min_child_weight=5 .................................\n"
     ]
    },
    {
     "name": "stderr",
     "output_type": "stream",
     "text": [
      "c:\\users\\artem\\anaconda3\\envs\\lasagne2.7\\lib\\site-packages\\xgboost-0.6-py2.7.egg\\xgboost\\sklearn.py:171: DeprecationWarning: The nthread parameter is deprecated as of version .6.Please use n_jobs instead.nthread is deprecated.\n",
      "  'nthread is deprecated.', DeprecationWarning)\n",
      "c:\\users\\artem\\anaconda3\\envs\\lasagne2.7\\lib\\site-packages\\xgboost-0.6-py2.7.egg\\xgboost\\sklearn.py:171: DeprecationWarning: The nthread parameter is deprecated as of version .6.Please use n_jobs instead.nthread is deprecated.\n",
      "  'nthread is deprecated.', DeprecationWarning)\n",
      "c:\\users\\artem\\anaconda3\\envs\\lasagne2.7\\lib\\site-packages\\xgboost-0.6-py2.7.egg\\xgboost\\sklearn.py:171: DeprecationWarning: The nthread parameter is deprecated as of version .6.Please use n_jobs instead.nthread is deprecated.\n",
      "  'nthread is deprecated.', DeprecationWarning)\n"
     ]
    },
    {
     "name": "stdout",
     "output_type": "stream",
     "text": [
      "[CV] .. max_depth=7, min_child_weight=5, score=0.859248, total=   0.0s\n",
      "[CV] max_depth=9, min_child_weight=1 .................................\n",
      "[CV] .. max_depth=9, min_child_weight=1, score=0.844276, total=   0.1s\n",
      "[CV] max_depth=9, min_child_weight=1 .................................\n"
     ]
    },
    {
     "name": "stderr",
     "output_type": "stream",
     "text": [
      "c:\\users\\artem\\anaconda3\\envs\\lasagne2.7\\lib\\site-packages\\xgboost-0.6-py2.7.egg\\xgboost\\sklearn.py:171: DeprecationWarning: The nthread parameter is deprecated as of version .6.Please use n_jobs instead.nthread is deprecated.\n",
      "  'nthread is deprecated.', DeprecationWarning)\n",
      "c:\\users\\artem\\anaconda3\\envs\\lasagne2.7\\lib\\site-packages\\xgboost-0.6-py2.7.egg\\xgboost\\sklearn.py:171: DeprecationWarning: The nthread parameter is deprecated as of version .6.Please use n_jobs instead.nthread is deprecated.\n",
      "  'nthread is deprecated.', DeprecationWarning)\n"
     ]
    },
    {
     "name": "stdout",
     "output_type": "stream",
     "text": [
      "[CV] .. max_depth=9, min_child_weight=1, score=0.898844, total=   0.1s\n",
      "[CV] max_depth=9, min_child_weight=1 .................................\n",
      "[CV] .. max_depth=9, min_child_weight=1, score=0.844798, total=   0.0s\n",
      "[CV] max_depth=9, min_child_weight=1 .................................\n"
     ]
    },
    {
     "name": "stderr",
     "output_type": "stream",
     "text": [
      "c:\\users\\artem\\anaconda3\\envs\\lasagne2.7\\lib\\site-packages\\xgboost-0.6-py2.7.egg\\xgboost\\sklearn.py:171: DeprecationWarning: The nthread parameter is deprecated as of version .6.Please use n_jobs instead.nthread is deprecated.\n",
      "  'nthread is deprecated.', DeprecationWarning)\n",
      "c:\\users\\artem\\anaconda3\\envs\\lasagne2.7\\lib\\site-packages\\xgboost-0.6-py2.7.egg\\xgboost\\sklearn.py:171: DeprecationWarning: The nthread parameter is deprecated as of version .6.Please use n_jobs instead.nthread is deprecated.\n",
      "  'nthread is deprecated.', DeprecationWarning)\n"
     ]
    },
    {
     "name": "stdout",
     "output_type": "stream",
     "text": [
      "[CV] .. max_depth=9, min_child_weight=1, score=0.863352, total=   0.0s\n",
      "[CV] max_depth=9, min_child_weight=3 .................................\n",
      "[CV] .. max_depth=9, min_child_weight=3, score=0.844108, total=   0.0s\n",
      "[CV] max_depth=9, min_child_weight=3 .................................\n"
     ]
    },
    {
     "name": "stderr",
     "output_type": "stream",
     "text": [
      "c:\\users\\artem\\anaconda3\\envs\\lasagne2.7\\lib\\site-packages\\xgboost-0.6-py2.7.egg\\xgboost\\sklearn.py:171: DeprecationWarning: The nthread parameter is deprecated as of version .6.Please use n_jobs instead.nthread is deprecated.\n",
      "  'nthread is deprecated.', DeprecationWarning)\n",
      "c:\\users\\artem\\anaconda3\\envs\\lasagne2.7\\lib\\site-packages\\xgboost-0.6-py2.7.egg\\xgboost\\sklearn.py:171: DeprecationWarning: The nthread parameter is deprecated as of version .6.Please use n_jobs instead.nthread is deprecated.\n",
      "  'nthread is deprecated.', DeprecationWarning)\n"
     ]
    },
    {
     "name": "stdout",
     "output_type": "stream",
     "text": [
      "[CV] .. max_depth=9, min_child_weight=3, score=0.892453, total=   0.0s\n",
      "[CV] max_depth=9, min_child_weight=3 .................................\n",
      "[CV] .. max_depth=9, min_child_weight=3, score=0.850470, total=   0.0s\n",
      "[CV] max_depth=9, min_child_weight=3 .................................\n"
     ]
    },
    {
     "name": "stderr",
     "output_type": "stream",
     "text": [
      "c:\\users\\artem\\anaconda3\\envs\\lasagne2.7\\lib\\site-packages\\xgboost-0.6-py2.7.egg\\xgboost\\sklearn.py:171: DeprecationWarning: The nthread parameter is deprecated as of version .6.Please use n_jobs instead.nthread is deprecated.\n",
      "  'nthread is deprecated.', DeprecationWarning)\n",
      "c:\\users\\artem\\anaconda3\\envs\\lasagne2.7\\lib\\site-packages\\xgboost-0.6-py2.7.egg\\xgboost\\sklearn.py:171: DeprecationWarning: The nthread parameter is deprecated as of version .6.Please use n_jobs instead.nthread is deprecated.\n",
      "  'nthread is deprecated.', DeprecationWarning)\n"
     ]
    },
    {
     "name": "stdout",
     "output_type": "stream",
     "text": [
      "[CV] .. max_depth=9, min_child_weight=3, score=0.853652, total=   0.0s\n",
      "[CV] max_depth=9, min_child_weight=5 .................................\n",
      "[CV] .. max_depth=9, min_child_weight=5, score=0.842719, total=   0.0s\n",
      "[CV] max_depth=9, min_child_weight=5 .................................\n"
     ]
    },
    {
     "name": "stderr",
     "output_type": "stream",
     "text": [
      "c:\\users\\artem\\anaconda3\\envs\\lasagne2.7\\lib\\site-packages\\xgboost-0.6-py2.7.egg\\xgboost\\sklearn.py:171: DeprecationWarning: The nthread parameter is deprecated as of version .6.Please use n_jobs instead.nthread is deprecated.\n",
      "  'nthread is deprecated.', DeprecationWarning)\n",
      "c:\\users\\artem\\anaconda3\\envs\\lasagne2.7\\lib\\site-packages\\xgboost-0.6-py2.7.egg\\xgboost\\sklearn.py:171: DeprecationWarning: The nthread parameter is deprecated as of version .6.Please use n_jobs instead.nthread is deprecated.\n",
      "  'nthread is deprecated.', DeprecationWarning)\n"
     ]
    },
    {
     "name": "stdout",
     "output_type": "stream",
     "text": [
      "[CV] .. max_depth=9, min_child_weight=5, score=0.884020, total=   0.0s\n",
      "[CV] max_depth=9, min_child_weight=5 .................................\n",
      "[CV] .. max_depth=9, min_child_weight=5, score=0.860071, total=   0.0s\n",
      "[CV] max_depth=9, min_child_weight=5 .................................\n",
      "[CV] .. max_depth=9, min_child_weight=5, score=0.859248, total=   0.0s\n"
     ]
    },
    {
     "name": "stderr",
     "output_type": "stream",
     "text": [
      "c:\\users\\artem\\anaconda3\\envs\\lasagne2.7\\lib\\site-packages\\xgboost-0.6-py2.7.egg\\xgboost\\sklearn.py:171: DeprecationWarning: The nthread parameter is deprecated as of version .6.Please use n_jobs instead.nthread is deprecated.\n",
      "  'nthread is deprecated.', DeprecationWarning)\n",
      "c:\\users\\artem\\anaconda3\\envs\\lasagne2.7\\lib\\site-packages\\xgboost-0.6-py2.7.egg\\xgboost\\sklearn.py:171: DeprecationWarning: The nthread parameter is deprecated as of version .6.Please use n_jobs instead.nthread is deprecated.\n",
      "  'nthread is deprecated.', DeprecationWarning)\n"
     ]
    },
    {
     "name": "stdout",
     "output_type": "stream",
     "text": [
      "('Best score (AUC): ', 0.86376221302649392)\n",
      "Best params: \n"
     ]
    },
    {
     "name": "stderr",
     "output_type": "stream",
     "text": [
      "[Parallel(n_jobs=1)]: Done  48 out of  48 | elapsed:    5.5s finished\n",
      "c:\\users\\artem\\anaconda3\\envs\\lasagne2.7\\lib\\site-packages\\xgboost-0.6-py2.7.egg\\xgboost\\sklearn.py:171: DeprecationWarning: The nthread parameter is deprecated as of version .6.Please use n_jobs instead.nthread is deprecated.\n",
      "  'nthread is deprecated.', DeprecationWarning)\n"
     ]
    },
    {
     "data": {
      "text/plain": [
       "{'base_score': 0.5,\n",
       " 'booster': 'gbtree',\n",
       " 'colsample_bylevel': 1,\n",
       " 'colsample_bytree': 0.8,\n",
       " 'gamma': 0.1,\n",
       " 'learning_rate': 0.1,\n",
       " 'max_delta_step': 0,\n",
       " 'max_depth': 3,\n",
       " 'min_child_weight': 1,\n",
       " 'missing': None,\n",
       " 'n_estimators': 100,\n",
       " 'n_jobs': 1,\n",
       " 'nthread': 1,\n",
       " 'objective': 'binary:logistic',\n",
       " 'random_state': 0,\n",
       " 'reg_alpha': 0,\n",
       " 'reg_lambda': 1,\n",
       " 'scale_pos_weight': 0.6229508196721312,\n",
       " 'seed': 0,\n",
       " 'silent': True,\n",
       " 'subsample': 0.8}"
      ]
     },
     "execution_count": 36,
     "metadata": {},
     "output_type": "execute_result"
    }
   ],
   "source": [
    "param_grid = {\n",
    "    'max_depth': range(3, 10, 2),\n",
    "    'min_child_weight': range(1, 6, 2)\n",
    "}\n",
    "\n",
    "clf = xgboost.XGBClassifier(**best_params) # в качестве отправной точки возьмём модель с наилучшими параметрами предыдущего шага\n",
    "\n",
    "gs = GridSearchCV(clf, param_grid, scoring='roc_auc', cv=cv, verbose=5)\n",
    "\n",
    "gs.fit(X_train, y_train)\n",
    "best_params = gs.best_estimator_.get_params()\n",
    "print('Best score (AUC): ', gs.best_score_)\n",
    "print('Best params: ')\n",
    "best_params"
   ]
  },
  {
   "cell_type": "markdown",
   "metadata": {},
   "source": [
    "## Шаг 3. Подбираем gamma (критерий создания поддерева)\n",
    "* **gamma** - от 0 до 0.5 с шагом 0.1"
   ]
  },
  {
   "cell_type": "code",
   "execution_count": 37,
   "metadata": {},
   "outputs": [
    {
     "name": "stderr",
     "output_type": "stream",
     "text": [
      "c:\\users\\artem\\anaconda3\\envs\\lasagne2.7\\lib\\site-packages\\xgboost-0.6-py2.7.egg\\xgboost\\sklearn.py:171: DeprecationWarning: The nthread parameter is deprecated as of version .6.Please use n_jobs instead.nthread is deprecated.\n",
      "  'nthread is deprecated.', DeprecationWarning)\n",
      "c:\\users\\artem\\anaconda3\\envs\\lasagne2.7\\lib\\site-packages\\xgboost-0.6-py2.7.egg\\xgboost\\sklearn.py:171: DeprecationWarning: The nthread parameter is deprecated as of version .6.Please use n_jobs instead.nthread is deprecated.\n",
      "  'nthread is deprecated.', DeprecationWarning)\n",
      "c:\\users\\artem\\anaconda3\\envs\\lasagne2.7\\lib\\site-packages\\xgboost-0.6-py2.7.egg\\xgboost\\sklearn.py:171: DeprecationWarning: The nthread parameter is deprecated as of version .6.Please use n_jobs instead.nthread is deprecated.\n",
      "  'nthread is deprecated.', DeprecationWarning)\n"
     ]
    },
    {
     "name": "stdout",
     "output_type": "stream",
     "text": [
      "Fitting 4 folds for each of 6 candidates, totalling 24 fits\n",
      "[CV] gamma=0.0 .......................................................\n"
     ]
    },
    {
     "name": "stderr",
     "output_type": "stream",
     "text": [
      "[Parallel(n_jobs=1)]: Done   1 out of   1 | elapsed:    0.1s remaining:    0.0s\n",
      "c:\\users\\artem\\anaconda3\\envs\\lasagne2.7\\lib\\site-packages\\xgboost-0.6-py2.7.egg\\xgboost\\sklearn.py:171: DeprecationWarning: The nthread parameter is deprecated as of version .6.Please use n_jobs instead.nthread is deprecated.\n",
      "  'nthread is deprecated.', DeprecationWarning)\n"
     ]
    },
    {
     "name": "stdout",
     "output_type": "stream",
     "text": [
      "[CV] ........................ gamma=0.0, score=0.884837, total=   0.1s\n",
      "[CV] gamma=0.0 .......................................................\n",
      "[CV] ........................ gamma=0.0, score=0.837937, total=   0.0s\n",
      "[CV] gamma=0.0 .......................................................\n",
      "[CV] ........................ gamma=0.0, score=0.867424, total=   0.0s\n",
      "[CV] gamma=0.0 .......................................................\n"
     ]
    },
    {
     "name": "stderr",
     "output_type": "stream",
     "text": [
      "[Parallel(n_jobs=1)]: Done   2 out of   2 | elapsed:    0.2s remaining:    0.0s\n",
      "c:\\users\\artem\\anaconda3\\envs\\lasagne2.7\\lib\\site-packages\\xgboost-0.6-py2.7.egg\\xgboost\\sklearn.py:171: DeprecationWarning: The nthread parameter is deprecated as of version .6.Please use n_jobs instead.nthread is deprecated.\n",
      "  'nthread is deprecated.', DeprecationWarning)\n",
      "[Parallel(n_jobs=1)]: Done   3 out of   3 | elapsed:    0.3s remaining:    0.0s\n",
      "c:\\users\\artem\\anaconda3\\envs\\lasagne2.7\\lib\\site-packages\\xgboost-0.6-py2.7.egg\\xgboost\\sklearn.py:171: DeprecationWarning: The nthread parameter is deprecated as of version .6.Please use n_jobs instead.nthread is deprecated.\n",
      "  'nthread is deprecated.', DeprecationWarning)\n"
     ]
    },
    {
     "name": "stdout",
     "output_type": "stream",
     "text": [
      "[CV] ........................ gamma=0.0, score=0.877298, total=   0.0s\n",
      "[CV] gamma=0.1 .......................................................\n"
     ]
    },
    {
     "name": "stderr",
     "output_type": "stream",
     "text": [
      "[Parallel(n_jobs=1)]: Done   4 out of   4 | elapsed:    0.4s remaining:    0.0s\n",
      "c:\\users\\artem\\anaconda3\\envs\\lasagne2.7\\lib\\site-packages\\xgboost-0.6-py2.7.egg\\xgboost\\sklearn.py:171: DeprecationWarning: The nthread parameter is deprecated as of version .6.Please use n_jobs instead.nthread is deprecated.\n",
      "  'nthread is deprecated.', DeprecationWarning)\n"
     ]
    },
    {
     "name": "stdout",
     "output_type": "stream",
     "text": [
      "[CV] ........................ gamma=0.1, score=0.884336, total=   0.0s\n",
      "[CV] gamma=0.1 .......................................................\n",
      "[CV] ........................ gamma=0.1, score=0.841006, total=   0.0s\n",
      "[CV] gamma=0.1 .......................................................\n"
     ]
    },
    {
     "name": "stderr",
     "output_type": "stream",
     "text": [
      "c:\\users\\artem\\anaconda3\\envs\\lasagne2.7\\lib\\site-packages\\xgboost-0.6-py2.7.egg\\xgboost\\sklearn.py:171: DeprecationWarning: The nthread parameter is deprecated as of version .6.Please use n_jobs instead.nthread is deprecated.\n",
      "  'nthread is deprecated.', DeprecationWarning)\n",
      "c:\\users\\artem\\anaconda3\\envs\\lasagne2.7\\lib\\site-packages\\xgboost-0.6-py2.7.egg\\xgboost\\sklearn.py:171: DeprecationWarning: The nthread parameter is deprecated as of version .6.Please use n_jobs instead.nthread is deprecated.\n",
      "  'nthread is deprecated.', DeprecationWarning)\n"
     ]
    },
    {
     "name": "stdout",
     "output_type": "stream",
     "text": [
      "[CV] ........................ gamma=0.1, score=0.872336, total=   0.0s\n",
      "[CV] gamma=0.1 .......................................................\n"
     ]
    },
    {
     "name": "stderr",
     "output_type": "stream",
     "text": [
      "c:\\users\\artem\\anaconda3\\envs\\lasagne2.7\\lib\\site-packages\\xgboost-0.6-py2.7.egg\\xgboost\\sklearn.py:171: DeprecationWarning: The nthread parameter is deprecated as of version .6.Please use n_jobs instead.nthread is deprecated.\n",
      "  'nthread is deprecated.', DeprecationWarning)\n"
     ]
    },
    {
     "name": "stdout",
     "output_type": "stream",
     "text": [
      "[CV] ........................ gamma=0.1, score=0.877478, total=   0.0s\n",
      "[CV] gamma=0.2 .......................................................\n",
      "[CV] ........................ gamma=0.2, score=0.884002, total=   0.0s\n",
      "[CV] gamma=0.2 .......................................................\n"
     ]
    },
    {
     "name": "stderr",
     "output_type": "stream",
     "text": [
      "c:\\users\\artem\\anaconda3\\envs\\lasagne2.7\\lib\\site-packages\\xgboost-0.6-py2.7.egg\\xgboost\\sklearn.py:171: DeprecationWarning: The nthread parameter is deprecated as of version .6.Please use n_jobs instead.nthread is deprecated.\n",
      "  'nthread is deprecated.', DeprecationWarning)\n",
      "c:\\users\\artem\\anaconda3\\envs\\lasagne2.7\\lib\\site-packages\\xgboost-0.6-py2.7.egg\\xgboost\\sklearn.py:171: DeprecationWarning: The nthread parameter is deprecated as of version .6.Please use n_jobs instead.nthread is deprecated.\n",
      "  'nthread is deprecated.', DeprecationWarning)\n"
     ]
    },
    {
     "name": "stdout",
     "output_type": "stream",
     "text": [
      "[CV] ........................ gamma=0.2, score=0.841134, total=   0.0s\n",
      "[CV] gamma=0.2 .......................................................\n"
     ]
    },
    {
     "name": "stderr",
     "output_type": "stream",
     "text": [
      "c:\\users\\artem\\anaconda3\\envs\\lasagne2.7\\lib\\site-packages\\xgboost-0.6-py2.7.egg\\xgboost\\sklearn.py:171: DeprecationWarning: The nthread parameter is deprecated as of version .6.Please use n_jobs instead.nthread is deprecated.\n",
      "  'nthread is deprecated.', DeprecationWarning)\n"
     ]
    },
    {
     "name": "stdout",
     "output_type": "stream",
     "text": [
      "[CV] ........................ gamma=0.2, score=0.870671, total=   0.0s\n",
      "[CV] gamma=0.2 .......................................................\n"
     ]
    },
    {
     "name": "stderr",
     "output_type": "stream",
     "text": [
      "c:\\users\\artem\\anaconda3\\envs\\lasagne2.7\\lib\\site-packages\\xgboost-0.6-py2.7.egg\\xgboost\\sklearn.py:171: DeprecationWarning: The nthread parameter is deprecated as of version .6.Please use n_jobs instead.nthread is deprecated.\n",
      "  'nthread is deprecated.', DeprecationWarning)\n"
     ]
    },
    {
     "name": "stdout",
     "output_type": "stream",
     "text": [
      "[CV] ........................ gamma=0.2, score=0.878470, total=   0.0s\n",
      "[CV] gamma=0.3 .......................................................\n"
     ]
    },
    {
     "name": "stderr",
     "output_type": "stream",
     "text": [
      "c:\\users\\artem\\anaconda3\\envs\\lasagne2.7\\lib\\site-packages\\xgboost-0.6-py2.7.egg\\xgboost\\sklearn.py:171: DeprecationWarning: The nthread parameter is deprecated as of version .6.Please use n_jobs instead.nthread is deprecated.\n",
      "  'nthread is deprecated.', DeprecationWarning)\n"
     ]
    },
    {
     "name": "stdout",
     "output_type": "stream",
     "text": [
      "[CV] ........................ gamma=0.3, score=0.884628, total=   0.1s\n",
      "[CV] gamma=0.3 .......................................................\n"
     ]
    },
    {
     "name": "stderr",
     "output_type": "stream",
     "text": [
      "c:\\users\\artem\\anaconda3\\envs\\lasagne2.7\\lib\\site-packages\\xgboost-0.6-py2.7.egg\\xgboost\\sklearn.py:171: DeprecationWarning: The nthread parameter is deprecated as of version .6.Please use n_jobs instead.nthread is deprecated.\n",
      "  'nthread is deprecated.', DeprecationWarning)\n"
     ]
    },
    {
     "name": "stdout",
     "output_type": "stream",
     "text": [
      "[CV] ........................ gamma=0.3, score=0.840452, total=   0.1s\n",
      "[CV] gamma=0.3 .......................................................\n",
      "[CV] ........................ gamma=0.3, score=0.869838, total=   0.0s\n",
      "[CV] gamma=0.3 .......................................................\n",
      "[CV] ........................ gamma=0.3, score=0.874144, total=   0.0s\n",
      "[CV] gamma=0.4 .......................................................\n"
     ]
    },
    {
     "name": "stderr",
     "output_type": "stream",
     "text": [
      "c:\\users\\artem\\anaconda3\\envs\\lasagne2.7\\lib\\site-packages\\xgboost-0.6-py2.7.egg\\xgboost\\sklearn.py:171: DeprecationWarning: The nthread parameter is deprecated as of version .6.Please use n_jobs instead.nthread is deprecated.\n",
      "  'nthread is deprecated.', DeprecationWarning)\n",
      "c:\\users\\artem\\anaconda3\\envs\\lasagne2.7\\lib\\site-packages\\xgboost-0.6-py2.7.egg\\xgboost\\sklearn.py:171: DeprecationWarning: The nthread parameter is deprecated as of version .6.Please use n_jobs instead.nthread is deprecated.\n",
      "  'nthread is deprecated.', DeprecationWarning)\n",
      "c:\\users\\artem\\anaconda3\\envs\\lasagne2.7\\lib\\site-packages\\xgboost-0.6-py2.7.egg\\xgboost\\sklearn.py:171: DeprecationWarning: The nthread parameter is deprecated as of version .6.Please use n_jobs instead.nthread is deprecated.\n",
      "  'nthread is deprecated.', DeprecationWarning)\n"
     ]
    },
    {
     "name": "stdout",
     "output_type": "stream",
     "text": [
      "[CV] ........................ gamma=0.4, score=0.887552, total=   0.0s\n",
      "[CV] gamma=0.4 .......................................................\n",
      "[CV] ........................ gamma=0.4, score=0.841475, total=   0.0s\n",
      "[CV] gamma=0.4 .......................................................\n"
     ]
    },
    {
     "name": "stderr",
     "output_type": "stream",
     "text": [
      "c:\\users\\artem\\anaconda3\\envs\\lasagne2.7\\lib\\site-packages\\xgboost-0.6-py2.7.egg\\xgboost\\sklearn.py:171: DeprecationWarning: The nthread parameter is deprecated as of version .6.Please use n_jobs instead.nthread is deprecated.\n",
      "  'nthread is deprecated.', DeprecationWarning)\n",
      "c:\\users\\artem\\anaconda3\\envs\\lasagne2.7\\lib\\site-packages\\xgboost-0.6-py2.7.egg\\xgboost\\sklearn.py:171: DeprecationWarning: The nthread parameter is deprecated as of version .6.Please use n_jobs instead.nthread is deprecated.\n",
      "  'nthread is deprecated.', DeprecationWarning)\n"
     ]
    },
    {
     "name": "stdout",
     "output_type": "stream",
     "text": [
      "[CV] ........................ gamma=0.4, score=0.869589, total=   0.1s\n",
      "[CV] gamma=0.4 .......................................................\n",
      "[CV] ........................ gamma=0.4, score=0.877208, total=   0.0s\n",
      "[CV] gamma=0.5 .......................................................\n"
     ]
    },
    {
     "name": "stderr",
     "output_type": "stream",
     "text": [
      "c:\\users\\artem\\anaconda3\\envs\\lasagne2.7\\lib\\site-packages\\xgboost-0.6-py2.7.egg\\xgboost\\sklearn.py:171: DeprecationWarning: The nthread parameter is deprecated as of version .6.Please use n_jobs instead.nthread is deprecated.\n",
      "  'nthread is deprecated.', DeprecationWarning)\n",
      "c:\\users\\artem\\anaconda3\\envs\\lasagne2.7\\lib\\site-packages\\xgboost-0.6-py2.7.egg\\xgboost\\sklearn.py:171: DeprecationWarning: The nthread parameter is deprecated as of version .6.Please use n_jobs instead.nthread is deprecated.\n",
      "  'nthread is deprecated.', DeprecationWarning)\n"
     ]
    },
    {
     "name": "stdout",
     "output_type": "stream",
     "text": [
      "[CV] ........................ gamma=0.5, score=0.884962, total=   0.0s\n",
      "[CV] gamma=0.5 .......................................................\n",
      "[CV] ........................ gamma=0.5, score=0.842540, total=   0.0s\n",
      "[CV] gamma=0.5 .......................................................\n",
      "[CV] ........................ gamma=0.5, score=0.870338, total=   0.0s\n",
      "[CV] gamma=0.5 .......................................................\n",
      "[CV] ........................ gamma=0.5, score=0.877388, total=   0.0s\n"
     ]
    },
    {
     "name": "stderr",
     "output_type": "stream",
     "text": [
      "c:\\users\\artem\\anaconda3\\envs\\lasagne2.7\\lib\\site-packages\\xgboost-0.6-py2.7.egg\\xgboost\\sklearn.py:171: DeprecationWarning: The nthread parameter is deprecated as of version .6.Please use n_jobs instead.nthread is deprecated.\n",
      "  'nthread is deprecated.', DeprecationWarning)\n",
      "c:\\users\\artem\\anaconda3\\envs\\lasagne2.7\\lib\\site-packages\\xgboost-0.6-py2.7.egg\\xgboost\\sklearn.py:171: DeprecationWarning: The nthread parameter is deprecated as of version .6.Please use n_jobs instead.nthread is deprecated.\n",
      "  'nthread is deprecated.', DeprecationWarning)\n",
      "c:\\users\\artem\\anaconda3\\envs\\lasagne2.7\\lib\\site-packages\\xgboost-0.6-py2.7.egg\\xgboost\\sklearn.py:171: DeprecationWarning: The nthread parameter is deprecated as of version .6.Please use n_jobs instead.nthread is deprecated.\n",
      "  'nthread is deprecated.', DeprecationWarning)\n"
     ]
    },
    {
     "name": "stdout",
     "output_type": "stream",
     "text": [
      "('Best score (AUC): ', 0.86894669147776737)\n",
      "Best params: \n"
     ]
    },
    {
     "name": "stderr",
     "output_type": "stream",
     "text": [
      "[Parallel(n_jobs=1)]: Done  24 out of  24 | elapsed:    2.5s finished\n",
      "c:\\users\\artem\\anaconda3\\envs\\lasagne2.7\\lib\\site-packages\\xgboost-0.6-py2.7.egg\\xgboost\\sklearn.py:171: DeprecationWarning: The nthread parameter is deprecated as of version .6.Please use n_jobs instead.nthread is deprecated.\n",
      "  'nthread is deprecated.', DeprecationWarning)\n"
     ]
    },
    {
     "data": {
      "text/plain": [
       "{'base_score': 0.5,\n",
       " 'booster': 'gbtree',\n",
       " 'colsample_bylevel': 1,\n",
       " 'colsample_bytree': 0.8,\n",
       " 'gamma': 0.4,\n",
       " 'learning_rate': 0.1,\n",
       " 'max_delta_step': 0,\n",
       " 'max_depth': 3,\n",
       " 'min_child_weight': 1,\n",
       " 'missing': None,\n",
       " 'n_estimators': 100,\n",
       " 'n_jobs': 1,\n",
       " 'nthread': 1,\n",
       " 'objective': 'binary:logistic',\n",
       " 'random_state': 0,\n",
       " 'reg_alpha': 0,\n",
       " 'reg_lambda': 1,\n",
       " 'scale_pos_weight': 0.6229508196721312,\n",
       " 'seed': 0,\n",
       " 'silent': True,\n",
       " 'subsample': 0.8}"
      ]
     },
     "execution_count": 37,
     "metadata": {},
     "output_type": "execute_result"
    }
   ],
   "source": [
    "param_grid = {\n",
    "    'gamma': [0.1*i for i in range(6)]\n",
    "}\n",
    "\n",
    "clf = xgboost.XGBClassifier(**best_params)\n",
    "\n",
    "gs = GridSearchCV(clf, param_grid, scoring='roc_auc', cv=cv, verbose=5)\n",
    "\n",
    "gs.fit(X_train, y_train)\n",
    "best_params = gs.best_estimator_.get_params()\n",
    "print('Best score (AUC): ', gs.best_score_)\n",
    "print('Best params: ')\n",
    "best_params"
   ]
  },
  {
   "cell_type": "markdown",
   "metadata": {},
   "source": [
    "## Шаг 4. Затюним subsample и colsample_bytree\n",
    "* **subsample** - от 0.5 до 1.0 с шагом 0.1\n",
    "* **colsample_bytree** - от 0.5 до 1.0 с шагом 0.1"
   ]
  },
  {
   "cell_type": "code",
   "execution_count": 38,
   "metadata": {},
   "outputs": [
    {
     "name": "stderr",
     "output_type": "stream",
     "text": [
      "c:\\users\\artem\\anaconda3\\envs\\lasagne2.7\\lib\\site-packages\\xgboost-0.6-py2.7.egg\\xgboost\\sklearn.py:171: DeprecationWarning: The nthread parameter is deprecated as of version .6.Please use n_jobs instead.nthread is deprecated.\n",
      "  'nthread is deprecated.', DeprecationWarning)\n",
      "c:\\users\\artem\\anaconda3\\envs\\lasagne2.7\\lib\\site-packages\\xgboost-0.6-py2.7.egg\\xgboost\\sklearn.py:171: DeprecationWarning: The nthread parameter is deprecated as of version .6.Please use n_jobs instead.nthread is deprecated.\n",
      "  'nthread is deprecated.', DeprecationWarning)\n",
      "c:\\users\\artem\\anaconda3\\envs\\lasagne2.7\\lib\\site-packages\\xgboost-0.6-py2.7.egg\\xgboost\\sklearn.py:171: DeprecationWarning: The nthread parameter is deprecated as of version .6.Please use n_jobs instead.nthread is deprecated.\n",
      "  'nthread is deprecated.', DeprecationWarning)\n",
      "[Parallel(n_jobs=1)]: Done   1 out of   1 | elapsed:    0.0s remaining:    0.0s\n",
      "c:\\users\\artem\\anaconda3\\envs\\lasagne2.7\\lib\\site-packages\\xgboost-0.6-py2.7.egg\\xgboost\\sklearn.py:171: DeprecationWarning: The nthread parameter is deprecated as of version .6.Please use n_jobs instead.nthread is deprecated.\n",
      "  'nthread is deprecated.', DeprecationWarning)\n",
      "[Parallel(n_jobs=1)]: Done   2 out of   2 | elapsed:    0.1s remaining:    0.0s\n",
      "c:\\users\\artem\\anaconda3\\envs\\lasagne2.7\\lib\\site-packages\\xgboost-0.6-py2.7.egg\\xgboost\\sklearn.py:171: DeprecationWarning: The nthread parameter is deprecated as of version .6.Please use n_jobs instead.nthread is deprecated.\n",
      "  'nthread is deprecated.', DeprecationWarning)\n"
     ]
    },
    {
     "name": "stdout",
     "output_type": "stream",
     "text": [
      "Fitting 4 folds for each of 36 candidates, totalling 144 fits\n",
      "[CV] subsample=0.5, colsample_bytree=0.5 .............................\n",
      "[CV]  subsample=0.5, colsample_bytree=0.5, score=0.871287, total=   0.0s\n",
      "[CV] subsample=0.5, colsample_bytree=0.5 .............................\n",
      "[CV]  subsample=0.5, colsample_bytree=0.5, score=0.809761, total=   0.0s\n",
      "[CV] subsample=0.5, colsample_bytree=0.5 .............................\n",
      "[CV]  subsample=0.5, colsample_bytree=0.5, score=0.893521, total=   0.0s\n",
      "[CV] subsample=0.5, colsample_bytree=0.5 .............................\n",
      "[CV]  subsample=0.5, colsample_bytree=0.5, score=0.906079, total=   0.0s\n",
      "[CV] subsample=0.6, colsample_bytree=0.5 .............................\n",
      "[CV]  subsample=0.6, colsample_bytree=0.5, score=0.871754, total=   0.0s\n",
      "[CV] subsample=0.6, colsample_bytree=0.5 .............................\n",
      "[CV]  subsample=0.6, colsample_bytree=0.5, score=0.821483, total=   0.0s\n",
      "[CV] subsample=0.6, colsample_bytree=0.5 .............................\n"
     ]
    },
    {
     "name": "stderr",
     "output_type": "stream",
     "text": [
      "[Parallel(n_jobs=1)]: Done   3 out of   3 | elapsed:    0.1s remaining:    0.0s\n",
      "c:\\users\\artem\\anaconda3\\envs\\lasagne2.7\\lib\\site-packages\\xgboost-0.6-py2.7.egg\\xgboost\\sklearn.py:171: DeprecationWarning: The nthread parameter is deprecated as of version .6.Please use n_jobs instead.nthread is deprecated.\n",
      "  'nthread is deprecated.', DeprecationWarning)\n",
      "[Parallel(n_jobs=1)]: Done   4 out of   4 | elapsed:    0.2s remaining:    0.0s\n",
      "c:\\users\\artem\\anaconda3\\envs\\lasagne2.7\\lib\\site-packages\\xgboost-0.6-py2.7.egg\\xgboost\\sklearn.py:171: DeprecationWarning: The nthread parameter is deprecated as of version .6.Please use n_jobs instead.nthread is deprecated.\n",
      "  'nthread is deprecated.', DeprecationWarning)\n",
      "c:\\users\\artem\\anaconda3\\envs\\lasagne2.7\\lib\\site-packages\\xgboost-0.6-py2.7.egg\\xgboost\\sklearn.py:171: DeprecationWarning: The nthread parameter is deprecated as of version .6.Please use n_jobs instead.nthread is deprecated.\n",
      "  'nthread is deprecated.', DeprecationWarning)\n",
      "c:\\users\\artem\\anaconda3\\envs\\lasagne2.7\\lib\\site-packages\\xgboost-0.6-py2.7.egg\\xgboost\\sklearn.py:171: DeprecationWarning: The nthread parameter is deprecated as of version .6.Please use n_jobs instead.nthread is deprecated.\n",
      "  'nthread is deprecated.', DeprecationWarning)\n"
     ]
    },
    {
     "name": "stdout",
     "output_type": "stream",
     "text": [
      "[CV]  subsample=0.6, colsample_bytree=0.5, score=0.895610, total=   0.0s\n",
      "[CV] subsample=0.6, colsample_bytree=0.5 .............................\n",
      "[CV]  subsample=0.6, colsample_bytree=0.5, score=0.905267, total=   0.0s\n",
      "[CV] subsample=0.7, colsample_bytree=0.5 .............................\n",
      "[CV]  subsample=0.7, colsample_bytree=0.5, score=0.869250, total=   0.0s\n",
      "[CV] subsample=0.7, colsample_bytree=0.5 .............................\n",
      "[CV]  subsample=0.7, colsample_bytree=0.5, score=0.812788, total=   0.0s\n",
      "[CV] subsample=0.7, colsample_bytree=0.5 .............................\n"
     ]
    },
    {
     "name": "stderr",
     "output_type": "stream",
     "text": [
      "c:\\users\\artem\\anaconda3\\envs\\lasagne2.7\\lib\\site-packages\\xgboost-0.6-py2.7.egg\\xgboost\\sklearn.py:171: DeprecationWarning: The nthread parameter is deprecated as of version .6.Please use n_jobs instead.nthread is deprecated.\n",
      "  'nthread is deprecated.', DeprecationWarning)\n",
      "c:\\users\\artem\\anaconda3\\envs\\lasagne2.7\\lib\\site-packages\\xgboost-0.6-py2.7.egg\\xgboost\\sklearn.py:171: DeprecationWarning: The nthread parameter is deprecated as of version .6.Please use n_jobs instead.nthread is deprecated.\n",
      "  'nthread is deprecated.', DeprecationWarning)\n",
      "c:\\users\\artem\\anaconda3\\envs\\lasagne2.7\\lib\\site-packages\\xgboost-0.6-py2.7.egg\\xgboost\\sklearn.py:171: DeprecationWarning: The nthread parameter is deprecated as of version .6.Please use n_jobs instead.nthread is deprecated.\n",
      "  'nthread is deprecated.', DeprecationWarning)\n",
      "c:\\users\\artem\\anaconda3\\envs\\lasagne2.7\\lib\\site-packages\\xgboost-0.6-py2.7.egg\\xgboost\\sklearn.py:171: DeprecationWarning: The nthread parameter is deprecated as of version .6.Please use n_jobs instead.nthread is deprecated.\n",
      "  'nthread is deprecated.', DeprecationWarning)\n"
     ]
    },
    {
     "name": "stdout",
     "output_type": "stream",
     "text": [
      "[CV]  subsample=0.7, colsample_bytree=0.5, score=0.893777, total=   0.1s\n",
      "[CV] subsample=0.7, colsample_bytree=0.5 .............................\n"
     ]
    },
    {
     "name": "stderr",
     "output_type": "stream",
     "text": [
      "c:\\users\\artem\\anaconda3\\envs\\lasagne2.7\\lib\\site-packages\\xgboost-0.6-py2.7.egg\\xgboost\\sklearn.py:171: DeprecationWarning: The nthread parameter is deprecated as of version .6.Please use n_jobs instead.nthread is deprecated.\n",
      "  'nthread is deprecated.', DeprecationWarning)\n"
     ]
    },
    {
     "name": "stdout",
     "output_type": "stream",
     "text": [
      "[CV]  subsample=0.7, colsample_bytree=0.5, score=0.900906, total=   0.1s\n",
      "[CV] subsample=0.8, colsample_bytree=0.5 .............................\n",
      "[CV]  subsample=0.8, colsample_bytree=0.5, score=0.863945, total=   0.0s\n",
      "[CV] subsample=0.8, colsample_bytree=0.5 .............................\n",
      "[CV]  subsample=0.8, colsample_bytree=0.5, score=0.817604, total=   0.0s\n",
      "[CV] subsample=0.8, colsample_bytree=0.5 .............................\n"
     ]
    },
    {
     "name": "stderr",
     "output_type": "stream",
     "text": [
      "c:\\users\\artem\\anaconda3\\envs\\lasagne2.7\\lib\\site-packages\\xgboost-0.6-py2.7.egg\\xgboost\\sklearn.py:171: DeprecationWarning: The nthread parameter is deprecated as of version .6.Please use n_jobs instead.nthread is deprecated.\n",
      "  'nthread is deprecated.', DeprecationWarning)\n",
      "c:\\users\\artem\\anaconda3\\envs\\lasagne2.7\\lib\\site-packages\\xgboost-0.6-py2.7.egg\\xgboost\\sklearn.py:171: DeprecationWarning: The nthread parameter is deprecated as of version .6.Please use n_jobs instead.nthread is deprecated.\n",
      "  'nthread is deprecated.', DeprecationWarning)\n",
      "c:\\users\\artem\\anaconda3\\envs\\lasagne2.7\\lib\\site-packages\\xgboost-0.6-py2.7.egg\\xgboost\\sklearn.py:171: DeprecationWarning: The nthread parameter is deprecated as of version .6.Please use n_jobs instead.nthread is deprecated.\n",
      "  'nthread is deprecated.', DeprecationWarning)\n"
     ]
    },
    {
     "name": "stdout",
     "output_type": "stream",
     "text": [
      "[CV]  subsample=0.8, colsample_bytree=0.5, score=0.894118, total=   0.1s\n",
      "[CV] subsample=0.8, colsample_bytree=0.5 .............................\n",
      "[CV]  subsample=0.8, colsample_bytree=0.5, score=0.905823, total=   0.1s\n",
      "[CV] subsample=0.9, colsample_bytree=0.5 .............................\n"
     ]
    },
    {
     "name": "stderr",
     "output_type": "stream",
     "text": [
      "c:\\users\\artem\\anaconda3\\envs\\lasagne2.7\\lib\\site-packages\\xgboost-0.6-py2.7.egg\\xgboost\\sklearn.py:171: DeprecationWarning: The nthread parameter is deprecated as of version .6.Please use n_jobs instead.nthread is deprecated.\n",
      "  'nthread is deprecated.', DeprecationWarning)\n",
      "c:\\users\\artem\\anaconda3\\envs\\lasagne2.7\\lib\\site-packages\\xgboost-0.6-py2.7.egg\\xgboost\\sklearn.py:171: DeprecationWarning: The nthread parameter is deprecated as of version .6.Please use n_jobs instead.nthread is deprecated.\n",
      "  'nthread is deprecated.', DeprecationWarning)\n"
     ]
    },
    {
     "name": "stdout",
     "output_type": "stream",
     "text": [
      "[CV]  subsample=0.9, colsample_bytree=0.5, score=0.865982, total=   0.1s\n",
      "[CV] subsample=0.9, colsample_bytree=0.5 .............................\n",
      "[CV]  subsample=0.9, colsample_bytree=0.5, score=0.814621, total=   0.1s\n"
     ]
    },
    {
     "name": "stderr",
     "output_type": "stream",
     "text": [
      "c:\\users\\artem\\anaconda3\\envs\\lasagne2.7\\lib\\site-packages\\xgboost-0.6-py2.7.egg\\xgboost\\sklearn.py:171: DeprecationWarning: The nthread parameter is deprecated as of version .6.Please use n_jobs instead.nthread is deprecated.\n",
      "  'nthread is deprecated.', DeprecationWarning)\n",
      "c:\\users\\artem\\anaconda3\\envs\\lasagne2.7\\lib\\site-packages\\xgboost-0.6-py2.7.egg\\xgboost\\sklearn.py:171: DeprecationWarning: The nthread parameter is deprecated as of version .6.Please use n_jobs instead.nthread is deprecated.\n",
      "  'nthread is deprecated.', DeprecationWarning)\n"
     ]
    },
    {
     "name": "stdout",
     "output_type": "stream",
     "text": [
      "[CV] subsample=0.9, colsample_bytree=0.5 .............................\n",
      "[CV]  subsample=0.9, colsample_bytree=0.5, score=0.898124, total=   0.0s\n",
      "[CV] subsample=0.9, colsample_bytree=0.5 .............................\n"
     ]
    },
    {
     "name": "stderr",
     "output_type": "stream",
     "text": [
      "c:\\users\\artem\\anaconda3\\envs\\lasagne2.7\\lib\\site-packages\\xgboost-0.6-py2.7.egg\\xgboost\\sklearn.py:171: DeprecationWarning: The nthread parameter is deprecated as of version .6.Please use n_jobs instead.nthread is deprecated.\n",
      "  'nthread is deprecated.', DeprecationWarning)\n",
      "c:\\users\\artem\\anaconda3\\envs\\lasagne2.7\\lib\\site-packages\\xgboost-0.6-py2.7.egg\\xgboost\\sklearn.py:171: DeprecationWarning: The nthread parameter is deprecated as of version .6.Please use n_jobs instead.nthread is deprecated.\n",
      "  'nthread is deprecated.', DeprecationWarning)\n",
      "c:\\users\\artem\\anaconda3\\envs\\lasagne2.7\\lib\\site-packages\\xgboost-0.6-py2.7.egg\\xgboost\\sklearn.py:171: DeprecationWarning: The nthread parameter is deprecated as of version .6.Please use n_jobs instead.nthread is deprecated.\n",
      "  'nthread is deprecated.', DeprecationWarning)\n"
     ]
    },
    {
     "name": "stdout",
     "output_type": "stream",
     "text": [
      "[CV]  subsample=0.9, colsample_bytree=0.5, score=0.902616, total=   0.0s\n",
      "[CV] subsample=1.0, colsample_bytree=0.5 .............................\n",
      "[CV]  subsample=1.0, colsample_bytree=0.5, score=0.854099, total=   0.0s\n",
      "[CV] subsample=1.0, colsample_bytree=0.5 .............................\n",
      "[CV]  subsample=1.0, colsample_bytree=0.5, score=0.811807, total=   0.0s\n",
      "[CV] subsample=1.0, colsample_bytree=0.5 .............................\n",
      "[CV]  subsample=1.0, colsample_bytree=0.5, score=0.893223, total=   0.0s\n",
      "[CV] subsample=1.0, colsample_bytree=0.5 .............................\n"
     ]
    },
    {
     "name": "stderr",
     "output_type": "stream",
     "text": [
      "c:\\users\\artem\\anaconda3\\envs\\lasagne2.7\\lib\\site-packages\\xgboost-0.6-py2.7.egg\\xgboost\\sklearn.py:171: DeprecationWarning: The nthread parameter is deprecated as of version .6.Please use n_jobs instead.nthread is deprecated.\n",
      "  'nthread is deprecated.', DeprecationWarning)\n",
      "c:\\users\\artem\\anaconda3\\envs\\lasagne2.7\\lib\\site-packages\\xgboost-0.6-py2.7.egg\\xgboost\\sklearn.py:171: DeprecationWarning: The nthread parameter is deprecated as of version .6.Please use n_jobs instead.nthread is deprecated.\n",
      "  'nthread is deprecated.', DeprecationWarning)\n",
      "c:\\users\\artem\\anaconda3\\envs\\lasagne2.7\\lib\\site-packages\\xgboost-0.6-py2.7.egg\\xgboost\\sklearn.py:171: DeprecationWarning: The nthread parameter is deprecated as of version .6.Please use n_jobs instead.nthread is deprecated.\n",
      "  'nthread is deprecated.', DeprecationWarning)\n",
      "c:\\users\\artem\\anaconda3\\envs\\lasagne2.7\\lib\\site-packages\\xgboost-0.6-py2.7.egg\\xgboost\\sklearn.py:171: DeprecationWarning: The nthread parameter is deprecated as of version .6.Please use n_jobs instead.nthread is deprecated.\n",
      "  'nthread is deprecated.', DeprecationWarning)\n"
     ]
    },
    {
     "name": "stdout",
     "output_type": "stream",
     "text": [
      "[CV]  subsample=1.0, colsample_bytree=0.5, score=0.914030, total=   0.0s\n",
      "[CV] subsample=0.5, colsample_bytree=0.6 .............................\n",
      "[CV]  subsample=0.5, colsample_bytree=0.6, score=0.871626, total=   0.0s\n",
      "[CV] subsample=0.5, colsample_bytree=0.6 .............................\n",
      "[CV]  subsample=0.5, colsample_bytree=0.6, score=0.818713, total=   0.0s\n",
      "[CV] subsample=0.5, colsample_bytree=0.6 .............................\n",
      "[CV]  subsample=0.5, colsample_bytree=0.6, score=0.894075, total=   0.0s\n",
      "[CV] subsample=0.5, colsample_bytree=0.6 .............................\n"
     ]
    },
    {
     "name": "stderr",
     "output_type": "stream",
     "text": [
      "c:\\users\\artem\\anaconda3\\envs\\lasagne2.7\\lib\\site-packages\\xgboost-0.6-py2.7.egg\\xgboost\\sklearn.py:171: DeprecationWarning: The nthread parameter is deprecated as of version .6.Please use n_jobs instead.nthread is deprecated.\n",
      "  'nthread is deprecated.', DeprecationWarning)\n",
      "c:\\users\\artem\\anaconda3\\envs\\lasagne2.7\\lib\\site-packages\\xgboost-0.6-py2.7.egg\\xgboost\\sklearn.py:171: DeprecationWarning: The nthread parameter is deprecated as of version .6.Please use n_jobs instead.nthread is deprecated.\n",
      "  'nthread is deprecated.', DeprecationWarning)\n",
      "c:\\users\\artem\\anaconda3\\envs\\lasagne2.7\\lib\\site-packages\\xgboost-0.6-py2.7.egg\\xgboost\\sklearn.py:171: DeprecationWarning: The nthread parameter is deprecated as of version .6.Please use n_jobs instead.nthread is deprecated.\n",
      "  'nthread is deprecated.', DeprecationWarning)\n"
     ]
    },
    {
     "name": "stdout",
     "output_type": "stream",
     "text": [
      "[CV]  subsample=0.5, colsample_bytree=0.6, score=0.908302, total=   0.0s\n",
      "[CV] subsample=0.6, colsample_bytree=0.6 .............................\n",
      "[CV]  subsample=0.6, colsample_bytree=0.6, score=0.874851, total=   0.1s\n",
      "[CV] subsample=0.6, colsample_bytree=0.6 .............................\n"
     ]
    },
    {
     "name": "stderr",
     "output_type": "stream",
     "text": [
      "c:\\users\\artem\\anaconda3\\envs\\lasagne2.7\\lib\\site-packages\\xgboost-0.6-py2.7.egg\\xgboost\\sklearn.py:171: DeprecationWarning: The nthread parameter is deprecated as of version .6.Please use n_jobs instead.nthread is deprecated.\n",
      "  'nthread is deprecated.', DeprecationWarning)\n",
      "c:\\users\\artem\\anaconda3\\envs\\lasagne2.7\\lib\\site-packages\\xgboost-0.6-py2.7.egg\\xgboost\\sklearn.py:171: DeprecationWarning: The nthread parameter is deprecated as of version .6.Please use n_jobs instead.nthread is deprecated.\n",
      "  'nthread is deprecated.', DeprecationWarning)\n"
     ]
    },
    {
     "name": "stdout",
     "output_type": "stream",
     "text": [
      "[CV]  subsample=0.6, colsample_bytree=0.6, score=0.818031, total=   0.1s\n",
      "[CV] subsample=0.6, colsample_bytree=0.6 .............................\n",
      "[CV]  subsample=0.6, colsample_bytree=0.6, score=0.896846, total=   0.1s\n",
      "[CV] subsample=0.6, colsample_bytree=0.6 .............................\n"
     ]
    },
    {
     "name": "stderr",
     "output_type": "stream",
     "text": [
      "c:\\users\\artem\\anaconda3\\envs\\lasagne2.7\\lib\\site-packages\\xgboost-0.6-py2.7.egg\\xgboost\\sklearn.py:171: DeprecationWarning: The nthread parameter is deprecated as of version .6.Please use n_jobs instead.nthread is deprecated.\n",
      "  'nthread is deprecated.', DeprecationWarning)\n",
      "c:\\users\\artem\\anaconda3\\envs\\lasagne2.7\\lib\\site-packages\\xgboost-0.6-py2.7.egg\\xgboost\\sklearn.py:171: DeprecationWarning: The nthread parameter is deprecated as of version .6.Please use n_jobs instead.nthread is deprecated.\n",
      "  'nthread is deprecated.', DeprecationWarning)\n",
      "c:\\users\\artem\\anaconda3\\envs\\lasagne2.7\\lib\\site-packages\\xgboost-0.6-py2.7.egg\\xgboost\\sklearn.py:171: DeprecationWarning: The nthread parameter is deprecated as of version .6.Please use n_jobs instead.nthread is deprecated.\n",
      "  'nthread is deprecated.', DeprecationWarning)\n",
      "c:\\users\\artem\\anaconda3\\envs\\lasagne2.7\\lib\\site-packages\\xgboost-0.6-py2.7.egg\\xgboost\\sklearn.py:171: DeprecationWarning: The nthread parameter is deprecated as of version .6.Please use n_jobs instead.nthread is deprecated.\n",
      "  'nthread is deprecated.', DeprecationWarning)\n"
     ]
    },
    {
     "name": "stdout",
     "output_type": "stream",
     "text": [
      "[CV]  subsample=0.6, colsample_bytree=0.6, score=0.906934, total=   0.0s\n",
      "[CV] subsample=0.7, colsample_bytree=0.6 .............................\n",
      "[CV]  subsample=0.7, colsample_bytree=0.6, score=0.870183, total=   0.0s\n",
      "[CV] subsample=0.7, colsample_bytree=0.6 .............................\n",
      "[CV]  subsample=0.7, colsample_bytree=0.6, score=0.815601, total=   0.0s\n",
      "[CV] subsample=0.7, colsample_bytree=0.6 .............................\n",
      "[CV]  subsample=0.7, colsample_bytree=0.6, score=0.900895, total=   0.0s\n"
     ]
    },
    {
     "name": "stderr",
     "output_type": "stream",
     "text": [
      "c:\\users\\artem\\anaconda3\\envs\\lasagne2.7\\lib\\site-packages\\xgboost-0.6-py2.7.egg\\xgboost\\sklearn.py:171: DeprecationWarning: The nthread parameter is deprecated as of version .6.Please use n_jobs instead.nthread is deprecated.\n",
      "  'nthread is deprecated.', DeprecationWarning)\n",
      "c:\\users\\artem\\anaconda3\\envs\\lasagne2.7\\lib\\site-packages\\xgboost-0.6-py2.7.egg\\xgboost\\sklearn.py:171: DeprecationWarning: The nthread parameter is deprecated as of version .6.Please use n_jobs instead.nthread is deprecated.\n",
      "  'nthread is deprecated.', DeprecationWarning)\n",
      "c:\\users\\artem\\anaconda3\\envs\\lasagne2.7\\lib\\site-packages\\xgboost-0.6-py2.7.egg\\xgboost\\sklearn.py:171: DeprecationWarning: The nthread parameter is deprecated as of version .6.Please use n_jobs instead.nthread is deprecated.\n",
      "  'nthread is deprecated.', DeprecationWarning)\n",
      "c:\\users\\artem\\anaconda3\\envs\\lasagne2.7\\lib\\site-packages\\xgboost-0.6-py2.7.egg\\xgboost\\sklearn.py:171: DeprecationWarning: The nthread parameter is deprecated as of version .6.Please use n_jobs instead.nthread is deprecated.\n",
      "  'nthread is deprecated.', DeprecationWarning)\n"
     ]
    },
    {
     "name": "stdout",
     "output_type": "stream",
     "text": [
      "[CV] subsample=0.7, colsample_bytree=0.6 .............................\n",
      "[CV]  subsample=0.7, colsample_bytree=0.6, score=0.907789, total=   0.0s\n",
      "[CV] subsample=0.8, colsample_bytree=0.6 .............................\n",
      "[CV]  subsample=0.8, colsample_bytree=0.6, score=0.866873, total=   0.0s\n",
      "[CV] subsample=0.8, colsample_bytree=0.6 .............................\n",
      "[CV]  subsample=0.8, colsample_bytree=0.6, score=0.815303, total=   0.0s\n",
      "[CV] subsample=0.8, colsample_bytree=0.6 .............................\n",
      "[CV]  subsample=0.8, colsample_bytree=0.6, score=0.897442, total=   0.0s\n",
      "[CV] subsample=0.8, colsample_bytree=0.6 .............................\n",
      "[CV]  subsample=0.8, colsample_bytree=0.6, score=0.907447, total=   0.0s\n",
      "[CV] subsample=0.9, colsample_bytree=0.6 .............................\n",
      "[CV]  subsample=0.9, colsample_bytree=0.6, score=0.865388, total=   0.0s\n",
      "[CV] subsample=0.9, colsample_bytree=0.6 .............................\n",
      "[CV]  subsample=0.9, colsample_bytree=0.6, score=0.819650, total=   0.0s\n",
      "[CV] subsample=0.9, colsample_bytree=0.6 .............................\n"
     ]
    },
    {
     "name": "stderr",
     "output_type": "stream",
     "text": [
      "c:\\users\\artem\\anaconda3\\envs\\lasagne2.7\\lib\\site-packages\\xgboost-0.6-py2.7.egg\\xgboost\\sklearn.py:171: DeprecationWarning: The nthread parameter is deprecated as of version .6.Please use n_jobs instead.nthread is deprecated.\n",
      "  'nthread is deprecated.', DeprecationWarning)\n",
      "c:\\users\\artem\\anaconda3\\envs\\lasagne2.7\\lib\\site-packages\\xgboost-0.6-py2.7.egg\\xgboost\\sklearn.py:171: DeprecationWarning: The nthread parameter is deprecated as of version .6.Please use n_jobs instead.nthread is deprecated.\n",
      "  'nthread is deprecated.', DeprecationWarning)\n",
      "c:\\users\\artem\\anaconda3\\envs\\lasagne2.7\\lib\\site-packages\\xgboost-0.6-py2.7.egg\\xgboost\\sklearn.py:171: DeprecationWarning: The nthread parameter is deprecated as of version .6.Please use n_jobs instead.nthread is deprecated.\n",
      "  'nthread is deprecated.', DeprecationWarning)\n",
      "c:\\users\\artem\\anaconda3\\envs\\lasagne2.7\\lib\\site-packages\\xgboost-0.6-py2.7.egg\\xgboost\\sklearn.py:171: DeprecationWarning: The nthread parameter is deprecated as of version .6.Please use n_jobs instead.nthread is deprecated.\n",
      "  'nthread is deprecated.', DeprecationWarning)\n"
     ]
    },
    {
     "name": "stdout",
     "output_type": "stream",
     "text": [
      "[CV]  subsample=0.9, colsample_bytree=0.6, score=0.899574, total=   0.0s\n",
      "[CV] subsample=0.9, colsample_bytree=0.6 .............................\n",
      "[CV]  subsample=0.9, colsample_bytree=0.6, score=0.906506, total=   0.0s\n",
      "[CV] subsample=1.0, colsample_bytree=0.6 .............................\n",
      "[CV]  subsample=1.0, colsample_bytree=0.6, score=0.862290, total=   0.0s\n",
      "[CV] subsample=1.0, colsample_bytree=0.6 .............................\n",
      "[CV]  subsample=1.0, colsample_bytree=0.6, score=0.814535, total=   0.0s\n",
      "[CV] subsample=1.0, colsample_bytree=0.6 .............................\n"
     ]
    },
    {
     "name": "stderr",
     "output_type": "stream",
     "text": [
      "c:\\users\\artem\\anaconda3\\envs\\lasagne2.7\\lib\\site-packages\\xgboost-0.6-py2.7.egg\\xgboost\\sklearn.py:171: DeprecationWarning: The nthread parameter is deprecated as of version .6.Please use n_jobs instead.nthread is deprecated.\n",
      "  'nthread is deprecated.', DeprecationWarning)\n",
      "c:\\users\\artem\\anaconda3\\envs\\lasagne2.7\\lib\\site-packages\\xgboost-0.6-py2.7.egg\\xgboost\\sklearn.py:171: DeprecationWarning: The nthread parameter is deprecated as of version .6.Please use n_jobs instead.nthread is deprecated.\n",
      "  'nthread is deprecated.', DeprecationWarning)\n",
      "c:\\users\\artem\\anaconda3\\envs\\lasagne2.7\\lib\\site-packages\\xgboost-0.6-py2.7.egg\\xgboost\\sklearn.py:171: DeprecationWarning: The nthread parameter is deprecated as of version .6.Please use n_jobs instead.nthread is deprecated.\n",
      "  'nthread is deprecated.', DeprecationWarning)\n",
      "c:\\users\\artem\\anaconda3\\envs\\lasagne2.7\\lib\\site-packages\\xgboost-0.6-py2.7.egg\\xgboost\\sklearn.py:171: DeprecationWarning: The nthread parameter is deprecated as of version .6.Please use n_jobs instead.nthread is deprecated.\n",
      "  'nthread is deprecated.', DeprecationWarning)\n"
     ]
    },
    {
     "name": "stdout",
     "output_type": "stream",
     "text": [
      "[CV]  subsample=1.0, colsample_bytree=0.6, score=0.895652, total=   0.0s\n",
      "[CV] subsample=1.0, colsample_bytree=0.6 .............................\n",
      "[CV]  subsample=1.0, colsample_bytree=0.6, score=0.906165, total=   0.0s\n",
      "[CV] subsample=0.5, colsample_bytree=0.7 .............................\n",
      "[CV]  subsample=0.5, colsample_bytree=0.7, score=0.871287, total=   0.0s\n",
      "[CV] subsample=0.5, colsample_bytree=0.7 .............................\n"
     ]
    },
    {
     "name": "stderr",
     "output_type": "stream",
     "text": [
      "c:\\users\\artem\\anaconda3\\envs\\lasagne2.7\\lib\\site-packages\\xgboost-0.6-py2.7.egg\\xgboost\\sklearn.py:171: DeprecationWarning: The nthread parameter is deprecated as of version .6.Please use n_jobs instead.nthread is deprecated.\n",
      "  'nthread is deprecated.', DeprecationWarning)\n",
      "c:\\users\\artem\\anaconda3\\envs\\lasagne2.7\\lib\\site-packages\\xgboost-0.6-py2.7.egg\\xgboost\\sklearn.py:171: DeprecationWarning: The nthread parameter is deprecated as of version .6.Please use n_jobs instead.nthread is deprecated.\n",
      "  'nthread is deprecated.', DeprecationWarning)\n",
      "c:\\users\\artem\\anaconda3\\envs\\lasagne2.7\\lib\\site-packages\\xgboost-0.6-py2.7.egg\\xgboost\\sklearn.py:171: DeprecationWarning: The nthread parameter is deprecated as of version .6.Please use n_jobs instead.nthread is deprecated.\n",
      "  'nthread is deprecated.', DeprecationWarning)\n"
     ]
    },
    {
     "name": "stdout",
     "output_type": "stream",
     "text": [
      "[CV]  subsample=0.5, colsample_bytree=0.7, score=0.821569, total=   0.0s\n",
      "[CV] subsample=0.5, colsample_bytree=0.7 .............................\n",
      "[CV]  subsample=0.5, colsample_bytree=0.7, score=0.896377, total=   0.1s\n",
      "[CV] subsample=0.5, colsample_bytree=0.7 .............................\n"
     ]
    },
    {
     "name": "stderr",
     "output_type": "stream",
     "text": [
      "c:\\users\\artem\\anaconda3\\envs\\lasagne2.7\\lib\\site-packages\\xgboost-0.6-py2.7.egg\\xgboost\\sklearn.py:171: DeprecationWarning: The nthread parameter is deprecated as of version .6.Please use n_jobs instead.nthread is deprecated.\n",
      "  'nthread is deprecated.', DeprecationWarning)\n",
      "c:\\users\\artem\\anaconda3\\envs\\lasagne2.7\\lib\\site-packages\\xgboost-0.6-py2.7.egg\\xgboost\\sklearn.py:171: DeprecationWarning: The nthread parameter is deprecated as of version .6.Please use n_jobs instead.nthread is deprecated.\n",
      "  'nthread is deprecated.', DeprecationWarning)\n"
     ]
    },
    {
     "name": "stdout",
     "output_type": "stream",
     "text": [
      "[CV]  subsample=0.5, colsample_bytree=0.7, score=0.904668, total=   0.0s\n",
      "[CV] subsample=0.6, colsample_bytree=0.7 .............................\n",
      "[CV]  subsample=0.6, colsample_bytree=0.7, score=0.877016, total=   0.0s\n",
      "[CV] subsample=0.6, colsample_bytree=0.7 .............................\n",
      "[CV]  subsample=0.6, colsample_bytree=0.7, score=0.819480, total=   0.0s\n",
      "[CV] subsample=0.6, colsample_bytree=0.7 .............................\n",
      "[CV]  subsample=0.6, colsample_bytree=0.7, score=0.896888, total=   0.0s\n"
     ]
    },
    {
     "name": "stderr",
     "output_type": "stream",
     "text": [
      "c:\\users\\artem\\anaconda3\\envs\\lasagne2.7\\lib\\site-packages\\xgboost-0.6-py2.7.egg\\xgboost\\sklearn.py:171: DeprecationWarning: The nthread parameter is deprecated as of version .6.Please use n_jobs instead.nthread is deprecated.\n",
      "  'nthread is deprecated.', DeprecationWarning)\n",
      "c:\\users\\artem\\anaconda3\\envs\\lasagne2.7\\lib\\site-packages\\xgboost-0.6-py2.7.egg\\xgboost\\sklearn.py:171: DeprecationWarning: The nthread parameter is deprecated as of version .6.Please use n_jobs instead.nthread is deprecated.\n",
      "  'nthread is deprecated.', DeprecationWarning)\n",
      "c:\\users\\artem\\anaconda3\\envs\\lasagne2.7\\lib\\site-packages\\xgboost-0.6-py2.7.egg\\xgboost\\sklearn.py:171: DeprecationWarning: The nthread parameter is deprecated as of version .6.Please use n_jobs instead.nthread is deprecated.\n",
      "  'nthread is deprecated.', DeprecationWarning)\n",
      "c:\\users\\artem\\anaconda3\\envs\\lasagne2.7\\lib\\site-packages\\xgboost-0.6-py2.7.egg\\xgboost\\sklearn.py:171: DeprecationWarning: The nthread parameter is deprecated as of version .6.Please use n_jobs instead.nthread is deprecated.\n",
      "  'nthread is deprecated.', DeprecationWarning)\n"
     ]
    },
    {
     "name": "stdout",
     "output_type": "stream",
     "text": [
      "[CV] subsample=0.6, colsample_bytree=0.7 .............................\n",
      "[CV]  subsample=0.6, colsample_bytree=0.7, score=0.899196, total=   0.0s\n",
      "[CV] subsample=0.7, colsample_bytree=0.7 .............................\n",
      "[CV]  subsample=0.7, colsample_bytree=0.7, score=0.867340, total=   0.0s\n",
      "[CV] subsample=0.7, colsample_bytree=0.7 .............................\n"
     ]
    },
    {
     "name": "stderr",
     "output_type": "stream",
     "text": [
      "c:\\users\\artem\\anaconda3\\envs\\lasagne2.7\\lib\\site-packages\\xgboost-0.6-py2.7.egg\\xgboost\\sklearn.py:171: DeprecationWarning: The nthread parameter is deprecated as of version .6.Please use n_jobs instead.nthread is deprecated.\n",
      "  'nthread is deprecated.', DeprecationWarning)\n",
      "c:\\users\\artem\\anaconda3\\envs\\lasagne2.7\\lib\\site-packages\\xgboost-0.6-py2.7.egg\\xgboost\\sklearn.py:171: DeprecationWarning: The nthread parameter is deprecated as of version .6.Please use n_jobs instead.nthread is deprecated.\n",
      "  'nthread is deprecated.', DeprecationWarning)\n",
      "c:\\users\\artem\\anaconda3\\envs\\lasagne2.7\\lib\\site-packages\\xgboost-0.6-py2.7.egg\\xgboost\\sklearn.py:171: DeprecationWarning: The nthread parameter is deprecated as of version .6.Please use n_jobs instead.nthread is deprecated.\n",
      "  'nthread is deprecated.', DeprecationWarning)\n"
     ]
    },
    {
     "name": "stdout",
     "output_type": "stream",
     "text": [
      "[CV]  subsample=0.7, colsample_bytree=0.7, score=0.815345, total=   0.0s\n",
      "[CV] subsample=0.7, colsample_bytree=0.7 .............................\n",
      "[CV]  subsample=0.7, colsample_bytree=0.7, score=0.900341, total=   0.0s\n",
      "[CV] subsample=0.7, colsample_bytree=0.7 .............................\n",
      "[CV]  subsample=0.7, colsample_bytree=0.7, score=0.905609, total=   0.0s\n",
      "[CV] subsample=0.8, colsample_bytree=0.7 .............................\n"
     ]
    },
    {
     "name": "stderr",
     "output_type": "stream",
     "text": [
      "c:\\users\\artem\\anaconda3\\envs\\lasagne2.7\\lib\\site-packages\\xgboost-0.6-py2.7.egg\\xgboost\\sklearn.py:171: DeprecationWarning: The nthread parameter is deprecated as of version .6.Please use n_jobs instead.nthread is deprecated.\n",
      "  'nthread is deprecated.', DeprecationWarning)\n",
      "c:\\users\\artem\\anaconda3\\envs\\lasagne2.7\\lib\\site-packages\\xgboost-0.6-py2.7.egg\\xgboost\\sklearn.py:171: DeprecationWarning: The nthread parameter is deprecated as of version .6.Please use n_jobs instead.nthread is deprecated.\n",
      "  'nthread is deprecated.', DeprecationWarning)\n",
      "c:\\users\\artem\\anaconda3\\envs\\lasagne2.7\\lib\\site-packages\\xgboost-0.6-py2.7.egg\\xgboost\\sklearn.py:171: DeprecationWarning: The nthread parameter is deprecated as of version .6.Please use n_jobs instead.nthread is deprecated.\n",
      "  'nthread is deprecated.', DeprecationWarning)\n"
     ]
    },
    {
     "name": "stdout",
     "output_type": "stream",
     "text": [
      "[CV]  subsample=0.8, colsample_bytree=0.7, score=0.867680, total=   0.0s\n",
      "[CV] subsample=0.8, colsample_bytree=0.7 .............................\n",
      "[CV]  subsample=0.8, colsample_bytree=0.7, score=0.814834, total=   0.0s\n",
      "[CV] subsample=0.8, colsample_bytree=0.7 .............................\n",
      "[CV]  subsample=0.8, colsample_bytree=0.7, score=0.895482, total=   0.0s\n",
      "[CV] subsample=0.8, colsample_bytree=0.7 .............................\n"
     ]
    },
    {
     "name": "stderr",
     "output_type": "stream",
     "text": [
      "c:\\users\\artem\\anaconda3\\envs\\lasagne2.7\\lib\\site-packages\\xgboost-0.6-py2.7.egg\\xgboost\\sklearn.py:171: DeprecationWarning: The nthread parameter is deprecated as of version .6.Please use n_jobs instead.nthread is deprecated.\n",
      "  'nthread is deprecated.', DeprecationWarning)\n",
      "c:\\users\\artem\\anaconda3\\envs\\lasagne2.7\\lib\\site-packages\\xgboost-0.6-py2.7.egg\\xgboost\\sklearn.py:171: DeprecationWarning: The nthread parameter is deprecated as of version .6.Please use n_jobs instead.nthread is deprecated.\n",
      "  'nthread is deprecated.', DeprecationWarning)\n",
      "c:\\users\\artem\\anaconda3\\envs\\lasagne2.7\\lib\\site-packages\\xgboost-0.6-py2.7.egg\\xgboost\\sklearn.py:171: DeprecationWarning: The nthread parameter is deprecated as of version .6.Please use n_jobs instead.nthread is deprecated.\n",
      "  'nthread is deprecated.', DeprecationWarning)\n"
     ]
    },
    {
     "name": "stdout",
     "output_type": "stream",
     "text": [
      "[CV]  subsample=0.8, colsample_bytree=0.7, score=0.904070, total=   0.0s\n",
      "[CV] subsample=0.9, colsample_bytree=0.7 .............................\n",
      "[CV]  subsample=0.9, colsample_bytree=0.7, score=0.867001, total=   0.0s\n",
      "[CV] subsample=0.9, colsample_bytree=0.7 .............................\n",
      "[CV]  subsample=0.9, colsample_bytree=0.7, score=0.813043, total=   0.0s\n",
      "[CV] subsample=0.9, colsample_bytree=0.7 .............................\n"
     ]
    },
    {
     "name": "stderr",
     "output_type": "stream",
     "text": [
      "c:\\users\\artem\\anaconda3\\envs\\lasagne2.7\\lib\\site-packages\\xgboost-0.6-py2.7.egg\\xgboost\\sklearn.py:171: DeprecationWarning: The nthread parameter is deprecated as of version .6.Please use n_jobs instead.nthread is deprecated.\n",
      "  'nthread is deprecated.', DeprecationWarning)\n",
      "c:\\users\\artem\\anaconda3\\envs\\lasagne2.7\\lib\\site-packages\\xgboost-0.6-py2.7.egg\\xgboost\\sklearn.py:171: DeprecationWarning: The nthread parameter is deprecated as of version .6.Please use n_jobs instead.nthread is deprecated.\n",
      "  'nthread is deprecated.', DeprecationWarning)\n",
      "c:\\users\\artem\\anaconda3\\envs\\lasagne2.7\\lib\\site-packages\\xgboost-0.6-py2.7.egg\\xgboost\\sklearn.py:171: DeprecationWarning: The nthread parameter is deprecated as of version .6.Please use n_jobs instead.nthread is deprecated.\n",
      "  'nthread is deprecated.', DeprecationWarning)\n"
     ]
    },
    {
     "name": "stdout",
     "output_type": "stream",
     "text": [
      "[CV]  subsample=0.9, colsample_bytree=0.7, score=0.902174, total=   0.0s\n",
      "[CV] subsample=0.9, colsample_bytree=0.7 .............................\n",
      "[CV]  subsample=0.9, colsample_bytree=0.7, score=0.900949, total=   0.0s\n",
      "[CV] subsample=1.0, colsample_bytree=0.7 .............................\n",
      "[CV]  subsample=1.0, colsample_bytree=0.7, score=0.858895, total=   0.0s\n",
      "[CV] subsample=1.0, colsample_bytree=0.7 .............................\n",
      "[CV]  subsample=1.0, colsample_bytree=0.7, score=0.808696, total=   0.0s"
     ]
    },
    {
     "name": "stderr",
     "output_type": "stream",
     "text": [
      "c:\\users\\artem\\anaconda3\\envs\\lasagne2.7\\lib\\site-packages\\xgboost-0.6-py2.7.egg\\xgboost\\sklearn.py:171: DeprecationWarning: The nthread parameter is deprecated as of version .6.Please use n_jobs instead.nthread is deprecated.\n",
      "  'nthread is deprecated.', DeprecationWarning)\n",
      "c:\\users\\artem\\anaconda3\\envs\\lasagne2.7\\lib\\site-packages\\xgboost-0.6-py2.7.egg\\xgboost\\sklearn.py:171: DeprecationWarning: The nthread parameter is deprecated as of version .6.Please use n_jobs instead.nthread is deprecated.\n",
      "  'nthread is deprecated.', DeprecationWarning)\n",
      "c:\\users\\artem\\anaconda3\\envs\\lasagne2.7\\lib\\site-packages\\xgboost-0.6-py2.7.egg\\xgboost\\sklearn.py:171: DeprecationWarning: The nthread parameter is deprecated as of version .6.Please use n_jobs instead.nthread is deprecated.\n",
      "  'nthread is deprecated.', DeprecationWarning)\n"
     ]
    },
    {
     "name": "stdout",
     "output_type": "stream",
     "text": [
      "\n",
      "[CV] subsample=1.0, colsample_bytree=0.7 .............................\n",
      "[CV]  subsample=1.0, colsample_bytree=0.7, score=0.892967, total=   0.0s\n",
      "[CV] subsample=1.0, colsample_bytree=0.7 .............................\n",
      "[CV]  subsample=1.0, colsample_bytree=0.7, score=0.903215, total=   0.0s\n",
      "[CV] subsample=0.5, colsample_bytree=0.8 .............................\n"
     ]
    },
    {
     "name": "stderr",
     "output_type": "stream",
     "text": [
      "c:\\users\\artem\\anaconda3\\envs\\lasagne2.7\\lib\\site-packages\\xgboost-0.6-py2.7.egg\\xgboost\\sklearn.py:171: DeprecationWarning: The nthread parameter is deprecated as of version .6.Please use n_jobs instead.nthread is deprecated.\n",
      "  'nthread is deprecated.', DeprecationWarning)\n",
      "c:\\users\\artem\\anaconda3\\envs\\lasagne2.7\\lib\\site-packages\\xgboost-0.6-py2.7.egg\\xgboost\\sklearn.py:171: DeprecationWarning: The nthread parameter is deprecated as of version .6.Please use n_jobs instead.nthread is deprecated.\n",
      "  'nthread is deprecated.', DeprecationWarning)\n",
      "c:\\users\\artem\\anaconda3\\envs\\lasagne2.7\\lib\\site-packages\\xgboost-0.6-py2.7.egg\\xgboost\\sklearn.py:171: DeprecationWarning: The nthread parameter is deprecated as of version .6.Please use n_jobs instead.nthread is deprecated.\n",
      "  'nthread is deprecated.', DeprecationWarning)\n"
     ]
    },
    {
     "name": "stdout",
     "output_type": "stream",
     "text": [
      "[CV]  subsample=0.5, colsample_bytree=0.8, score=0.870862, total=   0.0s\n",
      "[CV] subsample=0.5, colsample_bytree=0.8 .............................\n",
      "[CV]  subsample=0.5, colsample_bytree=0.8, score=0.822251, total=   0.0s\n",
      "[CV] subsample=0.5, colsample_bytree=0.8 .............................\n",
      "[CV]  subsample=0.5, colsample_bytree=0.8, score=0.897315, total=   0.0s"
     ]
    },
    {
     "name": "stderr",
     "output_type": "stream",
     "text": [
      "c:\\users\\artem\\anaconda3\\envs\\lasagne2.7\\lib\\site-packages\\xgboost-0.6-py2.7.egg\\xgboost\\sklearn.py:171: DeprecationWarning: The nthread parameter is deprecated as of version .6.Please use n_jobs instead.nthread is deprecated.\n",
      "  'nthread is deprecated.', DeprecationWarning)\n",
      "c:\\users\\artem\\anaconda3\\envs\\lasagne2.7\\lib\\site-packages\\xgboost-0.6-py2.7.egg\\xgboost\\sklearn.py:171: DeprecationWarning: The nthread parameter is deprecated as of version .6.Please use n_jobs instead.nthread is deprecated.\n",
      "  'nthread is deprecated.', DeprecationWarning)\n",
      "c:\\users\\artem\\anaconda3\\envs\\lasagne2.7\\lib\\site-packages\\xgboost-0.6-py2.7.egg\\xgboost\\sklearn.py:171: DeprecationWarning: The nthread parameter is deprecated as of version .6.Please use n_jobs instead.nthread is deprecated.\n",
      "  'nthread is deprecated.', DeprecationWarning)\n"
     ]
    },
    {
     "name": "stdout",
     "output_type": "stream",
     "text": [
      "\n",
      "[CV] subsample=0.5, colsample_bytree=0.8 .............................\n",
      "[CV]  subsample=0.5, colsample_bytree=0.8, score=0.909114, total=   0.0s\n",
      "[CV] subsample=0.6, colsample_bytree=0.8 .............................\n",
      "[CV]  subsample=0.6, colsample_bytree=0.8, score=0.876294, total=   0.0s\n",
      "[CV] subsample=0.6, colsample_bytree=0.8 .............................\n"
     ]
    },
    {
     "name": "stderr",
     "output_type": "stream",
     "text": [
      "c:\\users\\artem\\anaconda3\\envs\\lasagne2.7\\lib\\site-packages\\xgboost-0.6-py2.7.egg\\xgboost\\sklearn.py:171: DeprecationWarning: The nthread parameter is deprecated as of version .6.Please use n_jobs instead.nthread is deprecated.\n",
      "  'nthread is deprecated.', DeprecationWarning)\n",
      "c:\\users\\artem\\anaconda3\\envs\\lasagne2.7\\lib\\site-packages\\xgboost-0.6-py2.7.egg\\xgboost\\sklearn.py:171: DeprecationWarning: The nthread parameter is deprecated as of version .6.Please use n_jobs instead.nthread is deprecated.\n",
      "  'nthread is deprecated.', DeprecationWarning)\n",
      "c:\\users\\artem\\anaconda3\\envs\\lasagne2.7\\lib\\site-packages\\xgboost-0.6-py2.7.egg\\xgboost\\sklearn.py:171: DeprecationWarning: The nthread parameter is deprecated as of version .6.Please use n_jobs instead.nthread is deprecated.\n",
      "  'nthread is deprecated.', DeprecationWarning)\n"
     ]
    },
    {
     "name": "stdout",
     "output_type": "stream",
     "text": [
      "[CV]  subsample=0.6, colsample_bytree=0.8, score=0.822592, total=   0.0s\n",
      "[CV] subsample=0.6, colsample_bytree=0.8 .............................\n",
      "[CV]  subsample=0.6, colsample_bytree=0.8, score=0.902728, total=   0.0s\n",
      "[CV] subsample=0.6, colsample_bytree=0.8 .............................\n",
      "[CV]  subsample=0.6, colsample_bytree=0.8, score=0.902873, total=   0.0s\n",
      "[CV] subsample=0.7, colsample_bytree=0.8 .............................\n"
     ]
    },
    {
     "name": "stderr",
     "output_type": "stream",
     "text": [
      "c:\\users\\artem\\anaconda3\\envs\\lasagne2.7\\lib\\site-packages\\xgboost-0.6-py2.7.egg\\xgboost\\sklearn.py:171: DeprecationWarning: The nthread parameter is deprecated as of version .6.Please use n_jobs instead.nthread is deprecated.\n",
      "  'nthread is deprecated.', DeprecationWarning)\n",
      "c:\\users\\artem\\anaconda3\\envs\\lasagne2.7\\lib\\site-packages\\xgboost-0.6-py2.7.egg\\xgboost\\sklearn.py:171: DeprecationWarning: The nthread parameter is deprecated as of version .6.Please use n_jobs instead.nthread is deprecated.\n",
      "  'nthread is deprecated.', DeprecationWarning)\n",
      "c:\\users\\artem\\anaconda3\\envs\\lasagne2.7\\lib\\site-packages\\xgboost-0.6-py2.7.egg\\xgboost\\sklearn.py:171: DeprecationWarning: The nthread parameter is deprecated as of version .6.Please use n_jobs instead.nthread is deprecated.\n",
      "  'nthread is deprecated.', DeprecationWarning)\n"
     ]
    },
    {
     "name": "stdout",
     "output_type": "stream",
     "text": [
      "[CV]  subsample=0.7, colsample_bytree=0.8, score=0.866576, total=   0.0s\n",
      "[CV] subsample=0.7, colsample_bytree=0.8 .............................\n",
      "[CV]  subsample=0.7, colsample_bytree=0.8, score=0.820801, total=   0.0s\n",
      "[CV] subsample=0.7, colsample_bytree=0.8 .............................\n",
      "[CV]  subsample=0.7, colsample_bytree=0.8, score=0.903495, total=   0.0s\n",
      "[CV] subsample=0.7, colsample_bytree=0.8 .............................\n"
     ]
    },
    {
     "name": "stderr",
     "output_type": "stream",
     "text": [
      "c:\\users\\artem\\anaconda3\\envs\\lasagne2.7\\lib\\site-packages\\xgboost-0.6-py2.7.egg\\xgboost\\sklearn.py:171: DeprecationWarning: The nthread parameter is deprecated as of version .6.Please use n_jobs instead.nthread is deprecated.\n",
      "  'nthread is deprecated.', DeprecationWarning)\n",
      "c:\\users\\artem\\anaconda3\\envs\\lasagne2.7\\lib\\site-packages\\xgboost-0.6-py2.7.egg\\xgboost\\sklearn.py:171: DeprecationWarning: The nthread parameter is deprecated as of version .6.Please use n_jobs instead.nthread is deprecated.\n",
      "  'nthread is deprecated.', DeprecationWarning)\n",
      "c:\\users\\artem\\anaconda3\\envs\\lasagne2.7\\lib\\site-packages\\xgboost-0.6-py2.7.egg\\xgboost\\sklearn.py:171: DeprecationWarning: The nthread parameter is deprecated as of version .6.Please use n_jobs instead.nthread is deprecated.\n",
      "  'nthread is deprecated.', DeprecationWarning)\n"
     ]
    },
    {
     "name": "stdout",
     "output_type": "stream",
     "text": [
      "[CV]  subsample=0.7, colsample_bytree=0.8, score=0.903685, total=   0.0s\n",
      "[CV] subsample=0.8, colsample_bytree=0.8 .............................\n",
      "[CV]  subsample=0.8, colsample_bytree=0.8, score=0.869674, total=   0.0s\n",
      "[CV] subsample=0.8, colsample_bytree=0.8 .............................\n",
      "[CV]  subsample=0.8, colsample_bytree=0.8, score=0.816155, total=   0.0s\n",
      "[CV] subsample=0.8, colsample_bytree=0.8 .............................\n"
     ]
    },
    {
     "name": "stderr",
     "output_type": "stream",
     "text": [
      "c:\\users\\artem\\anaconda3\\envs\\lasagne2.7\\lib\\site-packages\\xgboost-0.6-py2.7.egg\\xgboost\\sklearn.py:171: DeprecationWarning: The nthread parameter is deprecated as of version .6.Please use n_jobs instead.nthread is deprecated.\n",
      "  'nthread is deprecated.', DeprecationWarning)\n",
      "c:\\users\\artem\\anaconda3\\envs\\lasagne2.7\\lib\\site-packages\\xgboost-0.6-py2.7.egg\\xgboost\\sklearn.py:171: DeprecationWarning: The nthread parameter is deprecated as of version .6.Please use n_jobs instead.nthread is deprecated.\n",
      "  'nthread is deprecated.', DeprecationWarning)\n",
      "c:\\users\\artem\\anaconda3\\envs\\lasagne2.7\\lib\\site-packages\\xgboost-0.6-py2.7.egg\\xgboost\\sklearn.py:171: DeprecationWarning: The nthread parameter is deprecated as of version .6.Please use n_jobs instead.nthread is deprecated.\n",
      "  'nthread is deprecated.', DeprecationWarning)\n"
     ]
    },
    {
     "name": "stdout",
     "output_type": "stream",
     "text": [
      "[CV]  subsample=0.8, colsample_bytree=0.8, score=0.900767, total=   0.0s\n",
      "[CV] subsample=0.8, colsample_bytree=0.8 .............................\n",
      "[CV]  subsample=0.8, colsample_bytree=0.8, score=0.900308, total=   0.0s\n",
      "[CV] subsample=0.9, colsample_bytree=0.8 .............................\n",
      "[CV]  subsample=0.9, colsample_bytree=0.8, score=0.871075, total=   0.0s\n",
      "[CV] subsample=0.9, colsample_bytree=0.8 .............................\n"
     ]
    },
    {
     "name": "stderr",
     "output_type": "stream",
     "text": [
      "c:\\users\\artem\\anaconda3\\envs\\lasagne2.7\\lib\\site-packages\\xgboost-0.6-py2.7.egg\\xgboost\\sklearn.py:171: DeprecationWarning: The nthread parameter is deprecated as of version .6.Please use n_jobs instead.nthread is deprecated.\n",
      "  'nthread is deprecated.', DeprecationWarning)\n",
      "c:\\users\\artem\\anaconda3\\envs\\lasagne2.7\\lib\\site-packages\\xgboost-0.6-py2.7.egg\\xgboost\\sklearn.py:171: DeprecationWarning: The nthread parameter is deprecated as of version .6.Please use n_jobs instead.nthread is deprecated.\n",
      "  'nthread is deprecated.', DeprecationWarning)\n",
      "c:\\users\\artem\\anaconda3\\envs\\lasagne2.7\\lib\\site-packages\\xgboost-0.6-py2.7.egg\\xgboost\\sklearn.py:171: DeprecationWarning: The nthread parameter is deprecated as of version .6.Please use n_jobs instead.nthread is deprecated.\n",
      "  'nthread is deprecated.', DeprecationWarning)\n"
     ]
    },
    {
     "name": "stdout",
     "output_type": "stream",
     "text": [
      "[CV]  subsample=0.9, colsample_bytree=0.8, score=0.812532, total=   0.0s\n",
      "[CV] subsample=0.9, colsample_bytree=0.8 .............................\n",
      "[CV]  subsample=0.9, colsample_bytree=0.8, score=0.902344, total=   0.0s\n",
      "[CV] subsample=0.9, colsample_bytree=0.8 .............................\n",
      "[CV]  subsample=0.9, colsample_bytree=0.8, score=0.902317, total=   0.0s\n",
      "[CV] subsample=1.0, colsample_bytree=0.8 .............................\n",
      "[CV]  subsample=1.0, colsample_bytree=0.8, score=0.864115, total=   0.0s\n",
      "[CV] subsample=1.0, colsample_bytree=0.8 .............................\n"
     ]
    },
    {
     "name": "stderr",
     "output_type": "stream",
     "text": [
      "c:\\users\\artem\\anaconda3\\envs\\lasagne2.7\\lib\\site-packages\\xgboost-0.6-py2.7.egg\\xgboost\\sklearn.py:171: DeprecationWarning: The nthread parameter is deprecated as of version .6.Please use n_jobs instead.nthread is deprecated.\n",
      "  'nthread is deprecated.', DeprecationWarning)\n",
      "c:\\users\\artem\\anaconda3\\envs\\lasagne2.7\\lib\\site-packages\\xgboost-0.6-py2.7.egg\\xgboost\\sklearn.py:171: DeprecationWarning: The nthread parameter is deprecated as of version .6.Please use n_jobs instead.nthread is deprecated.\n",
      "  'nthread is deprecated.', DeprecationWarning)\n"
     ]
    },
    {
     "name": "stdout",
     "output_type": "stream",
     "text": [
      "[CV]  subsample=1.0, colsample_bytree=0.8, score=0.814408, total=   0.0s\n",
      "[CV] subsample=1.0, colsample_bytree=0.8 .............................\n",
      "[CV]  subsample=1.0, colsample_bytree=0.8, score=0.895865, total=   0.0s\n",
      "[CV] subsample=1.0, colsample_bytree=0.8 .............................\n",
      "[CV]  subsample=1.0, colsample_bytree=0.8, score=0.900864, total=   0.0s\n",
      "[CV] subsample=0.5, colsample_bytree=0.9 .............................\n"
     ]
    },
    {
     "name": "stderr",
     "output_type": "stream",
     "text": [
      "c:\\users\\artem\\anaconda3\\envs\\lasagne2.7\\lib\\site-packages\\xgboost-0.6-py2.7.egg\\xgboost\\sklearn.py:171: DeprecationWarning: The nthread parameter is deprecated as of version .6.Please use n_jobs instead.nthread is deprecated.\n",
      "  'nthread is deprecated.', DeprecationWarning)\n",
      "c:\\users\\artem\\anaconda3\\envs\\lasagne2.7\\lib\\site-packages\\xgboost-0.6-py2.7.egg\\xgboost\\sklearn.py:171: DeprecationWarning: The nthread parameter is deprecated as of version .6.Please use n_jobs instead.nthread is deprecated.\n",
      "  'nthread is deprecated.', DeprecationWarning)\n",
      "c:\\users\\artem\\anaconda3\\envs\\lasagne2.7\\lib\\site-packages\\xgboost-0.6-py2.7.egg\\xgboost\\sklearn.py:171: DeprecationWarning: The nthread parameter is deprecated as of version .6.Please use n_jobs instead.nthread is deprecated.\n",
      "  'nthread is deprecated.', DeprecationWarning)\n"
     ]
    },
    {
     "name": "stdout",
     "output_type": "stream",
     "text": [
      "[CV]  subsample=0.5, colsample_bytree=0.9, score=0.873791, total=   0.0s\n",
      "[CV] subsample=0.5, colsample_bytree=0.9 .............................\n",
      "[CV]  subsample=0.5, colsample_bytree=0.9, score=0.823231, total=   0.0s\n",
      "[CV] subsample=0.5, colsample_bytree=0.9 .............................\n",
      "[CV]  subsample=0.5, colsample_bytree=0.9, score=0.899531, total=   0.0s\n",
      "[CV] subsample=0.5, colsample_bytree=0.9 .............................\n"
     ]
    },
    {
     "name": "stderr",
     "output_type": "stream",
     "text": [
      "c:\\users\\artem\\anaconda3\\envs\\lasagne2.7\\lib\\site-packages\\xgboost-0.6-py2.7.egg\\xgboost\\sklearn.py:171: DeprecationWarning: The nthread parameter is deprecated as of version .6.Please use n_jobs instead.nthread is deprecated.\n",
      "  'nthread is deprecated.', DeprecationWarning)\n",
      "c:\\users\\artem\\anaconda3\\envs\\lasagne2.7\\lib\\site-packages\\xgboost-0.6-py2.7.egg\\xgboost\\sklearn.py:171: DeprecationWarning: The nthread parameter is deprecated as of version .6.Please use n_jobs instead.nthread is deprecated.\n",
      "  'nthread is deprecated.', DeprecationWarning)\n",
      "c:\\users\\artem\\anaconda3\\envs\\lasagne2.7\\lib\\site-packages\\xgboost-0.6-py2.7.egg\\xgboost\\sklearn.py:171: DeprecationWarning: The nthread parameter is deprecated as of version .6.Please use n_jobs instead.nthread is deprecated.\n",
      "  'nthread is deprecated.', DeprecationWarning)\n"
     ]
    },
    {
     "name": "stdout",
     "output_type": "stream",
     "text": [
      "[CV]  subsample=0.5, colsample_bytree=0.9, score=0.902873, total=   0.0s\n",
      "[CV] subsample=0.6, colsample_bytree=0.9 .............................\n",
      "[CV]  subsample=0.6, colsample_bytree=0.9, score=0.879774, total=   0.0s\n",
      "[CV] subsample=0.6, colsample_bytree=0.9 .............................\n",
      "[CV]  subsample=0.6, colsample_bytree=0.9, score=0.823274, total=   0.0s\n",
      "[CV] subsample=0.6, colsample_bytree=0.9 .............................\n",
      "[CV]  subsample=0.6, colsample_bytree=0.9, score=0.901108, total=   0.0s\n",
      "[CV] subsample=0.6, colsample_bytree=0.9 .............................\n"
     ]
    },
    {
     "name": "stderr",
     "output_type": "stream",
     "text": [
      "c:\\users\\artem\\anaconda3\\envs\\lasagne2.7\\lib\\site-packages\\xgboost-0.6-py2.7.egg\\xgboost\\sklearn.py:171: DeprecationWarning: The nthread parameter is deprecated as of version .6.Please use n_jobs instead.nthread is deprecated.\n",
      "  'nthread is deprecated.', DeprecationWarning)\n",
      "c:\\users\\artem\\anaconda3\\envs\\lasagne2.7\\lib\\site-packages\\xgboost-0.6-py2.7.egg\\xgboost\\sklearn.py:171: DeprecationWarning: The nthread parameter is deprecated as of version .6.Please use n_jobs instead.nthread is deprecated.\n",
      "  'nthread is deprecated.', DeprecationWarning)\n",
      "c:\\users\\artem\\anaconda3\\envs\\lasagne2.7\\lib\\site-packages\\xgboost-0.6-py2.7.egg\\xgboost\\sklearn.py:171: DeprecationWarning: The nthread parameter is deprecated as of version .6.Please use n_jobs instead.nthread is deprecated.\n",
      "  'nthread is deprecated.', DeprecationWarning)\n",
      "c:\\users\\artem\\anaconda3\\envs\\lasagne2.7\\lib\\site-packages\\xgboost-0.6-py2.7.egg\\xgboost\\sklearn.py:171: DeprecationWarning: The nthread parameter is deprecated as of version .6.Please use n_jobs instead.nthread is deprecated.\n",
      "  'nthread is deprecated.', DeprecationWarning)\n"
     ]
    },
    {
     "name": "stdout",
     "output_type": "stream",
     "text": [
      "[CV]  subsample=0.6, colsample_bytree=0.9, score=0.904583, total=   0.0s\n",
      "[CV] subsample=0.7, colsample_bytree=0.9 .............................\n",
      "[CV]  subsample=0.7, colsample_bytree=0.9, score=0.869504, total=   0.0s\n",
      "[CV] subsample=0.7, colsample_bytree=0.9 .............................\n",
      "[CV]  subsample=0.7, colsample_bytree=0.9, score=0.824297, total=   0.0s\n",
      "[CV] subsample=0.7, colsample_bytree=0.9 .............................\n",
      "[CV]  subsample=0.7, colsample_bytree=0.9, score=0.901790, total=   0.0s"
     ]
    },
    {
     "name": "stderr",
     "output_type": "stream",
     "text": [
      "c:\\users\\artem\\anaconda3\\envs\\lasagne2.7\\lib\\site-packages\\xgboost-0.6-py2.7.egg\\xgboost\\sklearn.py:171: DeprecationWarning: The nthread parameter is deprecated as of version .6.Please use n_jobs instead.nthread is deprecated.\n",
      "  'nthread is deprecated.', DeprecationWarning)\n",
      "c:\\users\\artem\\anaconda3\\envs\\lasagne2.7\\lib\\site-packages\\xgboost-0.6-py2.7.egg\\xgboost\\sklearn.py:171: DeprecationWarning: The nthread parameter is deprecated as of version .6.Please use n_jobs instead.nthread is deprecated.\n",
      "  'nthread is deprecated.', DeprecationWarning)\n",
      "c:\\users\\artem\\anaconda3\\envs\\lasagne2.7\\lib\\site-packages\\xgboost-0.6-py2.7.egg\\xgboost\\sklearn.py:171: DeprecationWarning: The nthread parameter is deprecated as of version .6.Please use n_jobs instead.nthread is deprecated.\n",
      "  'nthread is deprecated.', DeprecationWarning)\n",
      "c:\\users\\artem\\anaconda3\\envs\\lasagne2.7\\lib\\site-packages\\xgboost-0.6-py2.7.egg\\xgboost\\sklearn.py:171: DeprecationWarning: The nthread parameter is deprecated as of version .6.Please use n_jobs instead.nthread is deprecated.\n",
      "  'nthread is deprecated.', DeprecationWarning)\n",
      "c:\\users\\artem\\anaconda3\\envs\\lasagne2.7\\lib\\site-packages\\xgboost-0.6-py2.7.egg\\xgboost\\sklearn.py:171: DeprecationWarning: The nthread parameter is deprecated as of version .6.Please use n_jobs instead.nthread is deprecated.\n",
      "  'nthread is deprecated.', DeprecationWarning)\n",
      "c:\\users\\artem\\anaconda3\\envs\\lasagne2.7\\lib\\site-packages\\xgboost-0.6-py2.7.egg\\xgboost\\sklearn.py:171: DeprecationWarning: The nthread parameter is deprecated as of version .6.Please use n_jobs instead.nthread is deprecated.\n",
      "  'nthread is deprecated.', DeprecationWarning)\n"
     ]
    },
    {
     "name": "stdout",
     "output_type": "stream",
     "text": [
      "\n",
      "[CV] subsample=0.7, colsample_bytree=0.9 .............................\n",
      "[CV]  subsample=0.7, colsample_bytree=0.9, score=0.901804, total=   0.0s\n",
      "[CV] subsample=0.8, colsample_bytree=0.9 .............................\n",
      "[CV]  subsample=0.8, colsample_bytree=0.9, score=0.872475, total=   0.0s\n",
      "[CV] subsample=0.8, colsample_bytree=0.9 .............................\n",
      "[CV]  subsample=0.8, colsample_bytree=0.9, score=0.817221, total=   0.0s\n",
      "[CV] subsample=0.8, colsample_bytree=0.9 .............................\n",
      "[CV]  subsample=0.8, colsample_bytree=0.9, score=0.902259, total=   0.0s\n",
      "[CV] subsample=0.8, colsample_bytree=0.9 .............................\n",
      "[CV]  subsample=0.8, colsample_bytree=0.9, score=0.899709, total=   0.0s\n",
      "[CV] subsample=0.9, colsample_bytree=0.9 .............................\n"
     ]
    },
    {
     "name": "stderr",
     "output_type": "stream",
     "text": [
      "c:\\users\\artem\\anaconda3\\envs\\lasagne2.7\\lib\\site-packages\\xgboost-0.6-py2.7.egg\\xgboost\\sklearn.py:171: DeprecationWarning: The nthread parameter is deprecated as of version .6.Please use n_jobs instead.nthread is deprecated.\n",
      "  'nthread is deprecated.', DeprecationWarning)\n",
      "c:\\users\\artem\\anaconda3\\envs\\lasagne2.7\\lib\\site-packages\\xgboost-0.6-py2.7.egg\\xgboost\\sklearn.py:171: DeprecationWarning: The nthread parameter is deprecated as of version .6.Please use n_jobs instead.nthread is deprecated.\n",
      "  'nthread is deprecated.', DeprecationWarning)\n",
      "c:\\users\\artem\\anaconda3\\envs\\lasagne2.7\\lib\\site-packages\\xgboost-0.6-py2.7.egg\\xgboost\\sklearn.py:171: DeprecationWarning: The nthread parameter is deprecated as of version .6.Please use n_jobs instead.nthread is deprecated.\n",
      "  'nthread is deprecated.', DeprecationWarning)\n"
     ]
    },
    {
     "name": "stdout",
     "output_type": "stream",
     "text": [
      "[CV]  subsample=0.9, colsample_bytree=0.9, score=0.877355, total=   0.0s\n",
      "[CV] subsample=0.9, colsample_bytree=0.9 .............................\n",
      "[CV]  subsample=0.9, colsample_bytree=0.9, score=0.817050, total=   0.0s\n",
      "[CV] subsample=0.9, colsample_bytree=0.9 .............................\n",
      "[CV]  subsample=0.9, colsample_bytree=0.9, score=0.901194, total=   0.0s\n",
      "[CV] subsample=0.9, colsample_bytree=0.9 .............................\n"
     ]
    },
    {
     "name": "stderr",
     "output_type": "stream",
     "text": [
      "c:\\users\\artem\\anaconda3\\envs\\lasagne2.7\\lib\\site-packages\\xgboost-0.6-py2.7.egg\\xgboost\\sklearn.py:171: DeprecationWarning: The nthread parameter is deprecated as of version .6.Please use n_jobs instead.nthread is deprecated.\n",
      "  'nthread is deprecated.', DeprecationWarning)\n",
      "c:\\users\\artem\\anaconda3\\envs\\lasagne2.7\\lib\\site-packages\\xgboost-0.6-py2.7.egg\\xgboost\\sklearn.py:171: DeprecationWarning: The nthread parameter is deprecated as of version .6.Please use n_jobs instead.nthread is deprecated.\n",
      "  'nthread is deprecated.', DeprecationWarning)\n",
      "c:\\users\\artem\\anaconda3\\envs\\lasagne2.7\\lib\\site-packages\\xgboost-0.6-py2.7.egg\\xgboost\\sklearn.py:171: DeprecationWarning: The nthread parameter is deprecated as of version .6.Please use n_jobs instead.nthread is deprecated.\n",
      "  'nthread is deprecated.', DeprecationWarning)\n"
     ]
    },
    {
     "name": "stdout",
     "output_type": "stream",
     "text": [
      "[CV]  subsample=0.9, colsample_bytree=0.9, score=0.898427, total=   0.0s\n",
      "[CV] subsample=1.0, colsample_bytree=0.9 .............................\n",
      "[CV]  subsample=1.0, colsample_bytree=0.9, score=0.868953, total=   0.0s\n",
      "[CV] subsample=1.0, colsample_bytree=0.9 .............................\n",
      "[CV]  subsample=1.0, colsample_bytree=0.9, score=0.817391, total=   0.0s\n",
      "[CV] subsample=1.0, colsample_bytree=0.9 .............................\n"
     ]
    },
    {
     "name": "stderr",
     "output_type": "stream",
     "text": [
      "c:\\users\\artem\\anaconda3\\envs\\lasagne2.7\\lib\\site-packages\\xgboost-0.6-py2.7.egg\\xgboost\\sklearn.py:171: DeprecationWarning: The nthread parameter is deprecated as of version .6.Please use n_jobs instead.nthread is deprecated.\n",
      "  'nthread is deprecated.', DeprecationWarning)\n",
      "c:\\users\\artem\\anaconda3\\envs\\lasagne2.7\\lib\\site-packages\\xgboost-0.6-py2.7.egg\\xgboost\\sklearn.py:171: DeprecationWarning: The nthread parameter is deprecated as of version .6.Please use n_jobs instead.nthread is deprecated.\n",
      "  'nthread is deprecated.', DeprecationWarning)\n",
      "c:\\users\\artem\\anaconda3\\envs\\lasagne2.7\\lib\\site-packages\\xgboost-0.6-py2.7.egg\\xgboost\\sklearn.py:171: DeprecationWarning: The nthread parameter is deprecated as of version .6.Please use n_jobs instead.nthread is deprecated.\n",
      "  'nthread is deprecated.', DeprecationWarning)\n"
     ]
    },
    {
     "name": "stdout",
     "output_type": "stream",
     "text": [
      "[CV]  subsample=1.0, colsample_bytree=0.9, score=0.896931, total=   0.0s\n",
      "[CV] subsample=1.0, colsample_bytree=0.9 .............................\n",
      "[CV]  subsample=1.0, colsample_bytree=0.9, score=0.897401, total=   0.0s\n",
      "[CV] subsample=0.5, colsample_bytree=1.0 .............................\n",
      "[CV]  subsample=0.5, colsample_bytree=1.0, score=0.869165, total=   0.0s\n",
      "[CV] subsample=0.5, colsample_bytree=1.0 .............................\n"
     ]
    },
    {
     "name": "stderr",
     "output_type": "stream",
     "text": [
      "c:\\users\\artem\\anaconda3\\envs\\lasagne2.7\\lib\\site-packages\\xgboost-0.6-py2.7.egg\\xgboost\\sklearn.py:171: DeprecationWarning: The nthread parameter is deprecated as of version .6.Please use n_jobs instead.nthread is deprecated.\n",
      "  'nthread is deprecated.', DeprecationWarning)\n",
      "c:\\users\\artem\\anaconda3\\envs\\lasagne2.7\\lib\\site-packages\\xgboost-0.6-py2.7.egg\\xgboost\\sklearn.py:171: DeprecationWarning: The nthread parameter is deprecated as of version .6.Please use n_jobs instead.nthread is deprecated.\n",
      "  'nthread is deprecated.', DeprecationWarning)\n",
      "c:\\users\\artem\\anaconda3\\envs\\lasagne2.7\\lib\\site-packages\\xgboost-0.6-py2.7.egg\\xgboost\\sklearn.py:171: DeprecationWarning: The nthread parameter is deprecated as of version .6.Please use n_jobs instead.nthread is deprecated.\n",
      "  'nthread is deprecated.', DeprecationWarning)\n"
     ]
    },
    {
     "name": "stdout",
     "output_type": "stream",
     "text": [
      "[CV]  subsample=0.5, colsample_bytree=1.0, score=0.826556, total=   0.0s\n",
      "[CV] subsample=0.5, colsample_bytree=1.0 .............................\n",
      "[CV]  subsample=0.5, colsample_bytree=1.0, score=0.896803, total=   0.0s\n",
      "[CV] subsample=0.5, colsample_bytree=1.0 .............................\n",
      "[CV]  subsample=0.5, colsample_bytree=1.0, score=0.904412, total=   0.0s\n",
      "[CV] subsample=0.6, colsample_bytree=1.0 .............................\n"
     ]
    },
    {
     "name": "stderr",
     "output_type": "stream",
     "text": [
      "c:\\users\\artem\\anaconda3\\envs\\lasagne2.7\\lib\\site-packages\\xgboost-0.6-py2.7.egg\\xgboost\\sklearn.py:171: DeprecationWarning: The nthread parameter is deprecated as of version .6.Please use n_jobs instead.nthread is deprecated.\n",
      "  'nthread is deprecated.', DeprecationWarning)\n",
      "c:\\users\\artem\\anaconda3\\envs\\lasagne2.7\\lib\\site-packages\\xgboost-0.6-py2.7.egg\\xgboost\\sklearn.py:171: DeprecationWarning: The nthread parameter is deprecated as of version .6.Please use n_jobs instead.nthread is deprecated.\n",
      "  'nthread is deprecated.', DeprecationWarning)\n",
      "c:\\users\\artem\\anaconda3\\envs\\lasagne2.7\\lib\\site-packages\\xgboost-0.6-py2.7.egg\\xgboost\\sklearn.py:171: DeprecationWarning: The nthread parameter is deprecated as of version .6.Please use n_jobs instead.nthread is deprecated.\n",
      "  'nthread is deprecated.', DeprecationWarning)\n"
     ]
    },
    {
     "name": "stdout",
     "output_type": "stream",
     "text": [
      "[CV]  subsample=0.6, colsample_bytree=1.0, score=0.878416, total=   0.0s\n",
      "[CV] subsample=0.6, colsample_bytree=1.0 .............................\n",
      "[CV]  subsample=0.6, colsample_bytree=1.0, score=0.825064, total=   0.0s\n",
      "[CV] subsample=0.6, colsample_bytree=1.0 .............................\n",
      "[CV]  subsample=0.6, colsample_bytree=1.0, score=0.907332, total=   0.0s\n",
      "[CV] subsample=0.6, colsample_bytree=1.0 .............................\n"
     ]
    },
    {
     "name": "stderr",
     "output_type": "stream",
     "text": [
      "c:\\users\\artem\\anaconda3\\envs\\lasagne2.7\\lib\\site-packages\\xgboost-0.6-py2.7.egg\\xgboost\\sklearn.py:171: DeprecationWarning: The nthread parameter is deprecated as of version .6.Please use n_jobs instead.nthread is deprecated.\n",
      "  'nthread is deprecated.', DeprecationWarning)\n",
      "c:\\users\\artem\\anaconda3\\envs\\lasagne2.7\\lib\\site-packages\\xgboost-0.6-py2.7.egg\\xgboost\\sklearn.py:171: DeprecationWarning: The nthread parameter is deprecated as of version .6.Please use n_jobs instead.nthread is deprecated.\n",
      "  'nthread is deprecated.', DeprecationWarning)\n",
      "c:\\users\\artem\\anaconda3\\envs\\lasagne2.7\\lib\\site-packages\\xgboost-0.6-py2.7.egg\\xgboost\\sklearn.py:171: DeprecationWarning: The nthread parameter is deprecated as of version .6.Please use n_jobs instead.nthread is deprecated.\n",
      "  'nthread is deprecated.', DeprecationWarning)\n"
     ]
    },
    {
     "name": "stdout",
     "output_type": "stream",
     "text": [
      "[CV]  subsample=0.6, colsample_bytree=1.0, score=0.897615, total=   0.0s\n",
      "[CV] subsample=0.7, colsample_bytree=1.0 .............................\n",
      "[CV]  subsample=0.7, colsample_bytree=1.0, score=0.865218, total=   0.0s\n",
      "[CV] subsample=0.7, colsample_bytree=1.0 .............................\n",
      "[CV]  subsample=0.7, colsample_bytree=1.0, score=0.827920, total=   0.0s\n",
      "[CV] subsample=0.7, colsample_bytree=1.0 .............................\n",
      "[CV]  subsample=0.7, colsample_bytree=1.0, score=0.900938, total=   0.0s\n"
     ]
    },
    {
     "name": "stderr",
     "output_type": "stream",
     "text": [
      "c:\\users\\artem\\anaconda3\\envs\\lasagne2.7\\lib\\site-packages\\xgboost-0.6-py2.7.egg\\xgboost\\sklearn.py:171: DeprecationWarning: The nthread parameter is deprecated as of version .6.Please use n_jobs instead.nthread is deprecated.\n",
      "  'nthread is deprecated.', DeprecationWarning)\n",
      "c:\\users\\artem\\anaconda3\\envs\\lasagne2.7\\lib\\site-packages\\xgboost-0.6-py2.7.egg\\xgboost\\sklearn.py:171: DeprecationWarning: The nthread parameter is deprecated as of version .6.Please use n_jobs instead.nthread is deprecated.\n",
      "  'nthread is deprecated.', DeprecationWarning)\n",
      "c:\\users\\artem\\anaconda3\\envs\\lasagne2.7\\lib\\site-packages\\xgboost-0.6-py2.7.egg\\xgboost\\sklearn.py:171: DeprecationWarning: The nthread parameter is deprecated as of version .6.Please use n_jobs instead.nthread is deprecated.\n",
      "  'nthread is deprecated.', DeprecationWarning)\n",
      "c:\\users\\artem\\anaconda3\\envs\\lasagne2.7\\lib\\site-packages\\xgboost-0.6-py2.7.egg\\xgboost\\sklearn.py:171: DeprecationWarning: The nthread parameter is deprecated as of version .6.Please use n_jobs instead.nthread is deprecated.\n",
      "  'nthread is deprecated.', DeprecationWarning)\n"
     ]
    },
    {
     "name": "stdout",
     "output_type": "stream",
     "text": [
      "[CV] subsample=0.7, colsample_bytree=1.0 .............................\n",
      "[CV]  subsample=0.7, colsample_bytree=1.0, score=0.899496, total=   0.0s\n",
      "[CV] subsample=0.8, colsample_bytree=1.0 .............................\n",
      "[CV]  subsample=0.8, colsample_bytree=1.0, score=0.867934, total=   0.0s\n",
      "[CV] subsample=0.8, colsample_bytree=1.0 .............................\n"
     ]
    },
    {
     "name": "stderr",
     "output_type": "stream",
     "text": [
      "c:\\users\\artem\\anaconda3\\envs\\lasagne2.7\\lib\\site-packages\\xgboost-0.6-py2.7.egg\\xgboost\\sklearn.py:171: DeprecationWarning: The nthread parameter is deprecated as of version .6.Please use n_jobs instead.nthread is deprecated.\n",
      "  'nthread is deprecated.', DeprecationWarning)\n",
      "c:\\users\\artem\\anaconda3\\envs\\lasagne2.7\\lib\\site-packages\\xgboost-0.6-py2.7.egg\\xgboost\\sklearn.py:171: DeprecationWarning: The nthread parameter is deprecated as of version .6.Please use n_jobs instead.nthread is deprecated.\n",
      "  'nthread is deprecated.', DeprecationWarning)\n",
      "c:\\users\\artem\\anaconda3\\envs\\lasagne2.7\\lib\\site-packages\\xgboost-0.6-py2.7.egg\\xgboost\\sklearn.py:171: DeprecationWarning: The nthread parameter is deprecated as of version .6.Please use n_jobs instead.nthread is deprecated.\n",
      "  'nthread is deprecated.', DeprecationWarning)\n"
     ]
    },
    {
     "name": "stdout",
     "output_type": "stream",
     "text": [
      "[CV]  subsample=0.8, colsample_bytree=1.0, score=0.825277, total=   0.0s\n",
      "[CV] subsample=0.8, colsample_bytree=1.0 .............................\n",
      "[CV]  subsample=0.8, colsample_bytree=1.0, score=0.899574, total=   0.0s\n",
      "[CV] subsample=0.8, colsample_bytree=1.0 .............................\n",
      "[CV]  subsample=0.8, colsample_bytree=1.0, score=0.903215, total=   0.0s\n",
      "[CV] subsample=0.9, colsample_bytree=1.0 .............................\n"
     ]
    },
    {
     "name": "stderr",
     "output_type": "stream",
     "text": [
      "c:\\users\\artem\\anaconda3\\envs\\lasagne2.7\\lib\\site-packages\\xgboost-0.6-py2.7.egg\\xgboost\\sklearn.py:171: DeprecationWarning: The nthread parameter is deprecated as of version .6.Please use n_jobs instead.nthread is deprecated.\n",
      "  'nthread is deprecated.', DeprecationWarning)\n",
      "c:\\users\\artem\\anaconda3\\envs\\lasagne2.7\\lib\\site-packages\\xgboost-0.6-py2.7.egg\\xgboost\\sklearn.py:171: DeprecationWarning: The nthread parameter is deprecated as of version .6.Please use n_jobs instead.nthread is deprecated.\n",
      "  'nthread is deprecated.', DeprecationWarning)\n",
      "c:\\users\\artem\\anaconda3\\envs\\lasagne2.7\\lib\\site-packages\\xgboost-0.6-py2.7.egg\\xgboost\\sklearn.py:171: DeprecationWarning: The nthread parameter is deprecated as of version .6.Please use n_jobs instead.nthread is deprecated.\n",
      "  'nthread is deprecated.', DeprecationWarning)\n"
     ]
    },
    {
     "name": "stdout",
     "output_type": "stream",
     "text": [
      "[CV]  subsample=0.9, colsample_bytree=1.0, score=0.870608, total=   0.0s\n",
      "[CV] subsample=0.9, colsample_bytree=1.0 .............................\n",
      "[CV]  subsample=0.9, colsample_bytree=1.0, score=0.817306, total=   0.0s\n",
      "[CV] subsample=0.9, colsample_bytree=1.0 .............................\n",
      "[CV]  subsample=0.9, colsample_bytree=1.0, score=0.900639, total=   0.0s\n",
      "[CV] subsample=0.9, colsample_bytree=1.0 .............................\n"
     ]
    },
    {
     "name": "stderr",
     "output_type": "stream",
     "text": [
      "c:\\users\\artem\\anaconda3\\envs\\lasagne2.7\\lib\\site-packages\\xgboost-0.6-py2.7.egg\\xgboost\\sklearn.py:171: DeprecationWarning: The nthread parameter is deprecated as of version .6.Please use n_jobs instead.nthread is deprecated.\n",
      "  'nthread is deprecated.', DeprecationWarning)\n",
      "c:\\users\\artem\\anaconda3\\envs\\lasagne2.7\\lib\\site-packages\\xgboost-0.6-py2.7.egg\\xgboost\\sklearn.py:171: DeprecationWarning: The nthread parameter is deprecated as of version .6.Please use n_jobs instead.nthread is deprecated.\n",
      "  'nthread is deprecated.', DeprecationWarning)\n",
      "c:\\users\\artem\\anaconda3\\envs\\lasagne2.7\\lib\\site-packages\\xgboost-0.6-py2.7.egg\\xgboost\\sklearn.py:171: DeprecationWarning: The nthread parameter is deprecated as of version .6.Please use n_jobs instead.nthread is deprecated.\n",
      "  'nthread is deprecated.', DeprecationWarning)\n"
     ]
    },
    {
     "name": "stdout",
     "output_type": "stream",
     "text": [
      "[CV]  subsample=0.9, colsample_bytree=1.0, score=0.898683, total=   0.0s\n",
      "[CV] subsample=1.0, colsample_bytree=1.0 .............................\n",
      "[CV]  subsample=1.0, colsample_bytree=1.0, score=0.869207, total=   0.0s\n",
      "[CV] subsample=1.0, colsample_bytree=1.0 .............................\n",
      "[CV]  subsample=1.0, colsample_bytree=1.0, score=0.811978, total=   0.0s\n",
      "[CV] subsample=1.0, colsample_bytree=1.0 .............................\n"
     ]
    },
    {
     "name": "stderr",
     "output_type": "stream",
     "text": [
      "c:\\users\\artem\\anaconda3\\envs\\lasagne2.7\\lib\\site-packages\\xgboost-0.6-py2.7.egg\\xgboost\\sklearn.py:171: DeprecationWarning: The nthread parameter is deprecated as of version .6.Please use n_jobs instead.nthread is deprecated.\n",
      "  'nthread is deprecated.', DeprecationWarning)\n",
      "c:\\users\\artem\\anaconda3\\envs\\lasagne2.7\\lib\\site-packages\\xgboost-0.6-py2.7.egg\\xgboost\\sklearn.py:171: DeprecationWarning: The nthread parameter is deprecated as of version .6.Please use n_jobs instead.nthread is deprecated.\n",
      "  'nthread is deprecated.', DeprecationWarning)\n",
      "c:\\users\\artem\\anaconda3\\envs\\lasagne2.7\\lib\\site-packages\\xgboost-0.6-py2.7.egg\\xgboost\\sklearn.py:171: DeprecationWarning: The nthread parameter is deprecated as of version .6.Please use n_jobs instead.nthread is deprecated.\n",
      "  'nthread is deprecated.', DeprecationWarning)\n"
     ]
    },
    {
     "name": "stdout",
     "output_type": "stream",
     "text": [
      "[CV]  subsample=1.0, colsample_bytree=1.0, score=0.895652, total=   0.0s\n",
      "[CV] subsample=1.0, colsample_bytree=1.0 .............................\n",
      "[CV]  subsample=1.0, colsample_bytree=1.0, score=0.898512, total=   0.0s\n",
      "('Best score (AUC): ', 0.87715398071888762)\n",
      "Best params: \n"
     ]
    },
    {
     "name": "stderr",
     "output_type": "stream",
     "text": [
      "[Parallel(n_jobs=1)]: Done 144 out of 144 | elapsed:   12.5s finished\n",
      "c:\\users\\artem\\anaconda3\\envs\\lasagne2.7\\lib\\site-packages\\xgboost-0.6-py2.7.egg\\xgboost\\sklearn.py:171: DeprecationWarning: The nthread parameter is deprecated as of version .6.Please use n_jobs instead.nthread is deprecated.\n",
      "  'nthread is deprecated.', DeprecationWarning)\n"
     ]
    },
    {
     "data": {
      "text/plain": [
       "{'base_score': 0.5,\n",
       " 'booster': 'gbtree',\n",
       " 'colsample_bylevel': 1,\n",
       " 'colsample_bytree': 0.9,\n",
       " 'gamma': 0.4,\n",
       " 'learning_rate': 0.1,\n",
       " 'max_delta_step': 0,\n",
       " 'max_depth': 3,\n",
       " 'min_child_weight': 1,\n",
       " 'missing': None,\n",
       " 'n_estimators': 100,\n",
       " 'n_jobs': 1,\n",
       " 'nthread': 1,\n",
       " 'objective': 'binary:logistic',\n",
       " 'random_state': 0,\n",
       " 'reg_alpha': 0,\n",
       " 'reg_lambda': 1,\n",
       " 'scale_pos_weight': 0.6229508196721312,\n",
       " 'seed': 0,\n",
       " 'silent': True,\n",
       " 'subsample': 0.6}"
      ]
     },
     "execution_count": 38,
     "metadata": {},
     "output_type": "execute_result"
    }
   ],
   "source": [
    "param_grid = {\n",
    "    'subsample': [0.5 + 0.1*i for i in range(6)],\n",
    "    'colsample_bytree': [0.5 + 0.1*i for i in range(6)]\n",
    "}\n",
    "\n",
    "clf = xgboost.XGBClassifier(**best_params)\n",
    "\n",
    "gs = GridSearchCV(clf, param_grid, scoring='roc_auc', cv=cv, verbose=5)\n",
    "\n",
    "gs.fit(X_train, y_train)\n",
    "best_params = gs.best_estimator_.get_params()\n",
    "print('Best score (AUC): ', gs.best_score_)\n",
    "print('Best params: ')\n",
    "best_params"
   ]
  },
  {
   "cell_type": "markdown",
   "metadata": {},
   "source": [
    "## Шаг 5. Регуляризация\n",
    "* **reg_alpha** [1e-5, 1e-2, 0.1, 1, 100]\n",
    "* **reg_lambda** [1e-5, 1e-2, 0.1, 1, 100]"
   ]
  },
  {
   "cell_type": "code",
   "execution_count": 40,
   "metadata": {},
   "outputs": [
    {
     "name": "stderr",
     "output_type": "stream",
     "text": [
      "c:\\users\\artem\\anaconda3\\envs\\lasagne2.7\\lib\\site-packages\\xgboost-0.6-py2.7.egg\\xgboost\\sklearn.py:171: DeprecationWarning: The nthread parameter is deprecated as of version .6.Please use n_jobs instead.nthread is deprecated.\n",
      "  'nthread is deprecated.', DeprecationWarning)\n",
      "c:\\users\\artem\\anaconda3\\envs\\lasagne2.7\\lib\\site-packages\\xgboost-0.6-py2.7.egg\\xgboost\\sklearn.py:171: DeprecationWarning: The nthread parameter is deprecated as of version .6.Please use n_jobs instead.nthread is deprecated.\n",
      "  'nthread is deprecated.', DeprecationWarning)\n",
      "c:\\users\\artem\\anaconda3\\envs\\lasagne2.7\\lib\\site-packages\\xgboost-0.6-py2.7.egg\\xgboost\\sklearn.py:171: DeprecationWarning: The nthread parameter is deprecated as of version .6.Please use n_jobs instead.nthread is deprecated.\n",
      "  'nthread is deprecated.', DeprecationWarning)\n",
      "[Parallel(n_jobs=1)]: Done   1 out of   1 | elapsed:    0.0s remaining:    0.0s\n",
      "c:\\users\\artem\\anaconda3\\envs\\lasagne2.7\\lib\\site-packages\\xgboost-0.6-py2.7.egg\\xgboost\\sklearn.py:171: DeprecationWarning: The nthread parameter is deprecated as of version .6.Please use n_jobs instead.nthread is deprecated.\n",
      "  'nthread is deprecated.', DeprecationWarning)\n",
      "[Parallel(n_jobs=1)]: Done   2 out of   2 | elapsed:    0.1s remaining:    0.0s\n",
      "c:\\users\\artem\\anaconda3\\envs\\lasagne2.7\\lib\\site-packages\\xgboost-0.6-py2.7.egg\\xgboost\\sklearn.py:171: DeprecationWarning: The nthread parameter is deprecated as of version .6.Please use n_jobs instead.nthread is deprecated.\n",
      "  'nthread is deprecated.', DeprecationWarning)\n"
     ]
    },
    {
     "name": "stdout",
     "output_type": "stream",
     "text": [
      "Fitting 4 folds for each of 25 candidates, totalling 100 fits\n",
      "[CV] reg_alpha=1e-05, reg_lambda=1e-05 ...............................\n",
      "[CV]  reg_alpha=1e-05, reg_lambda=1e-05, score=0.857702, total=   0.0s\n",
      "[CV] reg_alpha=1e-05, reg_lambda=1e-05 ...............................\n",
      "[CV]  reg_alpha=1e-05, reg_lambda=1e-05, score=0.854033, total=   0.0s\n",
      "[CV] reg_alpha=1e-05, reg_lambda=1e-05 ...............................\n",
      "[CV]  reg_alpha=1e-05, reg_lambda=1e-05, score=0.871397, total=   0.0s\n",
      "[CV] reg_alpha=1e-05, reg_lambda=1e-05 ...............................\n",
      "[CV]  reg_alpha=1e-05, reg_lambda=1e-05, score=0.878441, total=   0.0s\n",
      "[CV] reg_alpha=1e-05, reg_lambda=0.01 ................................\n",
      "[CV] . reg_alpha=1e-05, reg_lambda=0.01, score=0.853241, total=   0.0s\n",
      "[CV] reg_alpha=1e-05, reg_lambda=0.01 ................................\n"
     ]
    },
    {
     "name": "stderr",
     "output_type": "stream",
     "text": [
      "[Parallel(n_jobs=1)]: Done   3 out of   3 | elapsed:    0.2s remaining:    0.0s\n",
      "c:\\users\\artem\\anaconda3\\envs\\lasagne2.7\\lib\\site-packages\\xgboost-0.6-py2.7.egg\\xgboost\\sklearn.py:171: DeprecationWarning: The nthread parameter is deprecated as of version .6.Please use n_jobs instead.nthread is deprecated.\n",
      "  'nthread is deprecated.', DeprecationWarning)\n",
      "[Parallel(n_jobs=1)]: Done   4 out of   4 | elapsed:    0.3s remaining:    0.0s\n",
      "c:\\users\\artem\\anaconda3\\envs\\lasagne2.7\\lib\\site-packages\\xgboost-0.6-py2.7.egg\\xgboost\\sklearn.py:171: DeprecationWarning: The nthread parameter is deprecated as of version .6.Please use n_jobs instead.nthread is deprecated.\n",
      "  'nthread is deprecated.', DeprecationWarning)\n",
      "c:\\users\\artem\\anaconda3\\envs\\lasagne2.7\\lib\\site-packages\\xgboost-0.6-py2.7.egg\\xgboost\\sklearn.py:171: DeprecationWarning: The nthread parameter is deprecated as of version .6.Please use n_jobs instead.nthread is deprecated.\n",
      "  'nthread is deprecated.', DeprecationWarning)\n"
     ]
    },
    {
     "name": "stdout",
     "output_type": "stream",
     "text": [
      "[CV] . reg_alpha=1e-05, reg_lambda=0.01, score=0.853249, total=   0.0s\n",
      "[CV] reg_alpha=1e-05, reg_lambda=0.01 ................................\n",
      "[CV] . reg_alpha=1e-05, reg_lambda=0.01, score=0.874271, total=   0.0s\n",
      "[CV] reg_alpha=1e-05, reg_lambda=0.01 ................................\n",
      "[CV] . reg_alpha=1e-05, reg_lambda=0.01, score=0.878615, total=   0.0s\n",
      "[CV] reg_alpha=1e-05, reg_lambda=0.1 .................................\n"
     ]
    },
    {
     "name": "stderr",
     "output_type": "stream",
     "text": [
      "c:\\users\\artem\\anaconda3\\envs\\lasagne2.7\\lib\\site-packages\\xgboost-0.6-py2.7.egg\\xgboost\\sklearn.py:171: DeprecationWarning: The nthread parameter is deprecated as of version .6.Please use n_jobs instead.nthread is deprecated.\n",
      "  'nthread is deprecated.', DeprecationWarning)\n",
      "c:\\users\\artem\\anaconda3\\envs\\lasagne2.7\\lib\\site-packages\\xgboost-0.6-py2.7.egg\\xgboost\\sklearn.py:171: DeprecationWarning: The nthread parameter is deprecated as of version .6.Please use n_jobs instead.nthread is deprecated.\n",
      "  'nthread is deprecated.', DeprecationWarning)\n",
      "c:\\users\\artem\\anaconda3\\envs\\lasagne2.7\\lib\\site-packages\\xgboost-0.6-py2.7.egg\\xgboost\\sklearn.py:171: DeprecationWarning: The nthread parameter is deprecated as of version .6.Please use n_jobs instead.nthread is deprecated.\n",
      "  'nthread is deprecated.', DeprecationWarning)\n"
     ]
    },
    {
     "name": "stdout",
     "output_type": "stream",
     "text": [
      "[CV] .. reg_alpha=1e-05, reg_lambda=0.1, score=0.853325, total=   0.0s\n",
      "[CV] reg_alpha=1e-05, reg_lambda=0.1 .................................\n",
      "[CV] .. reg_alpha=1e-05, reg_lambda=0.1, score=0.856548, total=   0.0s\n",
      "[CV] reg_alpha=1e-05, reg_lambda=0.1 .................................\n",
      "[CV] .. reg_alpha=1e-05, reg_lambda=0.1, score=0.875420, total=   0.0s\n",
      "[CV] reg_alpha=1e-05, reg_lambda=0.1 .................................\n",
      "[CV] .. reg_alpha=1e-05, reg_lambda=0.1, score=0.879834, total=   0.0s\n",
      "[CV] reg_alpha=1e-05, reg_lambda=1 ..................................."
     ]
    },
    {
     "name": "stderr",
     "output_type": "stream",
     "text": [
      "c:\\users\\artem\\anaconda3\\envs\\lasagne2.7\\lib\\site-packages\\xgboost-0.6-py2.7.egg\\xgboost\\sklearn.py:171: DeprecationWarning: The nthread parameter is deprecated as of version .6.Please use n_jobs instead.nthread is deprecated.\n",
      "  'nthread is deprecated.', DeprecationWarning)\n",
      "c:\\users\\artem\\anaconda3\\envs\\lasagne2.7\\lib\\site-packages\\xgboost-0.6-py2.7.egg\\xgboost\\sklearn.py:171: DeprecationWarning: The nthread parameter is deprecated as of version .6.Please use n_jobs instead.nthread is deprecated.\n",
      "  'nthread is deprecated.', DeprecationWarning)\n",
      "c:\\users\\artem\\anaconda3\\envs\\lasagne2.7\\lib\\site-packages\\xgboost-0.6-py2.7.egg\\xgboost\\sklearn.py:171: DeprecationWarning: The nthread parameter is deprecated as of version .6.Please use n_jobs instead.nthread is deprecated.\n",
      "  'nthread is deprecated.', DeprecationWarning)\n",
      "c:\\users\\artem\\anaconda3\\envs\\lasagne2.7\\lib\\site-packages\\xgboost-0.6-py2.7.egg\\xgboost\\sklearn.py:171: DeprecationWarning: The nthread parameter is deprecated as of version .6.Please use n_jobs instead.nthread is deprecated.\n",
      "  'nthread is deprecated.', DeprecationWarning)\n"
     ]
    },
    {
     "name": "stdout",
     "output_type": "stream",
     "text": [
      "\n",
      "[CV] .... reg_alpha=1e-05, reg_lambda=1, score=0.853577, total=   0.2s\n",
      "[CV] reg_alpha=1e-05, reg_lambda=1 ...................................\n"
     ]
    },
    {
     "name": "stderr",
     "output_type": "stream",
     "text": [
      "c:\\users\\artem\\anaconda3\\envs\\lasagne2.7\\lib\\site-packages\\xgboost-0.6-py2.7.egg\\xgboost\\sklearn.py:171: DeprecationWarning: The nthread parameter is deprecated as of version .6.Please use n_jobs instead.nthread is deprecated.\n",
      "  'nthread is deprecated.', DeprecationWarning)\n"
     ]
    },
    {
     "name": "stdout",
     "output_type": "stream",
     "text": [
      "[CV] .... reg_alpha=1e-05, reg_lambda=1, score=0.858445, total=   0.1s\n",
      "[CV] reg_alpha=1e-05, reg_lambda=1 ...................................\n",
      "[CV] .... reg_alpha=1e-05, reg_lambda=1, score=0.868789, total=   0.1s\n",
      "[CV] reg_alpha=1e-05, reg_lambda=1 ...................................\n"
     ]
    },
    {
     "name": "stderr",
     "output_type": "stream",
     "text": [
      "c:\\users\\artem\\anaconda3\\envs\\lasagne2.7\\lib\\site-packages\\xgboost-0.6-py2.7.egg\\xgboost\\sklearn.py:171: DeprecationWarning: The nthread parameter is deprecated as of version .6.Please use n_jobs instead.nthread is deprecated.\n",
      "  'nthread is deprecated.', DeprecationWarning)\n",
      "c:\\users\\artem\\anaconda3\\envs\\lasagne2.7\\lib\\site-packages\\xgboost-0.6-py2.7.egg\\xgboost\\sklearn.py:171: DeprecationWarning: The nthread parameter is deprecated as of version .6.Please use n_jobs instead.nthread is deprecated.\n",
      "  'nthread is deprecated.', DeprecationWarning)\n"
     ]
    },
    {
     "name": "stdout",
     "output_type": "stream",
     "text": [
      "[CV] .... reg_alpha=1e-05, reg_lambda=1, score=0.882361, total=   0.0s\n",
      "[CV] reg_alpha=1e-05, reg_lambda=100 .................................\n",
      "[CV] .. reg_alpha=1e-05, reg_lambda=100, score=0.824242, total=   0.0s\n",
      "[CV] reg_alpha=1e-05, reg_lambda=100 .................................\n",
      "[CV] .. reg_alpha=1e-05, reg_lambda=100, score=0.841786, total=   0.0s\n",
      "[CV] reg_alpha=1e-05, reg_lambda=100 .................................\n",
      "[CV] .. reg_alpha=1e-05, reg_lambda=100, score=0.864854, total=   0.0s"
     ]
    },
    {
     "name": "stderr",
     "output_type": "stream",
     "text": [
      "c:\\users\\artem\\anaconda3\\envs\\lasagne2.7\\lib\\site-packages\\xgboost-0.6-py2.7.egg\\xgboost\\sklearn.py:171: DeprecationWarning: The nthread parameter is deprecated as of version .6.Please use n_jobs instead.nthread is deprecated.\n",
      "  'nthread is deprecated.', DeprecationWarning)\n",
      "c:\\users\\artem\\anaconda3\\envs\\lasagne2.7\\lib\\site-packages\\xgboost-0.6-py2.7.egg\\xgboost\\sklearn.py:171: DeprecationWarning: The nthread parameter is deprecated as of version .6.Please use n_jobs instead.nthread is deprecated.\n",
      "  'nthread is deprecated.', DeprecationWarning)\n",
      "c:\\users\\artem\\anaconda3\\envs\\lasagne2.7\\lib\\site-packages\\xgboost-0.6-py2.7.egg\\xgboost\\sklearn.py:171: DeprecationWarning: The nthread parameter is deprecated as of version .6.Please use n_jobs instead.nthread is deprecated.\n",
      "  'nthread is deprecated.', DeprecationWarning)\n",
      "c:\\users\\artem\\anaconda3\\envs\\lasagne2.7\\lib\\site-packages\\xgboost-0.6-py2.7.egg\\xgboost\\sklearn.py:171: DeprecationWarning: The nthread parameter is deprecated as of version .6.Please use n_jobs instead.nthread is deprecated.\n",
      "  'nthread is deprecated.', DeprecationWarning)\n"
     ]
    },
    {
     "name": "stdout",
     "output_type": "stream",
     "text": [
      "\n",
      "[CV] reg_alpha=1e-05, reg_lambda=100 .................................\n",
      "[CV] .. reg_alpha=1e-05, reg_lambda=100, score=0.879747, total=   0.2s\n",
      "[CV] reg_alpha=0.01, reg_lambda=1e-05 ................................\n",
      "[CV] . reg_alpha=0.01, reg_lambda=1e-05, score=0.855177, total=   0.0s\n",
      "[CV] reg_alpha=0.01, reg_lambda=1e-05 ................................\n"
     ]
    },
    {
     "name": "stderr",
     "output_type": "stream",
     "text": [
      "c:\\users\\artem\\anaconda3\\envs\\lasagne2.7\\lib\\site-packages\\xgboost-0.6-py2.7.egg\\xgboost\\sklearn.py:171: DeprecationWarning: The nthread parameter is deprecated as of version .6.Please use n_jobs instead.nthread is deprecated.\n",
      "  'nthread is deprecated.', DeprecationWarning)\n",
      "c:\\users\\artem\\anaconda3\\envs\\lasagne2.7\\lib\\site-packages\\xgboost-0.6-py2.7.egg\\xgboost\\sklearn.py:171: DeprecationWarning: The nthread parameter is deprecated as of version .6.Please use n_jobs instead.nthread is deprecated.\n",
      "  'nthread is deprecated.', DeprecationWarning)\n"
     ]
    },
    {
     "name": "stdout",
     "output_type": "stream",
     "text": [
      "[CV] . reg_alpha=0.01, reg_lambda=1e-05, score=0.850280, total=   0.0s\n",
      "[CV] reg_alpha=0.01, reg_lambda=1e-05 ................................\n",
      "[CV] . reg_alpha=0.01, reg_lambda=1e-05, score=0.874315, total=   0.0s\n",
      "[CV] reg_alpha=0.01, reg_lambda=1e-05 ................................\n",
      "[CV] . reg_alpha=0.01, reg_lambda=1e-05, score=0.873084, total=   0.0s\n",
      "[CV] reg_alpha=0.01, reg_lambda=0.01 .................................\n"
     ]
    },
    {
     "name": "stderr",
     "output_type": "stream",
     "text": [
      "c:\\users\\artem\\anaconda3\\envs\\lasagne2.7\\lib\\site-packages\\xgboost-0.6-py2.7.egg\\xgboost\\sklearn.py:171: DeprecationWarning: The nthread parameter is deprecated as of version .6.Please use n_jobs instead.nthread is deprecated.\n",
      "  'nthread is deprecated.', DeprecationWarning)\n",
      "c:\\users\\artem\\anaconda3\\envs\\lasagne2.7\\lib\\site-packages\\xgboost-0.6-py2.7.egg\\xgboost\\sklearn.py:171: DeprecationWarning: The nthread parameter is deprecated as of version .6.Please use n_jobs instead.nthread is deprecated.\n",
      "  'nthread is deprecated.', DeprecationWarning)\n",
      "c:\\users\\artem\\anaconda3\\envs\\lasagne2.7\\lib\\site-packages\\xgboost-0.6-py2.7.egg\\xgboost\\sklearn.py:171: DeprecationWarning: The nthread parameter is deprecated as of version .6.Please use n_jobs instead.nthread is deprecated.\n",
      "  'nthread is deprecated.', DeprecationWarning)\n"
     ]
    },
    {
     "name": "stdout",
     "output_type": "stream",
     "text": [
      "[CV] .. reg_alpha=0.01, reg_lambda=0.01, score=0.855766, total=   0.0s\n",
      "[CV] reg_alpha=0.01, reg_lambda=0.01 .................................\n",
      "[CV] .. reg_alpha=0.01, reg_lambda=0.01, score=0.851682, total=   0.1s\n",
      "[CV] reg_alpha=0.01, reg_lambda=0.01 .................................\n"
     ]
    },
    {
     "name": "stderr",
     "output_type": "stream",
     "text": [
      "c:\\users\\artem\\anaconda3\\envs\\lasagne2.7\\lib\\site-packages\\xgboost-0.6-py2.7.egg\\xgboost\\sklearn.py:171: DeprecationWarning: The nthread parameter is deprecated as of version .6.Please use n_jobs instead.nthread is deprecated.\n",
      "  'nthread is deprecated.', DeprecationWarning)\n",
      "c:\\users\\artem\\anaconda3\\envs\\lasagne2.7\\lib\\site-packages\\xgboost-0.6-py2.7.egg\\xgboost\\sklearn.py:171: DeprecationWarning: The nthread parameter is deprecated as of version .6.Please use n_jobs instead.nthread is deprecated.\n",
      "  'nthread is deprecated.', DeprecationWarning)\n"
     ]
    },
    {
     "name": "stdout",
     "output_type": "stream",
     "text": [
      "[CV] .. reg_alpha=0.01, reg_lambda=0.01, score=0.870999, total=   0.0s\n",
      "[CV] reg_alpha=0.01, reg_lambda=0.01 .................................\n",
      "[CV] .. reg_alpha=0.01, reg_lambda=0.01, score=0.874695, total=   0.0s\n",
      "[CV] reg_alpha=0.01, reg_lambda=0.1 ..................................\n"
     ]
    },
    {
     "name": "stderr",
     "output_type": "stream",
     "text": [
      "c:\\users\\artem\\anaconda3\\envs\\lasagne2.7\\lib\\site-packages\\xgboost-0.6-py2.7.egg\\xgboost\\sklearn.py:171: DeprecationWarning: The nthread parameter is deprecated as of version .6.Please use n_jobs instead.nthread is deprecated.\n",
      "  'nthread is deprecated.', DeprecationWarning)\n",
      "c:\\users\\artem\\anaconda3\\envs\\lasagne2.7\\lib\\site-packages\\xgboost-0.6-py2.7.egg\\xgboost\\sklearn.py:171: DeprecationWarning: The nthread parameter is deprecated as of version .6.Please use n_jobs instead.nthread is deprecated.\n",
      "  'nthread is deprecated.', DeprecationWarning)\n"
     ]
    },
    {
     "name": "stdout",
     "output_type": "stream",
     "text": [
      "[CV] ... reg_alpha=0.01, reg_lambda=0.1, score=0.850547, total=   0.1s\n",
      "[CV] reg_alpha=0.01, reg_lambda=0.1 ..................................\n",
      "[CV] ... reg_alpha=0.01, reg_lambda=0.1, score=0.852589, total=   0.0s\n",
      "[CV] reg_alpha=0.01, reg_lambda=0.1 ..................................\n",
      "[CV] ... reg_alpha=0.01, reg_lambda=0.1, score=0.871485, total=   0.0s\n",
      "[CV] reg_alpha=0.01, reg_lambda=0.1 ..................................\n"
     ]
    },
    {
     "name": "stderr",
     "output_type": "stream",
     "text": [
      "c:\\users\\artem\\anaconda3\\envs\\lasagne2.7\\lib\\site-packages\\xgboost-0.6-py2.7.egg\\xgboost\\sklearn.py:171: DeprecationWarning: The nthread parameter is deprecated as of version .6.Please use n_jobs instead.nthread is deprecated.\n",
      "  'nthread is deprecated.', DeprecationWarning)\n",
      "c:\\users\\artem\\anaconda3\\envs\\lasagne2.7\\lib\\site-packages\\xgboost-0.6-py2.7.egg\\xgboost\\sklearn.py:171: DeprecationWarning: The nthread parameter is deprecated as of version .6.Please use n_jobs instead.nthread is deprecated.\n",
      "  'nthread is deprecated.', DeprecationWarning)\n",
      "c:\\users\\artem\\anaconda3\\envs\\lasagne2.7\\lib\\site-packages\\xgboost-0.6-py2.7.egg\\xgboost\\sklearn.py:171: DeprecationWarning: The nthread parameter is deprecated as of version .6.Please use n_jobs instead.nthread is deprecated.\n",
      "  'nthread is deprecated.', DeprecationWarning)\n"
     ]
    },
    {
     "name": "stdout",
     "output_type": "stream",
     "text": [
      "[CV] ... reg_alpha=0.01, reg_lambda=0.1, score=0.874782, total=   0.0s\n",
      "[CV] reg_alpha=0.01, reg_lambda=1 ....................................\n",
      "[CV] ..... reg_alpha=0.01, reg_lambda=1, score=0.853409, total=   0.0s\n",
      "[CV] reg_alpha=0.01, reg_lambda=1 ....................................\n",
      "[CV] ..... reg_alpha=0.01, reg_lambda=1, score=0.856053, total=   0.0s\n",
      "[CV] reg_alpha=0.01, reg_lambda=1 ....................................\n"
     ]
    },
    {
     "name": "stderr",
     "output_type": "stream",
     "text": [
      "c:\\users\\artem\\anaconda3\\envs\\lasagne2.7\\lib\\site-packages\\xgboost-0.6-py2.7.egg\\xgboost\\sklearn.py:171: DeprecationWarning: The nthread parameter is deprecated as of version .6.Please use n_jobs instead.nthread is deprecated.\n",
      "  'nthread is deprecated.', DeprecationWarning)\n",
      "c:\\users\\artem\\anaconda3\\envs\\lasagne2.7\\lib\\site-packages\\xgboost-0.6-py2.7.egg\\xgboost\\sklearn.py:171: DeprecationWarning: The nthread parameter is deprecated as of version .6.Please use n_jobs instead.nthread is deprecated.\n",
      "  'nthread is deprecated.', DeprecationWarning)\n",
      "c:\\users\\artem\\anaconda3\\envs\\lasagne2.7\\lib\\site-packages\\xgboost-0.6-py2.7.egg\\xgboost\\sklearn.py:171: DeprecationWarning: The nthread parameter is deprecated as of version .6.Please use n_jobs instead.nthread is deprecated.\n",
      "  'nthread is deprecated.', DeprecationWarning)\n"
     ]
    },
    {
     "name": "stdout",
     "output_type": "stream",
     "text": [
      "[CV] ..... reg_alpha=0.01, reg_lambda=1, score=0.867462, total=   0.0s\n",
      "[CV] reg_alpha=0.01, reg_lambda=1 ....................................\n",
      "[CV] ..... reg_alpha=0.01, reg_lambda=1, score=0.880183, total=   0.0s\n",
      "[CV] reg_alpha=0.01, reg_lambda=100 ..................................\n",
      "[CV] ... reg_alpha=0.01, reg_lambda=100, score=0.824242, total=   0.0s\n",
      "[CV] reg_alpha=0.01, reg_lambda=100 ..................................\n"
     ]
    },
    {
     "name": "stderr",
     "output_type": "stream",
     "text": [
      "c:\\users\\artem\\anaconda3\\envs\\lasagne2.7\\lib\\site-packages\\xgboost-0.6-py2.7.egg\\xgboost\\sklearn.py:171: DeprecationWarning: The nthread parameter is deprecated as of version .6.Please use n_jobs instead.nthread is deprecated.\n",
      "  'nthread is deprecated.', DeprecationWarning)\n",
      "c:\\users\\artem\\anaconda3\\envs\\lasagne2.7\\lib\\site-packages\\xgboost-0.6-py2.7.egg\\xgboost\\sklearn.py:171: DeprecationWarning: The nthread parameter is deprecated as of version .6.Please use n_jobs instead.nthread is deprecated.\n",
      "  'nthread is deprecated.', DeprecationWarning)\n",
      "c:\\users\\artem\\anaconda3\\envs\\lasagne2.7\\lib\\site-packages\\xgboost-0.6-py2.7.egg\\xgboost\\sklearn.py:171: DeprecationWarning: The nthread parameter is deprecated as of version .6.Please use n_jobs instead.nthread is deprecated.\n",
      "  'nthread is deprecated.', DeprecationWarning)\n"
     ]
    },
    {
     "name": "stdout",
     "output_type": "stream",
     "text": [
      "[CV] ... reg_alpha=0.01, reg_lambda=100, score=0.841786, total=   0.0s\n",
      "[CV] reg_alpha=0.01, reg_lambda=100 ..................................\n",
      "[CV] ... reg_alpha=0.01, reg_lambda=100, score=0.864147, total=   0.0s\n",
      "[CV] reg_alpha=0.01, reg_lambda=100 ..................................\n",
      "[CV] ... reg_alpha=0.01, reg_lambda=100, score=0.879922, total=   0.0s\n",
      "[CV] reg_alpha=0.1, reg_lambda=1e-05 .................................\n"
     ]
    },
    {
     "name": "stderr",
     "output_type": "stream",
     "text": [
      "c:\\users\\artem\\anaconda3\\envs\\lasagne2.7\\lib\\site-packages\\xgboost-0.6-py2.7.egg\\xgboost\\sklearn.py:171: DeprecationWarning: The nthread parameter is deprecated as of version .6.Please use n_jobs instead.nthread is deprecated.\n",
      "  'nthread is deprecated.', DeprecationWarning)\n",
      "c:\\users\\artem\\anaconda3\\envs\\lasagne2.7\\lib\\site-packages\\xgboost-0.6-py2.7.egg\\xgboost\\sklearn.py:171: DeprecationWarning: The nthread parameter is deprecated as of version .6.Please use n_jobs instead.nthread is deprecated.\n",
      "  'nthread is deprecated.', DeprecationWarning)\n",
      "c:\\users\\artem\\anaconda3\\envs\\lasagne2.7\\lib\\site-packages\\xgboost-0.6-py2.7.egg\\xgboost\\sklearn.py:171: DeprecationWarning: The nthread parameter is deprecated as of version .6.Please use n_jobs instead.nthread is deprecated.\n",
      "  'nthread is deprecated.', DeprecationWarning)\n"
     ]
    },
    {
     "name": "stdout",
     "output_type": "stream",
     "text": [
      "[CV] .. reg_alpha=0.1, reg_lambda=1e-05, score=0.854756, total=   0.0s\n",
      "[CV] reg_alpha=0.1, reg_lambda=1e-05 .................................\n",
      "[CV] .. reg_alpha=0.1, reg_lambda=1e-05, score=0.855311, total=   0.0s\n",
      "[CV] reg_alpha=0.1, reg_lambda=1e-05 .................................\n",
      "[CV] .. reg_alpha=0.1, reg_lambda=1e-05, score=0.872989, total=   0.0s\n",
      "[CV] reg_alpha=0.1, reg_lambda=1e-05 .................................\n"
     ]
    },
    {
     "name": "stderr",
     "output_type": "stream",
     "text": [
      "c:\\users\\artem\\anaconda3\\envs\\lasagne2.7\\lib\\site-packages\\xgboost-0.6-py2.7.egg\\xgboost\\sklearn.py:171: DeprecationWarning: The nthread parameter is deprecated as of version .6.Please use n_jobs instead.nthread is deprecated.\n",
      "  'nthread is deprecated.', DeprecationWarning)\n",
      "c:\\users\\artem\\anaconda3\\envs\\lasagne2.7\\lib\\site-packages\\xgboost-0.6-py2.7.egg\\xgboost\\sklearn.py:171: DeprecationWarning: The nthread parameter is deprecated as of version .6.Please use n_jobs instead.nthread is deprecated.\n",
      "  'nthread is deprecated.', DeprecationWarning)\n",
      "c:\\users\\artem\\anaconda3\\envs\\lasagne2.7\\lib\\site-packages\\xgboost-0.6-py2.7.egg\\xgboost\\sklearn.py:171: DeprecationWarning: The nthread parameter is deprecated as of version .6.Please use n_jobs instead.nthread is deprecated.\n",
      "  'nthread is deprecated.', DeprecationWarning)\n"
     ]
    },
    {
     "name": "stdout",
     "output_type": "stream",
     "text": [
      "[CV] .. reg_alpha=0.1, reg_lambda=1e-05, score=0.876611, total=   0.0s\n",
      "[CV] reg_alpha=0.1, reg_lambda=0.01 ..................................\n",
      "[CV] ... reg_alpha=0.1, reg_lambda=0.01, score=0.857113, total=   0.0s\n",
      "[CV] reg_alpha=0.1, reg_lambda=0.01 ..................................\n"
     ]
    },
    {
     "name": "stderr",
     "output_type": "stream",
     "text": [
      "c:\\users\\artem\\anaconda3\\envs\\lasagne2.7\\lib\\site-packages\\xgboost-0.6-py2.7.egg\\xgboost\\sklearn.py:171: DeprecationWarning: The nthread parameter is deprecated as of version .6.Please use n_jobs instead.nthread is deprecated.\n",
      "  'nthread is deprecated.', DeprecationWarning)\n",
      "c:\\users\\artem\\anaconda3\\envs\\lasagne2.7\\lib\\site-packages\\xgboost-0.6-py2.7.egg\\xgboost\\sklearn.py:171: DeprecationWarning: The nthread parameter is deprecated as of version .6.Please use n_jobs instead.nthread is deprecated.\n",
      "  'nthread is deprecated.', DeprecationWarning)\n"
     ]
    },
    {
     "name": "stdout",
     "output_type": "stream",
     "text": [
      "[CV] ... reg_alpha=0.1, reg_lambda=0.01, score=0.861331, total=   0.0s\n",
      "[CV] reg_alpha=0.1, reg_lambda=0.01 ..................................\n",
      "[CV] ... reg_alpha=0.1, reg_lambda=0.01, score=0.869496, total=   0.0s\n",
      "[CV] reg_alpha=0.1, reg_lambda=0.01 ..................................\n"
     ]
    },
    {
     "name": "stderr",
     "output_type": "stream",
     "text": [
      "c:\\users\\artem\\anaconda3\\envs\\lasagne2.7\\lib\\site-packages\\xgboost-0.6-py2.7.egg\\xgboost\\sklearn.py:171: DeprecationWarning: The nthread parameter is deprecated as of version .6.Please use n_jobs instead.nthread is deprecated.\n",
      "  'nthread is deprecated.', DeprecationWarning)\n",
      "c:\\users\\artem\\anaconda3\\envs\\lasagne2.7\\lib\\site-packages\\xgboost-0.6-py2.7.egg\\xgboost\\sklearn.py:171: DeprecationWarning: The nthread parameter is deprecated as of version .6.Please use n_jobs instead.nthread is deprecated.\n",
      "  'nthread is deprecated.', DeprecationWarning)\n"
     ]
    },
    {
     "name": "stdout",
     "output_type": "stream",
     "text": [
      "[CV] ... reg_alpha=0.1, reg_lambda=0.01, score=0.873650, total=   0.0s\n",
      "[CV] reg_alpha=0.1, reg_lambda=0.1 ...................................\n",
      "[CV] .... reg_alpha=0.1, reg_lambda=0.1, score=0.851894, total=   0.1s\n",
      "[CV] reg_alpha=0.1, reg_lambda=0.1 ...................................\n"
     ]
    },
    {
     "name": "stderr",
     "output_type": "stream",
     "text": [
      "c:\\users\\artem\\anaconda3\\envs\\lasagne2.7\\lib\\site-packages\\xgboost-0.6-py2.7.egg\\xgboost\\sklearn.py:171: DeprecationWarning: The nthread parameter is deprecated as of version .6.Please use n_jobs instead.nthread is deprecated.\n",
      "  'nthread is deprecated.', DeprecationWarning)\n",
      "c:\\users\\artem\\anaconda3\\envs\\lasagne2.7\\lib\\site-packages\\xgboost-0.6-py2.7.egg\\xgboost\\sklearn.py:171: DeprecationWarning: The nthread parameter is deprecated as of version .6.Please use n_jobs instead.nthread is deprecated.\n",
      "  'nthread is deprecated.', DeprecationWarning)\n"
     ]
    },
    {
     "name": "stdout",
     "output_type": "stream",
     "text": [
      "[CV] .... reg_alpha=0.1, reg_lambda=0.1, score=0.858775, total=   0.0s\n",
      "[CV] reg_alpha=0.1, reg_lambda=0.1 ...................................\n",
      "[CV] .... reg_alpha=0.1, reg_lambda=0.1, score=0.868568, total=   0.0s\n",
      "[CV] reg_alpha=0.1, reg_lambda=0.1 ...................................\n",
      "[CV] .... reg_alpha=0.1, reg_lambda=0.1, score=0.878136, total=   0.0s\n",
      "[CV] reg_alpha=0.1, reg_lambda=1 .....................................\n",
      "[CV] ...... reg_alpha=0.1, reg_lambda=1, score=0.848737, total=   0.0s\n"
     ]
    },
    {
     "name": "stderr",
     "output_type": "stream",
     "text": [
      "c:\\users\\artem\\anaconda3\\envs\\lasagne2.7\\lib\\site-packages\\xgboost-0.6-py2.7.egg\\xgboost\\sklearn.py:171: DeprecationWarning: The nthread parameter is deprecated as of version .6.Please use n_jobs instead.nthread is deprecated.\n",
      "  'nthread is deprecated.', DeprecationWarning)\n",
      "c:\\users\\artem\\anaconda3\\envs\\lasagne2.7\\lib\\site-packages\\xgboost-0.6-py2.7.egg\\xgboost\\sklearn.py:171: DeprecationWarning: The nthread parameter is deprecated as of version .6.Please use n_jobs instead.nthread is deprecated.\n",
      "  'nthread is deprecated.', DeprecationWarning)\n",
      "c:\\users\\artem\\anaconda3\\envs\\lasagne2.7\\lib\\site-packages\\xgboost-0.6-py2.7.egg\\xgboost\\sklearn.py:171: DeprecationWarning: The nthread parameter is deprecated as of version .6.Please use n_jobs instead.nthread is deprecated.\n",
      "  'nthread is deprecated.', DeprecationWarning)\n",
      "c:\\users\\artem\\anaconda3\\envs\\lasagne2.7\\lib\\site-packages\\xgboost-0.6-py2.7.egg\\xgboost\\sklearn.py:171: DeprecationWarning: The nthread parameter is deprecated as of version .6.Please use n_jobs instead.nthread is deprecated.\n",
      "  'nthread is deprecated.', DeprecationWarning)\n",
      "c:\\users\\artem\\anaconda3\\envs\\lasagne2.7\\lib\\site-packages\\xgboost-0.6-py2.7.egg\\xgboost\\sklearn.py:171: DeprecationWarning: The nthread parameter is deprecated as of version .6.Please use n_jobs instead.nthread is deprecated.\n",
      "  'nthread is deprecated.', DeprecationWarning)\n",
      "c:\\users\\artem\\anaconda3\\envs\\lasagne2.7\\lib\\site-packages\\xgboost-0.6-py2.7.egg\\xgboost\\sklearn.py:171: DeprecationWarning: The nthread parameter is deprecated as of version .6.Please use n_jobs instead.nthread is deprecated.\n",
      "  'nthread is deprecated.', DeprecationWarning)\n"
     ]
    },
    {
     "name": "stdout",
     "output_type": "stream",
     "text": [
      "[CV] reg_alpha=0.1, reg_lambda=1 .....................................\n",
      "[CV] ...... reg_alpha=0.1, reg_lambda=1, score=0.855228, total=   0.0s\n",
      "[CV] reg_alpha=0.1, reg_lambda=1 .....................................\n",
      "[CV] ...... reg_alpha=0.1, reg_lambda=1, score=0.871530, total=   0.0s\n",
      "[CV] reg_alpha=0.1, reg_lambda=1 .....................................\n",
      "[CV] ...... reg_alpha=0.1, reg_lambda=1, score=0.882709, total=   0.0s\n",
      "[CV] reg_alpha=0.1, reg_lambda=100 ...................................\n",
      "[CV] .... reg_alpha=0.1, reg_lambda=100, score=0.823401, total=   0.0s\n",
      "[CV] reg_alpha=0.1, reg_lambda=100 ...................................\n",
      "[CV] .... reg_alpha=0.1, reg_lambda=100, score=0.841951, total=   0.0s\n",
      "[CV] reg_alpha=0.1, reg_lambda=100 ...................................\n"
     ]
    },
    {
     "name": "stderr",
     "output_type": "stream",
     "text": [
      "c:\\users\\artem\\anaconda3\\envs\\lasagne2.7\\lib\\site-packages\\xgboost-0.6-py2.7.egg\\xgboost\\sklearn.py:171: DeprecationWarning: The nthread parameter is deprecated as of version .6.Please use n_jobs instead.nthread is deprecated.\n",
      "  'nthread is deprecated.', DeprecationWarning)\n",
      "c:\\users\\artem\\anaconda3\\envs\\lasagne2.7\\lib\\site-packages\\xgboost-0.6-py2.7.egg\\xgboost\\sklearn.py:171: DeprecationWarning: The nthread parameter is deprecated as of version .6.Please use n_jobs instead.nthread is deprecated.\n",
      "  'nthread is deprecated.', DeprecationWarning)\n",
      "c:\\users\\artem\\anaconda3\\envs\\lasagne2.7\\lib\\site-packages\\xgboost-0.6-py2.7.egg\\xgboost\\sklearn.py:171: DeprecationWarning: The nthread parameter is deprecated as of version .6.Please use n_jobs instead.nthread is deprecated.\n",
      "  'nthread is deprecated.', DeprecationWarning)\n"
     ]
    },
    {
     "name": "stdout",
     "output_type": "stream",
     "text": [
      "[CV] .... reg_alpha=0.1, reg_lambda=100, score=0.864147, total=   0.0s\n",
      "[CV] reg_alpha=0.1, reg_lambda=100 ...................................\n",
      "[CV] .... reg_alpha=0.1, reg_lambda=100, score=0.880096, total=   0.0s\n",
      "[CV] reg_alpha=1, reg_lambda=1e-05 ...................................\n"
     ]
    },
    {
     "name": "stderr",
     "output_type": "stream",
     "text": [
      "c:\\users\\artem\\anaconda3\\envs\\lasagne2.7\\lib\\site-packages\\xgboost-0.6-py2.7.egg\\xgboost\\sklearn.py:171: DeprecationWarning: The nthread parameter is deprecated as of version .6.Please use n_jobs instead.nthread is deprecated.\n",
      "  'nthread is deprecated.', DeprecationWarning)\n",
      "c:\\users\\artem\\anaconda3\\envs\\lasagne2.7\\lib\\site-packages\\xgboost-0.6-py2.7.egg\\xgboost\\sklearn.py:171: DeprecationWarning: The nthread parameter is deprecated as of version .6.Please use n_jobs instead.nthread is deprecated.\n",
      "  'nthread is deprecated.', DeprecationWarning)\n"
     ]
    },
    {
     "name": "stdout",
     "output_type": "stream",
     "text": [
      "[CV] .... reg_alpha=1, reg_lambda=1e-05, score=0.852273, total=   0.0s\n",
      "[CV] reg_alpha=1, reg_lambda=1e-05 ...................................\n",
      "[CV] .... reg_alpha=1, reg_lambda=1e-05, score=0.859228, total=   0.0s\n",
      "[CV] reg_alpha=1, reg_lambda=1e-05 ...................................\n",
      "[CV] .... reg_alpha=1, reg_lambda=1e-05, score=0.869717, total=   0.0s\n",
      "[CV] reg_alpha=1, reg_lambda=1e-05 ...................................\n"
     ]
    },
    {
     "name": "stderr",
     "output_type": "stream",
     "text": [
      "c:\\users\\artem\\anaconda3\\envs\\lasagne2.7\\lib\\site-packages\\xgboost-0.6-py2.7.egg\\xgboost\\sklearn.py:171: DeprecationWarning: The nthread parameter is deprecated as of version .6.Please use n_jobs instead.nthread is deprecated.\n",
      "  'nthread is deprecated.', DeprecationWarning)\n",
      "c:\\users\\artem\\anaconda3\\envs\\lasagne2.7\\lib\\site-packages\\xgboost-0.6-py2.7.egg\\xgboost\\sklearn.py:171: DeprecationWarning: The nthread parameter is deprecated as of version .6.Please use n_jobs instead.nthread is deprecated.\n",
      "  'nthread is deprecated.', DeprecationWarning)\n",
      "c:\\users\\artem\\anaconda3\\envs\\lasagne2.7\\lib\\site-packages\\xgboost-0.6-py2.7.egg\\xgboost\\sklearn.py:171: DeprecationWarning: The nthread parameter is deprecated as of version .6.Please use n_jobs instead.nthread is deprecated.\n",
      "  'nthread is deprecated.', DeprecationWarning)\n"
     ]
    },
    {
     "name": "stdout",
     "output_type": "stream",
     "text": [
      "[CV] .... reg_alpha=1, reg_lambda=1e-05, score=0.885366, total=   0.0s\n",
      "[CV] reg_alpha=1, reg_lambda=0.01 ....................................\n",
      "[CV] ..... reg_alpha=1, reg_lambda=0.01, score=0.852357, total=   0.0s\n",
      "[CV] reg_alpha=1, reg_lambda=0.01 ....................................\n",
      "[CV] ..... reg_alpha=1, reg_lambda=0.01, score=0.859228, total=   0.0s\n",
      "[CV] reg_alpha=1, reg_lambda=0.01 ....................................\n"
     ]
    },
    {
     "name": "stderr",
     "output_type": "stream",
     "text": [
      "c:\\users\\artem\\anaconda3\\envs\\lasagne2.7\\lib\\site-packages\\xgboost-0.6-py2.7.egg\\xgboost\\sklearn.py:171: DeprecationWarning: The nthread parameter is deprecated as of version .6.Please use n_jobs instead.nthread is deprecated.\n",
      "  'nthread is deprecated.', DeprecationWarning)\n",
      "c:\\users\\artem\\anaconda3\\envs\\lasagne2.7\\lib\\site-packages\\xgboost-0.6-py2.7.egg\\xgboost\\sklearn.py:171: DeprecationWarning: The nthread parameter is deprecated as of version .6.Please use n_jobs instead.nthread is deprecated.\n",
      "  'nthread is deprecated.', DeprecationWarning)\n",
      "c:\\users\\artem\\anaconda3\\envs\\lasagne2.7\\lib\\site-packages\\xgboost-0.6-py2.7.egg\\xgboost\\sklearn.py:171: DeprecationWarning: The nthread parameter is deprecated as of version .6.Please use n_jobs instead.nthread is deprecated.\n",
      "  'nthread is deprecated.', DeprecationWarning)\n"
     ]
    },
    {
     "name": "stdout",
     "output_type": "stream",
     "text": [
      "[CV] ..... reg_alpha=1, reg_lambda=0.01, score=0.869629, total=   0.0s\n",
      "[CV] reg_alpha=1, reg_lambda=0.01 ....................................\n",
      "[CV] ..... reg_alpha=1, reg_lambda=0.01, score=0.886411, total=   0.0s\n",
      "[CV] reg_alpha=1, reg_lambda=0.1 .....................................\n",
      "[CV] ...... reg_alpha=1, reg_lambda=0.1, score=0.851599, total=   0.0s\n",
      "[CV] reg_alpha=1, reg_lambda=0.1 .....................................\n"
     ]
    },
    {
     "name": "stderr",
     "output_type": "stream",
     "text": [
      "c:\\users\\artem\\anaconda3\\envs\\lasagne2.7\\lib\\site-packages\\xgboost-0.6-py2.7.egg\\xgboost\\sklearn.py:171: DeprecationWarning: The nthread parameter is deprecated as of version .6.Please use n_jobs instead.nthread is deprecated.\n",
      "  'nthread is deprecated.', DeprecationWarning)\n",
      "c:\\users\\artem\\anaconda3\\envs\\lasagne2.7\\lib\\site-packages\\xgboost-0.6-py2.7.egg\\xgboost\\sklearn.py:171: DeprecationWarning: The nthread parameter is deprecated as of version .6.Please use n_jobs instead.nthread is deprecated.\n",
      "  'nthread is deprecated.', DeprecationWarning)\n",
      "c:\\users\\artem\\anaconda3\\envs\\lasagne2.7\\lib\\site-packages\\xgboost-0.6-py2.7.egg\\xgboost\\sklearn.py:171: DeprecationWarning: The nthread parameter is deprecated as of version .6.Please use n_jobs instead.nthread is deprecated.\n",
      "  'nthread is deprecated.', DeprecationWarning)\n"
     ]
    },
    {
     "name": "stdout",
     "output_type": "stream",
     "text": [
      "[CV] ...... reg_alpha=1, reg_lambda=0.1, score=0.856548, total=   0.0s\n",
      "[CV] reg_alpha=1, reg_lambda=0.1 .....................................\n",
      "[CV] ...... reg_alpha=1, reg_lambda=0.1, score=0.871397, total=   0.0s\n",
      "[CV] reg_alpha=1, reg_lambda=0.1 .....................................\n",
      "[CV] ...... reg_alpha=1, reg_lambda=0.1, score=0.884408, total=   0.0s\n",
      "[CV] reg_alpha=1, reg_lambda=1 .......................................\n"
     ]
    },
    {
     "name": "stderr",
     "output_type": "stream",
     "text": [
      "c:\\users\\artem\\anaconda3\\envs\\lasagne2.7\\lib\\site-packages\\xgboost-0.6-py2.7.egg\\xgboost\\sklearn.py:171: DeprecationWarning: The nthread parameter is deprecated as of version .6.Please use n_jobs instead.nthread is deprecated.\n",
      "  'nthread is deprecated.', DeprecationWarning)\n",
      "c:\\users\\artem\\anaconda3\\envs\\lasagne2.7\\lib\\site-packages\\xgboost-0.6-py2.7.egg\\xgboost\\sklearn.py:171: DeprecationWarning: The nthread parameter is deprecated as of version .6.Please use n_jobs instead.nthread is deprecated.\n",
      "  'nthread is deprecated.', DeprecationWarning)\n",
      "c:\\users\\artem\\anaconda3\\envs\\lasagne2.7\\lib\\site-packages\\xgboost-0.6-py2.7.egg\\xgboost\\sklearn.py:171: DeprecationWarning: The nthread parameter is deprecated as of version .6.Please use n_jobs instead.nthread is deprecated.\n",
      "  'nthread is deprecated.', DeprecationWarning)\n"
     ]
    },
    {
     "name": "stdout",
     "output_type": "stream",
     "text": [
      "[CV] ........ reg_alpha=1, reg_lambda=1, score=0.847138, total=   0.0s\n",
      "[CV] reg_alpha=1, reg_lambda=1 .......................................\n",
      "[CV] ........ reg_alpha=1, reg_lambda=1, score=0.855600, total=   0.0s\n",
      "[CV] reg_alpha=1, reg_lambda=1 .......................................\n",
      "[CV] ........ reg_alpha=1, reg_lambda=1, score=0.868258, total=   0.0s\n",
      "[CV] reg_alpha=1, reg_lambda=1 .......................................\n"
     ]
    },
    {
     "name": "stderr",
     "output_type": "stream",
     "text": [
      "c:\\users\\artem\\anaconda3\\envs\\lasagne2.7\\lib\\site-packages\\xgboost-0.6-py2.7.egg\\xgboost\\sklearn.py:171: DeprecationWarning: The nthread parameter is deprecated as of version .6.Please use n_jobs instead.nthread is deprecated.\n",
      "  'nthread is deprecated.', DeprecationWarning)\n",
      "c:\\users\\artem\\anaconda3\\envs\\lasagne2.7\\lib\\site-packages\\xgboost-0.6-py2.7.egg\\xgboost\\sklearn.py:171: DeprecationWarning: The nthread parameter is deprecated as of version .6.Please use n_jobs instead.nthread is deprecated.\n",
      "  'nthread is deprecated.', DeprecationWarning)\n",
      "c:\\users\\artem\\anaconda3\\envs\\lasagne2.7\\lib\\site-packages\\xgboost-0.6-py2.7.egg\\xgboost\\sklearn.py:171: DeprecationWarning: The nthread parameter is deprecated as of version .6.Please use n_jobs instead.nthread is deprecated.\n",
      "  'nthread is deprecated.', DeprecationWarning)\n"
     ]
    },
    {
     "name": "stdout",
     "output_type": "stream",
     "text": [
      "[CV] ........ reg_alpha=1, reg_lambda=1, score=0.885409, total=   0.0s\n",
      "[CV] reg_alpha=1, reg_lambda=100 .....................................\n",
      "[CV] ...... reg_alpha=1, reg_lambda=100, score=0.816835, total=   0.0s\n",
      "[CV] reg_alpha=1, reg_lambda=100 .....................................\n",
      "[CV] ...... reg_alpha=1, reg_lambda=100, score=0.841456, total=   0.0s\n",
      "[CV] reg_alpha=1, reg_lambda=100 .....................................\n"
     ]
    },
    {
     "name": "stderr",
     "output_type": "stream",
     "text": [
      "c:\\users\\artem\\anaconda3\\envs\\lasagne2.7\\lib\\site-packages\\xgboost-0.6-py2.7.egg\\xgboost\\sklearn.py:171: DeprecationWarning: The nthread parameter is deprecated as of version .6.Please use n_jobs instead.nthread is deprecated.\n",
      "  'nthread is deprecated.', DeprecationWarning)\n",
      "c:\\users\\artem\\anaconda3\\envs\\lasagne2.7\\lib\\site-packages\\xgboost-0.6-py2.7.egg\\xgboost\\sklearn.py:171: DeprecationWarning: The nthread parameter is deprecated as of version .6.Please use n_jobs instead.nthread is deprecated.\n",
      "  'nthread is deprecated.', DeprecationWarning)\n",
      "c:\\users\\artem\\anaconda3\\envs\\lasagne2.7\\lib\\site-packages\\xgboost-0.6-py2.7.egg\\xgboost\\sklearn.py:171: DeprecationWarning: The nthread parameter is deprecated as of version .6.Please use n_jobs instead.nthread is deprecated.\n",
      "  'nthread is deprecated.', DeprecationWarning)\n"
     ]
    },
    {
     "name": "stdout",
     "output_type": "stream",
     "text": [
      "[CV] ...... reg_alpha=1, reg_lambda=100, score=0.861273, total=   0.0s\n",
      "[CV] reg_alpha=1, reg_lambda=100 .....................................\n",
      "[CV] ...... reg_alpha=1, reg_lambda=100, score=0.878659, total=   0.0s\n",
      "[CV] reg_alpha=100, reg_lambda=1e-05 .................................\n",
      "[CV] .. reg_alpha=100, reg_lambda=1e-05, score=0.500000, total=   0.0s\n",
      "[CV] reg_alpha=100, reg_lambda=1e-05 .................................\n",
      "[CV] .. reg_alpha=100, reg_lambda=1e-05, score=0.500000, total=   0.0s\n",
      "[CV] reg_alpha=100, reg_lambda=1e-05 .................................\n"
     ]
    },
    {
     "name": "stderr",
     "output_type": "stream",
     "text": [
      "c:\\users\\artem\\anaconda3\\envs\\lasagne2.7\\lib\\site-packages\\xgboost-0.6-py2.7.egg\\xgboost\\sklearn.py:171: DeprecationWarning: The nthread parameter is deprecated as of version .6.Please use n_jobs instead.nthread is deprecated.\n",
      "  'nthread is deprecated.', DeprecationWarning)\n",
      "c:\\users\\artem\\anaconda3\\envs\\lasagne2.7\\lib\\site-packages\\xgboost-0.6-py2.7.egg\\xgboost\\sklearn.py:171: DeprecationWarning: The nthread parameter is deprecated as of version .6.Please use n_jobs instead.nthread is deprecated.\n",
      "  'nthread is deprecated.', DeprecationWarning)\n",
      "c:\\users\\artem\\anaconda3\\envs\\lasagne2.7\\lib\\site-packages\\xgboost-0.6-py2.7.egg\\xgboost\\sklearn.py:171: DeprecationWarning: The nthread parameter is deprecated as of version .6.Please use n_jobs instead.nthread is deprecated.\n",
      "  'nthread is deprecated.', DeprecationWarning)\n",
      "c:\\users\\artem\\anaconda3\\envs\\lasagne2.7\\lib\\site-packages\\xgboost-0.6-py2.7.egg\\xgboost\\sklearn.py:171: DeprecationWarning: The nthread parameter is deprecated as of version .6.Please use n_jobs instead.nthread is deprecated.\n",
      "  'nthread is deprecated.', DeprecationWarning)\n"
     ]
    },
    {
     "name": "stdout",
     "output_type": "stream",
     "text": [
      "[CV] .. reg_alpha=100, reg_lambda=1e-05, score=0.500000, total=   0.0s\n",
      "[CV] reg_alpha=100, reg_lambda=1e-05 .................................\n",
      "[CV] .. reg_alpha=100, reg_lambda=1e-05, score=0.500000, total=   0.0s\n",
      "[CV] reg_alpha=100, reg_lambda=0.01 ..................................\n",
      "[CV] ... reg_alpha=100, reg_lambda=0.01, score=0.500000, total=   0.0s\n",
      "[CV] reg_alpha=100, reg_lambda=0.01 ..................................\n",
      "[CV] ... reg_alpha=100, reg_lambda=0.01, score=0.500000, total=   0.0s\n",
      "[CV] reg_alpha=100, reg_lambda=0.01 ..................................\n",
      "[CV] ... reg_alpha=100, reg_lambda=0.01, score=0.500000, total=   0.0s\n",
      "[CV] reg_alpha=100, reg_lambda=0.01 ..................................\n",
      "[CV] ... reg_alpha=100, reg_lambda=0.01, score=0.500000, total=   0.0s"
     ]
    },
    {
     "name": "stderr",
     "output_type": "stream",
     "text": [
      "c:\\users\\artem\\anaconda3\\envs\\lasagne2.7\\lib\\site-packages\\xgboost-0.6-py2.7.egg\\xgboost\\sklearn.py:171: DeprecationWarning: The nthread parameter is deprecated as of version .6.Please use n_jobs instead.nthread is deprecated.\n",
      "  'nthread is deprecated.', DeprecationWarning)\n",
      "c:\\users\\artem\\anaconda3\\envs\\lasagne2.7\\lib\\site-packages\\xgboost-0.6-py2.7.egg\\xgboost\\sklearn.py:171: DeprecationWarning: The nthread parameter is deprecated as of version .6.Please use n_jobs instead.nthread is deprecated.\n",
      "  'nthread is deprecated.', DeprecationWarning)\n",
      "c:\\users\\artem\\anaconda3\\envs\\lasagne2.7\\lib\\site-packages\\xgboost-0.6-py2.7.egg\\xgboost\\sklearn.py:171: DeprecationWarning: The nthread parameter is deprecated as of version .6.Please use n_jobs instead.nthread is deprecated.\n",
      "  'nthread is deprecated.', DeprecationWarning)\n",
      "c:\\users\\artem\\anaconda3\\envs\\lasagne2.7\\lib\\site-packages\\xgboost-0.6-py2.7.egg\\xgboost\\sklearn.py:171: DeprecationWarning: The nthread parameter is deprecated as of version .6.Please use n_jobs instead.nthread is deprecated.\n",
      "  'nthread is deprecated.', DeprecationWarning)\n",
      "c:\\users\\artem\\anaconda3\\envs\\lasagne2.7\\lib\\site-packages\\xgboost-0.6-py2.7.egg\\xgboost\\sklearn.py:171: DeprecationWarning: The nthread parameter is deprecated as of version .6.Please use n_jobs instead.nthread is deprecated.\n",
      "  'nthread is deprecated.', DeprecationWarning)\n",
      "c:\\users\\artem\\anaconda3\\envs\\lasagne2.7\\lib\\site-packages\\xgboost-0.6-py2.7.egg\\xgboost\\sklearn.py:171: DeprecationWarning: The nthread parameter is deprecated as of version .6.Please use n_jobs instead.nthread is deprecated.\n",
      "  'nthread is deprecated.', DeprecationWarning)\n",
      "c:\\users\\artem\\anaconda3\\envs\\lasagne2.7\\lib\\site-packages\\xgboost-0.6-py2.7.egg\\xgboost\\sklearn.py:171: DeprecationWarning: The nthread parameter is deprecated as of version .6.Please use n_jobs instead.nthread is deprecated.\n",
      "  'nthread is deprecated.', DeprecationWarning)\n",
      "c:\\users\\artem\\anaconda3\\envs\\lasagne2.7\\lib\\site-packages\\xgboost-0.6-py2.7.egg\\xgboost\\sklearn.py:171: DeprecationWarning: The nthread parameter is deprecated as of version .6.Please use n_jobs instead.nthread is deprecated.\n",
      "  'nthread is deprecated.', DeprecationWarning)\n",
      "c:\\users\\artem\\anaconda3\\envs\\lasagne2.7\\lib\\site-packages\\xgboost-0.6-py2.7.egg\\xgboost\\sklearn.py:171: DeprecationWarning: The nthread parameter is deprecated as of version .6.Please use n_jobs instead.nthread is deprecated.\n",
      "  'nthread is deprecated.', DeprecationWarning)\n",
      "c:\\users\\artem\\anaconda3\\envs\\lasagne2.7\\lib\\site-packages\\xgboost-0.6-py2.7.egg\\xgboost\\sklearn.py:171: DeprecationWarning: The nthread parameter is deprecated as of version .6.Please use n_jobs instead.nthread is deprecated.\n",
      "  'nthread is deprecated.', DeprecationWarning)\n",
      "c:\\users\\artem\\anaconda3\\envs\\lasagne2.7\\lib\\site-packages\\xgboost-0.6-py2.7.egg\\xgboost\\sklearn.py:171: DeprecationWarning: The nthread parameter is deprecated as of version .6.Please use n_jobs instead.nthread is deprecated.\n",
      "  'nthread is deprecated.', DeprecationWarning)\n"
     ]
    },
    {
     "name": "stdout",
     "output_type": "stream",
     "text": [
      "\n",
      "[CV] reg_alpha=100, reg_lambda=0.1 ...................................\n",
      "[CV] .... reg_alpha=100, reg_lambda=0.1, score=0.500000, total=   0.0s\n",
      "[CV] reg_alpha=100, reg_lambda=0.1 ...................................\n",
      "[CV] .... reg_alpha=100, reg_lambda=0.1, score=0.500000, total=   0.0s\n",
      "[CV] reg_alpha=100, reg_lambda=0.1 ...................................\n",
      "[CV] .... reg_alpha=100, reg_lambda=0.1, score=0.500000, total=   0.0s\n",
      "[CV] reg_alpha=100, reg_lambda=0.1 ...................................\n",
      "[CV] .... reg_alpha=100, reg_lambda=0.1, score=0.500000, total=   0.0s\n",
      "[CV] reg_alpha=100, reg_lambda=1 .....................................\n",
      "[CV] ...... reg_alpha=100, reg_lambda=1, score=0.500000, total=   0.0s\n",
      "[CV] reg_alpha=100, reg_lambda=1 .....................................\n",
      "[CV] ...... reg_alpha=100, reg_lambda=1, score=0.500000, total=   0.0s\n",
      "[CV] reg_alpha=100, reg_lambda=1 .....................................\n",
      "[CV] ...... reg_alpha=100, reg_lambda=1, score=0.500000, total=   0.0s\n",
      "[CV] reg_alpha=100, reg_lambda=1 .....................................\n",
      "[CV] ...... reg_alpha=100, reg_lambda=1, score=0.500000, total=   0.0s\n",
      "[CV] reg_alpha=100, reg_lambda=100 ...................................\n",
      "[CV] .... reg_alpha=100, reg_lambda=100, score=0.500000, total=   0.0s\n",
      "[CV] reg_alpha=100, reg_lambda=100 ...................................\n",
      "[CV] .... reg_alpha=100, reg_lambda=100, score=0.500000, total=   0.0s\n",
      "[CV] reg_alpha=100, reg_lambda=100 ...................................\n"
     ]
    },
    {
     "name": "stderr",
     "output_type": "stream",
     "text": [
      "c:\\users\\artem\\anaconda3\\envs\\lasagne2.7\\lib\\site-packages\\xgboost-0.6-py2.7.egg\\xgboost\\sklearn.py:171: DeprecationWarning: The nthread parameter is deprecated as of version .6.Please use n_jobs instead.nthread is deprecated.\n",
      "  'nthread is deprecated.', DeprecationWarning)\n",
      "c:\\users\\artem\\anaconda3\\envs\\lasagne2.7\\lib\\site-packages\\xgboost-0.6-py2.7.egg\\xgboost\\sklearn.py:171: DeprecationWarning: The nthread parameter is deprecated as of version .6.Please use n_jobs instead.nthread is deprecated.\n",
      "  'nthread is deprecated.', DeprecationWarning)\n",
      "c:\\users\\artem\\anaconda3\\envs\\lasagne2.7\\lib\\site-packages\\xgboost-0.6-py2.7.egg\\xgboost\\sklearn.py:171: DeprecationWarning: The nthread parameter is deprecated as of version .6.Please use n_jobs instead.nthread is deprecated.\n",
      "  'nthread is deprecated.', DeprecationWarning)\n",
      "c:\\users\\artem\\anaconda3\\envs\\lasagne2.7\\lib\\site-packages\\xgboost-0.6-py2.7.egg\\xgboost\\sklearn.py:171: DeprecationWarning: The nthread parameter is deprecated as of version .6.Please use n_jobs instead.nthread is deprecated.\n",
      "  'nthread is deprecated.', DeprecationWarning)\n",
      "c:\\users\\artem\\anaconda3\\envs\\lasagne2.7\\lib\\site-packages\\xgboost-0.6-py2.7.egg\\xgboost\\sklearn.py:171: DeprecationWarning: The nthread parameter is deprecated as of version .6.Please use n_jobs instead.nthread is deprecated.\n",
      "  'nthread is deprecated.', DeprecationWarning)\n"
     ]
    },
    {
     "name": "stdout",
     "output_type": "stream",
     "text": [
      "[CV] .... reg_alpha=100, reg_lambda=100, score=0.500000, total=   0.0s\n",
      "[CV] reg_alpha=100, reg_lambda=100 ...................................\n",
      "[CV] .... reg_alpha=100, reg_lambda=100, score=0.500000, total=   0.0s\n"
     ]
    },
    {
     "name": "stderr",
     "output_type": "stream",
     "text": [
      "c:\\users\\artem\\anaconda3\\envs\\lasagne2.7\\lib\\site-packages\\xgboost-0.6-py2.7.egg\\xgboost\\sklearn.py:171: DeprecationWarning: The nthread parameter is deprecated as of version .6.Please use n_jobs instead.nthread is deprecated.\n",
      "  'nthread is deprecated.', DeprecationWarning)\n",
      "[Parallel(n_jobs=1)]: Done 100 out of 100 | elapsed:    8.8s finished\n",
      "c:\\users\\artem\\anaconda3\\envs\\lasagne2.7\\lib\\site-packages\\xgboost-0.6-py2.7.egg\\xgboost\\sklearn.py:171: DeprecationWarning: The nthread parameter is deprecated as of version .6.Please use n_jobs instead.nthread is deprecated.\n",
      "  'nthread is deprecated.', DeprecationWarning)\n"
     ]
    },
    {
     "name": "stdout",
     "output_type": "stream",
     "text": [
      "('Best score (AUC): ', 0.86688430999798638)\n",
      "Best params: \n"
     ]
    },
    {
     "data": {
      "text/plain": [
       "{'base_score': 0.5,\n",
       " 'booster': 'gbtree',\n",
       " 'colsample_bylevel': 1,\n",
       " 'colsample_bytree': 0.9,\n",
       " 'gamma': 0.4,\n",
       " 'learning_rate': 0.1,\n",
       " 'max_delta_step': 0,\n",
       " 'max_depth': 3,\n",
       " 'min_child_weight': 1,\n",
       " 'missing': None,\n",
       " 'n_estimators': 100,\n",
       " 'n_jobs': 1,\n",
       " 'nthread': 1,\n",
       " 'objective': 'binary:logistic',\n",
       " 'random_state': 0,\n",
       " 'reg_alpha': 1,\n",
       " 'reg_lambda': 0.01,\n",
       " 'scale_pos_weight': 0.6229508196721312,\n",
       " 'seed': 0,\n",
       " 'silent': True,\n",
       " 'subsample': 0.6}"
      ]
     },
     "execution_count": 40,
     "metadata": {},
     "output_type": "execute_result"
    }
   ],
   "source": [
    "param_grid = {\n",
    "    'reg_alpha': [1e-5, 1e-2, 0.1, 1, 100],\n",
    "    'reg_lambda': [1e-5, 1e-2, 0.1, 1, 100]\n",
    "}\n",
    "\n",
    "clf = xgboost.XGBClassifier(**best_params)\n",
    "\n",
    "gs = GridSearchCV(clf, param_grid, scoring='roc_auc', cv=cv, verbose=5)\n",
    "\n",
    "gs.fit(X_train, y_train)\n",
    "best_params = gs.best_estimator_.get_params()\n",
    "print('Best score (AUC): ', gs.best_score_)\n",
    "print('Best params: ')\n",
    "best_params"
   ]
  },
  {
   "cell_type": "markdown",
   "metadata": {},
   "source": [
    "## Шаг 6. Learning rate\n",
    "Чем меньше у нас **n_estimators** в ансамбле, тем быстрее нам нужно двигаться с каждым шагом (добавлением нового классификатора), т.е. делать больший **learning_rate**. Обычно **learning rate** варьируют так, чтобы произведение **n_estimators** x **learning_rate** оставалось инвариантным"
   ]
  },
  {
   "cell_type": "code",
   "execution_count": 43,
   "metadata": {},
   "outputs": [
    {
     "name": "stderr",
     "output_type": "stream",
     "text": [
      "c:\\users\\artem\\anaconda3\\envs\\lasagne2.7\\lib\\site-packages\\xgboost-0.6-py2.7.egg\\xgboost\\sklearn.py:171: DeprecationWarning: The nthread parameter is deprecated as of version .6.Please use n_jobs instead.nthread is deprecated.\n",
      "  'nthread is deprecated.', DeprecationWarning)\n"
     ]
    },
    {
     "name": "stdout",
     "output_type": "stream",
     "text": [
      "('Best score (AUC): ', 0.92546693812516601)\n",
      "Best params: \n"
     ]
    },
    {
     "data": {
      "text/plain": [
       "{'base_score': 0.5,\n",
       " 'booster': 'gbtree',\n",
       " 'colsample_bylevel': 1,\n",
       " 'colsample_bytree': 0.9,\n",
       " 'gamma': 0.4,\n",
       " 'learning_rate': 0.0125,\n",
       " 'max_delta_step': 0,\n",
       " 'max_depth': 3,\n",
       " 'min_child_weight': 1,\n",
       " 'missing': None,\n",
       " 'n_estimators': 800,\n",
       " 'n_jobs': 1,\n",
       " 'nthread': 1,\n",
       " 'objective': 'binary:logistic',\n",
       " 'random_state': 0,\n",
       " 'reg_alpha': 1,\n",
       " 'reg_lambda': 0.01,\n",
       " 'scale_pos_weight': 0.6229508196721312,\n",
       " 'seed': 0,\n",
       " 'silent': True,\n",
       " 'subsample': 0.6}"
      ]
     },
     "execution_count": 43,
     "metadata": {},
     "output_type": "execute_result"
    }
   ],
   "source": [
    "import numpy as np\n",
    "from sklearn.metrics import roc_auc_score\n",
    "\n",
    "clf = xgboost.XGBClassifier(**best_params)\n",
    "best_n_estimators = clf.get_params()['n_estimators'] # возьмём наилучшие значения n_estimators с предыдущего шага\n",
    "best_learning_rate = best_params['learning_rate'] # аналогичная запись\n",
    "invariant_composition = best_n_estimators * best_learning_rate\n",
    "n_estimators_range = [10, 30, 100, 200, 400, 600, 800, 1000]\n",
    "\n",
    "best_score = gs.best_score_ # возьмём наилучшее качество с предыдущего шага\n",
    "\n",
    "for n_estimators in n_estimators_range:\n",
    "    learning_rate = invariant_composition / n_estimators\n",
    "    clf.set_params(n_estimators=n_estimators, learning_rate=learning_rate)\n",
    "    aucs = []\n",
    "    for train_idx, test_idx in cv.split(X_train):\n",
    "        X_train_fold, X_test_fold = X_train.iloc[train_idx], X_train.iloc[test_idx]\n",
    "        y_train_fold, y_test_fold = y_train.iloc[train_idx], y_train.iloc[test_idx]\n",
    "        clf.fit(X_train_fold, y_train_fold)\n",
    "        preds = clf.predict_proba(X_test_fold)\n",
    "        auc = roc_auc_score(y_test_fold, preds[:, 1])\n",
    "        aucs.append(auc)\n",
    "    auc = np.mean(auc)\n",
    "    if auc > best_score:\n",
    "        best_n_estimators = n_estimators\n",
    "        best_learning_rate = learning_rate\n",
    "        best_score = auc\n",
    "        \n",
    "best_params['n_estimators'] = best_n_estimators\n",
    "best_params['learning_rate'] = best_learning_rate\n",
    "\n",
    "print('Best score (AUC): ', best_score)\n",
    "print('Best params: ')\n",
    "best_params"
   ]
  },
  {
   "cell_type": "markdown",
   "metadata": {},
   "source": [
    "# Выведем важность признаков"
   ]
  },
  {
   "cell_type": "code",
   "execution_count": 47,
   "metadata": {},
   "outputs": [
    {
     "name": "stdout",
     "output_type": "stream",
     "text": [
      "Feature: \"Age\"\tFeature importance: 0.2828\n",
      "Feature: \"SibSp\"\tFeature importance: 0.0719\n",
      "Feature: \"Parch\"\tFeature importance: 0.0415\n",
      "Feature: \"Fare\"\tFeature importance: 0.3659\n",
      "Feature: \"Sex_male\"\tFeature importance: 0.0969\n",
      "Feature: \"Pclass_2\"\tFeature importance: 0.0210\n",
      "Feature: \"Pclass_3\"\tFeature importance: 0.0667\n",
      "Feature: \"Embarked_Q\"\tFeature importance: 0.0102\n",
      "Feature: \"Embarked_S\"\tFeature importance: 0.0431\n"
     ]
    }
   ],
   "source": [
    "for feature_name, feature_importance in zip(X_train.columns, clf.feature_importances_):\n",
    "    print('Feature: \"%s\"\\tFeature importance: %.4f' % (feature_name, feature_importance))"
   ]
  },
  {
   "cell_type": "markdown",
   "metadata": {},
   "source": [
    "# HyperOpt"
   ]
  },
  {
   "cell_type": "code",
   "execution_count": 48,
   "metadata": {},
   "outputs": [
    {
     "name": "stdout",
     "output_type": "stream",
     "text": [
      "^C\n"
     ]
    }
   ],
   "source": [
    "!pip install hyperopt\n",
    "!pip install networkx==1.11"
   ]
  },
  {
   "cell_type": "code",
   "execution_count": null,
   "metadata": {},
   "outputs": [
    {
     "name": "stdout",
     "output_type": "stream",
     "text": [
      "Training with params : \n",
      "{'reg_alpha': 0.0, 'colsample_bytree': 0.8500000000000001, 'silent': 1, 'scale_pos_weight': 9.5, 'learning_rate': 0.2, 'min_child_weight': 3.0, 'n_estimators': 270.0, 'subsample': 0.9500000000000001, 'reg_lambda': 1.0, 'objective': 'reg:linear', 'max_depth': 7.0, 'gamma': 0.75}\n",
      "{'status': 'ok', 'loss': 0.9290969899665551}\n",
      "Training with params : \n",
      "{'reg_alpha': 0.0, 'colsample_bytree': 0.6000000000000001, 'silent': 1, 'scale_pos_weight': 8.0, 'learning_rate': 0.5, 'min_child_weight': 4.0, 'n_estimators': 770.0, 'subsample': 0.9500000000000001, 'reg_lambda': 1.0, 'objective': 'reg:linear', 'max_depth': 7.0, 'gamma': 0.7000000000000001}\n",
      "{'status': 'ok', 'loss': 0.83310433662516103}\n",
      "Training with params : \n",
      "{'reg_alpha': 0.0, 'colsample_bytree': 0.7000000000000001, 'silent': 1, 'scale_pos_weight': 2.0, 'learning_rate': 0.375, 'min_child_weight': 3.0, 'n_estimators': 645.0, 'subsample': 0.8, 'reg_lambda': 1.0, 'objective': 'reg:linear', 'max_depth': 5.0, 'gamma': 0.6000000000000001}\n",
      "{'status': 'ok', 'loss': 0.88182205193699448}\n",
      "Training with params : \n",
      "{'reg_alpha': 0.0, 'colsample_bytree': 0.75, 'silent': 1, 'scale_pos_weight': 1.5, 'learning_rate': 0.07500000000000001, 'min_child_weight': 3.0, 'n_estimators': 145.0, 'subsample': 0.9, 'reg_lambda': 1.0, 'objective': 'reg:linear', 'max_depth': 10.0, 'gamma': 0.6000000000000001}\n",
      "{'status': 'ok', 'loss': 0.8492915414340918}\n",
      "Training with params : \n",
      "{'reg_alpha': 0.0, 'colsample_bytree': 0.5, 'silent': 1, 'scale_pos_weight': 5.5, 'learning_rate': 0.225, 'min_child_weight': 6.0, 'n_estimators': 850.0, 'subsample': 0.9, 'reg_lambda': 1.0, 'objective': 'reg:linear', 'max_depth': 3.0, 'gamma': 0.8}\n",
      "{'status': 'ok', 'loss': 0.86657831737346103}\n",
      "Training with params : \n",
      "{'reg_alpha': 0.0, 'colsample_bytree': 0.9, 'silent': 1, 'scale_pos_weight': 1.0, 'learning_rate': 0.07500000000000001, 'min_child_weight': 2.0, 'n_estimators': 325.0, 'subsample': 0.6000000000000001, 'reg_lambda': 1.0, 'objective': 'reg:linear', 'max_depth': 3.0, 'gamma': 0.7000000000000001}\n",
      "{'status': 'ok', 'loss': 0.84181338028169017}\n",
      "Training with params : \n",
      "{'reg_alpha': 0.0, 'colsample_bytree': 0.8, 'silent': 1, 'scale_pos_weight': 3.5, 'learning_rate': 0.35000000000000003, 'min_child_weight': 3.0, 'n_estimators': 645.0, 'subsample': 0.75, 'reg_lambda': 1.0, 'objective': 'reg:linear', 'max_depth': 1.0, 'gamma': 0.9}\n",
      "{'status': 'ok', 'loss': 0.86262541806020077}\n",
      "Training with params : \n",
      "{'reg_alpha': 0.0, 'colsample_bytree': 1.0, 'silent': 1, 'scale_pos_weight': 4.0, 'learning_rate': 0.125, 'min_child_weight': 1.0, 'n_estimators': 505.0, 'subsample': 0.65, 'reg_lambda': 1.0, 'objective': 'reg:linear', 'max_depth': 5.0, 'gamma': 0.75}\n",
      "{'status': 'ok', 'loss': 0.87789351851851871}\n",
      "Training with params : \n",
      "{'reg_alpha': 0.0, 'colsample_bytree': 0.6000000000000001, 'silent': 1, 'scale_pos_weight': 4.0, 'learning_rate': 0.375, 'min_child_weight': 4.0, 'n_estimators': 700.0, 'subsample': 0.9500000000000001, 'reg_lambda': 1.0, 'objective': 'reg:linear', 'max_depth': 9.0, 'gamma': 0.55}\n",
      "{'status': 'ok', 'loss': 0.8678180574555403}\n",
      "Training with params : \n",
      "{'reg_alpha': 0.0, 'colsample_bytree': 0.9500000000000001, 'silent': 1, 'scale_pos_weight': 5.5, 'learning_rate': 0.30000000000000004, 'min_child_weight': 5.0, 'n_estimators': 625.0, 'subsample': 0.8, 'reg_lambda': 1.0, 'objective': 'reg:linear', 'max_depth': 7.0, 'gamma': 0.9500000000000001}\n",
      "{'status': 'ok', 'loss': 0.83410278745644595}\n",
      "Training with params : \n",
      "{'reg_alpha': 0.0, 'colsample_bytree': 0.75, 'silent': 1, 'scale_pos_weight': 5.0, 'learning_rate': 0.17500000000000002, 'min_child_weight': 5.0, 'n_estimators': 505.0, 'subsample': 0.7000000000000001, 'reg_lambda': 1.0, 'objective': 'reg:linear', 'max_depth': 2.0, 'gamma': 0.7000000000000001}\n",
      "{'status': 'ok', 'loss': 0.87718023255813959}\n",
      "Training with params : \n",
      "{'reg_alpha': 0.0, 'colsample_bytree': 0.75, 'silent': 1, 'scale_pos_weight': 6.0, 'learning_rate': 0.25, 'min_child_weight': 2.0, 'n_estimators': 400.0, 'subsample': 0.65, 'reg_lambda': 1.0, 'objective': 'reg:linear', 'max_depth': 7.0, 'gamma': 0.8}\n",
      "{'status': 'ok', 'loss': 0.81541434091884912}\n",
      "Training with params : \n",
      "{'reg_alpha': 0.0, 'colsample_bytree': 0.75, 'silent': 1, 'scale_pos_weight': 3.5, 'learning_rate': 0.47500000000000003, 'min_child_weight': 2.0, 'n_estimators': 610.0, 'subsample': 0.65, 'reg_lambda': 1.0, 'objective': 'reg:linear', 'max_depth': 2.0, 'gamma': 0.6000000000000001}\n",
      "{'status': 'ok', 'loss': 0.87587792642140472}\n",
      "Training with params : \n",
      "{'reg_alpha': 0.0, 'colsample_bytree': 0.65, 'silent': 1, 'scale_pos_weight': 4.5, 'learning_rate': 0.35000000000000003, 'min_child_weight': 2.0, 'n_estimators': 400.0, 'subsample': 0.6000000000000001, 'reg_lambda': 1.0, 'objective': 'reg:linear', 'max_depth': 7.0, 'gamma': 0.9500000000000001}\n",
      "{'status': 'ok', 'loss': 0.84713187463039619}\n",
      "Training with params : \n",
      "{'reg_alpha': 0.0, 'colsample_bytree': 0.9, 'silent': 1, 'scale_pos_weight': 9.5, 'learning_rate': 0.225, 'min_child_weight': 5.0, 'n_estimators': 835.0, 'subsample': 0.7000000000000001, 'reg_lambda': 1.0, 'objective': 'reg:linear', 'max_depth': 4.0, 'gamma': 0.8500000000000001}\n",
      "{'status': 'ok', 'loss': 0.83738785369220148}\n",
      "Training with params : \n",
      "{'reg_alpha': 0.0, 'colsample_bytree': 0.9, 'silent': 1, 'scale_pos_weight': 7.0, 'learning_rate': 0.275, 'min_child_weight': 5.0, 'n_estimators': 790.0, 'subsample': 0.6000000000000001, 'reg_lambda': 1.0, 'objective': 'reg:linear', 'max_depth': 5.0, 'gamma': 0.5}\n",
      "{'status': 'ok', 'loss': 0.8491809116809117}\n",
      "Training with params : \n",
      "{'reg_alpha': 0.0, 'colsample_bytree': 0.9500000000000001, 'silent': 1, 'scale_pos_weight': 6.5, 'learning_rate': 0.07500000000000001, 'min_child_weight': 1.0, 'n_estimators': 550.0, 'subsample': 0.9500000000000001, 'reg_lambda': 1.0, 'objective': 'reg:linear', 'max_depth': 9.0, 'gamma': 0.5}\n",
      "{'status': 'ok', 'loss': 0.8607394366197183}\n",
      "Training with params : \n",
      "{'reg_alpha': 0.0, 'colsample_bytree': 0.5, 'silent': 1, 'scale_pos_weight': 5.0, 'learning_rate': 0.025, 'min_child_weight': 4.0, 'n_estimators': 195.0, 'subsample': 0.5, 'reg_lambda': 1.0, 'objective': 'reg:linear', 'max_depth': 7.0, 'gamma': 0.9}\n",
      "{'status': 'ok', 'loss': 0.85788327526132413}\n",
      "Training with params : \n",
      "{'reg_alpha': 0.0, 'colsample_bytree': 0.7000000000000001, 'silent': 1, 'scale_pos_weight': 7.5, 'learning_rate': 0.325, 'min_child_weight': 3.0, 'n_estimators': 460.0, 'subsample': 0.9, 'reg_lambda': 1.0, 'objective': 'reg:linear', 'max_depth': 5.0, 'gamma': 0.8}\n",
      "{'status': 'ok', 'loss': 0.8025931336742147}\n",
      "Training with params : \n",
      "{'reg_alpha': 0.0, 'colsample_bytree': 0.75, 'silent': 1, 'scale_pos_weight': 3.5, 'learning_rate': 0.35000000000000003, 'min_child_weight': 2.0, 'n_estimators': 350.0, 'subsample': 0.7000000000000001, 'reg_lambda': 1.0, 'objective': 'reg:linear', 'max_depth': 9.0, 'gamma': 0.65}\n",
      "{'status': 'ok', 'loss': 0.88165176670923795}\n",
      "Training with params : \n",
      "{'reg_alpha': 0.0, 'colsample_bytree': 0.65, 'silent': 1, 'scale_pos_weight': 8.0, 'learning_rate': 0.42500000000000004, 'min_child_weight': 1.0, 'n_estimators': 985.0, 'subsample': 0.8500000000000001, 'reg_lambda': 1.0, 'objective': 'reg:linear', 'max_depth': 6.0, 'gamma': 0.8}\n",
      "{'status': 'ok', 'loss': 0.86668928086838537}\n",
      "Training with params : \n",
      "{'reg_alpha': 0.0, 'colsample_bytree': 0.8, 'silent': 1, 'scale_pos_weight': 8.0, 'learning_rate': 0.30000000000000004, 'min_child_weight': 2.0, 'n_estimators': 430.0, 'subsample': 0.55, 'reg_lambda': 1.0, 'objective': 'reg:linear', 'max_depth': 6.0, 'gamma': 0.8500000000000001}\n",
      "{'status': 'ok', 'loss': 0.89497211649110386}\n",
      "Training with params : \n",
      "{'reg_alpha': 0.0, 'colsample_bytree': 0.65, 'silent': 1, 'scale_pos_weight': 6.5, 'learning_rate': 0.42500000000000004, 'min_child_weight': 3.0, 'n_estimators': 200.0, 'subsample': 0.8, 'reg_lambda': 1.0, 'objective': 'reg:linear', 'max_depth': 8.0, 'gamma': 0.8}\n",
      "{'status': 'ok', 'loss': 0.85136300897170469}\n",
      "Training with params : \n",
      "{'reg_alpha': 0.0, 'colsample_bytree': 0.55, 'silent': 1, 'scale_pos_weight': 8.5, 'learning_rate': 0.15000000000000002, 'min_child_weight': 1.0, 'n_estimators': 460.0, 'subsample': 0.75, 'reg_lambda': 1.0, 'objective': 'reg:linear', 'max_depth': 4.0, 'gamma': 1.0}\n",
      "{'status': 'ok', 'loss': 0.84832421340629272}\n",
      "Training with params : \n",
      "{'reg_alpha': 0.0, 'colsample_bytree': 0.7000000000000001, 'silent': 1, 'scale_pos_weight': 7.0, 'learning_rate': 0.25, 'min_child_weight': 2.0, 'n_estimators': 280.0, 'subsample': 1.0, 'reg_lambda': 1.0, 'objective': 'reg:linear', 'max_depth': 6.0, 'gamma': 0.8500000000000001}\n",
      "{'status': 'ok', 'loss': 0.87620607240860404}\n",
      "Training with params : \n",
      "{'reg_alpha': 0.0, 'colsample_bytree': 0.8, 'silent': 1, 'scale_pos_weight': 9.0, 'learning_rate': 0.30000000000000004, 'min_child_weight': 4.0, 'n_estimators': 375.0, 'subsample': 0.5, 'reg_lambda': 1.0, 'objective': 'reg:linear', 'max_depth': 8.0, 'gamma': 0.9}\n",
      "{'status': 'ok', 'loss': 0.88871635610766053}\n",
      "Training with params : \n",
      "{'reg_alpha': 0.0, 'colsample_bytree': 0.7000000000000001, 'silent': 1, 'scale_pos_weight': 6.0, 'learning_rate': 0.42500000000000004, 'min_child_weight': 3.0, 'n_estimators': 105.0, 'subsample': 0.8500000000000001, 'reg_lambda': 1.0, 'objective': 'reg:linear', 'max_depth': 4.0, 'gamma': 0.75}\n",
      "{'status': 'ok', 'loss': 0.87367476060191518}\n",
      "Training with params : \n",
      "{'reg_alpha': 0.0, 'colsample_bytree': 0.8500000000000001, 'silent': 1, 'scale_pos_weight': 7.5, 'learning_rate': 0.25, 'min_child_weight': 2.0, 'n_estimators': 265.0, 'subsample': 0.55, 'reg_lambda': 1.0, 'objective': 'reg:linear', 'max_depth': 8.0, 'gamma': 0.8}\n",
      "{'status': 'ok', 'loss': 0.87952018212065486}\n",
      "Training with params : \n",
      "{'reg_alpha': 0.0, 'colsample_bytree': 0.8500000000000001, 'silent': 1, 'scale_pos_weight': 10.0, 'learning_rate': 0.2, 'min_child_weight': 3.0, 'n_estimators': 550.0, 'subsample': 1.0, 'reg_lambda': 1.0, 'objective': 'reg:linear', 'max_depth': 6.0, 'gamma': 0.75}\n",
      "{'status': 'ok', 'loss': 0.86157810255977019}\n",
      "Training with params : \n",
      "{'reg_alpha': 0.0, 'colsample_bytree': 0.55, 'silent': 1, 'scale_pos_weight': 2.5, 'learning_rate': 0.275, 'min_child_weight': 1.0, 'n_estimators': 285.0, 'subsample': 0.65, 'reg_lambda': 1.0, 'objective': 'reg:linear', 'max_depth': 5.0, 'gamma': 0.65}\n",
      "{'status': 'ok', 'loss': 0.88659793814432986}\n",
      "Training with params : \n",
      "{'reg_alpha': 0.0, 'colsample_bytree': 0.6000000000000001, 'silent': 1, 'scale_pos_weight': 9.0, 'learning_rate': 0.125, 'min_child_weight': 3.0, 'n_estimators': 470.0, 'subsample': 0.8500000000000001, 'reg_lambda': 1.0, 'objective': 'reg:linear', 'max_depth': 3.0, 'gamma': 0.9500000000000001}\n",
      "{'status': 'ok', 'loss': 0.81468441391155011}\n",
      "Training with params : \n",
      "{'reg_alpha': 0.0, 'colsample_bytree': 0.6000000000000001, 'silent': 1, 'scale_pos_weight': 10.0, 'learning_rate': 0.025, 'min_child_weight': 4.0, 'n_estimators': 710.0, 'subsample': 0.9, 'reg_lambda': 1.0, 'objective': 'reg:linear', 'max_depth': 3.0, 'gamma': 0.9500000000000001}\n",
      "{'status': 'ok', 'loss': 0.86863382512294729}\n",
      "Training with params : \n",
      "{'reg_alpha': 0.0, 'colsample_bytree': 0.55, 'silent': 1, 'scale_pos_weight': 9.0, 'learning_rate': 0.125, 'min_child_weight': 4.0, 'n_estimators': 475.0, 'subsample': 0.8500000000000001, 'reg_lambda': 1.0, 'objective': 'reg:linear', 'max_depth': 1.0, 'gamma': 1.0}\n",
      "{'status': 'ok', 'loss': 0.875}\n",
      "Training with params : \n",
      "{'reg_alpha': 0.0, 'colsample_bytree': 0.65, 'silent': 1, 'scale_pos_weight': 9.0, 'learning_rate': 0.5, 'min_child_weight': 3.0, 'n_estimators': 940.0, 'subsample': 0.9, 'reg_lambda': 1.0, 'objective': 'reg:linear', 'max_depth': 2.0, 'gamma': 1.0}\n",
      "{'status': 'ok', 'loss': 0.84499128919860633}\n",
      "Training with params : \n",
      "{'reg_alpha': 0.0, 'colsample_bytree': 0.7000000000000001, 'silent': 1, 'scale_pos_weight': 7.5, 'learning_rate': 0.17500000000000002, 'min_child_weight': 6.0, 'n_estimators': 600.0, 'subsample': 1.0, 'reg_lambda': 1.0, 'objective': 'reg:linear', 'max_depth': 3.0, 'gamma': 0.9500000000000001}\n",
      "{'status': 'ok', 'loss': 0.87300979140059598}\n",
      "Training with params : \n",
      "{'reg_alpha': 0.0, 'colsample_bytree': 0.6000000000000001, 'silent': 1, 'scale_pos_weight': 9.5, 'learning_rate': 0.07500000000000001, 'min_child_weight': 3.0, 'n_estimators': 720.0, 'subsample': 0.8, 'reg_lambda': 1.0, 'objective': 'reg:linear', 'max_depth': 4.0, 'gamma': 0.9}\n",
      "{'status': 'ok', 'loss': 0.85004868549172341}\n",
      "Training with params : \n",
      "{'reg_alpha': 0.0, 'colsample_bytree': 0.5, 'silent': 1, 'scale_pos_weight': 8.5, 'learning_rate': 0.125, 'min_child_weight': 3.0, 'n_estimators': 225.0, 'subsample': 0.9500000000000001, 'reg_lambda': 1.0, 'objective': 'reg:linear', 'max_depth': 2.0, 'gamma': 0.8500000000000001}\n",
      "{'status': 'ok', 'loss': 0.91435282274976937}\n",
      "Training with params : \n",
      "{'reg_alpha': 0.0, 'colsample_bytree': 0.55, 'silent': 1, 'scale_pos_weight': 7.5, 'learning_rate': 0.4, 'min_child_weight': 4.0, 'n_estimators': 330.0, 'subsample': 0.8500000000000001, 'reg_lambda': 1.0, 'objective': 'reg:linear', 'max_depth': 3.0, 'gamma': 0.7000000000000001}\n",
      "{'status': 'ok', 'loss': 0.90540890269151142}\n",
      "Training with params : \n",
      "{'reg_alpha': 0.0, 'colsample_bytree': 0.8, 'silent': 1, 'scale_pos_weight': 8.5, 'learning_rate': 0.325, 'min_child_weight': 3.0, 'n_estimators': 110.0, 'subsample': 0.9, 'reg_lambda': 1.0, 'objective': 'reg:linear', 'max_depth': 1.0, 'gamma': 0.65}\n",
      "{'status': 'ok', 'loss': 0.88231292517006799}\n",
      "Training with params : \n",
      "{'reg_alpha': 0.0, 'colsample_bytree': 0.7000000000000001, 'silent': 1, 'scale_pos_weight': 6.5, 'learning_rate': 0.05, 'min_child_weight': 6.0, 'n_estimators': 580.0, 'subsample': 0.75, 'reg_lambda': 1.0, 'objective': 'reg:linear', 'max_depth': 5.0, 'gamma': 0.7000000000000001}\n",
      "{'status': 'ok', 'loss': 0.86240857712765961}\n",
      "Training with params : \n",
      "{'reg_alpha': 0.0, 'colsample_bytree': 0.6000000000000001, 'silent': 1, 'scale_pos_weight': 7.0, 'learning_rate': 0.2, 'min_child_weight': 5.0, 'n_estimators': 670.0, 'subsample': 0.9, 'reg_lambda': 1.0, 'objective': 'reg:linear', 'max_depth': 4.0, 'gamma': 0.9}\n",
      "{'status': 'ok', 'loss': 0.87554713804713802}\n",
      "Training with params : \n",
      "{'reg_alpha': 0.0, 'colsample_bytree': 0.6000000000000001, 'silent': 1, 'scale_pos_weight': 0.5, 'learning_rate': 0.1, 'min_child_weight': 4.0, 'n_estimators': 500.0, 'subsample': 0.8, 'reg_lambda': 1.0, 'objective': 'reg:linear', 'max_depth': 5.0, 'gamma': 0.55}\n",
      "{'status': 'ok', 'loss': 0.844763630089717}\n",
      "Training with params : \n",
      "{'reg_alpha': 0.0, 'colsample_bytree': 0.65, 'silent': 1, 'scale_pos_weight': 10.0, 'learning_rate': 0.47500000000000003, 'min_child_weight': 3.0, 'n_estimators': 760.0, 'subsample': 0.9500000000000001, 'reg_lambda': 1.0, 'objective': 'reg:linear', 'max_depth': 3.0, 'gamma': 1.0}\n",
      "{'status': 'ok', 'loss': 0.89867383201872231}\n",
      "Training with params : \n",
      "{'reg_alpha': 0.0, 'colsample_bytree': 0.55, 'silent': 1, 'scale_pos_weight': 6.0, 'learning_rate': 0.375, 'min_child_weight': 2.0, 'n_estimators': 415.0, 'subsample': 0.8500000000000001, 'reg_lambda': 1.0, 'objective': 'reg:linear', 'max_depth': 1.0, 'gamma': 0.75}\n",
      "{'status': 'ok', 'loss': 0.8179030252797348}\n",
      "Training with params : \n",
      "{'reg_alpha': 0.0, 'colsample_bytree': 0.5, 'silent': 1, 'scale_pos_weight': 5.5, 'learning_rate': 0.225, 'min_child_weight': 4.0, 'n_estimators': 895.0, 'subsample': 0.75, 'reg_lambda': 1.0, 'objective': 'reg:linear', 'max_depth': 2.0, 'gamma': 0.9500000000000001}\n",
      "{'status': 'ok', 'loss': 0.87964808875790945}\n",
      "Training with params : \n",
      "{'reg_alpha': 0.0, 'colsample_bytree': 0.7000000000000001, 'silent': 1, 'scale_pos_weight': 9.5, 'learning_rate': 0.17500000000000002, 'min_child_weight': 2.0, 'n_estimators': 655.0, 'subsample': 1.0, 'reg_lambda': 1.0, 'objective': 'reg:linear', 'max_depth': 4.0, 'gamma': 0.8500000000000001}\n",
      "{'status': 'ok', 'loss': 0.84084448160535108}\n",
      "Training with params : \n",
      "{'reg_alpha': 0.0, 'colsample_bytree': 0.75, 'silent': 1, 'scale_pos_weight': 8.0, 'learning_rate': 0.325, 'min_child_weight': 3.0, 'n_estimators': 525.0, 'subsample': 0.9500000000000001, 'reg_lambda': 1.0, 'objective': 'reg:linear', 'max_depth': 3.0, 'gamma': 0.6000000000000001}\n",
      "{'status': 'ok', 'loss': 0.87344720496894401}\n",
      "Training with params : \n",
      "{'reg_alpha': 0.0, 'colsample_bytree': 0.65, 'silent': 1, 'scale_pos_weight': 2.0, 'learning_rate': 0.45, 'min_child_weight': 5.0, 'n_estimators': 455.0, 'subsample': 0.8, 'reg_lambda': 1.0, 'objective': 'reg:linear', 'max_depth': 6.0, 'gamma': 0.8}\n",
      "{'status': 'ok', 'loss': 0.87765338110165692}\n",
      "Training with params : \n",
      "{'reg_alpha': 0.0, 'colsample_bytree': 1.0, 'silent': 1, 'scale_pos_weight': 4.5, 'learning_rate': 0.325, 'min_child_weight': 4.0, 'n_estimators': 160.0, 'subsample': 0.7000000000000001, 'reg_lambda': 1.0, 'objective': 'reg:linear', 'max_depth': 5.0, 'gamma': 0.9500000000000001}\n",
      "{'status': 'ok', 'loss': 0.84098432055749128}\n",
      "Training with params : \n",
      "{'reg_alpha': 0.0, 'colsample_bytree': 0.8, 'silent': 1, 'scale_pos_weight': 9.0, 'learning_rate': 0.1, 'min_child_weight': 2.0, 'n_estimators': 365.0, 'subsample': 0.9500000000000001, 'reg_lambda': 1.0, 'objective': 'reg:linear', 'max_depth': 2.0, 'gamma': 0.55}\n",
      "{'status': 'ok', 'loss': 0.83278746569885809}\n",
      "Training with params : \n",
      "{'reg_alpha': 0.0, 'colsample_bytree': 0.6000000000000001, 'silent': 1, 'scale_pos_weight': 3.0, 'learning_rate': 0.225, 'min_child_weight': 1.0, 'n_estimators': 315.0, 'subsample': 0.9, 'reg_lambda': 1.0, 'objective': 'reg:linear', 'max_depth': 7.0, 'gamma': 0.9}\n"
     ]
    }
   ],
   "source": [
    "from hyperopt import hp\n",
    "from hyperopt import fmin, tpe, hp, STATUS_OK, Trials\n",
    "\n",
    "# в этой функции мы проверяем, как ведёт себя модель при заданных параметрах\n",
    "def score(params):\n",
    "    print(\"Training with params : \")\n",
    "    print(params)\n",
    "    params['n_estimators'] = int(params['n_estimators'])\n",
    "    model = xgboost.XGBClassifier(**params)\n",
    "    aucs = []\n",
    "    # Для оценки качества используем KFold, который определили выше\n",
    "    for train_idx, test_idx in cv.split(X_train):\n",
    "        X_train_fold, X_test_fold = X_train.iloc[train_idx], X_train.iloc[test_idx]\n",
    "        y_train_fold, y_test_fold = y_train.iloc[train_idx], y_train.iloc[test_idx]\n",
    "        clf.fit(X_train_fold, y_train_fold)\n",
    "        preds = clf.predict_proba(X_test_fold)\n",
    "        auc = roc_auc_score(y_test_fold, preds[:, 1])\n",
    "        aucs.append(auc)\n",
    "    auc = np.mean(auc)\n",
    "    result = {'loss': auc, 'status': STATUS_OK}\n",
    "    print(result)\n",
    "    return result\n",
    "\n",
    "\n",
    "# это наша главная функция, в которой мы задаём параметры\n",
    "def optimize(trials):\n",
    "    space = {\n",
    "             'n_estimators' : hp.quniform('n_estimators', 100, 1000, 5), # (название параметра, от, до, шаг)\n",
    "             'learning_rate' : hp.quniform('learning_rate', 0.025, 0.5, 0.025),\n",
    "             'max_depth' : hp.quniform('max_depth', 1, 10, 1),\n",
    "             'min_child_weight' : hp.quniform('min_child_weight', 1, 6, 1),\n",
    "             'subsample' : hp.quniform('subsample', 0.5, 1, 0.05),\n",
    "             'gamma' : hp.quniform('gamma', 0.5, 1, 0.05),\n",
    "             'colsample_bytree' : hp.quniform('colsample_bytree', 0.5, 1, 0.05),\n",
    "             'objective': 'reg:linear',\n",
    "             'silent' : 1,\n",
    "             'scale_pos_weight': hp.quniform('scale_pos_weight', 0.5, 10., 0.5),\n",
    "             'reg_alpha': 0.0,\n",
    "             'reg_lambda': 1.0\n",
    "             }\n",
    "\n",
    "    best = fmin(score, space, algo=tpe.suggest, trials=trials, max_evals=250)\n",
    "    print('Best: ')\n",
    "    print(best)\n",
    "\n",
    "#сюда будет записана\n",
    "trials = Trials()\n",
    "\n",
    "optimize(trials)"
   ]
  },
  {
   "cell_type": "code",
   "execution_count": null,
   "metadata": {
    "collapsed": true
   },
   "outputs": [],
   "source": []
  }
 ],
 "metadata": {
  "kernelspec": {
   "display_name": "Python 3",
   "language": "python",
   "name": "python3"
  },
  "language_info": {
   "codemirror_mode": {
    "name": "ipython",
    "version": 3
   },
   "file_extension": ".py",
   "mimetype": "text/x-python",
   "name": "python",
   "nbconvert_exporter": "python",
   "pygments_lexer": "ipython3",
   "version": "3.6.3"
  }
 },
 "nbformat": 4,
 "nbformat_minor": 2
}
