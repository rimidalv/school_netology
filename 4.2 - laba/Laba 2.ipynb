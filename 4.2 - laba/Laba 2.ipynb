{
 "cells": [
  {
   "cell_type": "markdown",
   "metadata": {},
   "source": [
    "# Задание к занятию «Рекомендации на основе скрытых факторов»\n",
    "Преподаватель: Борис Шминке\n",
    "Описание задания:\n",
    "Что делать\n",
    "1. Установить implicit;\n",
    "2. Взять датасет last.fm (урезанный или полный);\n",
    "3. Разбить датасет на обучающую и тестовую выборки;\n",
    "4. Построить на обучающей выборке хотя бы две модели из пакета implicit:\n",
    "    - kNN по косинусной мере\n",
    "    - ALS\n",
    "5. Получить рекомендации на тестовой выборке для обученных моделей;\n",
    "6. Сравнить метрики качества обученных моделей на тестовой выборке с помощью mrec (или иным способом)."
   ]
  },
  {
   "cell_type": "markdown",
   "metadata": {},
   "source": [
    "Начнем с малого датасета, как минимум потому что на нем быстрее."
   ]
  },
  {
   "cell_type": "code",
   "execution_count": 1,
   "metadata": {
    "scrolled": true
   },
   "outputs": [
    {
     "data": {
      "text/html": [
       "<div>\n",
       "<style>\n",
       "    .dataframe thead tr:only-child th {\n",
       "        text-align: right;\n",
       "    }\n",
       "\n",
       "    .dataframe thead th {\n",
       "        text-align: left;\n",
       "    }\n",
       "\n",
       "    .dataframe tbody tr th {\n",
       "        vertical-align: top;\n",
       "    }\n",
       "</style>\n",
       "<table border=\"1\" class=\"dataframe\">\n",
       "  <thead>\n",
       "    <tr style=\"text-align: right;\">\n",
       "      <th></th>\n",
       "      <th>user</th>\n",
       "      <th>artist-mbid</th>\n",
       "      <th>artist-name</th>\n",
       "      <th>total-plays</th>\n",
       "    </tr>\n",
       "  </thead>\n",
       "  <tbody>\n",
       "    <tr>\n",
       "      <th>0</th>\n",
       "      <td>00000c289a1829a808ac09c00daf10bc3c4e223b</td>\n",
       "      <td>3bd73256-3905-4f3a-97e2-8b341527f805</td>\n",
       "      <td>betty blowtorch</td>\n",
       "      <td>2137</td>\n",
       "    </tr>\n",
       "    <tr>\n",
       "      <th>1</th>\n",
       "      <td>00000c289a1829a808ac09c00daf10bc3c4e223b</td>\n",
       "      <td>f2fb0ff0-5679-42ec-a55c-15109ce6e320</td>\n",
       "      <td>die Ärzte</td>\n",
       "      <td>1099</td>\n",
       "    </tr>\n",
       "    <tr>\n",
       "      <th>2</th>\n",
       "      <td>00000c289a1829a808ac09c00daf10bc3c4e223b</td>\n",
       "      <td>b3ae82c2-e60b-4551-a76d-6620f1b456aa</td>\n",
       "      <td>melissa etheridge</td>\n",
       "      <td>897</td>\n",
       "    </tr>\n",
       "    <tr>\n",
       "      <th>3</th>\n",
       "      <td>00000c289a1829a808ac09c00daf10bc3c4e223b</td>\n",
       "      <td>3d6bbeb7-f90e-4d10-b440-e153c0d10b53</td>\n",
       "      <td>elvenking</td>\n",
       "      <td>717</td>\n",
       "    </tr>\n",
       "    <tr>\n",
       "      <th>4</th>\n",
       "      <td>00000c289a1829a808ac09c00daf10bc3c4e223b</td>\n",
       "      <td>bbd2ffd7-17f4-4506-8572-c1ea58c3f9a8</td>\n",
       "      <td>juliette &amp; the licks</td>\n",
       "      <td>706</td>\n",
       "    </tr>\n",
       "  </tbody>\n",
       "</table>\n",
       "</div>"
      ],
      "text/plain": [
       "                                       user  \\\n",
       "0  00000c289a1829a808ac09c00daf10bc3c4e223b   \n",
       "1  00000c289a1829a808ac09c00daf10bc3c4e223b   \n",
       "2  00000c289a1829a808ac09c00daf10bc3c4e223b   \n",
       "3  00000c289a1829a808ac09c00daf10bc3c4e223b   \n",
       "4  00000c289a1829a808ac09c00daf10bc3c4e223b   \n",
       "\n",
       "                            artist-mbid           artist-name  total-plays  \n",
       "0  3bd73256-3905-4f3a-97e2-8b341527f805       betty blowtorch         2137  \n",
       "1  f2fb0ff0-5679-42ec-a55c-15109ce6e320             die Ärzte         1099  \n",
       "2  b3ae82c2-e60b-4551-a76d-6620f1b456aa     melissa etheridge          897  \n",
       "3  3d6bbeb7-f90e-4d10-b440-e153c0d10b53             elvenking          717  \n",
       "4  bbd2ffd7-17f4-4506-8572-c1ea58c3f9a8  juliette & the licks          706  "
      ]
     },
     "execution_count": 1,
     "metadata": {},
     "output_type": "execute_result"
    }
   ],
   "source": [
    "import pandas as pd\n",
    "import numpy as np\n",
    "\n",
    "col_names = [\"user\", \"artist-mbid\", \"artist-name\", \"total-plays\"]\n",
    "data = pd.read_csv(\"lastfm_small.tsv\",\n",
    "    sep=\"\\t\",\n",
    "    header=None,\n",
    "    names=col_names\n",
    ")\n",
    "data.head()"
   ]
  },
  {
   "cell_type": "markdown",
   "metadata": {},
   "source": [
    "заполняем пустые значения и заменим строковые идентификаторы числовыми кодами"
   ]
  },
  {
   "cell_type": "code",
   "execution_count": 2,
   "metadata": {
    "collapsed": true
   },
   "outputs": [],
   "source": [
    "data.fillna(\"None\", inplace=True)\n",
    "\n",
    "data[\"user_id\"] = data[\"user\"].astype(\"category\").cat.codes.copy() \n",
    "data[\"artist_id\"] = data[\"artist-mbid\"].astype(\"category\").cat.codes.copy()\n",
    "data[\"plays\"] = data[\"total-plays\"].astype(np.double)"
   ]
  },
  {
   "cell_type": "markdown",
   "metadata": {},
   "source": [
    "убираем лишние колонки"
   ]
  },
  {
   "cell_type": "code",
   "execution_count": 3,
   "metadata": {
    "scrolled": true
   },
   "outputs": [
    {
     "data": {
      "text/html": [
       "<div>\n",
       "<style>\n",
       "    .dataframe thead tr:only-child th {\n",
       "        text-align: right;\n",
       "    }\n",
       "\n",
       "    .dataframe thead th {\n",
       "        text-align: left;\n",
       "    }\n",
       "\n",
       "    .dataframe tbody tr th {\n",
       "        vertical-align: top;\n",
       "    }\n",
       "</style>\n",
       "<table border=\"1\" class=\"dataframe\">\n",
       "  <thead>\n",
       "    <tr style=\"text-align: right;\">\n",
       "      <th></th>\n",
       "      <th>user_id</th>\n",
       "      <th>artist_id</th>\n",
       "      <th>plays</th>\n",
       "    </tr>\n",
       "  </thead>\n",
       "  <tbody>\n",
       "    <tr>\n",
       "      <th>0</th>\n",
       "      <td>0</td>\n",
       "      <td>15530</td>\n",
       "      <td>2137.0</td>\n",
       "    </tr>\n",
       "    <tr>\n",
       "      <th>1</th>\n",
       "      <td>0</td>\n",
       "      <td>63468</td>\n",
       "      <td>1099.0</td>\n",
       "    </tr>\n",
       "    <tr>\n",
       "      <th>2</th>\n",
       "      <td>0</td>\n",
       "      <td>46857</td>\n",
       "      <td>897.0</td>\n",
       "    </tr>\n",
       "    <tr>\n",
       "      <th>3</th>\n",
       "      <td>0</td>\n",
       "      <td>15967</td>\n",
       "      <td>717.0</td>\n",
       "    </tr>\n",
       "    <tr>\n",
       "      <th>4</th>\n",
       "      <td>0</td>\n",
       "      <td>48968</td>\n",
       "      <td>706.0</td>\n",
       "    </tr>\n",
       "  </tbody>\n",
       "</table>\n",
       "</div>"
      ],
      "text/plain": [
       "   user_id  artist_id   plays\n",
       "0        0      15530  2137.0\n",
       "1        0      63468  1099.0\n",
       "2        0      46857   897.0\n",
       "3        0      15967   717.0\n",
       "4        0      48968   706.0"
      ]
     },
     "execution_count": 3,
     "metadata": {},
     "output_type": "execute_result"
    }
   ],
   "source": [
    "data.drop([\"artist-name\", \"artist-mbid\", \"user\", \"total-plays\"], axis=1, inplace=True)\n",
    "data.head(5)"
   ]
  },
  {
   "cell_type": "code",
   "execution_count": 4,
   "metadata": {},
   "outputs": [
    {
     "data": {
      "text/html": [
       "<div>\n",
       "<style>\n",
       "    .dataframe thead tr:only-child th {\n",
       "        text-align: right;\n",
       "    }\n",
       "\n",
       "    .dataframe thead th {\n",
       "        text-align: left;\n",
       "    }\n",
       "\n",
       "    .dataframe tbody tr th {\n",
       "        vertical-align: top;\n",
       "    }\n",
       "</style>\n",
       "<table border=\"1\" class=\"dataframe\">\n",
       "  <thead>\n",
       "    <tr style=\"text-align: right;\">\n",
       "      <th></th>\n",
       "      <th>user_id</th>\n",
       "      <th>artist_id</th>\n",
       "      <th>plays</th>\n",
       "    </tr>\n",
       "  </thead>\n",
       "  <tbody>\n",
       "    <tr>\n",
       "      <th>393800</th>\n",
       "      <td>8053</td>\n",
       "      <td>0</td>\n",
       "      <td>36.0</td>\n",
       "    </tr>\n",
       "  </tbody>\n",
       "</table>\n",
       "</div>"
      ],
      "text/plain": [
       "        user_id  artist_id  plays\n",
       "393800     8053          0   36.0"
      ]
     },
     "execution_count": 4,
     "metadata": {},
     "output_type": "execute_result"
    }
   ],
   "source": [
    "data[data[\"artist_id\"] == 0]"
   ]
  },
  {
   "cell_type": "markdown",
   "metadata": {},
   "source": [
    "Посмотрим на наши данные"
   ]
  },
  {
   "cell_type": "code",
   "execution_count": 5,
   "metadata": {},
   "outputs": [
    {
     "data": {
      "text/html": [
       "<div>\n",
       "<style>\n",
       "    .dataframe thead tr:only-child th {\n",
       "        text-align: right;\n",
       "    }\n",
       "\n",
       "    .dataframe thead th {\n",
       "        text-align: left;\n",
       "    }\n",
       "\n",
       "    .dataframe tbody tr th {\n",
       "        vertical-align: top;\n",
       "    }\n",
       "</style>\n",
       "<table border=\"1\" class=\"dataframe\">\n",
       "  <thead>\n",
       "    <tr style=\"text-align: right;\">\n",
       "      <th></th>\n",
       "      <th>user_id</th>\n",
       "      <th>artist_id</th>\n",
       "      <th>plays</th>\n",
       "    </tr>\n",
       "  </thead>\n",
       "  <tbody>\n",
       "    <tr>\n",
       "      <th>count</th>\n",
       "      <td>1000000.000000</td>\n",
       "      <td>1000000.000000</td>\n",
       "      <td>1000000.000000</td>\n",
       "    </tr>\n",
       "    <tr>\n",
       "      <th>mean</th>\n",
       "      <td>10231.925996</td>\n",
       "      <td>33677.492236</td>\n",
       "      <td>216.606950</td>\n",
       "    </tr>\n",
       "    <tr>\n",
       "      <th>std</th>\n",
       "      <td>5912.022447</td>\n",
       "      <td>19230.330182</td>\n",
       "      <td>604.378024</td>\n",
       "    </tr>\n",
       "    <tr>\n",
       "      <th>min</th>\n",
       "      <td>0.000000</td>\n",
       "      <td>0.000000</td>\n",
       "      <td>1.000000</td>\n",
       "    </tr>\n",
       "    <tr>\n",
       "      <th>25%</th>\n",
       "      <td>5117.000000</td>\n",
       "      <td>17297.000000</td>\n",
       "      <td>34.000000</td>\n",
       "    </tr>\n",
       "    <tr>\n",
       "      <th>50%</th>\n",
       "      <td>10236.000000</td>\n",
       "      <td>34543.000000</td>\n",
       "      <td>94.000000</td>\n",
       "    </tr>\n",
       "    <tr>\n",
       "      <th>75%</th>\n",
       "      <td>15346.000000</td>\n",
       "      <td>49487.000000</td>\n",
       "      <td>225.000000</td>\n",
       "    </tr>\n",
       "    <tr>\n",
       "      <th>max</th>\n",
       "      <td>20464.000000</td>\n",
       "      <td>66798.000000</td>\n",
       "      <td>135392.000000</td>\n",
       "    </tr>\n",
       "  </tbody>\n",
       "</table>\n",
       "</div>"
      ],
      "text/plain": [
       "              user_id       artist_id           plays\n",
       "count  1000000.000000  1000000.000000  1000000.000000\n",
       "mean     10231.925996    33677.492236      216.606950\n",
       "std       5912.022447    19230.330182      604.378024\n",
       "min          0.000000        0.000000        1.000000\n",
       "25%       5117.000000    17297.000000       34.000000\n",
       "50%      10236.000000    34543.000000       94.000000\n",
       "75%      15346.000000    49487.000000      225.000000\n",
       "max      20464.000000    66798.000000   135392.000000"
      ]
     },
     "execution_count": 5,
     "metadata": {},
     "output_type": "execute_result"
    }
   ],
   "source": [
    "data.describe()"
   ]
  },
  {
   "cell_type": "markdown",
   "metadata": {},
   "source": [
    "разобьём наблюдения на тестовую и обучающую выборки"
   ]
  },
  {
   "cell_type": "code",
   "execution_count": 6,
   "metadata": {
    "collapsed": true
   },
   "outputs": [],
   "source": [
    "test_indices = np.random.choice(\n",
    "    data.index.values,\n",
    "    replace=False,\n",
    "    size=int(len(data.index.values) * 0.2)\n",
    ")\n",
    "test_data = data.iloc[test_indices]\n",
    "train_data = data.drop(test_indices)"
   ]
  },
  {
   "cell_type": "code",
   "execution_count": 7,
   "metadata": {},
   "outputs": [
    {
     "name": "stdout",
     "output_type": "stream",
     "text": [
      "нет в обучающей выборке, но есть в тестовой: 1\n",
      "нет в тестовой выборке, но есть в обучающей: 22\n",
      "всего пользователей: 20465\n"
     ]
    }
   ],
   "source": [
    "test_user_set = set(test_data[\"user_id\"].unique())\n",
    "train_user_set = set(train_data[\"user_id\"].unique())\n",
    "print(\"нет в обучающей выборке, но есть в тестовой: {}\".format(\n",
    "    len(test_user_set - train_user_set)))\n",
    "print(\"нет в тестовой выборке, но есть в обучающей: {}\".format(\n",
    "    len(train_user_set - test_user_set)))\n",
    "print(\"всего пользователей: {}\".format(len(data[\"user_id\"].unique())))"
   ]
  },
  {
   "cell_type": "code",
   "execution_count": 8,
   "metadata": {
    "scrolled": false
   },
   "outputs": [
    {
     "name": "stderr",
     "output_type": "stream",
     "text": [
      "/Users/vladimir/anaconda3/lib/python3.6/site-packages/ipykernel_launcher.py:4: SettingWithCopyWarning: \n",
      "A value is trying to be set on a copy of a slice from a DataFrame\n",
      "\n",
      "See the caveats in the documentation: http://pandas.pydata.org/pandas-docs/stable/indexing.html#indexing-view-versus-copy\n",
      "  after removing the cwd from sys.path.\n"
     ]
    }
   ],
   "source": [
    "# исключим таких пользователей из тестовой и обучающей выборок\n",
    "user_ids_to_exclude = (test_user_set - train_user_set).union(train_user_set - test_user_set)\n",
    "bad_indices = test_data[test_data[\"user_id\"].isin(user_ids_to_exclude).values].index\n",
    "test_data.drop(bad_indices, inplace=True)\n",
    "bad_indices = train_data[train_data[\"user_id\"].isin(user_ids_to_exclude).values]\n",
    "train_data.drop(bad_indices.index, inplace=True)\n"
   ]
  },
  {
   "cell_type": "code",
   "execution_count": 9,
   "metadata": {},
   "outputs": [
    {
     "name": "stdout",
     "output_type": "stream",
     "text": [
      "нет в обучающей выборке, но есть в тестовой: 0\n",
      "нет в тестовой выборке, но есть в обучающей: 0\n",
      "всего пользователей: 20465\n"
     ]
    }
   ],
   "source": [
    "test_user_set = set(test_data[\"user_id\"].unique())\n",
    "train_user_set = set(train_data[\"user_id\"].unique())\n",
    "print(\"нет в обучающей выборке, но есть в тестовой: {}\".format(\n",
    "    len(test_user_set - train_user_set)))\n",
    "print(\"нет в тестовой выборке, но есть в обучающей: {}\".format(\n",
    "    len(train_user_set - test_user_set)))\n",
    "print(\"всего пользователей: {}\".format(len(data[\"user_id\"].unique())))"
   ]
  },
  {
   "cell_type": "code",
   "execution_count": 10,
   "metadata": {
    "collapsed": true
   },
   "outputs": [],
   "source": [
    "import argparse\n",
    "import logging\n",
    "import time\n",
    "\n",
    "import numpy\n",
    "import pandas\n",
    "from scipy.sparse import coo_matrix\n",
    "\n",
    "from implicit.als import AlternatingLeastSquares\n",
    "from implicit.approximate_als import (AnnoyAlternatingLeastSquares, FaissAlternatingLeastSquares,\n",
    "                                      NMSLibAlternatingLeastSquares)\n",
    "from implicit.nearest_neighbours import (BM25Recommender, CosineRecommender,\n",
    "                                         TFIDFRecommender, bm25_weight)"
   ]
  },
  {
   "cell_type": "markdown",
   "metadata": {},
   "source": [
    "## Найдем похожих артистов методом ALS"
   ]
  },
  {
   "cell_type": "markdown",
   "metadata": {},
   "source": [
    "Создадим разреженную матрицу для обучения"
   ]
  },
  {
   "cell_type": "code",
   "execution_count": 11,
   "metadata": {
    "collapsed": true
   },
   "outputs": [],
   "source": [
    "plays = coo_matrix((train_data['plays'],\n",
    "                   (train_data['artist_id'],\n",
    "                    train_data['user_id'])))\n",
    "\n",
    "user_plays = plays.tocsr()"
   ]
  },
  {
   "cell_type": "markdown",
   "metadata": {},
   "source": [
    "Создадим модель ALS"
   ]
  },
  {
   "cell_type": "code",
   "execution_count": 12,
   "metadata": {
    "collapsed": true
   },
   "outputs": [],
   "source": [
    "model = AlternatingLeastSquares(factors=64, dtype=np.float32)\n",
    "model_name = model.__class__\n",
    "model.approximate_recommend = False"
   ]
  },
  {
   "cell_type": "markdown",
   "metadata": {},
   "source": [
    "Обучим нашу модель (заполним данными матрицу)"
   ]
  },
  {
   "cell_type": "code",
   "execution_count": 13,
   "metadata": {
    "collapsed": true
   },
   "outputs": [],
   "source": [
    "model.fit(user_plays)"
   ]
  },
  {
   "cell_type": "markdown",
   "metadata": {},
   "source": [
    "Выведем ближайших к какому то артисту (проходимся по всем в цикле) артистов (Ограничимся первым десятком, по 5 сравнений)"
   ]
  },
  {
   "cell_type": "code",
   "execution_count": 14,
   "metadata": {
    "collapsed": true,
    "scrolled": true
   },
   "outputs": [],
   "source": [
    "artists = dict(enumerate(train_data['artist_id']))\n",
    "\n",
    "to_generate = train_data.groupby('artist_id').size().sort_values(ascending=False)\n",
    "for artistid in to_generate[:10]:\n",
    "    artist = artists[artistid]\n",
    "#     print('')\n",
    "#     for other, score in model.similar_items(artistid, N=5):\n",
    "#         print(\"{}\\t{}\\t{}\\n\".format(artist, artists[other], score))"
   ]
  },
  {
   "cell_type": "markdown",
   "metadata": {},
   "source": [
    "## Создадим методы с метриками"
   ]
  },
  {
   "cell_type": "code",
   "execution_count": 15,
   "metadata": {
    "collapsed": true
   },
   "outputs": [],
   "source": [
    "from sklearn.metrics import mean_squared_error, roc_auc_score, average_precision_score, precision_score\n",
    "from math import sqrt\n",
    "def rmse(predict, truth):   \n",
    "    return sqrt(mean_squared_error(predict, truth))"
   ]
  },
  {
   "cell_type": "code",
   "execution_count": 16,
   "metadata": {
    "collapsed": true
   },
   "outputs": [],
   "source": [
    "def roc_auc(predict, truth):\n",
    "    \n",
    "    return roc_auc_score(predict, truth)"
   ]
  },
  {
   "cell_type": "code",
   "execution_count": 17,
   "metadata": {
    "collapsed": true
   },
   "outputs": [],
   "source": [
    "def ave_prec(predict, truth):\n",
    "\n",
    "    return average_precision_score(truth, predict)  "
   ]
  },
  {
   "cell_type": "code",
   "execution_count": 18,
   "metadata": {
    "collapsed": true
   },
   "outputs": [],
   "source": [
    "def prec(predict, truth):\n",
    "\n",
    "    return precision_score(truth, predict)  "
   ]
  },
  {
   "cell_type": "code",
   "execution_count": null,
   "metadata": {
    "collapsed": true
   },
   "outputs": [],
   "source": []
  },
  {
   "cell_type": "code",
   "execution_count": 19,
   "metadata": {
    "collapsed": true
   },
   "outputs": [],
   "source": [
    "# функция, которая красиво печатает информацию о разреженных матрицах\n",
    "from scipy.sparse import csr_matrix\n",
    "\n",
    "def sparse_info(sparse_matrix: csr_matrix) -> None:\n",
    "    print(\"Размерности матрицы: {}\".format(sparse_matrix.shape))\n",
    "    print(\"Ненулевых элементов в матрице: {}\".format(sparse_matrix.nnz))\n",
    "    print(\"Доля ненулевых элементов: {}\"\n",
    "          .format(sparse_matrix.nnz / sparse_matrix.shape[0] / sparse_matrix.shape[1])\n",
    "    )\n",
    "    print(\"Среднее значение ненулевых элементов: {}\".format(sparse_matrix.data.mean()))\n",
    "    print(\"Максимальное значение ненулевых элементов: {}\".format(sparse_matrix.data.max()))\n",
    "    print(\"Минимальное значение ненулевых элементов: {}\".format(sparse_matrix.data.min()))"
   ]
  },
  {
   "cell_type": "markdown",
   "metadata": {},
   "source": [
    "## Предскажем артистов методом ALS"
   ]
  },
  {
   "cell_type": "markdown",
   "metadata": {},
   "source": [
    "Создадим модель ALS"
   ]
  },
  {
   "cell_type": "code",
   "execution_count": 20,
   "metadata": {
    "collapsed": true
   },
   "outputs": [],
   "source": [
    "model = AlternatingLeastSquares(factors=128, dtype=np.float32)\n",
    "model_name = model.__class__\n",
    "model.approximate_similar_items = False"
   ]
  },
  {
   "cell_type": "markdown",
   "metadata": {},
   "source": [
    "Обучим нашу модель (заполним данными матрицу)"
   ]
  },
  {
   "cell_type": "code",
   "execution_count": 21,
   "metadata": {
    "collapsed": true
   },
   "outputs": [],
   "source": [
    "model.fit(plays)"
   ]
  },
  {
   "cell_type": "code",
   "execution_count": 22,
   "metadata": {
    "collapsed": true
   },
   "outputs": [],
   "source": [
    "# sparse_info(model.similarity)"
   ]
  },
  {
   "cell_type": "markdown",
   "metadata": {},
   "source": [
    "Выведем все предсказанные нами рекомендации артистов для пльзователей (на самом деле список длинный, поэтому строку print закоментил)"
   ]
  },
  {
   "cell_type": "code",
   "execution_count": 36,
   "metadata": {
    "scrolled": false
   },
   "outputs": [],
   "source": [
    "predict_artist = []\n",
    "user_plays = plays.T.tocsr()    \n",
    "test_unique = test_data['user_id'].unique()\n",
    "for userid, username in enumerate(test_unique):\n",
    "    for artistid, score in model.recommend(userid, user_plays):        \n",
    "        predict_artist.append((userid,artistid, score))  "
   ]
  },
  {
   "cell_type": "markdown",
   "metadata": {},
   "source": [
    "Приведем полученный результат к датафрейму"
   ]
  },
  {
   "cell_type": "code",
   "execution_count": 37,
   "metadata": {
    "scrolled": true
   },
   "outputs": [
    {
     "data": {
      "text/html": [
       "<div>\n",
       "<style>\n",
       "    .dataframe thead tr:only-child th {\n",
       "        text-align: right;\n",
       "    }\n",
       "\n",
       "    .dataframe thead th {\n",
       "        text-align: left;\n",
       "    }\n",
       "\n",
       "    .dataframe tbody tr th {\n",
       "        vertical-align: top;\n",
       "    }\n",
       "</style>\n",
       "<table border=\"1\" class=\"dataframe\">\n",
       "  <thead>\n",
       "    <tr style=\"text-align: right;\">\n",
       "      <th></th>\n",
       "      <th>user_id</th>\n",
       "      <th>artist_id</th>\n",
       "      <th>plays</th>\n",
       "    </tr>\n",
       "  </thead>\n",
       "  <tbody>\n",
       "    <tr>\n",
       "      <th>0</th>\n",
       "      <td>0</td>\n",
       "      <td>31400</td>\n",
       "      <td>1.541331</td>\n",
       "    </tr>\n",
       "    <tr>\n",
       "      <th>1</th>\n",
       "      <td>0</td>\n",
       "      <td>191</td>\n",
       "      <td>1.501564</td>\n",
       "    </tr>\n",
       "    <tr>\n",
       "      <th>2</th>\n",
       "      <td>0</td>\n",
       "      <td>56178</td>\n",
       "      <td>1.491869</td>\n",
       "    </tr>\n",
       "    <tr>\n",
       "      <th>3</th>\n",
       "      <td>0</td>\n",
       "      <td>19992</td>\n",
       "      <td>1.371267</td>\n",
       "    </tr>\n",
       "    <tr>\n",
       "      <th>4</th>\n",
       "      <td>0</td>\n",
       "      <td>54682</td>\n",
       "      <td>1.303848</td>\n",
       "    </tr>\n",
       "  </tbody>\n",
       "</table>\n",
       "</div>"
      ],
      "text/plain": [
       "   user_id  artist_id     plays\n",
       "0        0      31400  1.541331\n",
       "1        0        191  1.501564\n",
       "2        0      56178  1.491869\n",
       "3        0      19992  1.371267\n",
       "4        0      54682  1.303848"
      ]
     },
     "execution_count": 37,
     "metadata": {},
     "output_type": "execute_result"
    }
   ],
   "source": [
    "predict = pd.DataFrame(predict_artist, columns=[\"user_id\",\"artist_id\",\"plays\"])\n",
    "predict.head()"
   ]
  },
  {
   "cell_type": "code",
   "execution_count": 39,
   "metadata": {},
   "outputs": [
    {
     "data": {
      "text/plain": [
       "2.0732989311218262"
      ]
     },
     "execution_count": 39,
     "metadata": {},
     "output_type": "execute_result"
    }
   ],
   "source": [
    "predict[\"plays\"].max()"
   ]
  },
  {
   "cell_type": "markdown",
   "metadata": {},
   "source": [
    "#### Для получения данных с метрик оставим только тех пользователей для которых у нас были данные по артистам и для которых были предсказанны данные по артистам. Что бы получить рейтинги и сравнить их"
   ]
  },
  {
   "cell_type": "code",
   "execution_count": 40,
   "metadata": {
    "collapsed": true
   },
   "outputs": [],
   "source": [
    "merged_data = pd.merge(test_data, predict, on=['user_id', 'artist_id'])"
   ]
  },
  {
   "cell_type": "code",
   "execution_count": 41,
   "metadata": {
    "scrolled": false
   },
   "outputs": [
    {
     "name": "stdout",
     "output_type": "stream",
     "text": [
      "<class 'pandas.core.frame.DataFrame'>\n",
      "Int64Index: 23416 entries, 0 to 23415\n",
      "Data columns (total 4 columns):\n",
      "user_id      23416 non-null int16\n",
      "artist_id    23416 non-null int32\n",
      "plays_x      23416 non-null float64\n",
      "plays_y      23416 non-null float64\n",
      "dtypes: float64(2), int16(1), int32(1)\n",
      "memory usage: 686.0 KB\n"
     ]
    }
   ],
   "source": [
    "merged_data.info()"
   ]
  },
  {
   "cell_type": "code",
   "execution_count": 42,
   "metadata": {
    "scrolled": false
   },
   "outputs": [
    {
     "name": "stdout",
     "output_type": "stream",
     "text": [
      "RMSE: 700.3791574253917\n"
     ]
    }
   ],
   "source": [
    "print( 'RMSE: ' + str(rmse(merged_data[\"plays_y\"], merged_data[\"plays_x\"])))"
   ]
  },
  {
   "cell_type": "markdown",
   "metadata": {
    "collapsed": true
   },
   "source": [
    "Посчитаем среднее в предсказанных данных и в тестовых. Каждое среднее будем считать отдельно, потому что абстрактные цифры предсказаний надо как то нормально интерпретировать :) "
   ]
  },
  {
   "cell_type": "code",
   "execution_count": 43,
   "metadata": {},
   "outputs": [
    {
     "data": {
      "text/plain": [
       "0.9692465669482974"
      ]
     },
     "execution_count": 43,
     "metadata": {},
     "output_type": "execute_result"
    }
   ],
   "source": [
    "mean_predict = merged_data[\"plays_y\"].mean()\n",
    "mean_predict"
   ]
  },
  {
   "cell_type": "code",
   "execution_count": 44,
   "metadata": {},
   "outputs": [
    {
     "data": {
      "text/plain": [
       "279.6576699692518"
      ]
     },
     "execution_count": 44,
     "metadata": {},
     "output_type": "execute_result"
    }
   ],
   "source": [
    "mean_truth = merged_data[\"plays_x\"].mean()\n",
    "mean_truth "
   ]
  },
  {
   "cell_type": "code",
   "execution_count": 45,
   "metadata": {},
   "outputs": [],
   "source": [
    "predict = merged_data[\"plays_y\"].apply(lambda x: 1 if x > mean_predict else 0 )\n",
    "truth = merged_data[\"plays_x\"].apply(lambda x: 1 if x > mean_truth else 0 )"
   ]
  },
  {
   "cell_type": "code",
   "execution_count": 46,
   "metadata": {
    "scrolled": true
   },
   "outputs": [
    {
     "name": "stdout",
     "output_type": "stream",
     "text": [
      "Average precision: 0.359131793399\n"
     ]
    }
   ],
   "source": [
    "print( 'Average precision: ' + str(ave_prec(predict, truth)))"
   ]
  },
  {
   "cell_type": "code",
   "execution_count": 47,
   "metadata": {
    "scrolled": true
   },
   "outputs": [
    {
     "name": "stdout",
     "output_type": "stream",
     "text": [
      "Precision: 0.379906046371\n"
     ]
    }
   ],
   "source": [
    "print( 'Precision: ' + str(prec(predict, truth)))"
   ]
  },
  {
   "cell_type": "code",
   "execution_count": 48,
   "metadata": {
    "scrolled": true
   },
   "outputs": [
    {
     "name": "stdout",
     "output_type": "stream",
     "text": [
      "ROC AUC: 0.639453903984\n"
     ]
    }
   ],
   "source": [
    "print( 'ROC AUC: ' + str(roc_auc(predict, truth)))"
   ]
  },
  {
   "cell_type": "markdown",
   "metadata": {},
   "source": [
    "## Предскажем артистов методом kNN по косинусной мере"
   ]
  },
  {
   "cell_type": "markdown",
   "metadata": {},
   "source": [
    "Создадим модель kNN по косинусной мере"
   ]
  },
  {
   "cell_type": "code",
   "execution_count": 50,
   "metadata": {
    "collapsed": true
   },
   "outputs": [],
   "source": [
    "model = CosineRecommender()\n",
    "model_name = model.__class__\n",
    "model.approximate_similar_items = False"
   ]
  },
  {
   "cell_type": "markdown",
   "metadata": {},
   "source": [
    "Обучим нашу модель (заполним данными матрицу)"
   ]
  },
  {
   "cell_type": "code",
   "execution_count": 51,
   "metadata": {
    "collapsed": true
   },
   "outputs": [],
   "source": [
    "model.fit(plays)"
   ]
  },
  {
   "cell_type": "code",
   "execution_count": 52,
   "metadata": {},
   "outputs": [
    {
     "name": "stdout",
     "output_type": "stream",
     "text": [
      "Размерности матрицы: (66799, 66799)\n",
      "Ненулевых элементов в матрице: 1216723\n",
      "Доля ненулевых элементов: 0.00027267906469628805\n",
      "Среднее значение ненулевых элементов: 0.4442609287484492\n",
      "Максимальное значение ненулевых элементов: 1.0000000000000044\n",
      "Минимальное значение ненулевых элементов: 1.3436439542019536e-07\n"
     ]
    }
   ],
   "source": [
    "sparse_info(model.similarity)"
   ]
  },
  {
   "cell_type": "markdown",
   "metadata": {},
   "source": [
    "Выведем все предсказанные нами рекомендации артистов для пльзователей (на самом деле список длинный, поэтому строку print закоментил)"
   ]
  },
  {
   "cell_type": "code",
   "execution_count": 53,
   "metadata": {
    "collapsed": true,
    "scrolled": false
   },
   "outputs": [],
   "source": [
    "predict_artist = []\n",
    "user_plays = plays.T.tocsr()        \n",
    "for userid, username in enumerate(test_data['user_id'].unique()):\n",
    "    for artistid, score in model.recommend(userid, user_plays):        \n",
    "        predict_artist.append((userid,artistid, score))"
   ]
  },
  {
   "cell_type": "markdown",
   "metadata": {},
   "source": [
    "Приведем полученный результат к датафрейму"
   ]
  },
  {
   "cell_type": "code",
   "execution_count": 54,
   "metadata": {
    "scrolled": false
   },
   "outputs": [
    {
     "data": {
      "text/html": [
       "<div>\n",
       "<style>\n",
       "    .dataframe thead tr:only-child th {\n",
       "        text-align: right;\n",
       "    }\n",
       "\n",
       "    .dataframe thead th {\n",
       "        text-align: left;\n",
       "    }\n",
       "\n",
       "    .dataframe tbody tr th {\n",
       "        vertical-align: top;\n",
       "    }\n",
       "</style>\n",
       "<table border=\"1\" class=\"dataframe\">\n",
       "  <thead>\n",
       "    <tr style=\"text-align: right;\">\n",
       "      <th></th>\n",
       "      <th>user_id</th>\n",
       "      <th>artist_id</th>\n",
       "      <th>plays</th>\n",
       "    </tr>\n",
       "  </thead>\n",
       "  <tbody>\n",
       "    <tr>\n",
       "      <th>0</th>\n",
       "      <td>0</td>\n",
       "      <td>15193</td>\n",
       "      <td>878.529741</td>\n",
       "    </tr>\n",
       "    <tr>\n",
       "      <th>1</th>\n",
       "      <td>0</td>\n",
       "      <td>21330</td>\n",
       "      <td>835.677714</td>\n",
       "    </tr>\n",
       "    <tr>\n",
       "      <th>2</th>\n",
       "      <td>0</td>\n",
       "      <td>13606</td>\n",
       "      <td>789.061561</td>\n",
       "    </tr>\n",
       "    <tr>\n",
       "      <th>3</th>\n",
       "      <td>0</td>\n",
       "      <td>3819</td>\n",
       "      <td>767.773949</td>\n",
       "    </tr>\n",
       "    <tr>\n",
       "      <th>4</th>\n",
       "      <td>0</td>\n",
       "      <td>11933</td>\n",
       "      <td>761.973803</td>\n",
       "    </tr>\n",
       "  </tbody>\n",
       "</table>\n",
       "</div>"
      ],
      "text/plain": [
       "   user_id  artist_id       plays\n",
       "0        0      15193  878.529741\n",
       "1        0      21330  835.677714\n",
       "2        0      13606  789.061561\n",
       "3        0       3819  767.773949\n",
       "4        0      11933  761.973803"
      ]
     },
     "execution_count": 54,
     "metadata": {},
     "output_type": "execute_result"
    }
   ],
   "source": [
    "predict = pd.DataFrame(predict_artist, columns=[\"user_id\",\"artist_id\",\"plays\"])\n",
    "predict.head()"
   ]
  },
  {
   "cell_type": "code",
   "execution_count": 55,
   "metadata": {
    "scrolled": false
   },
   "outputs": [
    {
     "data": {
      "text/html": [
       "<div>\n",
       "<style>\n",
       "    .dataframe thead tr:only-child th {\n",
       "        text-align: right;\n",
       "    }\n",
       "\n",
       "    .dataframe thead th {\n",
       "        text-align: left;\n",
       "    }\n",
       "\n",
       "    .dataframe tbody tr th {\n",
       "        vertical-align: top;\n",
       "    }\n",
       "</style>\n",
       "<table border=\"1\" class=\"dataframe\">\n",
       "  <thead>\n",
       "    <tr style=\"text-align: right;\">\n",
       "      <th></th>\n",
       "      <th>user_id</th>\n",
       "      <th>artist_id</th>\n",
       "      <th>plays</th>\n",
       "    </tr>\n",
       "  </thead>\n",
       "  <tbody>\n",
       "    <tr>\n",
       "      <th>189773</th>\n",
       "      <td>3880</td>\n",
       "      <td>1457</td>\n",
       "      <td>91.0</td>\n",
       "    </tr>\n",
       "    <tr>\n",
       "      <th>949647</th>\n",
       "      <td>19436</td>\n",
       "      <td>41045</td>\n",
       "      <td>642.0</td>\n",
       "    </tr>\n",
       "    <tr>\n",
       "      <th>525431</th>\n",
       "      <td>10759</td>\n",
       "      <td>7403</td>\n",
       "      <td>32.0</td>\n",
       "    </tr>\n",
       "    <tr>\n",
       "      <th>933248</th>\n",
       "      <td>19107</td>\n",
       "      <td>37418</td>\n",
       "      <td>70.0</td>\n",
       "    </tr>\n",
       "    <tr>\n",
       "      <th>622607</th>\n",
       "      <td>12739</td>\n",
       "      <td>43646</td>\n",
       "      <td>95.0</td>\n",
       "    </tr>\n",
       "  </tbody>\n",
       "</table>\n",
       "</div>"
      ],
      "text/plain": [
       "        user_id  artist_id  plays\n",
       "189773     3880       1457   91.0\n",
       "949647    19436      41045  642.0\n",
       "525431    10759       7403   32.0\n",
       "933248    19107      37418   70.0\n",
       "622607    12739      43646   95.0"
      ]
     },
     "execution_count": 55,
     "metadata": {},
     "output_type": "execute_result"
    }
   ],
   "source": [
    "test_data.head()"
   ]
  },
  {
   "cell_type": "markdown",
   "metadata": {},
   "source": [
    "#### Для получения данных с метрик оставим только тех пользователей для которых у нас были данные по артистам и для которых были предсказанны данные по артистам. Что бы получить рейтинги и сравнить их"
   ]
  },
  {
   "cell_type": "code",
   "execution_count": 56,
   "metadata": {
    "collapsed": true
   },
   "outputs": [],
   "source": [
    "merged_data = pd.merge(test_data, predict, on=['user_id', 'artist_id'])"
   ]
  },
  {
   "cell_type": "code",
   "execution_count": 57,
   "metadata": {
    "scrolled": true
   },
   "outputs": [
    {
     "data": {
      "text/html": [
       "<div>\n",
       "<style>\n",
       "    .dataframe thead tr:only-child th {\n",
       "        text-align: right;\n",
       "    }\n",
       "\n",
       "    .dataframe thead th {\n",
       "        text-align: left;\n",
       "    }\n",
       "\n",
       "    .dataframe tbody tr th {\n",
       "        vertical-align: top;\n",
       "    }\n",
       "</style>\n",
       "<table border=\"1\" class=\"dataframe\">\n",
       "  <thead>\n",
       "    <tr style=\"text-align: right;\">\n",
       "      <th></th>\n",
       "      <th>user_id</th>\n",
       "      <th>artist_id</th>\n",
       "      <th>plays_x</th>\n",
       "      <th>plays_y</th>\n",
       "    </tr>\n",
       "  </thead>\n",
       "  <tbody>\n",
       "    <tr>\n",
       "      <th>0</th>\n",
       "      <td>13449</td>\n",
       "      <td>47021</td>\n",
       "      <td>49.0</td>\n",
       "      <td>80.116542</td>\n",
       "    </tr>\n",
       "    <tr>\n",
       "      <th>1</th>\n",
       "      <td>8272</td>\n",
       "      <td>28743</td>\n",
       "      <td>34.0</td>\n",
       "      <td>35.930400</td>\n",
       "    </tr>\n",
       "    <tr>\n",
       "      <th>2</th>\n",
       "      <td>5372</td>\n",
       "      <td>52310</td>\n",
       "      <td>432.0</td>\n",
       "      <td>354.910689</td>\n",
       "    </tr>\n",
       "    <tr>\n",
       "      <th>3</th>\n",
       "      <td>4028</td>\n",
       "      <td>60159</td>\n",
       "      <td>280.0</td>\n",
       "      <td>609.729634</td>\n",
       "    </tr>\n",
       "    <tr>\n",
       "      <th>4</th>\n",
       "      <td>17523</td>\n",
       "      <td>7777</td>\n",
       "      <td>1201.0</td>\n",
       "      <td>1030.284201</td>\n",
       "    </tr>\n",
       "  </tbody>\n",
       "</table>\n",
       "</div>"
      ],
      "text/plain": [
       "   user_id  artist_id  plays_x      plays_y\n",
       "0    13449      47021     49.0    80.116542\n",
       "1     8272      28743     34.0    35.930400\n",
       "2     5372      52310    432.0   354.910689\n",
       "3     4028      60159    280.0   609.729634\n",
       "4    17523       7777   1201.0  1030.284201"
      ]
     },
     "execution_count": 57,
     "metadata": {},
     "output_type": "execute_result"
    }
   ],
   "source": [
    "merged_data.head()"
   ]
  },
  {
   "cell_type": "code",
   "execution_count": 58,
   "metadata": {},
   "outputs": [
    {
     "name": "stdout",
     "output_type": "stream",
     "text": [
      "RMSE: 1071.499788214627\n"
     ]
    }
   ],
   "source": [
    "print( 'RMSE: ' + str(rmse(merged_data[\"plays_y\"], merged_data[\"plays_x\"])))"
   ]
  },
  {
   "cell_type": "markdown",
   "metadata": {
    "collapsed": true
   },
   "source": [
    "Посчитаем среднее в предсказанных данных и в тестовых. Каждое среднее будем считать отдельно, потому что абстрактные цифры предсказаний надо как то нормально интерпретировать :) "
   ]
  },
  {
   "cell_type": "code",
   "execution_count": 59,
   "metadata": {},
   "outputs": [
    {
     "data": {
      "text/plain": [
       "653.0739829085107"
      ]
     },
     "execution_count": 59,
     "metadata": {},
     "output_type": "execute_result"
    }
   ],
   "source": [
    "mean_predict = merged_data[\"plays_y\"].mean()\n",
    "mean_predict"
   ]
  },
  {
   "cell_type": "code",
   "execution_count": 60,
   "metadata": {},
   "outputs": [
    {
     "data": {
      "text/plain": [
       "315.9959704499664"
      ]
     },
     "execution_count": 60,
     "metadata": {},
     "output_type": "execute_result"
    }
   ],
   "source": [
    "mean_truth = merged_data[\"plays_x\"].mean()\n",
    "mean_truth "
   ]
  },
  {
   "cell_type": "code",
   "execution_count": 61,
   "metadata": {
    "collapsed": true
   },
   "outputs": [],
   "source": [
    "predict = merged_data[\"plays_y\"].apply(lambda x: 1 if x > mean_predict else 0 )\n",
    "truth = merged_data[\"plays_x\"].apply(lambda x: 1 if x > mean_truth else 0 )"
   ]
  },
  {
   "cell_type": "code",
   "execution_count": 62,
   "metadata": {
    "scrolled": true
   },
   "outputs": [
    {
     "name": "stdout",
     "output_type": "stream",
     "text": [
      "Average precision: 0.462870974772\n"
     ]
    }
   ],
   "source": [
    "print( 'Average precision: ' + str(ave_prec(predict, truth)))"
   ]
  },
  {
   "cell_type": "code",
   "execution_count": 63,
   "metadata": {
    "scrolled": true
   },
   "outputs": [
    {
     "name": "stdout",
     "output_type": "stream",
     "text": [
      "Precision: 0.558064516129\n"
     ]
    }
   ],
   "source": [
    "print( 'Precision: ' + str(prec(predict, truth)))"
   ]
  },
  {
   "cell_type": "code",
   "execution_count": 64,
   "metadata": {
    "scrolled": true
   },
   "outputs": [
    {
     "name": "stdout",
     "output_type": "stream",
     "text": [
      "ROC AUC: 0.721415070565\n"
     ]
    }
   ],
   "source": [
    "print( 'ROC AUC: ' + str(roc_auc(predict, truth)))"
   ]
  },
  {
   "cell_type": "code",
   "execution_count": null,
   "metadata": {
    "collapsed": true
   },
   "outputs": [],
   "source": []
  },
  {
   "cell_type": "code",
   "execution_count": null,
   "metadata": {
    "collapsed": true
   },
   "outputs": [],
   "source": []
  }
 ],
 "metadata": {
  "kernelspec": {
   "display_name": "Python 3",
   "language": "python",
   "name": "python3"
  },
  "language_info": {
   "codemirror_mode": {
    "name": "ipython",
    "version": 3
   },
   "file_extension": ".py",
   "mimetype": "text/x-python",
   "name": "python",
   "nbconvert_exporter": "python",
   "pygments_lexer": "ipython3",
   "version": "3.6.2"
  }
 },
 "nbformat": 4,
 "nbformat_minor": 2
}
