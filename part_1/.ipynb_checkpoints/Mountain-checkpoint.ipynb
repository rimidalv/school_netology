{
 "cells": [
  {
   "cell_type": "code",
   "execution_count": 1,
   "metadata": {
    "collapsed": true
   },
   "outputs": [],
   "source": [
    "import pandas as pd\n",
    "import numpy as np"
   ]
  },
  {
   "cell_type": "markdown",
   "metadata": {},
   "source": [
    "##### Загрузим справочник гор"
   ]
  },
  {
   "cell_type": "code",
   "execution_count": 82,
   "metadata": {},
   "outputs": [
    {
     "data": {
      "text/html": [
       "<div>\n",
       "<style>\n",
       "    .dataframe thead tr:only-child th {\n",
       "        text-align: right;\n",
       "    }\n",
       "\n",
       "    .dataframe thead th {\n",
       "        text-align: left;\n",
       "    }\n",
       "\n",
       "    .dataframe tbody tr th {\n",
       "        vertical-align: top;\n",
       "    }\n",
       "</style>\n",
       "<table border=\"1\" class=\"dataframe\">\n",
       "  <thead>\n",
       "    <tr style=\"text-align: right;\">\n",
       "      <th></th>\n",
       "      <th>Rank</th>\n",
       "      <th>Mountain</th>\n",
       "      <th>Height (m)</th>\n",
       "      <th>Height (ft)</th>\n",
       "      <th>Prominence (m)</th>\n",
       "      <th>Range</th>\n",
       "      <th>Coordinates</th>\n",
       "      <th>Parent mountain</th>\n",
       "      <th>First ascent</th>\n",
       "      <th>Ascents bef. 2004</th>\n",
       "      <th>Failed attempts bef. 2004</th>\n",
       "    </tr>\n",
       "  </thead>\n",
       "  <tbody>\n",
       "    <tr>\n",
       "      <th>0</th>\n",
       "      <td>1</td>\n",
       "      <td>Mount Everest / Sagarmatha / Chomolungma</td>\n",
       "      <td>8848</td>\n",
       "      <td>29029</td>\n",
       "      <td>8848</td>\n",
       "      <td>Mahalangur Himalaya</td>\n",
       "      <td>27°59′17″N 86°55′31″E﻿</td>\n",
       "      <td>NaN</td>\n",
       "      <td>1953</td>\n",
       "      <td>&gt;&gt;145</td>\n",
       "      <td>121.0</td>\n",
       "    </tr>\n",
       "    <tr>\n",
       "      <th>1</th>\n",
       "      <td>2</td>\n",
       "      <td>K2 / Qogir / Godwin Austen</td>\n",
       "      <td>8611</td>\n",
       "      <td>28251</td>\n",
       "      <td>4017</td>\n",
       "      <td>Baltoro Karakoram</td>\n",
       "      <td>35°52′53″N 76°30′48″E﻿</td>\n",
       "      <td>Mount Everest</td>\n",
       "      <td>1954</td>\n",
       "      <td>45</td>\n",
       "      <td>44.0</td>\n",
       "    </tr>\n",
       "    <tr>\n",
       "      <th>2</th>\n",
       "      <td>3</td>\n",
       "      <td>Kangchenjunga</td>\n",
       "      <td>8586</td>\n",
       "      <td>28169</td>\n",
       "      <td>3922</td>\n",
       "      <td>Kangchenjunga Himalaya</td>\n",
       "      <td>27°42′12″N 88°08′51″E﻿</td>\n",
       "      <td>Mount Everest</td>\n",
       "      <td>1955</td>\n",
       "      <td>38</td>\n",
       "      <td>24.0</td>\n",
       "    </tr>\n",
       "    <tr>\n",
       "      <th>3</th>\n",
       "      <td>4</td>\n",
       "      <td>Lhotse</td>\n",
       "      <td>8516</td>\n",
       "      <td>27940</td>\n",
       "      <td>610</td>\n",
       "      <td>Mahalangur Himalaya</td>\n",
       "      <td>27°57′42″N 86°55′59″E﻿</td>\n",
       "      <td>Mount Everest</td>\n",
       "      <td>1956</td>\n",
       "      <td>26</td>\n",
       "      <td>26.0</td>\n",
       "    </tr>\n",
       "    <tr>\n",
       "      <th>4</th>\n",
       "      <td>5</td>\n",
       "      <td>Makalu</td>\n",
       "      <td>8485</td>\n",
       "      <td>27838</td>\n",
       "      <td>2386</td>\n",
       "      <td>Mahalangur Himalaya</td>\n",
       "      <td>27°53′23″N 87°05′20″E﻿</td>\n",
       "      <td>Mount Everest</td>\n",
       "      <td>1955</td>\n",
       "      <td>45</td>\n",
       "      <td>52.0</td>\n",
       "    </tr>\n",
       "  </tbody>\n",
       "</table>\n",
       "</div>"
      ],
      "text/plain": [
       "   Rank                                  Mountain  Height (m)  Height (ft)  \\\n",
       "0     1  Mount Everest / Sagarmatha / Chomolungma        8848        29029   \n",
       "1     2                K2 / Qogir / Godwin Austen        8611        28251   \n",
       "2     3                             Kangchenjunga        8586        28169   \n",
       "3     4                                    Lhotse        8516        27940   \n",
       "4     5                                    Makalu        8485        27838   \n",
       "\n",
       "   Prominence (m)                   Range              Coordinates  \\\n",
       "0            8848     Mahalangur Himalaya  27°59′17″N 86°55′31″E﻿    \n",
       "1            4017       Baltoro Karakoram  35°52′53″N 76°30′48″E﻿    \n",
       "2            3922  Kangchenjunga Himalaya  27°42′12″N 88°08′51″E﻿    \n",
       "3             610     Mahalangur Himalaya  27°57′42″N 86°55′59″E﻿    \n",
       "4            2386     Mahalangur Himalaya  27°53′23″N 87°05′20″E﻿    \n",
       "\n",
       "  Parent mountain First ascent Ascents bef. 2004  Failed attempts bef. 2004  \n",
       "0             NaN         1953            >>145                       121.0  \n",
       "1   Mount Everest         1954                45                       44.0  \n",
       "2   Mount Everest         1955                38                       24.0  \n",
       "3   Mount Everest         1956                26                       26.0  \n",
       "4   Mount Everest         1955                45                       52.0  "
      ]
     },
     "execution_count": 82,
     "metadata": {},
     "output_type": "execute_result"
    }
   ],
   "source": [
    "data = pd.read_csv( 'Mountains.csv' )\n",
    "data.head()"
   ]
  },
  {
   "cell_type": "markdown",
   "metadata": {},
   "source": [
    "Отчистим данные от NaN  занчений в столбце Parent mountain"
   ]
  },
  {
   "cell_type": "code",
   "execution_count": 83,
   "metadata": {},
   "outputs": [
    {
     "data": {
      "text/html": [
       "<div>\n",
       "<style>\n",
       "    .dataframe thead tr:only-child th {\n",
       "        text-align: right;\n",
       "    }\n",
       "\n",
       "    .dataframe thead th {\n",
       "        text-align: left;\n",
       "    }\n",
       "\n",
       "    .dataframe tbody tr th {\n",
       "        vertical-align: top;\n",
       "    }\n",
       "</style>\n",
       "<table border=\"1\" class=\"dataframe\">\n",
       "  <thead>\n",
       "    <tr style=\"text-align: right;\">\n",
       "      <th></th>\n",
       "      <th>Rank</th>\n",
       "      <th>Mountain</th>\n",
       "      <th>Height (m)</th>\n",
       "      <th>Height (ft)</th>\n",
       "      <th>Prominence (m)</th>\n",
       "      <th>Range</th>\n",
       "      <th>Coordinates</th>\n",
       "      <th>Parent mountain</th>\n",
       "      <th>First ascent</th>\n",
       "      <th>Ascents bef. 2004</th>\n",
       "      <th>Failed attempts bef. 2004</th>\n",
       "    </tr>\n",
       "  </thead>\n",
       "  <tbody>\n",
       "    <tr>\n",
       "      <th>1</th>\n",
       "      <td>2</td>\n",
       "      <td>K2 / Qogir / Godwin Austen</td>\n",
       "      <td>8611</td>\n",
       "      <td>28251</td>\n",
       "      <td>4017</td>\n",
       "      <td>Baltoro Karakoram</td>\n",
       "      <td>35°52′53″N 76°30′48″E﻿</td>\n",
       "      <td>Mount Everest</td>\n",
       "      <td>1954</td>\n",
       "      <td>45</td>\n",
       "      <td>44.0</td>\n",
       "    </tr>\n",
       "    <tr>\n",
       "      <th>2</th>\n",
       "      <td>3</td>\n",
       "      <td>Kangchenjunga</td>\n",
       "      <td>8586</td>\n",
       "      <td>28169</td>\n",
       "      <td>3922</td>\n",
       "      <td>Kangchenjunga Himalaya</td>\n",
       "      <td>27°42′12″N 88°08′51″E﻿</td>\n",
       "      <td>Mount Everest</td>\n",
       "      <td>1955</td>\n",
       "      <td>38</td>\n",
       "      <td>24.0</td>\n",
       "    </tr>\n",
       "    <tr>\n",
       "      <th>3</th>\n",
       "      <td>4</td>\n",
       "      <td>Lhotse</td>\n",
       "      <td>8516</td>\n",
       "      <td>27940</td>\n",
       "      <td>610</td>\n",
       "      <td>Mahalangur Himalaya</td>\n",
       "      <td>27°57′42″N 86°55′59″E﻿</td>\n",
       "      <td>Mount Everest</td>\n",
       "      <td>1956</td>\n",
       "      <td>26</td>\n",
       "      <td>26.0</td>\n",
       "    </tr>\n",
       "    <tr>\n",
       "      <th>4</th>\n",
       "      <td>5</td>\n",
       "      <td>Makalu</td>\n",
       "      <td>8485</td>\n",
       "      <td>27838</td>\n",
       "      <td>2386</td>\n",
       "      <td>Mahalangur Himalaya</td>\n",
       "      <td>27°53′23″N 87°05′20″E﻿</td>\n",
       "      <td>Mount Everest</td>\n",
       "      <td>1955</td>\n",
       "      <td>45</td>\n",
       "      <td>52.0</td>\n",
       "    </tr>\n",
       "    <tr>\n",
       "      <th>5</th>\n",
       "      <td>6</td>\n",
       "      <td>Cho Oyu</td>\n",
       "      <td>8188</td>\n",
       "      <td>26864</td>\n",
       "      <td>2340</td>\n",
       "      <td>Mahalangur Himalaya</td>\n",
       "      <td>28°05′39″N 86°39′39″E﻿</td>\n",
       "      <td>Mount Everest</td>\n",
       "      <td>1954</td>\n",
       "      <td>79</td>\n",
       "      <td>28.0</td>\n",
       "    </tr>\n",
       "  </tbody>\n",
       "</table>\n",
       "</div>"
      ],
      "text/plain": [
       "   Rank                    Mountain  Height (m)  Height (ft)  Prominence (m)  \\\n",
       "1     2  K2 / Qogir / Godwin Austen        8611        28251            4017   \n",
       "2     3               Kangchenjunga        8586        28169            3922   \n",
       "3     4                      Lhotse        8516        27940             610   \n",
       "4     5                      Makalu        8485        27838            2386   \n",
       "5     6                     Cho Oyu        8188        26864            2340   \n",
       "\n",
       "                    Range              Coordinates Parent mountain  \\\n",
       "1       Baltoro Karakoram  35°52′53″N 76°30′48″E﻿    Mount Everest   \n",
       "2  Kangchenjunga Himalaya  27°42′12″N 88°08′51″E﻿    Mount Everest   \n",
       "3     Mahalangur Himalaya  27°57′42″N 86°55′59″E﻿    Mount Everest   \n",
       "4     Mahalangur Himalaya  27°53′23″N 87°05′20″E﻿    Mount Everest   \n",
       "5     Mahalangur Himalaya  28°05′39″N 86°39′39″E﻿    Mount Everest   \n",
       "\n",
       "  First ascent Ascents bef. 2004  Failed attempts bef. 2004  \n",
       "1         1954                45                       44.0  \n",
       "2         1955                38                       24.0  \n",
       "3         1956                26                       26.0  \n",
       "4         1955                45                       52.0  \n",
       "5         1954                79                       28.0  "
      ]
     },
     "execution_count": 83,
     "metadata": {},
     "output_type": "execute_result"
    }
   ],
   "source": [
    "data.loc[ ~pd.isnull( data['Parent mountain'] ) ].head()"
   ]
  },
  {
   "cell_type": "markdown",
   "metadata": {},
   "source": [
    "Сгрупируем данные и подсчитаем уникальные по столбцу 'Parent mountain'"
   ]
  },
  {
   "cell_type": "code",
   "execution_count": 84,
   "metadata": {},
   "outputs": [],
   "source": [
    "data = data.groupby('Parent mountain')['Parent mountain'].count()\n"
   ]
  },
  {
   "cell_type": "markdown",
   "metadata": {},
   "source": [
    "Проверим тип данных после группировки"
   ]
  },
  {
   "cell_type": "code",
   "execution_count": 85,
   "metadata": {},
   "outputs": [
    {
     "data": {
      "text/plain": [
       "pandas.core.series.Series"
      ]
     },
     "execution_count": 85,
     "metadata": {},
     "output_type": "execute_result"
    }
   ],
   "source": [
    "type(data)"
   ]
  },
  {
   "cell_type": "code",
   "execution_count": 86,
   "metadata": {},
   "outputs": [
    {
     "data": {
      "text/plain": [
       "Parent mountain\n",
       "Annapurna        1\n",
       "Annapurna I      2\n",
       "Annapurna III    1\n",
       "Batura Sar       3\n",
       "Cho Oyu          7\n",
       "Name: Parent mountain, dtype: int64"
      ]
     },
     "execution_count": 86,
     "metadata": {},
     "output_type": "execute_result"
    }
   ],
   "source": [
    "data.head()"
   ]
  },
  {
   "cell_type": "markdown",
   "metadata": {},
   "source": [
    "Поможем JUpyter понять что мы будем работать с типом данных pd.core.series.Series"
   ]
  },
  {
   "cell_type": "code",
   "execution_count": 87,
   "metadata": {},
   "outputs": [],
   "source": [
    "data : pd.core.series.Series"
   ]
  },
  {
   "cell_type": "markdown",
   "metadata": {},
   "source": [
    "Возьмем только те данные количество которых больше 3х"
   ]
  },
  {
   "cell_type": "code",
   "execution_count": 88,
   "metadata": {
    "collapsed": true
   },
   "outputs": [],
   "source": [
    "data = data[ lambda x : x > 3 ] "
   ]
  },
  {
   "cell_type": "code",
   "execution_count": 89,
   "metadata": {},
   "outputs": [
    {
     "data": {
      "text/plain": [
       "Parent mountain\n",
       "Cho Oyu          7\n",
       "Dhaulagiri       4\n",
       "Distaghil Sar    5\n",
       "Gasherbrum I     8\n",
       "K2               5\n",
       "Name: Parent mountain, dtype: int64"
      ]
     },
     "execution_count": 89,
     "metadata": {},
     "output_type": "execute_result"
    }
   ],
   "source": [
    "data.head()"
   ]
  },
  {
   "cell_type": "markdown",
   "metadata": {},
   "source": [
    "Отсортируем и выведем"
   ]
  },
  {
   "cell_type": "code",
   "execution_count": 90,
   "metadata": {},
   "outputs": [
    {
     "data": {
      "text/plain": [
       "Parent mountain\n",
       "Mount Everest    9\n",
       "Gasherbrum I     8\n",
       "Kangchenjunga    7\n",
       "Cho Oyu          7\n",
       "K2               5\n",
       "Distaghil Sar    5\n",
       "Shisha Pangma    4\n",
       "Dhaulagiri       4\n",
       "Name: Parent mountain, dtype: int64"
      ]
     },
     "execution_count": 90,
     "metadata": {},
     "output_type": "execute_result"
    }
   ],
   "source": [
    "data.sort_values(ascending = False)"
   ]
  },
  {
   "cell_type": "code",
   "execution_count": null,
   "metadata": {
    "collapsed": true
   },
   "outputs": [],
   "source": []
  }
 ],
 "metadata": {
  "kernelspec": {
   "display_name": "Python 3",
   "language": "python",
   "name": "python3"
  },
  "language_info": {
   "codemirror_mode": {
    "name": "ipython",
    "version": 3
   },
   "file_extension": ".py",
   "mimetype": "text/x-python",
   "name": "python",
   "nbconvert_exporter": "python",
   "pygments_lexer": "ipython3",
   "version": "3.6.2"
  }
 },
 "nbformat": 4,
 "nbformat_minor": 2
}
