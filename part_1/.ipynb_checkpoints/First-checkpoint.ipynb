{
 "cells": [
  {
   "cell_type": "markdown",
   "metadata": {},
   "source": [
    "Подготовим регулярное выражение, которое оставит только слова начинающиеся в начале строки и это должен быть НЕ пробел"
   ]
  },
  {
   "cell_type": "code",
   "execution_count": 166,
   "metadata": {
    "collapsed": true
   },
   "outputs": [],
   "source": [
    "# https://docs.python.org/2/library/re.html#re.compile\n",
    "import re\n",
    "\n",
    "# шаблон страницы новостей (любые символы, потом / и 8 цифр подряд)\n",
    "# http://www.petefreitag.com/cheatsheets/regex/\n",
    "pattern = '^[^\\s]+\\w*$'\n",
    "prog = re.compile( pattern )"
   ]
  },
  {
   "cell_type": "markdown",
   "metadata": {},
   "source": [
    "Откроем файл со словарем и сохраним в другой файл отчищенные данные"
   ]
  },
  {
   "cell_type": "code",
   "execution_count": 167,
   "metadata": {},
   "outputs": [
    {
     "name": "stdout",
     "output_type": "stream",
     "text": [
      "а\n",
      "а-\n",
      "-а\n",
      "-а-(ть)\n",
      "-а-(ть-ся)\n"
     ]
    }
   ],
   "source": [
    "with open('efremova.txt', 'r') as f1:\n",
    "    with open('efremova_cleaned.txt', 'w') as f2:\n",
    "        i = 0\n",
    "        for line in f1:\n",
    "            # убираем символ переноса строки для каждой читаемой строчки\n",
    "#             line = line.strip()\n",
    "\n",
    "            # если текст строки удовлетворяем регулярному выражению pattern, то выводим строку\n",
    "            if prog.match( line ):\n",
    "                f2.write(line)\n",
    "                \n",
    "                if(i < 5):\n",
    "                    i += 1\n",
    "                    print( line.strip() )"
   ]
  },
  {
   "cell_type": "markdown",
   "metadata": {},
   "source": [
    "Создадим Набор"
   ]
  },
  {
   "cell_type": "code",
   "execution_count": 168,
   "metadata": {},
   "outputs": [
    {
     "name": "stdout",
     "output_type": "stream",
     "text": [
      "непогодица\n",
      "скаред\n",
      "православная\n",
      "полстолька\n",
      "лапландка\n"
     ]
    }
   ],
   "source": [
    "dict = set()\n",
    "with open('efremova_cleaned.txt', 'r') as f:\n",
    "    for line in f:\n",
    "        dict.add(line.strip())\n",
    "\n",
    "it = iter(dict)        \n",
    "for i in range(5):\n",
    "    value = next(it)\n",
    "    print ( value.strip() )        "
   ]
  },
  {
   "cell_type": "code",
   "execution_count": 169,
   "metadata": {},
   "outputs": [
    {
     "name": "stdout",
     "output_type": "stream",
     "text": [
      "е\n",
      "еле\n",
      "к\n",
      "ко\n",
      "ком\n",
      "л\n",
      "лек\n",
      "лом\n",
      "м\n",
      "о\n",
      "око\n",
      "ом\n",
      "осек\n",
      "ост\n",
      "от\n",
      "ото\n",
      "р\n",
      "ре\n",
      "реле\n",
      "ро\n",
      "рок\n",
      "рол\n",
      "ром\n",
      "росс\n",
      "рост\n",
      "рот\n",
      "с\n",
      "се\n",
      "село\n",
      "селом\n",
      "слом\n",
      "со\n",
      "сом\n",
      "стек\n",
      "сто\n",
      "т\n",
      "те\n",
      "тело\n",
      "тем\n",
      "то\n",
      "том\n"
     ]
    }
   ],
   "source": [
    "import itertools\n",
    "from itertools import combinations\n",
    "\n",
    "alphabets = [\"р\",\"о\",\"с\",\"с\",\"т\",\"е\",\"л\",\"е\",\"к\",\"о\",\"м\"]\n",
    "wordsList = set()\n",
    "\n",
    "for i in range(len(alphabets)):\n",
    "    items = [\"\".join(a) for a in combinations(alphabets, i)]\n",
    "\n",
    "    for newWord in items:\n",
    "        if(newWord in dict):\n",
    "            wordsList.add(newWord)\n",
    "\n",
    "\n",
    "listWords = sorted( list(wordsList) )\n",
    "str = \"\\n\".join( listWords )\n",
    "print( str  )"
   ]
  },
  {
   "cell_type": "markdown",
   "metadata": {},
   "source": [
    "Количество уникальных слов в этом словаре: "
   ]
  },
  {
   "cell_type": "code",
   "execution_count": 170,
   "metadata": {},
   "outputs": [
    {
     "name": "stdout",
     "output_type": "stream",
     "text": [
      "41\n"
     ]
    }
   ],
   "source": [
    "print ( len ( listWords ) )"
   ]
  }
 ],
 "metadata": {
  "kernelspec": {
   "display_name": "Python 3",
   "language": "python",
   "name": "python3"
  },
  "language_info": {
   "codemirror_mode": {
    "name": "ipython",
    "version": 3
   },
   "file_extension": ".py",
   "mimetype": "text/x-python",
   "name": "python",
   "nbconvert_exporter": "python",
   "pygments_lexer": "ipython3",
   "version": "3.6.2"
  }
 },
 "nbformat": 4,
 "nbformat_minor": 2
}
