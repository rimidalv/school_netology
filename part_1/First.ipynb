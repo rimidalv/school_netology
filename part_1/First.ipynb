{
 "cells": [
  {
   "cell_type": "markdown",
   "metadata": {},
   "source": [
    "Подготовим регулярное выражение, которое оставит только слова начинающиеся в начале строки и это должен быть НЕ пробел"
   ]
  },
  {
   "cell_type": "code",
   "execution_count": 2,
   "metadata": {
    "collapsed": true
   },
   "outputs": [],
   "source": [
    "# https://docs.python.org/2/library/re.html#re.compile\n",
    "import re\n",
    "\n",
    "# шаблон \n",
    "pattern = '^[^\\s]+\\w*$'\n",
    "prog = re.compile( pattern )"
   ]
  },
  {
   "cell_type": "markdown",
   "metadata": {},
   "source": [
    "Откроем файл со словарем и сохраним в другой файл отчищенные данные"
   ]
  },
  {
   "cell_type": "code",
   "execution_count": 3,
   "metadata": {},
   "outputs": [
    {
     "name": "stdout",
     "output_type": "stream",
     "text": [
      "а\n",
      "а-\n",
      "-а\n",
      "-а-(ть)\n",
      "-а-(ть-ся)\n"
     ]
    }
   ],
   "source": [
    "with open('efremova.txt', 'r') as f1:\n",
    "    with open('efremova_cleaned.txt', 'w') as f2:\n",
    "        i = 0\n",
    "        for line in f1:        \n",
    "            # если текст строки удовлетворяем регулярному выражению pattern, то записываем строку в файл\n",
    "            if prog.match( line ):\n",
    "                f2.write(line)\n",
    "                \n",
    "                if(i < 5):\n",
    "                    i += 1\n",
    "                    print( line.strip() )"
   ]
  },
  {
   "cell_type": "markdown",
   "metadata": {},
   "source": [
    "Создадим Набор"
   ]
  },
  {
   "cell_type": "code",
   "execution_count": 5,
   "metadata": {},
   "outputs": [
    {
     "name": "stdout",
     "output_type": "stream",
     "text": [
      "подсвечиваться\n",
      "оплывание\n",
      "ратификационный\n",
      "отработать\n",
      "канунечный\n"
     ]
    }
   ],
   "source": [
    "dict = set()\n",
    "with open('efremova_cleaned.txt', 'r') as f:\n",
    "    for line in f:\n",
    "        dict.add(line.strip())\n",
    "\n",
    "it = iter(dict)        \n",
    "for i in range(5):\n",
    "    value = next(it)\n",
    "    print ( value.strip() )        "
   ]
  },
  {
   "cell_type": "code",
   "execution_count": 17,
   "metadata": {},
   "outputs": [
    {
     "name": "stdout",
     "output_type": "stream",
     "text": [
      "9864100\n"
     ]
    }
   ],
   "source": [
    "import itertools\n",
    "from itertools import combinations, permutations\n",
    "import time\n",
    "\n",
    "alphabets = [\"р\",\"о\",\"с\",\"т\",\"е\",\"л\",\"л\",\"е\",\"к\",\"о\",\"м\"]\n",
    "wordsList = set()\n",
    "\n",
    "counter = 0\n",
    "for i in range(1,len(alphabets)):\n",
    "    for permutation in permutations('ростелеком', i):\n",
    "        newWord = ''.join(permutation)\n",
    "        counter+=1\n",
    "        if newWord in dict:\n",
    "            wordsList.add(newWord)\n",
    "\n",
    "\n",
    "listWords = sorted( list(wordsList) )\n",
    "str = \"\\n\".join( listWords )\n",
    "print( counter )\n",
    "print( str  )"
   ]
  },
  {
   "cell_type": "markdown",
   "metadata": {},
   "source": [
    "Количество уникальных слов в этом словаре: "
   ]
  },
  {
   "cell_type": "code",
   "execution_count": 22,
   "metadata": {},
   "outputs": [
    {
     "name": "stdout",
     "output_type": "stream",
     "text": [
      "183\n"
     ]
    }
   ],
   "source": [
    "print ( len ( listWords ) )"
   ]
  },
  {
   "cell_type": "code",
   "execution_count": 33,
   "metadata": {},
   "outputs": [],
   "source": [
    "counter = 0"
   ]
  },
  {
   "cell_type": "code",
   "execution_count": 34,
   "metadata": {},
   "outputs": [],
   "source": [
    "def get_dict_iterator(file_name):\n",
    "    \"\"\"\n",
    "    Возвращает итератор по файловому словарю. \n",
    "    Формат: на каждой строчке по слову\n",
    "    \"\"\"\n",
    "    with open(file_name, 'r') as dict_file:\n",
    "        for word in dict_file:\n",
    "            yield word.strip().lower()\n",
    "\n",
    "\n",
    "def get_word_matcher(word):\n",
    "    \"\"\"\n",
    "    Возвращает функцию для проверки можно ли составить тестовое слово test_word \n",
    "    из букв указанного слова word\n",
    "\n",
    "    >>> matcher = get_word_matcher('тест')\n",
    "    >>> matcher('сет')\n",
    "    True\n",
    "    \"\"\"\n",
    "    \n",
    "    from collections import Counter\n",
    "    _letter_couner = Counter(word.lower())\n",
    "\n",
    "    def match(test_word):\n",
    "        letter_couner = _letter_couner.copy()\n",
    "        for letter in test_word:\n",
    "            global counter\n",
    "            counter +=1\n",
    "            if letter_couner[letter] > 0:\n",
    "                letter_couner[letter] -= 1\n",
    "            else:\n",
    "                return False\n",
    "        return True\n",
    "\n",
    "    return match\n",
    "\n",
    "\n",
    "\n"
   ]
  },
  {
   "cell_type": "code",
   "execution_count": 35,
   "metadata": {},
   "outputs": [
    {
     "name": "stdout",
     "output_type": "stream",
     "text": [
      "218525\n"
     ]
    }
   ],
   "source": [
    "\n",
    "dict_iterator = get_dict_iterator('efremova_cleaned.txt')\n",
    "word_matcher = get_word_matcher('ростеллеком')\n",
    "a = []\n",
    "for word in filter(word_matcher, dict_iterator):\n",
    "    a.append(word)\n",
    "    print(word)\n",
    "print(counter)"
   ]
  },
  {
   "cell_type": "code",
   "execution_count": 32,
   "metadata": {},
   "outputs": [
    {
     "name": "stdout",
     "output_type": "stream",
     "text": [
      "185\n"
     ]
    }
   ],
   "source": [
    "print(len(a))"
   ]
  },
  {
   "cell_type": "code",
   "execution_count": null,
   "metadata": {
    "collapsed": true
   },
   "outputs": [],
   "source": []
  }
 ],
 "metadata": {
  "kernelspec": {
   "display_name": "Python 3",
   "language": "python",
   "name": "python3"
  },
  "language_info": {
   "codemirror_mode": {
    "name": "ipython",
    "version": 3
   },
   "file_extension": ".py",
   "mimetype": "text/x-python",
   "name": "python",
   "nbconvert_exporter": "python",
   "pygments_lexer": "ipython3",
   "version": "3.6.2"
  }
 },
 "nbformat": 4,
 "nbformat_minor": 2
}
