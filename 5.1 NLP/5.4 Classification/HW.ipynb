{
 "cells": [
  {
   "cell_type": "markdown",
   "metadata": {
    "deletable": true,
    "editable": true
   },
   "source": [
    "# Домашнее задание по обработке текстов\n",
    "\n",
    "Входные данные:\n",
    "* Новости о компании \"Газпром\" с 2010 года"
   ]
  },
  {
   "cell_type": "code",
   "execution_count": 7,
   "metadata": {
    "collapsed": false,
    "deletable": true,
    "editable": true
   },
   "outputs": [
    {
     "data": {
      "text/plain": [
       "2393"
      ]
     },
     "execution_count": 7,
     "metadata": {},
     "output_type": "execute_result"
    }
   ],
   "source": [
    "with open('gazprom.txt') as f:\n",
    "    raw = f.read()\n",
    "    \n",
    "news = raw.split('--------------------------------------------------------------------------')\n",
    "\n",
    "len(news)"
   ]
  },
  {
   "cell_type": "code",
   "execution_count": 8,
   "metadata": {
    "collapsed": false,
    "deletable": true,
    "editable": true
   },
   "outputs": [
    {
     "data": {
      "text/plain": [
       "'\\n\"Газпрому\" не придется доплачивать за транзит газа через Украину\\nАвторы: Vedomosti\\nОпубликовано 04 Января 2010 в 23:51:00\\n\\nДоплата, которую \"Газпром\" должен сделать в связи с ростом тарифа на транзит, будет зачтена при оплате за приобретенный НАК \"Нафтогаз Украины\" газ, сообщил заместитель главы НАК Вадим Чупрун.'"
      ]
     },
     "execution_count": 8,
     "metadata": {},
     "output_type": "execute_result"
    }
   ],
   "source": [
    "news[-1]"
   ]
  },
  {
   "cell_type": "code",
   "execution_count": 9,
   "metadata": {
    "collapsed": false,
    "deletable": true,
    "editable": true
   },
   "outputs": [
    {
     "data": {
      "text/plain": [
       "'09.11.2017'"
      ]
     },
     "execution_count": 9,
     "metadata": {},
     "output_type": "execute_result"
    }
   ],
   "source": [
    "import re\n",
    "\n",
    "def month_to_num(word):\n",
    "    months = ['января','февраля','марта','апреля','мая','июня','июля','августа','сентября','октября','ноября','декабря']\n",
    "    res = months.index(word)+1\n",
    "    if res < 10:\n",
    "        res = '0'+str(res)\n",
    "    return(str(res))\n",
    "\n",
    "def extract_date(news):\n",
    "    regexp_date = re.compile('Опубликовано\\s[0-9]{1,2}\\s[А-Яа-я]+\\s201\\d') \n",
    "    date_raw = regexp_date.findall(news)[0].lower().split()[1:]\n",
    "    date = str(date_raw[0])+'.'+month_to_num(date_raw[1])+'.'+str(date_raw[2])\n",
    "    return(date)\n",
    "\n",
    "extract_date(news[0])"
   ]
  },
  {
   "cell_type": "code",
   "execution_count": 10,
   "metadata": {
    "collapsed": false,
    "deletable": true,
    "editable": true
   },
   "outputs": [
    {
     "name": "stdout",
     "output_type": "stream",
     "text": [
      "Компания рассчитывает на решение по газовому спору с Украиной до конца декабря «Газпром» ожидает решения Стокгольмского арбитража по транзитному спору с украинским «Нафтогазом» не позднее февраля 2018 года, хотя раньше компания прогнозировала, что это произойдет до 30 ноября. Решение по взаимным искам об условиях поставок газа на Украину, по мнению монополии, суд может принять на месяц раньше — до декабря 2017 года.\n"
     ]
    }
   ],
   "source": [
    "def extract_text(news):\n",
    "    parts = news.split('\\n')\n",
    "    return (parts[0]+' '+parts[-2])\n",
    "\n",
    "print(extract_text(news[0]))"
   ]
  },
  {
   "cell_type": "code",
   "execution_count": 11,
   "metadata": {
    "collapsed": true,
    "deletable": true,
    "editable": true
   },
   "outputs": [],
   "source": [
    "events_by_date = {}\n",
    "\n",
    "for n in news:\n",
    "    date = extract_date(n)\n",
    "    if date in events_by_date.keys():\n",
    "        events_by_date[date] += ('\\n'+extract_text(n))\n",
    "    else:\n",
    "        events_by_date[date] = extract_text(n)\n",
    "    "
   ]
  },
  {
   "cell_type": "code",
   "execution_count": 50,
   "metadata": {
    "collapsed": false,
    "deletable": true,
    "editable": true
   },
   "outputs": [],
   "source": [
    "import pandas as pd\n",
    "\n",
    "df = pd.DataFrame.from_dict(events_by_date, orient='index')\n",
    "df = df.reset_index()\n",
    "df.columns = ['date', 'text']\n",
    "df.to_csv('texts.csv', index=False)"
   ]
  },
  {
   "cell_type": "code",
   "execution_count": 53,
   "metadata": {
    "collapsed": false
   },
   "outputs": [],
   "source": [
    "df1 = pd.read_csv('texts.csv')"
   ]
  },
  {
   "cell_type": "code",
   "execution_count": 54,
   "metadata": {
    "collapsed": false
   },
   "outputs": [
    {
     "data": {
      "text/html": [
       "<div>\n",
       "<table border=\"1\" class=\"dataframe\">\n",
       "  <thead>\n",
       "    <tr style=\"text-align: right;\">\n",
       "      <th></th>\n",
       "      <th>date</th>\n",
       "      <th>text</th>\n",
       "    </tr>\n",
       "  </thead>\n",
       "  <tbody>\n",
       "    <tr>\n",
       "      <th>0</th>\n",
       "      <td>09.11.2017</td>\n",
       "      <td>Компания рассчитывает на решение по газовому с...</td>\n",
       "    </tr>\n",
       "    <tr>\n",
       "      <th>1</th>\n",
       "      <td>08.11.2017</td>\n",
       "      <td>Как и предполагал “Ъ”, «Газпром», воспользова...</td>\n",
       "    </tr>\n",
       "    <tr>\n",
       "      <th>2</th>\n",
       "      <td>01.11.2017</td>\n",
       "      <td>Новая редакция американских санкций ставит по...</td>\n",
       "    </tr>\n",
       "    <tr>\n",
       "      <th>3</th>\n",
       "      <td>30.10.2017</td>\n",
       "      <td>Как стало известно “Ъ”, известный на рынке ри...</td>\n",
       "    </tr>\n",
       "    <tr>\n",
       "      <th>4</th>\n",
       "      <td>23.10.2017</td>\n",
       "      <td>НОВАТЭК, который через пять лет собирается за...</td>\n",
       "    </tr>\n",
       "  </tbody>\n",
       "</table>\n",
       "</div>"
      ],
      "text/plain": [
       "         date                                               text\n",
       "0  09.11.2017  Компания рассчитывает на решение по газовому с...\n",
       "1  08.11.2017   Как и предполагал “Ъ”, «Газпром», воспользова...\n",
       "2  01.11.2017   Новая редакция американских санкций ставит по...\n",
       "3  30.10.2017   Как стало известно “Ъ”, известный на рынке ри...\n",
       "4  23.10.2017   НОВАТЭК, который через пять лет собирается за..."
      ]
     },
     "execution_count": 54,
     "metadata": {},
     "output_type": "execute_result"
    }
   ],
   "source": [
    "df1.head()"
   ]
  },
  {
   "cell_type": "code",
   "execution_count": 13,
   "metadata": {
    "collapsed": false,
    "deletable": true,
    "editable": true
   },
   "outputs": [
    {
     "data": {
      "text/html": [
       "<div>\n",
       "<table border=\"1\" class=\"dataframe\">\n",
       "  <thead>\n",
       "    <tr style=\"text-align: right;\">\n",
       "      <th></th>\n",
       "      <th>0</th>\n",
       "    </tr>\n",
       "  </thead>\n",
       "  <tbody>\n",
       "    <tr>\n",
       "      <th>04.01.2010</th>\n",
       "      <td></td>\n",
       "    </tr>\n",
       "    <tr>\n",
       "      <th>11.01.2010</th>\n",
       "      <td>Спорные вопросы по оплате за оказанные в пери...</td>\n",
       "    </tr>\n",
       "    <tr>\n",
       "      <th>19.01.2010</th>\n",
       "      <td>\"Газпром\" готов забирать весь объем азербайдж...</td>\n",
       "    </tr>\n",
       "    <tr>\n",
       "      <th>28.01.2010</th>\n",
       "      <td>Консорциум во главе с российским ОАО \"Газпром...</td>\n",
       "    </tr>\n",
       "    <tr>\n",
       "      <th>01.02.2010</th>\n",
       "      <td>\"Газпром\" не исключает в 2010 г. выпуска обли...</td>\n",
       "    </tr>\n",
       "    <tr>\n",
       "      <th>03.02.2010</th>\n",
       "      <td>Переговоры ОАО \"Газпром\" с оператором проекта...</td>\n",
       "    </tr>\n",
       "    <tr>\n",
       "      <th>04.02.2010</th>\n",
       "      <td>Российский газовый монополист – компания \"Газ...</td>\n",
       "    </tr>\n",
       "    <tr>\n",
       "      <th>15.02.2010</th>\n",
       "      <td>Российский \"Газпром\" сообщил о планах увеличе...</td>\n",
       "    </tr>\n",
       "    <tr>\n",
       "      <th>10.03.2010</th>\n",
       "      <td>Подконтрольный \"Газпрому\" нефтедобытчик \"Газп...</td>\n",
       "    </tr>\n",
       "    <tr>\n",
       "      <th>22.03.2010</th>\n",
       "      <td>\"Газпром\" назвал участников конкурса по отбор...</td>\n",
       "    </tr>\n",
       "  </tbody>\n",
       "</table>\n",
       "</div>"
      ],
      "text/plain": [
       "                                                            0\n",
       "04.01.2010                                                   \n",
       "11.01.2010   Спорные вопросы по оплате за оказанные в пери...\n",
       "19.01.2010   \"Газпром\" готов забирать весь объем азербайдж...\n",
       "28.01.2010   Консорциум во главе с российским ОАО \"Газпром...\n",
       "01.02.2010   \"Газпром\" не исключает в 2010 г. выпуска обли...\n",
       "03.02.2010   Переговоры ОАО \"Газпром\" с оператором проекта...\n",
       "04.02.2010   Российский газовый монополист – компания \"Газ...\n",
       "15.02.2010   Российский \"Газпром\" сообщил о планах увеличе...\n",
       "10.03.2010   Подконтрольный \"Газпрому\" нефтедобытчик \"Газп...\n",
       "22.03.2010   \"Газпром\" назвал участников конкурса по отбор..."
      ]
     },
     "execution_count": 13,
     "metadata": {},
     "output_type": "execute_result"
    }
   ],
   "source": [
    "df = df.iloc[::-1]\n",
    "df.head(10)"
   ]
  },
  {
   "cell_type": "markdown",
   "metadata": {
    "deletable": true,
    "editable": true
   },
   "source": [
    "# Quotations"
   ]
  },
  {
   "cell_type": "code",
   "execution_count": 264,
   "metadata": {
    "collapsed": false,
    "deletable": true,
    "editable": true,
    "scrolled": true
   },
   "outputs": [
    {
     "data": {
      "text/html": [
       "<div>\n",
       "<style scoped>\n",
       "    .dataframe tbody tr th:only-of-type {\n",
       "        vertical-align: middle;\n",
       "    }\n",
       "\n",
       "    .dataframe tbody tr th {\n",
       "        vertical-align: top;\n",
       "    }\n",
       "\n",
       "    .dataframe thead th {\n",
       "        text-align: right;\n",
       "    }\n",
       "</style>\n",
       "<table border=\"1\" class=\"dataframe\">\n",
       "  <thead>\n",
       "    <tr style=\"text-align: right;\">\n",
       "      <th></th>\n",
       "      <th>Date</th>\n",
       "      <th>Open</th>\n",
       "      <th>ClosingPrice</th>\n",
       "      <th>DailyHigh</th>\n",
       "      <th>DailyLow</th>\n",
       "      <th>VolumePcs</th>\n",
       "    </tr>\n",
       "  </thead>\n",
       "  <tbody>\n",
       "    <tr>\n",
       "      <th>1987</th>\n",
       "      <td>11.01.2010</td>\n",
       "      <td>192,50000</td>\n",
       "      <td>194,50000</td>\n",
       "      <td>196,90000</td>\n",
       "      <td>191,00000</td>\n",
       "      <td>59815603</td>\n",
       "    </tr>\n",
       "    <tr>\n",
       "      <th>1986</th>\n",
       "      <td>12.01.2010</td>\n",
       "      <td>194,00000</td>\n",
       "      <td>191,80000</td>\n",
       "      <td>195,80000</td>\n",
       "      <td>190,55000</td>\n",
       "      <td>43482579</td>\n",
       "    </tr>\n",
       "    <tr>\n",
       "      <th>1985</th>\n",
       "      <td>13.01.2010</td>\n",
       "      <td>189,72000</td>\n",
       "      <td>189,30000</td>\n",
       "      <td>191,86000</td>\n",
       "      <td>188,30000</td>\n",
       "      <td>52416087</td>\n",
       "    </tr>\n",
       "    <tr>\n",
       "      <th>1984</th>\n",
       "      <td>14.01.2010</td>\n",
       "      <td>191,20000</td>\n",
       "      <td>190,83000</td>\n",
       "      <td>191,46000</td>\n",
       "      <td>188,88000</td>\n",
       "      <td>41207109</td>\n",
       "    </tr>\n",
       "    <tr>\n",
       "      <th>1983</th>\n",
       "      <td>15.01.2010</td>\n",
       "      <td>190,00000</td>\n",
       "      <td>187,86000</td>\n",
       "      <td>192,10000</td>\n",
       "      <td>187,25000</td>\n",
       "      <td>55571965</td>\n",
       "    </tr>\n",
       "    <tr>\n",
       "      <th>1982</th>\n",
       "      <td>18.01.2010</td>\n",
       "      <td>186,97000</td>\n",
       "      <td>190,40000</td>\n",
       "      <td>190,50000</td>\n",
       "      <td>186,60000</td>\n",
       "      <td>36525951</td>\n",
       "    </tr>\n",
       "    <tr>\n",
       "      <th>1981</th>\n",
       "      <td>19.01.2010</td>\n",
       "      <td>190,10000</td>\n",
       "      <td>189,76000</td>\n",
       "      <td>190,47000</td>\n",
       "      <td>187,36000</td>\n",
       "      <td>48626727</td>\n",
       "    </tr>\n",
       "    <tr>\n",
       "      <th>1980</th>\n",
       "      <td>20.01.2010</td>\n",
       "      <td>189,09000</td>\n",
       "      <td>185,98000</td>\n",
       "      <td>189,90000</td>\n",
       "      <td>185,82000</td>\n",
       "      <td>46894531</td>\n",
       "    </tr>\n",
       "    <tr>\n",
       "      <th>1979</th>\n",
       "      <td>21.01.2010</td>\n",
       "      <td>187,17000</td>\n",
       "      <td>182,76000</td>\n",
       "      <td>187,19000</td>\n",
       "      <td>182,30000</td>\n",
       "      <td>62823179</td>\n",
       "    </tr>\n",
       "    <tr>\n",
       "      <th>1978</th>\n",
       "      <td>22.01.2010</td>\n",
       "      <td>181,50000</td>\n",
       "      <td>181,50000</td>\n",
       "      <td>183,00000</td>\n",
       "      <td>178,51000</td>\n",
       "      <td>62923848</td>\n",
       "    </tr>\n",
       "  </tbody>\n",
       "</table>\n",
       "</div>"
      ],
      "text/plain": [
       "            Date       Open ClosingPrice  DailyHigh   DailyLow  VolumePcs\n",
       "1987  11.01.2010  192,50000    194,50000  196,90000  191,00000   59815603\n",
       "1986  12.01.2010  194,00000    191,80000  195,80000  190,55000   43482579\n",
       "1985  13.01.2010  189,72000    189,30000  191,86000  188,30000   52416087\n",
       "1984  14.01.2010  191,20000    190,83000  191,46000  188,88000   41207109\n",
       "1983  15.01.2010  190,00000    187,86000  192,10000  187,25000   55571965\n",
       "1982  18.01.2010  186,97000    190,40000  190,50000  186,60000   36525951\n",
       "1981  19.01.2010  190,10000    189,76000  190,47000  187,36000   48626727\n",
       "1980  20.01.2010  189,09000    185,98000  189,90000  185,82000   46894531\n",
       "1979  21.01.2010  187,17000    182,76000  187,19000  182,30000   62823179\n",
       "1978  22.01.2010  181,50000    181,50000  183,00000  178,51000   62923848"
      ]
     },
     "execution_count": 264,
     "metadata": {},
     "output_type": "execute_result"
    }
   ],
   "source": [
    "pr_all = pd.read_csv('gazprom_prices.csv', sep=';')\n",
    "pr_all = pr_all.iloc[::-1]\n",
    "pr_all.head(10)"
   ]
  },
  {
   "cell_type": "code",
   "execution_count": 267,
   "metadata": {
    "collapsed": true,
    "deletable": true,
    "editable": true
   },
   "outputs": [],
   "source": [
    "pr = pr_all[pr_all.Date.isin(df.index)]"
   ]
  },
  {
   "cell_type": "markdown",
   "metadata": {
    "deletable": true,
    "editable": true
   },
   "source": [
    "Для некоторых дат нет цен, удалим тексты за эти даты за датасета с новостями."
   ]
  },
  {
   "cell_type": "code",
   "execution_count": 268,
   "metadata": {
    "collapsed": true,
    "deletable": true,
    "editable": true
   },
   "outputs": [],
   "source": [
    "df = df[df.index.isin(pr.Date)]"
   ]
  },
  {
   "cell_type": "code",
   "execution_count": 269,
   "metadata": {
    "collapsed": false,
    "deletable": true,
    "editable": true
   },
   "outputs": [
    {
     "data": {
      "text/html": [
       "<div>\n",
       "<style scoped>\n",
       "    .dataframe tbody tr th:only-of-type {\n",
       "        vertical-align: middle;\n",
       "    }\n",
       "\n",
       "    .dataframe tbody tr th {\n",
       "        vertical-align: top;\n",
       "    }\n",
       "\n",
       "    .dataframe thead th {\n",
       "        text-align: right;\n",
       "    }\n",
       "</style>\n",
       "<table border=\"1\" class=\"dataframe\">\n",
       "  <thead>\n",
       "    <tr style=\"text-align: right;\">\n",
       "      <th></th>\n",
       "      <th>Date</th>\n",
       "      <th>Open</th>\n",
       "      <th>ClosingPrice</th>\n",
       "      <th>DailyHigh</th>\n",
       "      <th>DailyLow</th>\n",
       "      <th>VolumePcs</th>\n",
       "    </tr>\n",
       "  </thead>\n",
       "  <tbody>\n",
       "    <tr>\n",
       "      <th>1987</th>\n",
       "      <td>11.01.2010</td>\n",
       "      <td>192,50000</td>\n",
       "      <td>194,50000</td>\n",
       "      <td>196,90000</td>\n",
       "      <td>191,00000</td>\n",
       "      <td>59815603</td>\n",
       "    </tr>\n",
       "    <tr>\n",
       "      <th>1981</th>\n",
       "      <td>19.01.2010</td>\n",
       "      <td>190,10000</td>\n",
       "      <td>189,76000</td>\n",
       "      <td>190,47000</td>\n",
       "      <td>187,36000</td>\n",
       "      <td>48626727</td>\n",
       "    </tr>\n",
       "    <tr>\n",
       "      <th>1974</th>\n",
       "      <td>28.01.2010</td>\n",
       "      <td>183,75000</td>\n",
       "      <td>182,30000</td>\n",
       "      <td>185,98000</td>\n",
       "      <td>181,67000</td>\n",
       "      <td>62561241</td>\n",
       "    </tr>\n",
       "    <tr>\n",
       "      <th>1972</th>\n",
       "      <td>01.02.2010</td>\n",
       "      <td>184,74000</td>\n",
       "      <td>189,85000</td>\n",
       "      <td>190,40000</td>\n",
       "      <td>183,50000</td>\n",
       "      <td>76298175</td>\n",
       "    </tr>\n",
       "    <tr>\n",
       "      <th>1970</th>\n",
       "      <td>03.02.2010</td>\n",
       "      <td>194,00000</td>\n",
       "      <td>192,70000</td>\n",
       "      <td>195,27000</td>\n",
       "      <td>192,30000</td>\n",
       "      <td>74730185</td>\n",
       "    </tr>\n",
       "    <tr>\n",
       "      <th>1969</th>\n",
       "      <td>04.02.2010</td>\n",
       "      <td>192,60000</td>\n",
       "      <td>186,59000</td>\n",
       "      <td>193,39000</td>\n",
       "      <td>185,78000</td>\n",
       "      <td>72663606</td>\n",
       "    </tr>\n",
       "    <tr>\n",
       "      <th>1962</th>\n",
       "      <td>15.02.2010</td>\n",
       "      <td>163,52000</td>\n",
       "      <td>164,45000</td>\n",
       "      <td>165,16000</td>\n",
       "      <td>162,50000</td>\n",
       "      <td>40268788</td>\n",
       "    </tr>\n",
       "    <tr>\n",
       "      <th>1947</th>\n",
       "      <td>10.03.2010</td>\n",
       "      <td>174,80000</td>\n",
       "      <td>173,77000</td>\n",
       "      <td>177,71000</td>\n",
       "      <td>172,65000</td>\n",
       "      <td>64149524</td>\n",
       "    </tr>\n",
       "    <tr>\n",
       "      <th>1939</th>\n",
       "      <td>22.03.2010</td>\n",
       "      <td>166,34000</td>\n",
       "      <td>169,29000</td>\n",
       "      <td>169,64000</td>\n",
       "      <td>164,89000</td>\n",
       "      <td>68318812</td>\n",
       "    </tr>\n",
       "    <tr>\n",
       "      <th>1935</th>\n",
       "      <td>26.03.2010</td>\n",
       "      <td>161,97000</td>\n",
       "      <td>161,10000</td>\n",
       "      <td>162,74000</td>\n",
       "      <td>159,49000</td>\n",
       "      <td>79370939</td>\n",
       "    </tr>\n",
       "  </tbody>\n",
       "</table>\n",
       "</div>"
      ],
      "text/plain": [
       "            Date       Open ClosingPrice  DailyHigh   DailyLow  VolumePcs\n",
       "1987  11.01.2010  192,50000    194,50000  196,90000  191,00000   59815603\n",
       "1981  19.01.2010  190,10000    189,76000  190,47000  187,36000   48626727\n",
       "1974  28.01.2010  183,75000    182,30000  185,98000  181,67000   62561241\n",
       "1972  01.02.2010  184,74000    189,85000  190,40000  183,50000   76298175\n",
       "1970  03.02.2010  194,00000    192,70000  195,27000  192,30000   74730185\n",
       "1969  04.02.2010  192,60000    186,59000  193,39000  185,78000   72663606\n",
       "1962  15.02.2010  163,52000    164,45000  165,16000  162,50000   40268788\n",
       "1947  10.03.2010  174,80000    173,77000  177,71000  172,65000   64149524\n",
       "1939  22.03.2010  166,34000    169,29000  169,64000  164,89000   68318812\n",
       "1935  26.03.2010  161,97000    161,10000  162,74000  159,49000   79370939"
      ]
     },
     "execution_count": 269,
     "metadata": {},
     "output_type": "execute_result"
    }
   ],
   "source": [
    "pr.head(10)"
   ]
  },
  {
   "cell_type": "code",
   "execution_count": 275,
   "metadata": {
    "collapsed": false,
    "deletable": true,
    "editable": true
   },
   "outputs": [
    {
     "data": {
      "text/plain": [
       "array(['194,50000', '189,76000', '182,30000', '189,85000', '192,70000',\n",
       "       '186,59000', '164,45000', '173,77000', '169,29000', '161,10000'], dtype=object)"
      ]
     },
     "execution_count": 275,
     "metadata": {},
     "output_type": "execute_result"
    }
   ],
   "source": [
    "import numpy as np\n",
    "\n",
    "target = np.array(pr['ClosingPrice'])\n",
    "target[:10]"
   ]
  },
  {
   "cell_type": "code",
   "execution_count": 276,
   "metadata": {
    "collapsed": false,
    "deletable": true,
    "editable": true
   },
   "outputs": [
    {
     "data": {
      "text/plain": [
       "1159"
      ]
     },
     "execution_count": 276,
     "metadata": {},
     "output_type": "execute_result"
    }
   ],
   "source": [
    "len(target)"
   ]
  },
  {
   "cell_type": "code",
   "execution_count": 277,
   "metadata": {
    "collapsed": false,
    "deletable": true,
    "editable": true
   },
   "outputs": [
    {
     "data": {
      "text/plain": [
       "(1159, 1)"
      ]
     },
     "execution_count": 277,
     "metadata": {},
     "output_type": "execute_result"
    }
   ],
   "source": [
    "df.shape"
   ]
  },
  {
   "cell_type": "code",
   "execution_count": 278,
   "metadata": {
    "collapsed": false,
    "deletable": true,
    "editable": true
   },
   "outputs": [
    {
     "data": {
      "text/plain": [
       "array(['194,50000', '189,76000', '182,30000', ..., '126,50000',\n",
       "       '132,30000', '131,50000'], dtype=object)"
      ]
     },
     "execution_count": 278,
     "metadata": {},
     "output_type": "execute_result"
    }
   ],
   "source": [
    "target"
   ]
  },
  {
   "cell_type": "code",
   "execution_count": 279,
   "metadata": {
    "collapsed": false,
    "deletable": true,
    "editable": true,
    "scrolled": false
   },
   "outputs": [
    {
     "data": {
      "text/plain": [
       "array([1, 1, 0, 0, 1, 1, 0, 1, 1, 0], dtype=object)"
      ]
     },
     "execution_count": 279,
     "metadata": {},
     "output_type": "execute_result"
    }
   ],
   "source": [
    "def price(s):\n",
    "    s1 = str(s)\n",
    "    s = s1.replace(',','.')\n",
    "    return(float(s))\n",
    "    \n",
    "   \n",
    "for i in range(1,len(target)):\n",
    "    if price(target[i-1]) < price(target[i]):\n",
    "        target[i-1] = 0\n",
    "    else:\n",
    "        target[i-1] = 1\n",
    "\n",
    "      \n",
    "target[:10]"
   ]
  },
  {
   "cell_type": "code",
   "execution_count": 280,
   "metadata": {
    "collapsed": true,
    "deletable": true,
    "editable": true
   },
   "outputs": [],
   "source": [
    "target[-1] = 1\n",
    "target\n",
    "y = target.astype('int')"
   ]
  },
  {
   "cell_type": "code",
   "execution_count": 281,
   "metadata": {
    "collapsed": true,
    "deletable": true,
    "editable": true
   },
   "outputs": [],
   "source": [
    "from sklearn.feature_extraction.text import TfidfVectorizer\n",
    "from sklearn.feature_extraction.text import CountVectorizer\n",
    "\n",
    "vectorizer = CountVectorizer()\n",
    "df1 = vectorizer.fit_transform(df[0])"
   ]
  },
  {
   "cell_type": "code",
   "execution_count": 282,
   "metadata": {
    "collapsed": true,
    "deletable": true,
    "editable": true
   },
   "outputs": [],
   "source": [
    "from sklearn.cross_validation import train_test_split\n",
    "\n",
    "X_train, X_test, y_train, y_test = train_test_split(df1, y, test_size=0.33, random_state=42)"
   ]
  },
  {
   "cell_type": "code",
   "execution_count": 283,
   "metadata": {
    "collapsed": false,
    "deletable": true,
    "editable": true
   },
   "outputs": [
    {
     "name": "stdout",
     "output_type": "stream",
     "text": [
      "             precision    recall  f1-score   support\n",
      "\n",
      "          0       0.46      0.48      0.47       169\n",
      "          1       0.58      0.56      0.57       214\n",
      "\n",
      "avg / total       0.53      0.52      0.53       383\n",
      "\n"
     ]
    }
   ],
   "source": [
    "from sklearn.linear_model import LogisticRegression\n",
    "from sklearn.metrics import classification_report\n",
    "\n",
    "LogReg = LogisticRegression()\n",
    "preds = LogReg.fit(X_train, y_train).predict(X_test)\n",
    "\n",
    "print(classification_report(y_test, preds))"
   ]
  },
  {
   "cell_type": "code",
   "execution_count": null,
   "metadata": {
    "collapsed": true,
    "deletable": true,
    "editable": true
   },
   "outputs": [],
   "source": []
  }
 ],
 "metadata": {
  "kernelspec": {
   "display_name": "Python 3",
   "language": "python",
   "name": "python3"
  },
  "language_info": {
   "codemirror_mode": {
    "name": "ipython",
    "version": 3
   },
   "file_extension": ".py",
   "mimetype": "text/x-python",
   "name": "python",
   "nbconvert_exporter": "python",
   "pygments_lexer": "ipython3",
   "version": "3.6.0"
  }
 },
 "nbformat": 4,
 "nbformat_minor": 2
}
