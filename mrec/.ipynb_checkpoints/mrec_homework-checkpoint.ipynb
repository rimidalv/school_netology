{
 "cells": [
  {
   "cell_type": "markdown",
   "metadata": {},
   "source": [
    "# Рекомендательные системы"
   ]
  },
  {
   "cell_type": "markdown",
   "metadata": {},
   "source": [
    "КАК ПОЛУЧИТЬ ЗАЧЁТ\n",
    "1. установить mrec\n",
    "2. получить для MovieLens 100K рекомендации:\n",
    "    - по популярности \n",
    "    - с помощью kNN\n",
    "3. поделиться результатами с преподавателем"
   ]
  },
  {
   "cell_type": "markdown",
   "metadata": {},
   "source": [
    "КАКИЕ ИМЕННО РЕЗУЛЬТАТЫ НУЖНЫ\n",
    "1. файлы, сгенерированные скриптами:\n",
    "    - mrec_prepare (train/test)\n",
    "    - mrec_train (model/similarity)\n",
    "    - mrec_predict (собственно рекомендации)\n",
    "2. отчёт об исследовании\n",
    "    - какие скрипты вызывали, в каком порядке \n",
    "    - какие модели пробовали\n",
    "    - какие параметры использовали    "
   ]
  },
  {
   "cell_type": "markdown",
   "metadata": {},
   "source": [
    "КАК ПОЛУЧИТЬ УДОВОЛЬСТВИЕ\n",
    "1. используйте продвинутые модели \n",
    "    - SLIM\n",
    "    - WRMF (подробнее в лекции 4.3) \n",
    "    - WARP (подробнее в лекции 4.6)\n",
    "2. подберите параметры моделей\n",
    "    - k и меру схожести в kNN\n",
    "    - параметры регуляризации в SLIM \n",
    "    - alpha и lambda в WRMF    "
   ]
  },
  {
   "cell_type": "markdown",
   "metadata": {},
   "source": [
    "КАК СТАТЬ DATA SCIENTIST’ОМ\n",
    "- сделать fork репы и добавить код,\n",
    "    - считающий Recall\n",
    "    - или считающий MAP (mean average precision) \n",
    "    - метрику на свой выбор\n",
    "- запустить обучение в облаке в 20 потоков"
   ]
  },
  {
   "cell_type": "markdown",
   "metadata": {},
   "source": [
    "### Погнали, как получить зачет"
   ]
  },
  {
   "cell_type": "markdown",
   "metadata": {},
   "source": [
    "Установим библиотеку"
   ]
  },
  {
   "cell_type": "markdown",
   "metadata": {},
   "source": [
    "```git clone https://github.com/inpefess/mrec\n",
    "cd mrec\n",
    "sudo -H python3 setup.py install --install-scripts sbin```"
   ]
  },
  {
   "cell_type": "markdown",
   "metadata": {},
   "source": [
    "Положим папочку с датасетом рядом и импортируем его "
   ]
  },
  {
   "cell_type": "code",
   "execution_count": 6,
   "metadata": {
    "collapsed": true
   },
   "outputs": [],
   "source": [
    "import sys\n",
    "import pandas as pd\n",
    "import scipy\n",
    "import mrec"
   ]
  },
  {
   "cell_type": "code",
   "execution_count": 72,
   "metadata": {},
   "outputs": [],
   "source": [
    "from os import path\n",
    "\n",
    "data_dir = \"ml-latest-small\"\n",
    "\n",
    "data = pd.read_csv(\"ml-100k/u.data\", sep=\"\\t\", header=None, index_col=0)\n",
    "data.columns = [\"item id\" , \"rating\" , \"timestamp\"]"
   ]
  },
  {
   "cell_type": "markdown",
   "metadata": {},
   "source": [
    "Посмотрим оценки"
   ]
  },
  {
   "cell_type": "code",
   "execution_count": 73,
   "metadata": {
    "scrolled": true
   },
   "outputs": [
    {
     "data": {
      "text/html": [
       "<div>\n",
       "<style>\n",
       "    .dataframe thead tr:only-child th {\n",
       "        text-align: right;\n",
       "    }\n",
       "\n",
       "    .dataframe thead th {\n",
       "        text-align: left;\n",
       "    }\n",
       "\n",
       "    .dataframe tbody tr th {\n",
       "        vertical-align: top;\n",
       "    }\n",
       "</style>\n",
       "<table border=\"1\" class=\"dataframe\">\n",
       "  <thead>\n",
       "    <tr style=\"text-align: right;\">\n",
       "      <th></th>\n",
       "      <th>item id</th>\n",
       "      <th>rating</th>\n",
       "      <th>timestamp</th>\n",
       "    </tr>\n",
       "    <tr>\n",
       "      <th>0</th>\n",
       "      <th></th>\n",
       "      <th></th>\n",
       "      <th></th>\n",
       "    </tr>\n",
       "  </thead>\n",
       "  <tbody>\n",
       "    <tr>\n",
       "      <th>196</th>\n",
       "      <td>242</td>\n",
       "      <td>3</td>\n",
       "      <td>881250949</td>\n",
       "    </tr>\n",
       "    <tr>\n",
       "      <th>186</th>\n",
       "      <td>302</td>\n",
       "      <td>3</td>\n",
       "      <td>891717742</td>\n",
       "    </tr>\n",
       "    <tr>\n",
       "      <th>22</th>\n",
       "      <td>377</td>\n",
       "      <td>1</td>\n",
       "      <td>878887116</td>\n",
       "    </tr>\n",
       "    <tr>\n",
       "      <th>244</th>\n",
       "      <td>51</td>\n",
       "      <td>2</td>\n",
       "      <td>880606923</td>\n",
       "    </tr>\n",
       "    <tr>\n",
       "      <th>166</th>\n",
       "      <td>346</td>\n",
       "      <td>1</td>\n",
       "      <td>886397596</td>\n",
       "    </tr>\n",
       "  </tbody>\n",
       "</table>\n",
       "</div>"
      ],
      "text/plain": [
       "     item id  rating  timestamp\n",
       "0                              \n",
       "196      242       3  881250949\n",
       "186      302       3  891717742\n",
       "22       377       1  878887116\n",
       "244       51       2  880606923\n",
       "166      346       1  886397596"
      ]
     },
     "execution_count": 73,
     "metadata": {},
     "output_type": "execute_result"
    }
   ],
   "source": [
    "data.head()"
   ]
  },
  {
   "cell_type": "markdown",
   "metadata": {},
   "source": [
    "про фильмы знаем названия и жанры"
   ]
  },
  {
   "cell_type": "code",
   "execution_count": 103,
   "metadata": {},
   "outputs": [
    {
     "data": {
      "text/html": [
       "<div>\n",
       "<style>\n",
       "    .dataframe thead tr:only-child th {\n",
       "        text-align: right;\n",
       "    }\n",
       "\n",
       "    .dataframe thead th {\n",
       "        text-align: left;\n",
       "    }\n",
       "\n",
       "    .dataframe tbody tr th {\n",
       "        vertical-align: top;\n",
       "    }\n",
       "</style>\n",
       "<table border=\"1\" class=\"dataframe\">\n",
       "  <thead>\n",
       "    <tr style=\"text-align: right;\">\n",
       "      <th></th>\n",
       "      <th>movie_id</th>\n",
       "      <th>movie title</th>\n",
       "      <th>release date</th>\n",
       "      <th>video release date</th>\n",
       "      <th>IMDb URL</th>\n",
       "      <th>unknown</th>\n",
       "      <th>Action</th>\n",
       "      <th>Adventure</th>\n",
       "      <th>Animation</th>\n",
       "      <th>Children's</th>\n",
       "      <th>...</th>\n",
       "      <th>Fantasy</th>\n",
       "      <th>Film-Noir</th>\n",
       "      <th>Horror</th>\n",
       "      <th>Musical</th>\n",
       "      <th>Mystery</th>\n",
       "      <th>Romance</th>\n",
       "      <th>Sci-Fi</th>\n",
       "      <th>Thriller</th>\n",
       "      <th>War</th>\n",
       "      <th>Western</th>\n",
       "    </tr>\n",
       "  </thead>\n",
       "  <tbody>\n",
       "    <tr>\n",
       "      <th>0</th>\n",
       "      <td>1</td>\n",
       "      <td>Toy Story (1995)</td>\n",
       "      <td>01-Jan-1995</td>\n",
       "      <td>NaN</td>\n",
       "      <td>http://us.imdb.com/M/title-exact?Toy%20Story%2...</td>\n",
       "      <td>0</td>\n",
       "      <td>0</td>\n",
       "      <td>0</td>\n",
       "      <td>1</td>\n",
       "      <td>1</td>\n",
       "      <td>...</td>\n",
       "      <td>0</td>\n",
       "      <td>0</td>\n",
       "      <td>0</td>\n",
       "      <td>0</td>\n",
       "      <td>0</td>\n",
       "      <td>0</td>\n",
       "      <td>0</td>\n",
       "      <td>0</td>\n",
       "      <td>0</td>\n",
       "      <td>0</td>\n",
       "    </tr>\n",
       "    <tr>\n",
       "      <th>1</th>\n",
       "      <td>2</td>\n",
       "      <td>GoldenEye (1995)</td>\n",
       "      <td>01-Jan-1995</td>\n",
       "      <td>NaN</td>\n",
       "      <td>http://us.imdb.com/M/title-exact?GoldenEye%20(...</td>\n",
       "      <td>0</td>\n",
       "      <td>1</td>\n",
       "      <td>1</td>\n",
       "      <td>0</td>\n",
       "      <td>0</td>\n",
       "      <td>...</td>\n",
       "      <td>0</td>\n",
       "      <td>0</td>\n",
       "      <td>0</td>\n",
       "      <td>0</td>\n",
       "      <td>0</td>\n",
       "      <td>0</td>\n",
       "      <td>0</td>\n",
       "      <td>1</td>\n",
       "      <td>0</td>\n",
       "      <td>0</td>\n",
       "    </tr>\n",
       "    <tr>\n",
       "      <th>2</th>\n",
       "      <td>3</td>\n",
       "      <td>Four Rooms (1995)</td>\n",
       "      <td>01-Jan-1995</td>\n",
       "      <td>NaN</td>\n",
       "      <td>http://us.imdb.com/M/title-exact?Four%20Rooms%...</td>\n",
       "      <td>0</td>\n",
       "      <td>0</td>\n",
       "      <td>0</td>\n",
       "      <td>0</td>\n",
       "      <td>0</td>\n",
       "      <td>...</td>\n",
       "      <td>0</td>\n",
       "      <td>0</td>\n",
       "      <td>0</td>\n",
       "      <td>0</td>\n",
       "      <td>0</td>\n",
       "      <td>0</td>\n",
       "      <td>0</td>\n",
       "      <td>1</td>\n",
       "      <td>0</td>\n",
       "      <td>0</td>\n",
       "    </tr>\n",
       "    <tr>\n",
       "      <th>3</th>\n",
       "      <td>4</td>\n",
       "      <td>Get Shorty (1995)</td>\n",
       "      <td>01-Jan-1995</td>\n",
       "      <td>NaN</td>\n",
       "      <td>http://us.imdb.com/M/title-exact?Get%20Shorty%...</td>\n",
       "      <td>0</td>\n",
       "      <td>1</td>\n",
       "      <td>0</td>\n",
       "      <td>0</td>\n",
       "      <td>0</td>\n",
       "      <td>...</td>\n",
       "      <td>0</td>\n",
       "      <td>0</td>\n",
       "      <td>0</td>\n",
       "      <td>0</td>\n",
       "      <td>0</td>\n",
       "      <td>0</td>\n",
       "      <td>0</td>\n",
       "      <td>0</td>\n",
       "      <td>0</td>\n",
       "      <td>0</td>\n",
       "    </tr>\n",
       "    <tr>\n",
       "      <th>4</th>\n",
       "      <td>5</td>\n",
       "      <td>Copycat (1995)</td>\n",
       "      <td>01-Jan-1995</td>\n",
       "      <td>NaN</td>\n",
       "      <td>http://us.imdb.com/M/title-exact?Copycat%20(1995)</td>\n",
       "      <td>0</td>\n",
       "      <td>0</td>\n",
       "      <td>0</td>\n",
       "      <td>0</td>\n",
       "      <td>0</td>\n",
       "      <td>...</td>\n",
       "      <td>0</td>\n",
       "      <td>0</td>\n",
       "      <td>0</td>\n",
       "      <td>0</td>\n",
       "      <td>0</td>\n",
       "      <td>0</td>\n",
       "      <td>0</td>\n",
       "      <td>1</td>\n",
       "      <td>0</td>\n",
       "      <td>0</td>\n",
       "    </tr>\n",
       "  </tbody>\n",
       "</table>\n",
       "<p>5 rows × 24 columns</p>\n",
       "</div>"
      ],
      "text/plain": [
       "   movie_id        movie title release date  video release date  \\\n",
       "0         1   Toy Story (1995)  01-Jan-1995                 NaN   \n",
       "1         2   GoldenEye (1995)  01-Jan-1995                 NaN   \n",
       "2         3  Four Rooms (1995)  01-Jan-1995                 NaN   \n",
       "3         4  Get Shorty (1995)  01-Jan-1995                 NaN   \n",
       "4         5     Copycat (1995)  01-Jan-1995                 NaN   \n",
       "\n",
       "                                            IMDb URL  unknown  Action  \\\n",
       "0  http://us.imdb.com/M/title-exact?Toy%20Story%2...        0       0   \n",
       "1  http://us.imdb.com/M/title-exact?GoldenEye%20(...        0       1   \n",
       "2  http://us.imdb.com/M/title-exact?Four%20Rooms%...        0       0   \n",
       "3  http://us.imdb.com/M/title-exact?Get%20Shorty%...        0       1   \n",
       "4  http://us.imdb.com/M/title-exact?Copycat%20(1995)        0       0   \n",
       "\n",
       "   Adventure  Animation  Children's   ...     Fantasy  Film-Noir  Horror  \\\n",
       "0          0          1           1   ...           0          0       0   \n",
       "1          1          0           0   ...           0          0       0   \n",
       "2          0          0           0   ...           0          0       0   \n",
       "3          0          0           0   ...           0          0       0   \n",
       "4          0          0           0   ...           0          0       0   \n",
       "\n",
       "   Musical  Mystery  Romance  Sci-Fi  Thriller  War  Western  \n",
       "0        0        0        0       0         0    0        0  \n",
       "1        0        0        0       0         1    0        0  \n",
       "2        0        0        0       0         1    0        0  \n",
       "3        0        0        0       0         0    0        0  \n",
       "4        0        0        0       0         1    0        0  \n",
       "\n",
       "[5 rows x 24 columns]"
      ]
     },
     "execution_count": 103,
     "metadata": {},
     "output_type": "execute_result"
    }
   ],
   "source": [
    "item = pd.read_csv(\"ml-100k/u.item\", sep=\"|\", header=None, index_col=None,  encoding = \"ISO-8859-1\")\n",
    "item.columns = [\"movie_id\", \"movie title\" , \"release date\" , \"video release date\" ,\n",
    "              \"IMDb URL\" , \"unknown\" , \"Action\" , \"Adventure\" , \"Animation\" ,\n",
    "              \"Children's\" , \"Comedy\" ,\"Crime\" ,\"Documentary\" , \"Drama\" , \"Fantasy\" ,\n",
    "              \"Film-Noir\" , \"Horror\" , \"Musical\" , \"Mystery\" , \"Romance\" , \"Sci-Fi\" ,\n",
    "              \"Thriller\" , \"War\" , \"Western\"]\n",
    "item.head()"
   ]
  },
  {
   "cell_type": "markdown",
   "metadata": {},
   "source": [
    "#### Подготовим данные для тренировки"
   ]
  },
  {
   "cell_type": "code",
   "execution_count": 14,
   "metadata": {},
   "outputs": [
    {
     "name": "stdout",
     "output_type": "stream",
     "text": [
      "[2017-11-22 14:58:29,728] INFO: sorting input data...\n",
      "[2017-11-22 14:58:30,705] INFO: creating split 0: /Users/vladimir/temp/AnacondaProjects/homework/mrec/splits/u.data.train.0 /Users/vladimir/temp/AnacondaProjects/homework/mrec/splits/u.data.test.0\n",
      "[2017-11-22 14:58:31,261] INFO: creating split 1: /Users/vladimir/temp/AnacondaProjects/homework/mrec/splits/u.data.train.1 /Users/vladimir/temp/AnacondaProjects/homework/mrec/splits/u.data.test.1\n",
      "[2017-11-22 14:58:31,981] INFO: creating split 2: /Users/vladimir/temp/AnacondaProjects/homework/mrec/splits/u.data.train.2 /Users/vladimir/temp/AnacondaProjects/homework/mrec/splits/u.data.test.2\n",
      "[2017-11-22 14:58:32,739] INFO: creating split 3: /Users/vladimir/temp/AnacondaProjects/homework/mrec/splits/u.data.train.3 /Users/vladimir/temp/AnacondaProjects/homework/mrec/splits/u.data.test.3\n",
      "[2017-11-22 14:58:33,440] INFO: creating split 4: /Users/vladimir/temp/AnacondaProjects/homework/mrec/splits/u.data.train.4 /Users/vladimir/temp/AnacondaProjects/homework/mrec/splits/u.data.test.4\n",
      "[2017-11-22 14:58:34,175] INFO: cleaning up...\n",
      "[2017-11-22 14:58:34,338] INFO: done\n"
     ]
    }
   ],
   "source": [
    "!sbin/mrec_prepare --dataset ml-100k/u.data --outdir splits --rating_thresh 4 --test_size 0.5 --binarize"
   ]
  },
  {
   "cell_type": "markdown",
   "metadata": {},
   "source": [
    "попробуем выполнить все в несколько потоков"
   ]
  },
  {
   "cell_type": "code",
   "execution_count": 15,
   "metadata": {
    "collapsed": true
   },
   "outputs": [],
   "source": [
    "!sbin/ipcluster start -n4 --daemonize"
   ]
  },
  {
   "cell_type": "markdown",
   "metadata": {},
   "source": [
    "## SLIM"
   ]
  },
  {
   "cell_type": "markdown",
   "metadata": {},
   "source": [
    "### Начнем обучаться"
   ]
  },
  {
   "cell_type": "code",
   "execution_count": 16,
   "metadata": {},
   "outputs": [
    {
     "name": "stdout",
     "output_type": "stream",
     "text": [
      "/Users/vladimir/anaconda3/lib/python3.6/site-packages/sklearn/linear_model/stochastic_gradient.py:84: FutureWarning: max_iter and tol parameters have been added in <class 'sklearn.linear_model.stochastic_gradient.SGDRegressor'> in 0.19. If both are left unset, they default to max_iter=5 and tol=None. If tol is not None, max_iter defaults to max_iter=1000. From 0.21, default max_iter will be 1000, and default tol will be 1e-3.\n",
      "  \"and default tol will be 1e-3.\" % type(self), FutureWarning)\n",
      "[2017-11-22 15:06:44,128] INFO: processing /Users/vladimir/temp/AnacondaProjects/homework/mrec/splits/u.data.train.0...\n",
      "[2017-11-22 15:06:44,128] INFO: finding number of items...\n",
      "[2017-11-22 15:06:44,800] INFO: 943 users and 1681 items\n",
      "[2017-11-22 15:06:44,800] INFO: creating sims directory /Users/vladimir/temp/AnacondaProjects/homework/mrec/models/u.data.train.0-sims...\n",
      "[2017-11-22 15:06:44,841] INFO: checking for existing output sims...\n",
      "[2017-11-22 15:06:44,842] INFO: creating tasks...\n",
      "[2017-11-22 15:06:44,843] INFO: running 4 tasks in parallel across ipython engines...\n",
      "[2017-11-22 15:06:52,219] INFO: checking output files...\n",
      "[2017-11-22 15:06:52,219] INFO: SUCCESS: all tasks completed\n",
      "[2017-11-22 15:06:52,219] INFO: concatenating 4 partial output files...\n",
      "[2017-11-22 15:06:52,531] INFO: removing partial output files...\n",
      "[2017-11-22 15:06:52,533] INFO: loading 1681 items in SLIM model from /Users/vladimir/temp/AnacondaProjects/homework/mrec/models/u.data.train.0.sims.tsv\n",
      "[2017-11-22 15:06:53,486] INFO: done\n",
      "[2017-11-22 15:06:53,486] INFO: processing /Users/vladimir/temp/AnacondaProjects/homework/mrec/splits/u.data.train.1...\n",
      "[2017-11-22 15:06:53,486] INFO: finding number of items...\n",
      "[2017-11-22 15:06:53,962] INFO: 943 users and 1682 items\n",
      "[2017-11-22 15:06:53,962] INFO: creating sims directory /Users/vladimir/temp/AnacondaProjects/homework/mrec/models/u.data.train.1-sims...\n",
      "[2017-11-22 15:06:53,998] INFO: checking for existing output sims...\n",
      "[2017-11-22 15:06:53,998] INFO: creating tasks...\n",
      "[2017-11-22 15:06:53,998] INFO: running 4 tasks in parallel across ipython engines...\n",
      "[2017-11-22 15:06:58,723] INFO: checking output files...\n",
      "[2017-11-22 15:06:58,723] INFO: SUCCESS: all tasks completed\n",
      "[2017-11-22 15:06:58,723] INFO: concatenating 4 partial output files...\n",
      "[2017-11-22 15:06:58,764] INFO: removing partial output files...\n",
      "[2017-11-22 15:06:58,766] INFO: loading 1682 items in SLIM model from /Users/vladimir/temp/AnacondaProjects/homework/mrec/models/u.data.train.1.sims.tsv\n",
      "[2017-11-22 15:06:59,508] INFO: done\n",
      "[2017-11-22 15:06:59,508] INFO: processing /Users/vladimir/temp/AnacondaProjects/homework/mrec/splits/u.data.train.2...\n",
      "[2017-11-22 15:06:59,508] INFO: finding number of items...\n",
      "[2017-11-22 15:07:00,095] INFO: 943 users and 1680 items\n",
      "[2017-11-22 15:07:00,096] INFO: creating sims directory /Users/vladimir/temp/AnacondaProjects/homework/mrec/models/u.data.train.2-sims...\n",
      "[2017-11-22 15:07:00,119] INFO: checking for existing output sims...\n",
      "[2017-11-22 15:07:00,120] INFO: creating tasks...\n",
      "[2017-11-22 15:07:00,120] INFO: running 4 tasks in parallel across ipython engines...\n",
      "[2017-11-22 15:07:05,076] INFO: checking output files...\n",
      "[2017-11-22 15:07:05,076] INFO: SUCCESS: all tasks completed\n",
      "[2017-11-22 15:07:05,076] INFO: concatenating 4 partial output files...\n",
      "[2017-11-22 15:07:05,106] INFO: removing partial output files...\n",
      "[2017-11-22 15:07:05,108] INFO: loading 1680 items in SLIM model from /Users/vladimir/temp/AnacondaProjects/homework/mrec/models/u.data.train.2.sims.tsv\n",
      "[2017-11-22 15:07:05,954] INFO: done\n",
      "[2017-11-22 15:07:05,955] INFO: processing /Users/vladimir/temp/AnacondaProjects/homework/mrec/splits/u.data.train.3...\n",
      "[2017-11-22 15:07:05,955] INFO: finding number of items...\n",
      "[2017-11-22 15:07:06,670] INFO: 943 users and 1678 items\n",
      "[2017-11-22 15:07:06,670] INFO: creating sims directory /Users/vladimir/temp/AnacondaProjects/homework/mrec/models/u.data.train.3-sims...\n",
      "[2017-11-22 15:07:06,692] INFO: checking for existing output sims...\n",
      "[2017-11-22 15:07:06,693] INFO: creating tasks...\n",
      "[2017-11-22 15:07:06,693] INFO: running 4 tasks in parallel across ipython engines...\n",
      "[2017-11-22 15:07:12,614] INFO: checking output files...\n",
      "[2017-11-22 15:07:12,614] INFO: SUCCESS: all tasks completed\n",
      "[2017-11-22 15:07:12,615] INFO: concatenating 4 partial output files...\n",
      "[2017-11-22 15:07:12,642] INFO: removing partial output files...\n",
      "[2017-11-22 15:07:12,644] INFO: loading 1678 items in SLIM model from /Users/vladimir/temp/AnacondaProjects/homework/mrec/models/u.data.train.3.sims.tsv\n",
      "[2017-11-22 15:07:13,496] INFO: done\n",
      "[2017-11-22 15:07:13,497] INFO: processing /Users/vladimir/temp/AnacondaProjects/homework/mrec/splits/u.data.train.4...\n",
      "[2017-11-22 15:07:13,497] INFO: finding number of items...\n",
      "[2017-11-22 15:07:13,993] INFO: 943 users and 1678 items\n",
      "[2017-11-22 15:07:13,994] INFO: creating sims directory /Users/vladimir/temp/AnacondaProjects/homework/mrec/models/u.data.train.4-sims...\n",
      "[2017-11-22 15:07:14,000] INFO: checking for existing output sims...\n",
      "[2017-11-22 15:07:14,001] INFO: creating tasks...\n",
      "[2017-11-22 15:07:14,001] INFO: running 4 tasks in parallel across ipython engines...\n",
      "[2017-11-22 15:07:19,171] INFO: checking output files...\n",
      "[2017-11-22 15:07:19,171] INFO: SUCCESS: all tasks completed\n",
      "[2017-11-22 15:07:19,171] INFO: concatenating 4 partial output files...\n",
      "[2017-11-22 15:07:19,194] INFO: removing partial output files...\n",
      "[2017-11-22 15:07:19,196] INFO: loading 1678 items in SLIM model from /Users/vladimir/temp/AnacondaProjects/homework/mrec/models/u.data.train.4.sims.tsv\n",
      "[2017-11-22 15:07:19,966] INFO: done\n"
     ]
    }
   ],
   "source": [
    "!sbin/mrec_train -n4 --input_format tsv --train \"splits/u.data.train.*\" --outdir models"
   ]
  },
  {
   "cell_type": "markdown",
   "metadata": {},
   "source": [
    "### Предсказание"
   ]
  },
  {
   "cell_type": "code",
   "execution_count": 17,
   "metadata": {},
   "outputs": [
    {
     "name": "stdout",
     "output_type": "stream",
     "text": [
      "[2017-11-22 15:09:17,366] INFO: processing /Users/vladimir/temp/AnacondaProjects/homework/mrec/splits/u.data.train.0...\n",
      "[2017-11-22 15:09:17,367] INFO: creating recs directory /Users/vladimir/temp/AnacondaProjects/homework/mrec/recs/u.data.train.0-recs...\n",
      "[2017-11-22 15:09:17,414] INFO: checking for existing output recs...\n",
      "[2017-11-22 15:09:17,415] INFO: creating tasks...\n",
      "[2017-11-22 15:09:17,415] INFO: loading dataset to get size...\n",
      "[2017-11-22 15:09:17,908] INFO: loading model to get size...\n",
      "[2017-11-22 15:09:18,608] INFO: created 1 tasks, 27677 users per task\n",
      "[2017-11-22 15:09:18,608] INFO: running in parallel across ipython engines...\n",
      "[2017-11-22 15:09:21,442] INFO: checking output files...\n",
      "[2017-11-22 15:09:21,442] INFO: SUCCESS: all tasks completed\n",
      "[2017-11-22 15:09:21,442] INFO: concatenating 1 partial output files...\n",
      "[2017-11-22 15:09:21,477] INFO: removing partial output files...\n",
      "[2017-11-22 15:09:21,478] INFO: done\n",
      "[2017-11-22 15:09:21,482] INFO: processing /Users/vladimir/temp/AnacondaProjects/homework/mrec/splits/u.data.train.1...\n",
      "[2017-11-22 15:09:21,482] INFO: creating recs directory /Users/vladimir/temp/AnacondaProjects/homework/mrec/recs/u.data.train.1-recs...\n",
      "[2017-11-22 15:09:21,492] INFO: checking for existing output recs...\n",
      "[2017-11-22 15:09:21,492] INFO: creating tasks...\n",
      "[2017-11-22 15:09:21,493] INFO: loading dataset to get size...\n",
      "[2017-11-22 15:09:21,878] INFO: loading model to get size...\n",
      "[2017-11-22 15:09:21,945] INFO: created 1 tasks, 27921 users per task\n",
      "[2017-11-22 15:09:21,945] INFO: running in parallel across ipython engines...\n",
      "[2017-11-22 15:09:24,880] INFO: checking output files...\n",
      "[2017-11-22 15:09:24,880] INFO: SUCCESS: all tasks completed\n",
      "[2017-11-22 15:09:24,880] INFO: concatenating 1 partial output files...\n",
      "[2017-11-22 15:09:24,888] INFO: removing partial output files...\n",
      "[2017-11-22 15:09:24,888] INFO: done\n",
      "[2017-11-22 15:09:24,890] INFO: processing /Users/vladimir/temp/AnacondaProjects/homework/mrec/splits/u.data.train.2...\n",
      "[2017-11-22 15:09:24,890] INFO: creating recs directory /Users/vladimir/temp/AnacondaProjects/homework/mrec/recs/u.data.train.2-recs...\n",
      "[2017-11-22 15:09:24,896] INFO: checking for existing output recs...\n",
      "[2017-11-22 15:09:24,897] INFO: creating tasks...\n",
      "[2017-11-22 15:09:24,897] INFO: loading dataset to get size...\n",
      "[2017-11-22 15:09:25,262] INFO: loading model to get size...\n",
      "[2017-11-22 15:09:25,311] INFO: created 1 tasks, 28019 users per task\n",
      "[2017-11-22 15:09:25,311] INFO: running in parallel across ipython engines...\n",
      "[2017-11-22 15:09:27,804] INFO: checking output files...\n",
      "[2017-11-22 15:09:27,805] INFO: SUCCESS: all tasks completed\n",
      "[2017-11-22 15:09:27,805] INFO: concatenating 1 partial output files...\n",
      "[2017-11-22 15:09:27,826] INFO: removing partial output files...\n",
      "[2017-11-22 15:09:27,827] INFO: done\n",
      "[2017-11-22 15:09:27,829] INFO: processing /Users/vladimir/temp/AnacondaProjects/homework/mrec/splits/u.data.train.3...\n",
      "[2017-11-22 15:09:27,829] INFO: creating recs directory /Users/vladimir/temp/AnacondaProjects/homework/mrec/recs/u.data.train.3-recs...\n",
      "[2017-11-22 15:09:27,850] INFO: checking for existing output recs...\n",
      "[2017-11-22 15:09:27,850] INFO: creating tasks...\n",
      "[2017-11-22 15:09:27,850] INFO: loading dataset to get size...\n",
      "[2017-11-22 15:09:28,264] INFO: loading model to get size...\n",
      "[2017-11-22 15:09:28,324] INFO: created 1 tasks, 27495 users per task\n",
      "[2017-11-22 15:09:28,324] INFO: running in parallel across ipython engines...\n",
      "[2017-11-22 15:09:30,963] INFO: checking output files...\n",
      "[2017-11-22 15:09:30,963] INFO: SUCCESS: all tasks completed\n",
      "[2017-11-22 15:09:30,963] INFO: concatenating 1 partial output files...\n",
      "[2017-11-22 15:09:30,980] INFO: removing partial output files...\n",
      "[2017-11-22 15:09:30,981] INFO: done\n",
      "[2017-11-22 15:09:30,983] INFO: processing /Users/vladimir/temp/AnacondaProjects/homework/mrec/splits/u.data.train.4...\n",
      "[2017-11-22 15:09:30,983] INFO: creating recs directory /Users/vladimir/temp/AnacondaProjects/homework/mrec/recs/u.data.train.4-recs...\n",
      "[2017-11-22 15:09:30,991] INFO: checking for existing output recs...\n",
      "[2017-11-22 15:09:30,992] INFO: creating tasks...\n",
      "[2017-11-22 15:09:30,992] INFO: loading dataset to get size...\n",
      "[2017-11-22 15:09:31,799] INFO: loading model to get size...\n",
      "[2017-11-22 15:09:31,885] INFO: created 1 tasks, 27635 users per task\n",
      "[2017-11-22 15:09:31,885] INFO: running in parallel across ipython engines...\n",
      "[2017-11-22 15:09:34,540] INFO: checking output files...\n",
      "[2017-11-22 15:09:34,541] INFO: SUCCESS: all tasks completed\n",
      "[2017-11-22 15:09:34,541] INFO: concatenating 1 partial output files...\n",
      "[2017-11-22 15:09:34,709] INFO: removing partial output files...\n",
      "[2017-11-22 15:09:34,710] INFO: done\n",
      "SLIM(SGDRegressor(alpha=0.0011, average=False, epsilon=0.1, eta0=0.01,\n",
      "       fit_intercept=False, l1_ratio=0.9090909090909091,\n",
      "       learning_rate='invscaling', loss='squared_loss', max_iter=5,\n",
      "       n_iter=None, penalty='elasticnet', power_t=0.25, random_state=None,\n",
      "       shuffle=True, tol=None, verbose=0, warm_start=False))\n",
      "mrr            0.6825 +/- 0.0023\n",
      "prec@5         0.4328 +/- 0.0018\n",
      "prec@10        0.3750 +/- 0.0006\n",
      "prec@15        0.3383 +/- 0.0010\n",
      "prec@20        0.3120 +/- 0.0005\n"
     ]
    }
   ],
   "source": [
    "!sbin/mrec_predict --input_format tsv --test_input_format tsv --train \"splits/u.data.train.*\" --modeldir models --outdir recs"
   ]
  },
  {
   "cell_type": "markdown",
   "metadata": {},
   "source": [
    "## Метод ближайших соседей (KNN)"
   ]
  },
  {
   "cell_type": "markdown",
   "metadata": {},
   "source": [
    "### Начнем обучаться"
   ]
  },
  {
   "cell_type": "code",
   "execution_count": 18,
   "metadata": {},
   "outputs": [
    {
     "name": "stdout",
     "output_type": "stream",
     "text": [
      "[2017-11-22 15:15:18,542] INFO: processing /Users/vladimir/temp/AnacondaProjects/homework/mrec/splits/u.data.train.0...\n",
      "[2017-11-22 15:15:18,542] INFO: finding number of items...\n",
      "[2017-11-22 15:15:19,046] INFO: 943 users and 1681 items\n",
      "[2017-11-22 15:15:19,046] INFO: creating sims directory /Users/vladimir/temp/AnacondaProjects/homework/mrec/models_knn/u.data.train.0-sims...\n",
      "[2017-11-22 15:15:19,279] INFO: checking for existing output sims...\n",
      "[2017-11-22 15:15:19,280] INFO: creating tasks...\n",
      "[2017-11-22 15:15:19,281] INFO: running 4 tasks in parallel across ipython engines...\n",
      "[2017-11-22 15:15:23,046] INFO: checking output files...\n",
      "[2017-11-22 15:15:23,046] INFO: SUCCESS: all tasks completed\n",
      "[2017-11-22 15:15:23,047] INFO: concatenating 4 partial output files...\n",
      "[2017-11-22 15:15:23,336] INFO: removing partial output files...\n",
      "[2017-11-22 15:15:23,337] INFO: loading 1681 items in CosineKNNRecommender model from /Users/vladimir/temp/AnacondaProjects/homework/mrec/models_knn/u.data.train.0.sims.tsv\n",
      "[2017-11-22 15:15:24,443] INFO: done\n",
      "[2017-11-22 15:15:24,443] INFO: processing /Users/vladimir/temp/AnacondaProjects/homework/mrec/splits/u.data.train.1...\n",
      "[2017-11-22 15:15:24,443] INFO: finding number of items...\n",
      "[2017-11-22 15:15:25,020] INFO: 943 users and 1682 items\n",
      "[2017-11-22 15:15:25,020] INFO: creating sims directory /Users/vladimir/temp/AnacondaProjects/homework/mrec/models_knn/u.data.train.1-sims...\n",
      "[2017-11-22 15:15:25,151] INFO: checking for existing output sims...\n",
      "[2017-11-22 15:15:25,152] INFO: creating tasks...\n",
      "[2017-11-22 15:15:25,152] INFO: running 4 tasks in parallel across ipython engines...\n",
      "[2017-11-22 15:15:28,635] INFO: checking output files...\n",
      "[2017-11-22 15:15:28,635] INFO: SUCCESS: all tasks completed\n",
      "[2017-11-22 15:15:28,635] INFO: concatenating 4 partial output files...\n",
      "[2017-11-22 15:15:28,692] INFO: removing partial output files...\n",
      "[2017-11-22 15:15:28,695] INFO: loading 1682 items in CosineKNNRecommender model from /Users/vladimir/temp/AnacondaProjects/homework/mrec/models_knn/u.data.train.1.sims.tsv\n",
      "[2017-11-22 15:15:29,929] INFO: done\n",
      "[2017-11-22 15:15:29,929] INFO: processing /Users/vladimir/temp/AnacondaProjects/homework/mrec/splits/u.data.train.2...\n",
      "[2017-11-22 15:15:29,929] INFO: finding number of items...\n",
      "[2017-11-22 15:15:30,475] INFO: 943 users and 1680 items\n",
      "[2017-11-22 15:15:30,475] INFO: creating sims directory /Users/vladimir/temp/AnacondaProjects/homework/mrec/models_knn/u.data.train.2-sims...\n",
      "[2017-11-22 15:15:30,498] INFO: checking for existing output sims...\n",
      "[2017-11-22 15:15:30,500] INFO: creating tasks...\n",
      "[2017-11-22 15:15:30,500] INFO: running 4 tasks in parallel across ipython engines...\n",
      "[2017-11-22 15:15:34,254] INFO: checking output files...\n",
      "[2017-11-22 15:15:34,255] INFO: SUCCESS: all tasks completed\n",
      "[2017-11-22 15:15:34,255] INFO: concatenating 4 partial output files...\n",
      "[2017-11-22 15:15:34,293] INFO: removing partial output files...\n",
      "[2017-11-22 15:15:34,294] INFO: loading 1680 items in CosineKNNRecommender model from /Users/vladimir/temp/AnacondaProjects/homework/mrec/models_knn/u.data.train.2.sims.tsv\n",
      "[2017-11-22 15:15:35,456] INFO: done\n",
      "[2017-11-22 15:15:35,456] INFO: processing /Users/vladimir/temp/AnacondaProjects/homework/mrec/splits/u.data.train.3...\n",
      "[2017-11-22 15:15:35,456] INFO: finding number of items...\n",
      "[2017-11-22 15:15:36,131] INFO: 943 users and 1678 items\n",
      "[2017-11-22 15:15:36,131] INFO: creating sims directory /Users/vladimir/temp/AnacondaProjects/homework/mrec/models_knn/u.data.train.3-sims...\n",
      "[2017-11-22 15:15:36,153] INFO: checking for existing output sims...\n",
      "[2017-11-22 15:15:36,154] INFO: creating tasks...\n",
      "[2017-11-22 15:15:36,154] INFO: running 4 tasks in parallel across ipython engines...\n",
      "[2017-11-22 15:15:39,480] INFO: checking output files...\n",
      "[2017-11-22 15:15:39,480] INFO: SUCCESS: all tasks completed\n",
      "[2017-11-22 15:15:39,480] INFO: concatenating 4 partial output files...\n",
      "[2017-11-22 15:15:39,555] INFO: removing partial output files...\n",
      "[2017-11-22 15:15:39,557] INFO: loading 1678 items in CosineKNNRecommender model from /Users/vladimir/temp/AnacondaProjects/homework/mrec/models_knn/u.data.train.3.sims.tsv\n",
      "[2017-11-22 15:15:40,938] INFO: done\n",
      "[2017-11-22 15:15:40,938] INFO: processing /Users/vladimir/temp/AnacondaProjects/homework/mrec/splits/u.data.train.4...\n",
      "[2017-11-22 15:15:40,938] INFO: finding number of items...\n",
      "[2017-11-22 15:15:41,454] INFO: 943 users and 1678 items\n",
      "[2017-11-22 15:15:41,455] INFO: creating sims directory /Users/vladimir/temp/AnacondaProjects/homework/mrec/models_knn/u.data.train.4-sims...\n",
      "[2017-11-22 15:15:41,476] INFO: checking for existing output sims...\n",
      "[2017-11-22 15:15:41,476] INFO: creating tasks...\n",
      "[2017-11-22 15:15:41,476] INFO: running 4 tasks in parallel across ipython engines...\n",
      "[2017-11-22 15:15:44,721] INFO: checking output files...\n",
      "[2017-11-22 15:15:44,721] INFO: SUCCESS: all tasks completed\n",
      "[2017-11-22 15:15:44,721] INFO: concatenating 4 partial output files...\n",
      "[2017-11-22 15:15:44,732] INFO: removing partial output files...\n",
      "[2017-11-22 15:15:44,733] INFO: loading 1678 items in CosineKNNRecommender model from /Users/vladimir/temp/AnacondaProjects/homework/mrec/models_knn/u.data.train.4.sims.tsv\n",
      "[2017-11-22 15:15:46,025] INFO: done\n"
     ]
    }
   ],
   "source": [
    "!sbin/mrec_train --model=knn -n4 --input_format tsv --train \"splits/u.data.train.*\" --outdir models_knn"
   ]
  },
  {
   "cell_type": "markdown",
   "metadata": {},
   "source": [
    "### Предсказание"
   ]
  },
  {
   "cell_type": "code",
   "execution_count": 19,
   "metadata": {},
   "outputs": [
    {
     "name": "stdout",
     "output_type": "stream",
     "text": [
      "[2017-11-22 15:16:06,026] INFO: processing /Users/vladimir/temp/AnacondaProjects/homework/mrec/splits/u.data.train.0...\n",
      "[2017-11-22 15:16:06,026] INFO: creating recs directory /Users/vladimir/temp/AnacondaProjects/homework/mrec/recs_knn/u.data.train.0-recs...\n",
      "[2017-11-22 15:16:06,054] INFO: checking for existing output recs...\n",
      "[2017-11-22 15:16:06,055] INFO: creating tasks...\n",
      "[2017-11-22 15:16:06,055] INFO: loading dataset to get size...\n",
      "[2017-11-22 15:16:06,840] INFO: loading model to get size...\n",
      "[2017-11-22 15:16:07,206] INFO: created 1 tasks, 14458 users per task\n",
      "[2017-11-22 15:16:07,206] INFO: running in parallel across ipython engines...\n",
      "[2017-11-22 15:16:10,339] INFO: checking output files...\n",
      "[2017-11-22 15:16:10,340] INFO: SUCCESS: all tasks completed\n",
      "[2017-11-22 15:16:10,340] INFO: concatenating 1 partial output files...\n",
      "[2017-11-22 15:16:10,382] INFO: removing partial output files...\n",
      "[2017-11-22 15:16:10,385] INFO: done\n",
      "[2017-11-22 15:16:10,386] INFO: processing /Users/vladimir/temp/AnacondaProjects/homework/mrec/splits/u.data.train.1...\n",
      "[2017-11-22 15:16:10,386] INFO: creating recs directory /Users/vladimir/temp/AnacondaProjects/homework/mrec/recs_knn/u.data.train.1-recs...\n",
      "[2017-11-22 15:16:10,414] INFO: checking for existing output recs...\n",
      "[2017-11-22 15:16:10,415] INFO: creating tasks...\n",
      "[2017-11-22 15:16:10,415] INFO: loading dataset to get size...\n",
      "[2017-11-22 15:16:10,825] INFO: loading model to get size...\n",
      "[2017-11-22 15:16:11,056] INFO: created 1 tasks, 14697 users per task\n",
      "[2017-11-22 15:16:11,056] INFO: running in parallel across ipython engines...\n",
      "[2017-11-22 15:16:13,811] INFO: checking output files...\n",
      "[2017-11-22 15:16:13,812] INFO: SUCCESS: all tasks completed\n",
      "[2017-11-22 15:16:13,812] INFO: concatenating 1 partial output files...\n",
      "[2017-11-22 15:16:13,834] INFO: removing partial output files...\n",
      "[2017-11-22 15:16:13,835] INFO: done\n",
      "[2017-11-22 15:16:13,837] INFO: processing /Users/vladimir/temp/AnacondaProjects/homework/mrec/splits/u.data.train.2...\n",
      "[2017-11-22 15:16:13,837] INFO: creating recs directory /Users/vladimir/temp/AnacondaProjects/homework/mrec/recs_knn/u.data.train.2-recs...\n",
      "[2017-11-22 15:16:13,855] INFO: checking for existing output recs...\n",
      "[2017-11-22 15:16:13,856] INFO: creating tasks...\n",
      "[2017-11-22 15:16:13,856] INFO: loading dataset to get size...\n",
      "[2017-11-22 15:16:14,289] INFO: loading model to get size...\n",
      "[2017-11-22 15:16:14,344] INFO: created 1 tasks, 14645 users per task\n",
      "[2017-11-22 15:16:14,344] INFO: running in parallel across ipython engines...\n",
      "[2017-11-22 15:16:17,155] INFO: checking output files...\n",
      "[2017-11-22 15:16:17,155] INFO: SUCCESS: all tasks completed\n",
      "[2017-11-22 15:16:17,155] INFO: concatenating 1 partial output files...\n",
      "[2017-11-22 15:16:17,176] INFO: removing partial output files...\n",
      "[2017-11-22 15:16:17,177] INFO: done\n",
      "[2017-11-22 15:16:17,178] INFO: processing /Users/vladimir/temp/AnacondaProjects/homework/mrec/splits/u.data.train.3...\n",
      "[2017-11-22 15:16:17,179] INFO: creating recs directory /Users/vladimir/temp/AnacondaProjects/homework/mrec/recs_knn/u.data.train.3-recs...\n",
      "[2017-11-22 15:16:17,199] INFO: checking for existing output recs...\n",
      "[2017-11-22 15:16:17,199] INFO: creating tasks...\n",
      "[2017-11-22 15:16:17,199] INFO: loading dataset to get size...\n",
      "[2017-11-22 15:16:17,653] INFO: loading model to get size...\n",
      "[2017-11-22 15:16:17,941] INFO: created 1 tasks, 14530 users per task\n",
      "[2017-11-22 15:16:17,941] INFO: running in parallel across ipython engines...\n",
      "[2017-11-22 15:16:21,020] INFO: checking output files...\n",
      "[2017-11-22 15:16:21,020] INFO: SUCCESS: all tasks completed\n",
      "[2017-11-22 15:16:21,020] INFO: concatenating 1 partial output files...\n",
      "[2017-11-22 15:16:21,045] INFO: removing partial output files...\n",
      "[2017-11-22 15:16:21,046] INFO: done\n",
      "[2017-11-22 15:16:21,047] INFO: processing /Users/vladimir/temp/AnacondaProjects/homework/mrec/splits/u.data.train.4...\n",
      "[2017-11-22 15:16:21,048] INFO: creating recs directory /Users/vladimir/temp/AnacondaProjects/homework/mrec/recs_knn/u.data.train.4-recs...\n",
      "[2017-11-22 15:16:21,068] INFO: checking for existing output recs...\n",
      "[2017-11-22 15:16:21,068] INFO: creating tasks...\n",
      "[2017-11-22 15:16:21,069] INFO: loading dataset to get size...\n",
      "[2017-11-22 15:16:21,511] INFO: loading model to get size...\n",
      "[2017-11-22 15:16:21,566] INFO: created 1 tasks, 14565 users per task\n",
      "[2017-11-22 15:16:21,566] INFO: running in parallel across ipython engines...\n",
      "[2017-11-22 15:16:24,450] INFO: checking output files...\n",
      "[2017-11-22 15:16:24,450] INFO: SUCCESS: all tasks completed\n",
      "[2017-11-22 15:16:24,450] INFO: concatenating 1 partial output files...\n",
      "[2017-11-22 15:16:24,471] INFO: removing partial output files...\n",
      "[2017-11-22 15:16:24,471] INFO: done\n",
      "CosineKNNRecommender(k=100)\n",
      "mrr            0.6226 +/- 0.0056\n",
      "prec@5         0.3977 +/- 0.0033\n",
      "prec@10        0.3539 +/- 0.0007\n",
      "prec@15        0.3240 +/- 0.0011\n",
      "prec@20        0.3007 +/- 0.0009\n"
     ]
    }
   ],
   "source": [
    "!sbin/mrec_predict --input_format tsv --test_input_format tsv --train \"splits/u.data.train.*\" --modeldir models_knn --outdir recs_knn"
   ]
  },
  {
   "cell_type": "markdown",
   "metadata": {},
   "source": [
    "Посмотрим на то что вышло"
   ]
  },
  {
   "cell_type": "code",
   "execution_count": 137,
   "metadata": {},
   "outputs": [],
   "source": [
    "data_pred = pd.read_csv(\"recs/u.data.train.0.recs.tsv\", sep=\"\\t\", header=None, index_col=None)\n",
    "data_pred.columns = [\"user_id\", \"movie_id\", \"pred\"]"
   ]
  },
  {
   "cell_type": "code",
   "execution_count": 138,
   "metadata": {},
   "outputs": [
    {
     "data": {
      "text/html": [
       "<div>\n",
       "<style>\n",
       "    .dataframe thead tr:only-child th {\n",
       "        text-align: right;\n",
       "    }\n",
       "\n",
       "    .dataframe thead th {\n",
       "        text-align: left;\n",
       "    }\n",
       "\n",
       "    .dataframe tbody tr th {\n",
       "        vertical-align: top;\n",
       "    }\n",
       "</style>\n",
       "<table border=\"1\" class=\"dataframe\">\n",
       "  <thead>\n",
       "    <tr style=\"text-align: right;\">\n",
       "      <th></th>\n",
       "      <th>user_id</th>\n",
       "      <th>movie_id</th>\n",
       "      <th>pred</th>\n",
       "    </tr>\n",
       "  </thead>\n",
       "  <tbody>\n",
       "    <tr>\n",
       "      <th>0</th>\n",
       "      <td>1</td>\n",
       "      <td>50</td>\n",
       "      <td>0.696742</td>\n",
       "    </tr>\n",
       "    <tr>\n",
       "      <th>1</th>\n",
       "      <td>1</td>\n",
       "      <td>56</td>\n",
       "      <td>0.626537</td>\n",
       "    </tr>\n",
       "    <tr>\n",
       "      <th>2</th>\n",
       "      <td>1</td>\n",
       "      <td>100</td>\n",
       "      <td>0.576872</td>\n",
       "    </tr>\n",
       "    <tr>\n",
       "      <th>3</th>\n",
       "      <td>1</td>\n",
       "      <td>127</td>\n",
       "      <td>0.565802</td>\n",
       "    </tr>\n",
       "    <tr>\n",
       "      <th>4</th>\n",
       "      <td>1</td>\n",
       "      <td>98</td>\n",
       "      <td>0.528993</td>\n",
       "    </tr>\n",
       "  </tbody>\n",
       "</table>\n",
       "</div>"
      ],
      "text/plain": [
       "   user_id  movie_id      pred\n",
       "0        1        50  0.696742\n",
       "1        1        56  0.626537\n",
       "2        1       100  0.576872\n",
       "3        1       127  0.565802\n",
       "4        1        98  0.528993"
      ]
     },
     "execution_count": 138,
     "metadata": {},
     "output_type": "execute_result"
    }
   ],
   "source": [
    "data_pred.head()"
   ]
  },
  {
   "cell_type": "code",
   "execution_count": 139,
   "metadata": {},
   "outputs": [
    {
     "data": {
      "text/plain": [
       "0     50\n",
       "1     56\n",
       "2    100\n",
       "3    127\n",
       "4     98\n",
       "Name: movie_id, dtype: int64"
      ]
     },
     "execution_count": 139,
     "metadata": {},
     "output_type": "execute_result"
    }
   ],
   "source": [
    "mo = data_pred.head()[\"movie_id\"]\n",
    "mo"
   ]
  },
  {
   "cell_type": "code",
   "execution_count": 140,
   "metadata": {},
   "outputs": [
    {
     "data": {
      "text/plain": [
       "49                     Star Wars (1977)\n",
       "55                  Pulp Fiction (1994)\n",
       "97     Silence of the Lambs, The (1991)\n",
       "99                         Fargo (1996)\n",
       "126               Godfather, The (1972)\n",
       "Name: movie title, dtype: object"
      ]
     },
     "execution_count": 140,
     "metadata": {},
     "output_type": "execute_result"
    }
   ],
   "source": [
    "ind = item[item[\"movie_id\"].isin(mo.values)][\"movie title\"]\n",
    "ind"
   ]
  },
  {
   "cell_type": "code",
   "execution_count": null,
   "metadata": {
    "collapsed": true
   },
   "outputs": [],
   "source": []
  }
 ],
 "metadata": {
  "kernelspec": {
   "display_name": "Python 3",
   "language": "python",
   "name": "python3"
  },
  "language_info": {
   "codemirror_mode": {
    "name": "ipython",
    "version": 3
   },
   "file_extension": ".py",
   "mimetype": "text/x-python",
   "name": "python",
   "nbconvert_exporter": "python",
   "pygments_lexer": "ipython3",
   "version": "3.6.2"
  }
 },
 "nbformat": 4,
 "nbformat_minor": 2
}
