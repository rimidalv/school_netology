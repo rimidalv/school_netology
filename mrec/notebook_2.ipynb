{
 "cells": [
  {
   "cell_type": "code",
   "execution_count": 2,
   "metadata": {
    "_cell_guid": "2796f74c-54ad-419a-b064-78b2d6fe2d5d",
    "_uuid": "29323239dc59cf0e8c5eaefd61d35ace5e706cb5"
   },
   "outputs": [],
   "source": [
    "import numpy as np\n",
    "import pandas as pd\n",
    "import gc"
   ]
  },
  {
   "cell_type": "code",
   "execution_count": 3,
   "metadata": {
    "_cell_guid": "47184e29-69d0-4491-9a21-86bc72295143",
    "_uuid": "f64b494acddf1af663f0cd7b7fc0d58e21a7fdcb"
   },
   "outputs": [],
   "source": [
    "train = pd.read_csv(\"train.csv\")\n",
    "test = pd.read_csv(\"test.csv\")"
   ]
  },
  {
   "cell_type": "code",
   "execution_count": 4,
   "metadata": {
    "_cell_guid": "5574e125-7bf2-40ac-9ab1-ccca29879379",
    "_uuid": "ba221860bd31dc7ca2ec01983f54bbce707a593a"
   },
   "outputs": [
    {
     "data": {
      "text/plain": [
       "33"
      ]
     },
     "execution_count": 4,
     "metadata": {},
     "output_type": "execute_result"
    }
   ],
   "source": [
    "train[\"id\"] = -1\n",
    "test[\"target\"] = -1\n",
    "data = train.append(test)\n",
    "del train\n",
    "del test\n",
    "gc.collect()"
   ]
  },
  {
   "cell_type": "code",
   "execution_count": 5,
   "metadata": {
    "_cell_guid": "9bf2fbb0-1f3d-4dba-bf1e-9685ef05ee20",
    "_uuid": "0429c2b7d5a60d2c594d2a9b1d46d7eaebd325fc"
   },
   "outputs": [
    {
     "name": "stderr",
     "output_type": "stream",
     "text": [
      "/anaconda3/lib/python3.6/site-packages/numpy/lib/arraysetops.py:463: FutureWarning: elementwise comparison failed; returning scalar instead, but in the future will perform elementwise comparison\n",
      "  mask |= (ar1 == a)\n"
     ]
    },
    {
     "data": {
      "text/plain": [
       "56"
      ]
     },
     "execution_count": 5,
     "metadata": {},
     "output_type": "execute_result"
    }
   ],
   "source": [
    "data[\"user_id\"] = data[\"msno\"].astype(\"category\").cat.codes.copy()\n",
    "data[\"item_id\"] = data[\"song_id\"].astype(\"category\").cat.codes.copy()\n",
    "data.drop([\"msno\", \"song_id\"], inplace=True)\n",
    "gc.collect()\n",
    "train_data = data[data[\"id\"] == -1][[\"user_id\", \"item_id\", \"target\"]]\n",
    "test_data = data[data[\"id\"] != -1][[\"user_id\", \"item_id\", \"id\"]]\n",
    "del data\n",
    "gc.collect()"
   ]
  },
  {
   "cell_type": "code",
   "execution_count": 6,
   "metadata": {
    "_cell_guid": "58069b84-aff6-47a3-9d25-c5c32217ff37",
    "_uuid": "455194a864c66cb3af2ad49718bbc8d1a581bb65"
   },
   "outputs": [
    {
     "name": "stderr",
     "output_type": "stream",
     "text": [
      "/anaconda3/lib/python3.6/site-packages/sklearn/model_selection/_split.py:2026: FutureWarning: From version 0.21, test_size will always complement train_size unless both are specified.\n",
      "  FutureWarning)\n"
     ]
    },
    {
     "data": {
      "text/plain": [
       "12"
      ]
     },
     "execution_count": 6,
     "metadata": {},
     "output_type": "execute_result"
    }
   ],
   "source": [
    "from sklearn.model_selection import train_test_split\n",
    "\n",
    "train_train, train_validation = train_test_split(train_data, train_size=0.8)\n",
    "del train_data\n",
    "gc.collect()"
   ]
  },
  {
   "cell_type": "code",
   "execution_count": 7,
   "metadata": {
    "_cell_guid": "640dccdf-274e-4bfb-a8c4-3a982b14bddf",
    "_uuid": "48d0f45f634ea88a8a597c03458207d65f8f4b66"
   },
   "outputs": [],
   "source": [
    "# создаём разреженную матрицу item*user\n",
    "from scipy.sparse import coo_matrix\n",
    "\n",
    "sparse_train = coo_matrix((\n",
    "    train_train[\"target\"].astype(np.float32),\n",
    "    (\n",
    "        train_train[\"user_id\"],\n",
    "        train_train[\"item_id\"]\n",
    "    )\n",
    "))\n",
    "sample_weight = coo_matrix((\n",
    "    np.ones(train_train.shape[0]),\n",
    "    (\n",
    "        train_train[\"user_id\"],\n",
    "        train_train[\"item_id\"]\n",
    "    )\n",
    "))"
   ]
  },
  {
   "cell_type": "code",
   "execution_count": 8,
   "metadata": {
    "_cell_guid": "e7901eea-f9b4-4b97-b513-ecc8c3bae688",
    "_uuid": "b271dc2575792e4de7fddac652cbbd25a945392e"
   },
   "outputs": [],
   "source": [
    "# функция, которая красиво печатает информацию о разреженных матрицах\n",
    "\n",
    "def sparse_info(sparse_matrix) -> None:\n",
    "    print(\"Размерности матрицы: {}\".format(sparse_matrix.shape))\n",
    "    print(\"Ненулевых элементов в матрице: {}\".format(sparse_matrix.nnz))\n",
    "    print(\"Доля ненулевых элементов: {}\"\n",
    "          .format(sparse_matrix.nnz / sparse_matrix.shape[0] / sparse_matrix.shape[1])\n",
    "    )\n",
    "    print(\"Среднее значение ненулевых элементов: {}\".format(sparse_matrix.data.mean()))\n",
    "    print(\"Максимальное значение ненулевых элементов: {}\".format(sparse_matrix.data.max()))\n",
    "    print(\"Минимальное значение ненулевых элементов: {}\".format(sparse_matrix.data.min()))"
   ]
  },
  {
   "cell_type": "code",
   "execution_count": 9,
   "metadata": {
    "_cell_guid": "9b67b208-efef-4421-b3da-5caaa13007d0",
    "_uuid": "efda4fd8668752bfc3eb83e9fbabeaa7e23b23f4"
   },
   "outputs": [
    {
     "name": "stdout",
     "output_type": "stream",
     "text": [
      "Размерности матрицы: (34403, 419839)\n",
      "Ненулевых элементов в матрице: 5901934\n",
      "Доля ненулевых элементов: 0.0004086158928292744\n",
      "Среднее значение ненулевых элементов: 0.5034465193748474\n",
      "Максимальное значение ненулевых элементов: 1.0\n",
      "Минимальное значение ненулевых элементов: 0.0\n"
     ]
    }
   ],
   "source": [
    "sparse_info(sparse_train)"
   ]
  },
  {
   "cell_type": "code",
   "execution_count": 15,
   "metadata": {
    "_cell_guid": "c1008805-0649-4d6b-ae1d-64713be6e265",
    "_uuid": "6c6d66f480da59dd39db0af99c6f966e0999fd66"
   },
   "outputs": [],
   "source": [
    "# добавляем дополнительные фичи\n",
    "from scipy.sparse import hstack, identity\n",
    "\n",
    "item_features = hstack([\n",
    "    identity(train_train.shape[0]),\n",
    "])"
   ]
  },
  {
   "cell_type": "code",
   "execution_count": 16,
   "metadata": {
    "_cell_guid": "eac70ed4-ac45-4328-a51d-d5f03bf295fb",
    "_uuid": "feba7915f355f2766aedf25a1114cfffd4bc865e"
   },
   "outputs": [
    {
     "name": "stderr",
     "output_type": "stream",
     "text": [
      "/anaconda3/lib/python3.6/site-packages/lightfm/_lightfm_fast.py:9: UserWarning: LightFM was compiled without OpenMP support. Only a single thread will be used.\n",
      "  warnings.warn('LightFM was compiled without OpenMP support. '\n"
     ]
    },
    {
     "name": "stdout",
     "output_type": "stream",
     "text": [
      "строим модель LightFM\n",
      "Epoch 0\n",
      "Epoch 1\n",
      "Epoch 2\n"
     ]
    },
    {
     "ename": "KeyboardInterrupt",
     "evalue": "",
     "output_type": "error",
     "traceback": [
      "\u001b[0;31m---------------------------------------------------------------------------\u001b[0m",
      "\u001b[0;31mKeyboardInterrupt\u001b[0m                         Traceback (most recent call last)",
      "\u001b[0;32m<ipython-input-16-08c264157de7>\u001b[0m in \u001b[0;36m<module>\u001b[0;34m()\u001b[0m\n\u001b[1;32m     11\u001b[0m     \u001b[0mepochs\u001b[0m\u001b[0;34m=\u001b[0m\u001b[0;36m100\u001b[0m\u001b[0;34m,\u001b[0m\u001b[0;34m\u001b[0m\u001b[0m\n\u001b[1;32m     12\u001b[0m     \u001b[0mverbose\u001b[0m\u001b[0;34m=\u001b[0m\u001b[0;32mTrue\u001b[0m\u001b[0;34m,\u001b[0m\u001b[0;34m\u001b[0m\u001b[0m\n\u001b[0;32m---> 13\u001b[0;31m     \u001b[0mitem_features\u001b[0m\u001b[0;34m=\u001b[0m\u001b[0mitem_features\u001b[0m\u001b[0;34m\u001b[0m\u001b[0m\n\u001b[0m\u001b[1;32m     14\u001b[0m )\n\u001b[1;32m     15\u001b[0m \u001b[0mprint\u001b[0m\u001b[0;34m(\u001b[0m\u001b[0;34m\"построили LightFM за {} секунд\"\u001b[0m\u001b[0;34m.\u001b[0m\u001b[0mformat\u001b[0m\u001b[0;34m(\u001b[0m\u001b[0mtime\u001b[0m\u001b[0;34m.\u001b[0m\u001b[0mtime\u001b[0m\u001b[0;34m(\u001b[0m\u001b[0;34m)\u001b[0m \u001b[0;34m-\u001b[0m \u001b[0mstart\u001b[0m\u001b[0;34m)\u001b[0m\u001b[0;34m)\u001b[0m\u001b[0;34m\u001b[0m\u001b[0m\n",
      "\u001b[0;32m/anaconda3/lib/python3.6/site-packages/lightfm/lightfm.py\u001b[0m in \u001b[0;36mfit\u001b[0;34m(self, interactions, user_features, item_features, sample_weight, epochs, num_threads, verbose)\u001b[0m\n\u001b[1;32m    474\u001b[0m                                 \u001b[0mepochs\u001b[0m\u001b[0;34m=\u001b[0m\u001b[0mepochs\u001b[0m\u001b[0;34m,\u001b[0m\u001b[0;34m\u001b[0m\u001b[0m\n\u001b[1;32m    475\u001b[0m                                 \u001b[0mnum_threads\u001b[0m\u001b[0;34m=\u001b[0m\u001b[0mnum_threads\u001b[0m\u001b[0;34m,\u001b[0m\u001b[0;34m\u001b[0m\u001b[0m\n\u001b[0;32m--> 476\u001b[0;31m                                 verbose=verbose)\n\u001b[0m\u001b[1;32m    477\u001b[0m \u001b[0;34m\u001b[0m\u001b[0m\n\u001b[1;32m    478\u001b[0m     def fit_partial(self, interactions,\n",
      "\u001b[0;32m/anaconda3/lib/python3.6/site-packages/lightfm/lightfm.py\u001b[0m in \u001b[0;36mfit_partial\u001b[0;34m(self, interactions, user_features, item_features, sample_weight, epochs, num_threads, verbose)\u001b[0m\n\u001b[1;32m    576\u001b[0m                             \u001b[0msample_weight_data\u001b[0m\u001b[0;34m,\u001b[0m\u001b[0;34m\u001b[0m\u001b[0m\n\u001b[1;32m    577\u001b[0m                             \u001b[0mnum_threads\u001b[0m\u001b[0;34m,\u001b[0m\u001b[0;34m\u001b[0m\u001b[0m\n\u001b[0;32m--> 578\u001b[0;31m                             self.loss)\n\u001b[0m\u001b[1;32m    579\u001b[0m \u001b[0;34m\u001b[0m\u001b[0m\n\u001b[1;32m    580\u001b[0m             \u001b[0mself\u001b[0m\u001b[0;34m.\u001b[0m\u001b[0m_check_finite\u001b[0m\u001b[0;34m(\u001b[0m\u001b[0;34m)\u001b[0m\u001b[0;34m\u001b[0m\u001b[0m\n",
      "\u001b[0;32m/anaconda3/lib/python3.6/site-packages/lightfm/lightfm.py\u001b[0m in \u001b[0;36m_run_epoch\u001b[0;34m(self, item_features, user_features, interactions, sample_weight, num_threads, loss)\u001b[0m\n\u001b[1;32m    615\u001b[0m                      \u001b[0mself\u001b[0m\u001b[0;34m.\u001b[0m\u001b[0muser_alpha\u001b[0m\u001b[0;34m,\u001b[0m\u001b[0;34m\u001b[0m\u001b[0m\n\u001b[1;32m    616\u001b[0m                      \u001b[0mnum_threads\u001b[0m\u001b[0;34m,\u001b[0m\u001b[0;34m\u001b[0m\u001b[0m\n\u001b[0;32m--> 617\u001b[0;31m                      self.random_state)\n\u001b[0m\u001b[1;32m    618\u001b[0m         \u001b[0;32melif\u001b[0m \u001b[0mloss\u001b[0m \u001b[0;34m==\u001b[0m \u001b[0;34m'bpr'\u001b[0m\u001b[0;34m:\u001b[0m\u001b[0;34m\u001b[0m\u001b[0m\n\u001b[1;32m    619\u001b[0m             fit_bpr(CSRMatrix(item_features),\n",
      "\u001b[0;31mKeyboardInterrupt\u001b[0m: "
     ]
    }
   ],
   "source": [
    "import time\n",
    "from lightfm import LightFM\n",
    "\n",
    "model = LightFM(loss=\"warp\")\n",
    "print(\"строим модель LightFM\")\n",
    "start = time.time()\n",
    "model.fit(\n",
    "    interactions=sparse_train,\n",
    "    sample_weight=sample_weight,\n",
    "    num_threads=4,\n",
    "    epochs=100,\n",
    "    verbose=True,\n",
    "    item_features=item_features\n",
    ")\n",
    "print(\"построили LightFM за {} секунд\".format(time.time() - start))"
   ]
  },
  {
   "cell_type": "code",
   "execution_count": null,
   "metadata": {
    "_cell_guid": "1e9b2f71-abac-4a47-be46-f958643c0625",
    "_uuid": "e9934644250b920aa4181fc839fc81f1e75041a2"
   },
   "outputs": [],
   "source": [
    "def get_recs(dataset, item_features):\n",
    "    print(\"получаем рекомендации\")\n",
    "    start = time.time()\n",
    "    recs = model.predict(\n",
    "        user_ids=np.array(dataset[\"user_id\"].astype(np.int32).tolist()),\n",
    "        item_ids=np.array(dataset[\"item_id\"].astype(np.int32).tolist()),\n",
    "        item_features=item_features,\n",
    "        num_threads=4\n",
    "    )\n",
    "    print(\"получили рекомендации за {} секунд\".format(time.time() - start))\n",
    "    return recs"
   ]
  },
  {
   "cell_type": "code",
   "execution_count": null,
   "metadata": {
    "_cell_guid": "7e6c4f46-33ba-44d1-9aa1-6936971c1126",
    "_uuid": "001e47689b253eea4e963c4173aa7fed04094fda"
   },
   "outputs": [],
   "source": [
    "from sklearn.metrics import roc_auc_score\n",
    "\n",
    "train_recs = get_recs(train_train, item_features)\n",
    "print(\"train AUC: {}\".format(roc_auc_score(train_train[\"target\"], train_recs)))\n",
    "validation_recs = get_recs(train_validation, item_features)\n",
    "print(\"test AUC: {}\".format(roc_auc_score(train_validation[\"target\"], validation_recs)))"
   ]
  },
  {
   "cell_type": "code",
   "execution_count": null,
   "metadata": {
    "_cell_guid": "d647e839-c5e9-42b5-b2a8-6f6090c353a0",
    "_uuid": "b8abb46c275ab22e088200479960666380be6404",
    "collapsed": true
   },
   "outputs": [],
   "source": []
  }
 ],
 "metadata": {
  "kernelspec": {
   "display_name": "Python 3",
   "language": "python",
   "name": "python3"
  },
  "language_info": {
   "codemirror_mode": {
    "name": "ipython",
    "version": 3
   },
   "file_extension": ".py",
   "mimetype": "text/x-python",
   "name": "python",
   "nbconvert_exporter": "python",
   "pygments_lexer": "ipython3",
   "version": "3.6.3"
  }
 },
 "nbformat": 4,
 "nbformat_minor": 1
}
