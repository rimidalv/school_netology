{
 "cells": [
  {
   "cell_type": "markdown",
   "metadata": {},
   "source": [
    "# Рекомендательные системы"
   ]
  },
  {
   "cell_type": "markdown",
   "metadata": {},
   "source": [
    "КАК ПОЛУЧИТЬ ЗАЧЁТ\n",
    "1. установить mrec\n",
    "2. получить для MovieLens 100K рекомендации:\n",
    "    - по популярности \n",
    "    - с помощью kNN\n",
    "3. поделиться результатами с преподавателем"
   ]
  },
  {
   "cell_type": "markdown",
   "metadata": {},
   "source": [
    "КАКИЕ ИМЕННО РЕЗУЛЬТАТЫ НУЖНЫ\n",
    "1. файлы, сгенерированные скриптами:\n",
    "    - mrec_prepare (train/test)\n",
    "    - mrec_train (model/similarity)\n",
    "    - mrec_predict (собственно рекомендации)\n",
    "2. отчёт об исследовании\n",
    "    - какие скрипты вызывали, в каком порядке \n",
    "    - какие модели пробовали\n",
    "    - какие параметры использовали    "
   ]
  },
  {
   "cell_type": "markdown",
   "metadata": {},
   "source": [
    "КАК ПОЛУЧИТЬ УДОВОЛЬСТВИЕ\n",
    "1. используйте продвинутые модели \n",
    "    - SLIM\n",
    "    - WRMF (подробнее в лекции 4.3) \n",
    "    - WARP (подробнее в лекции 4.6)\n",
    "2. подберите параметры моделей\n",
    "    - k и меру схожести в kNN\n",
    "    - параметры регуляризации в SLIM \n",
    "    - alpha и lambda в WRMF    "
   ]
  },
  {
   "cell_type": "markdown",
   "metadata": {},
   "source": [
    "КАК СТАТЬ DATA SCIENTIST’ОМ\n",
    "- сделать fork репы и добавить код,\n",
    "    - считающий Recall\n",
    "    - или считающий MAP (mean average precision) \n",
    "    - метрику на свой выбор\n",
    "- запустить обучение в облаке в 20 потоков"
   ]
  },
  {
   "cell_type": "markdown",
   "metadata": {},
   "source": [
    "### Погнали, как получить зачет"
   ]
  },
  {
   "cell_type": "markdown",
   "metadata": {},
   "source": [
    "Установим библиотеку"
   ]
  },
  {
   "cell_type": "markdown",
   "metadata": {},
   "source": [
    "```git clone https://github.com/inpefess/mrec\n",
    "cd mrec\n",
    "sudo -H python3 setup.py install --install-scripts sbin```"
   ]
  },
  {
   "cell_type": "markdown",
   "metadata": {},
   "source": [
    "Положим папочку с датасетом рядом и импортируем его "
   ]
  },
  {
   "cell_type": "code",
   "execution_count": 141,
   "metadata": {
    "collapsed": true
   },
   "outputs": [],
   "source": [
    "import sys\n",
    "import pandas as pd\n",
    "import scipy\n",
    "import mrec"
   ]
  },
  {
   "cell_type": "code",
   "execution_count": 142,
   "metadata": {
    "collapsed": true
   },
   "outputs": [],
   "source": [
    "from os import path\n",
    "\n",
    "data_dir = \"ml-latest-small\"\n",
    "\n",
    "data = pd.read_csv(\"ml-100k/u.data\", sep=\"\\t\", header=None, index_col=0)\n",
    "data.columns = [\"item id\" , \"rating\" , \"timestamp\"]"
   ]
  },
  {
   "cell_type": "markdown",
   "metadata": {},
   "source": [
    "Посмотрим оценки"
   ]
  },
  {
   "cell_type": "code",
   "execution_count": 143,
   "metadata": {
    "scrolled": true
   },
   "outputs": [
    {
     "data": {
      "text/html": [
       "<div>\n",
       "<style>\n",
       "    .dataframe thead tr:only-child th {\n",
       "        text-align: right;\n",
       "    }\n",
       "\n",
       "    .dataframe thead th {\n",
       "        text-align: left;\n",
       "    }\n",
       "\n",
       "    .dataframe tbody tr th {\n",
       "        vertical-align: top;\n",
       "    }\n",
       "</style>\n",
       "<table border=\"1\" class=\"dataframe\">\n",
       "  <thead>\n",
       "    <tr style=\"text-align: right;\">\n",
       "      <th></th>\n",
       "      <th>item id</th>\n",
       "      <th>rating</th>\n",
       "      <th>timestamp</th>\n",
       "    </tr>\n",
       "    <tr>\n",
       "      <th>0</th>\n",
       "      <th></th>\n",
       "      <th></th>\n",
       "      <th></th>\n",
       "    </tr>\n",
       "  </thead>\n",
       "  <tbody>\n",
       "    <tr>\n",
       "      <th>196</th>\n",
       "      <td>242</td>\n",
       "      <td>3</td>\n",
       "      <td>881250949</td>\n",
       "    </tr>\n",
       "    <tr>\n",
       "      <th>186</th>\n",
       "      <td>302</td>\n",
       "      <td>3</td>\n",
       "      <td>891717742</td>\n",
       "    </tr>\n",
       "    <tr>\n",
       "      <th>22</th>\n",
       "      <td>377</td>\n",
       "      <td>1</td>\n",
       "      <td>878887116</td>\n",
       "    </tr>\n",
       "    <tr>\n",
       "      <th>244</th>\n",
       "      <td>51</td>\n",
       "      <td>2</td>\n",
       "      <td>880606923</td>\n",
       "    </tr>\n",
       "    <tr>\n",
       "      <th>166</th>\n",
       "      <td>346</td>\n",
       "      <td>1</td>\n",
       "      <td>886397596</td>\n",
       "    </tr>\n",
       "  </tbody>\n",
       "</table>\n",
       "</div>"
      ],
      "text/plain": [
       "     item id  rating  timestamp\n",
       "0                              \n",
       "196      242       3  881250949\n",
       "186      302       3  891717742\n",
       "22       377       1  878887116\n",
       "244       51       2  880606923\n",
       "166      346       1  886397596"
      ]
     },
     "execution_count": 143,
     "metadata": {},
     "output_type": "execute_result"
    }
   ],
   "source": [
    "data.head()"
   ]
  },
  {
   "cell_type": "markdown",
   "metadata": {},
   "source": [
    "про фильмы знаем названия и жанры"
   ]
  },
  {
   "cell_type": "code",
   "execution_count": 144,
   "metadata": {},
   "outputs": [
    {
     "data": {
      "text/html": [
       "<div>\n",
       "<style>\n",
       "    .dataframe thead tr:only-child th {\n",
       "        text-align: right;\n",
       "    }\n",
       "\n",
       "    .dataframe thead th {\n",
       "        text-align: left;\n",
       "    }\n",
       "\n",
       "    .dataframe tbody tr th {\n",
       "        vertical-align: top;\n",
       "    }\n",
       "</style>\n",
       "<table border=\"1\" class=\"dataframe\">\n",
       "  <thead>\n",
       "    <tr style=\"text-align: right;\">\n",
       "      <th></th>\n",
       "      <th>movie_id</th>\n",
       "      <th>movie title</th>\n",
       "      <th>release date</th>\n",
       "      <th>video release date</th>\n",
       "      <th>IMDb URL</th>\n",
       "      <th>unknown</th>\n",
       "      <th>Action</th>\n",
       "      <th>Adventure</th>\n",
       "      <th>Animation</th>\n",
       "      <th>Children's</th>\n",
       "      <th>...</th>\n",
       "      <th>Fantasy</th>\n",
       "      <th>Film-Noir</th>\n",
       "      <th>Horror</th>\n",
       "      <th>Musical</th>\n",
       "      <th>Mystery</th>\n",
       "      <th>Romance</th>\n",
       "      <th>Sci-Fi</th>\n",
       "      <th>Thriller</th>\n",
       "      <th>War</th>\n",
       "      <th>Western</th>\n",
       "    </tr>\n",
       "  </thead>\n",
       "  <tbody>\n",
       "    <tr>\n",
       "      <th>0</th>\n",
       "      <td>1</td>\n",
       "      <td>Toy Story (1995)</td>\n",
       "      <td>01-Jan-1995</td>\n",
       "      <td>NaN</td>\n",
       "      <td>http://us.imdb.com/M/title-exact?Toy%20Story%2...</td>\n",
       "      <td>0</td>\n",
       "      <td>0</td>\n",
       "      <td>0</td>\n",
       "      <td>1</td>\n",
       "      <td>1</td>\n",
       "      <td>...</td>\n",
       "      <td>0</td>\n",
       "      <td>0</td>\n",
       "      <td>0</td>\n",
       "      <td>0</td>\n",
       "      <td>0</td>\n",
       "      <td>0</td>\n",
       "      <td>0</td>\n",
       "      <td>0</td>\n",
       "      <td>0</td>\n",
       "      <td>0</td>\n",
       "    </tr>\n",
       "    <tr>\n",
       "      <th>1</th>\n",
       "      <td>2</td>\n",
       "      <td>GoldenEye (1995)</td>\n",
       "      <td>01-Jan-1995</td>\n",
       "      <td>NaN</td>\n",
       "      <td>http://us.imdb.com/M/title-exact?GoldenEye%20(...</td>\n",
       "      <td>0</td>\n",
       "      <td>1</td>\n",
       "      <td>1</td>\n",
       "      <td>0</td>\n",
       "      <td>0</td>\n",
       "      <td>...</td>\n",
       "      <td>0</td>\n",
       "      <td>0</td>\n",
       "      <td>0</td>\n",
       "      <td>0</td>\n",
       "      <td>0</td>\n",
       "      <td>0</td>\n",
       "      <td>0</td>\n",
       "      <td>1</td>\n",
       "      <td>0</td>\n",
       "      <td>0</td>\n",
       "    </tr>\n",
       "    <tr>\n",
       "      <th>2</th>\n",
       "      <td>3</td>\n",
       "      <td>Four Rooms (1995)</td>\n",
       "      <td>01-Jan-1995</td>\n",
       "      <td>NaN</td>\n",
       "      <td>http://us.imdb.com/M/title-exact?Four%20Rooms%...</td>\n",
       "      <td>0</td>\n",
       "      <td>0</td>\n",
       "      <td>0</td>\n",
       "      <td>0</td>\n",
       "      <td>0</td>\n",
       "      <td>...</td>\n",
       "      <td>0</td>\n",
       "      <td>0</td>\n",
       "      <td>0</td>\n",
       "      <td>0</td>\n",
       "      <td>0</td>\n",
       "      <td>0</td>\n",
       "      <td>0</td>\n",
       "      <td>1</td>\n",
       "      <td>0</td>\n",
       "      <td>0</td>\n",
       "    </tr>\n",
       "    <tr>\n",
       "      <th>3</th>\n",
       "      <td>4</td>\n",
       "      <td>Get Shorty (1995)</td>\n",
       "      <td>01-Jan-1995</td>\n",
       "      <td>NaN</td>\n",
       "      <td>http://us.imdb.com/M/title-exact?Get%20Shorty%...</td>\n",
       "      <td>0</td>\n",
       "      <td>1</td>\n",
       "      <td>0</td>\n",
       "      <td>0</td>\n",
       "      <td>0</td>\n",
       "      <td>...</td>\n",
       "      <td>0</td>\n",
       "      <td>0</td>\n",
       "      <td>0</td>\n",
       "      <td>0</td>\n",
       "      <td>0</td>\n",
       "      <td>0</td>\n",
       "      <td>0</td>\n",
       "      <td>0</td>\n",
       "      <td>0</td>\n",
       "      <td>0</td>\n",
       "    </tr>\n",
       "    <tr>\n",
       "      <th>4</th>\n",
       "      <td>5</td>\n",
       "      <td>Copycat (1995)</td>\n",
       "      <td>01-Jan-1995</td>\n",
       "      <td>NaN</td>\n",
       "      <td>http://us.imdb.com/M/title-exact?Copycat%20(1995)</td>\n",
       "      <td>0</td>\n",
       "      <td>0</td>\n",
       "      <td>0</td>\n",
       "      <td>0</td>\n",
       "      <td>0</td>\n",
       "      <td>...</td>\n",
       "      <td>0</td>\n",
       "      <td>0</td>\n",
       "      <td>0</td>\n",
       "      <td>0</td>\n",
       "      <td>0</td>\n",
       "      <td>0</td>\n",
       "      <td>0</td>\n",
       "      <td>1</td>\n",
       "      <td>0</td>\n",
       "      <td>0</td>\n",
       "    </tr>\n",
       "  </tbody>\n",
       "</table>\n",
       "<p>5 rows × 24 columns</p>\n",
       "</div>"
      ],
      "text/plain": [
       "   movie_id        movie title release date  video release date  \\\n",
       "0         1   Toy Story (1995)  01-Jan-1995                 NaN   \n",
       "1         2   GoldenEye (1995)  01-Jan-1995                 NaN   \n",
       "2         3  Four Rooms (1995)  01-Jan-1995                 NaN   \n",
       "3         4  Get Shorty (1995)  01-Jan-1995                 NaN   \n",
       "4         5     Copycat (1995)  01-Jan-1995                 NaN   \n",
       "\n",
       "                                            IMDb URL  unknown  Action  \\\n",
       "0  http://us.imdb.com/M/title-exact?Toy%20Story%2...        0       0   \n",
       "1  http://us.imdb.com/M/title-exact?GoldenEye%20(...        0       1   \n",
       "2  http://us.imdb.com/M/title-exact?Four%20Rooms%...        0       0   \n",
       "3  http://us.imdb.com/M/title-exact?Get%20Shorty%...        0       1   \n",
       "4  http://us.imdb.com/M/title-exact?Copycat%20(1995)        0       0   \n",
       "\n",
       "   Adventure  Animation  Children's   ...     Fantasy  Film-Noir  Horror  \\\n",
       "0          0          1           1   ...           0          0       0   \n",
       "1          1          0           0   ...           0          0       0   \n",
       "2          0          0           0   ...           0          0       0   \n",
       "3          0          0           0   ...           0          0       0   \n",
       "4          0          0           0   ...           0          0       0   \n",
       "\n",
       "   Musical  Mystery  Romance  Sci-Fi  Thriller  War  Western  \n",
       "0        0        0        0       0         0    0        0  \n",
       "1        0        0        0       0         1    0        0  \n",
       "2        0        0        0       0         1    0        0  \n",
       "3        0        0        0       0         0    0        0  \n",
       "4        0        0        0       0         1    0        0  \n",
       "\n",
       "[5 rows x 24 columns]"
      ]
     },
     "execution_count": 144,
     "metadata": {},
     "output_type": "execute_result"
    }
   ],
   "source": [
    "item = pd.read_csv(\"ml-100k/u.item\", sep=\"|\", header=None, index_col=None,  encoding = \"ISO-8859-1\")\n",
    "item.columns = [\"movie_id\", \"movie title\" , \"release date\" , \"video release date\" ,\n",
    "              \"IMDb URL\" , \"unknown\" , \"Action\" , \"Adventure\" , \"Animation\" ,\n",
    "              \"Children's\" , \"Comedy\" ,\"Crime\" ,\"Documentary\" , \"Drama\" , \"Fantasy\" ,\n",
    "              \"Film-Noir\" , \"Horror\" , \"Musical\" , \"Mystery\" , \"Romance\" , \"Sci-Fi\" ,\n",
    "              \"Thriller\" , \"War\" , \"Western\"]\n",
    "item.head()"
   ]
  },
  {
   "cell_type": "markdown",
   "metadata": {},
   "source": [
    "#### Подготовим данные для тренировки"
   ]
  },
  {
   "cell_type": "code",
   "execution_count": 161,
   "metadata": {},
   "outputs": [
    {
     "name": "stdout",
     "output_type": "stream",
     "text": [
      "[2017-11-22 17:42:35,164] INFO: sorting input data...\n",
      "[2017-11-22 17:42:36,345] INFO: creating split 0: /Users/vladimir/temp/AnacondaProjects/homework/mrec/splits/u.data.train.0 /Users/vladimir/temp/AnacondaProjects/homework/mrec/splits/u.data.test.0\n",
      "[2017-11-22 17:42:36,936] INFO: creating split 1: /Users/vladimir/temp/AnacondaProjects/homework/mrec/splits/u.data.train.1 /Users/vladimir/temp/AnacondaProjects/homework/mrec/splits/u.data.test.1\n",
      "[2017-11-22 17:42:37,721] INFO: creating split 2: /Users/vladimir/temp/AnacondaProjects/homework/mrec/splits/u.data.train.2 /Users/vladimir/temp/AnacondaProjects/homework/mrec/splits/u.data.test.2\n",
      "[2017-11-22 17:42:38,455] INFO: creating split 3: /Users/vladimir/temp/AnacondaProjects/homework/mrec/splits/u.data.train.3 /Users/vladimir/temp/AnacondaProjects/homework/mrec/splits/u.data.test.3\n",
      "[2017-11-22 17:42:39,298] INFO: creating split 4: /Users/vladimir/temp/AnacondaProjects/homework/mrec/splits/u.data.train.4 /Users/vladimir/temp/AnacondaProjects/homework/mrec/splits/u.data.test.4\n",
      "[2017-11-22 17:42:40,173] INFO: cleaning up...\n",
      "[2017-11-22 17:42:40,203] INFO: done\n"
     ]
    }
   ],
   "source": [
    "!sbin/mrec_prepare --dataset ml-100k/u.data --outdir splits --rating_thresh 4 --test_size 0.5 --binarize"
   ]
  },
  {
   "cell_type": "markdown",
   "metadata": {},
   "source": [
    "попробуем выполнить все в несколько потоков"
   ]
  },
  {
   "cell_type": "code",
   "execution_count": 162,
   "metadata": {
    "collapsed": true
   },
   "outputs": [],
   "source": [
    "!sbin/ipcluster start -n4 --daemonize"
   ]
  },
  {
   "cell_type": "markdown",
   "metadata": {},
   "source": [
    "## SLIM"
   ]
  },
  {
   "cell_type": "markdown",
   "metadata": {},
   "source": [
    "### Начнем обучаться"
   ]
  },
  {
   "cell_type": "code",
   "execution_count": 163,
   "metadata": {},
   "outputs": [
    {
     "name": "stdout",
     "output_type": "stream",
     "text": [
      "/Users/vladimir/anaconda3/lib/python3.6/site-packages/sklearn/linear_model/stochastic_gradient.py:84: FutureWarning: max_iter and tol parameters have been added in <class 'sklearn.linear_model.stochastic_gradient.SGDRegressor'> in 0.19. If both are left unset, they default to max_iter=5 and tol=None. If tol is not None, max_iter defaults to max_iter=1000. From 0.21, default max_iter will be 1000, and default tol will be 1e-3.\n",
      "  \"and default tol will be 1e-3.\" % type(self), FutureWarning)\n",
      "[2017-11-22 17:42:49,369] INFO: processing /Users/vladimir/temp/AnacondaProjects/homework/mrec/splits/u.data.train.0...\n",
      "[2017-11-22 17:42:49,369] INFO: finding number of items...\n",
      "[2017-11-22 17:42:50,018] INFO: 943 users and 1678 items\n",
      "[2017-11-22 17:42:50,018] INFO: creating sims directory /Users/vladimir/temp/AnacondaProjects/homework/mrec/models/u.data.train.0-sims...\n",
      "[2017-11-22 17:42:50,131] INFO: checking for existing output sims...\n",
      "[2017-11-22 17:42:50,133] INFO: creating tasks...\n",
      "[2017-11-22 17:42:50,133] INFO: running 4 tasks in parallel across ipython engines...\n",
      "[2017-11-22 17:42:56,647] INFO: checking output files...\n",
      "[2017-11-22 17:42:56,647] INFO: SUCCESS: all tasks completed\n",
      "[2017-11-22 17:42:56,647] INFO: concatenating 4 partial output files...\n",
      "[2017-11-22 17:42:57,582] INFO: removing partial output files...\n",
      "[2017-11-22 17:42:57,584] INFO: loading 1678 items in SLIM model from /Users/vladimir/temp/AnacondaProjects/homework/mrec/models/u.data.train.0.sims.tsv\n",
      "[2017-11-22 17:42:58,838] INFO: done\n",
      "[2017-11-22 17:42:58,838] INFO: processing /Users/vladimir/temp/AnacondaProjects/homework/mrec/splits/u.data.train.1...\n",
      "[2017-11-22 17:42:58,838] INFO: finding number of items...\n",
      "[2017-11-22 17:42:59,358] INFO: 943 users and 1681 items\n",
      "[2017-11-22 17:42:59,358] INFO: creating sims directory /Users/vladimir/temp/AnacondaProjects/homework/mrec/models/u.data.train.1-sims...\n",
      "[2017-11-22 17:42:59,384] INFO: checking for existing output sims...\n",
      "[2017-11-22 17:42:59,385] INFO: creating tasks...\n",
      "[2017-11-22 17:42:59,386] INFO: running 4 tasks in parallel across ipython engines...\n",
      "[2017-11-22 17:43:05,355] INFO: checking output files...\n",
      "[2017-11-22 17:43:05,355] INFO: SUCCESS: all tasks completed\n",
      "[2017-11-22 17:43:05,355] INFO: concatenating 4 partial output files...\n",
      "[2017-11-22 17:43:05,381] INFO: removing partial output files...\n",
      "[2017-11-22 17:43:05,383] INFO: loading 1681 items in SLIM model from /Users/vladimir/temp/AnacondaProjects/homework/mrec/models/u.data.train.1.sims.tsv\n",
      "[2017-11-22 17:43:06,435] INFO: done\n",
      "[2017-11-22 17:43:06,435] INFO: processing /Users/vladimir/temp/AnacondaProjects/homework/mrec/splits/u.data.train.2...\n",
      "[2017-11-22 17:43:06,435] INFO: finding number of items...\n",
      "[2017-11-22 17:43:07,090] INFO: 943 users and 1681 items\n",
      "[2017-11-22 17:43:07,090] INFO: creating sims directory /Users/vladimir/temp/AnacondaProjects/homework/mrec/models/u.data.train.2-sims...\n",
      "[2017-11-22 17:43:07,112] INFO: checking for existing output sims...\n",
      "[2017-11-22 17:43:07,113] INFO: creating tasks...\n",
      "[2017-11-22 17:43:07,114] INFO: running 4 tasks in parallel across ipython engines...\n",
      "[2017-11-22 17:43:14,770] INFO: checking output files...\n",
      "[2017-11-22 17:43:14,771] INFO: SUCCESS: all tasks completed\n",
      "[2017-11-22 17:43:14,771] INFO: concatenating 4 partial output files...\n",
      "[2017-11-22 17:43:14,881] INFO: removing partial output files...\n",
      "[2017-11-22 17:43:15,014] INFO: loading 1681 items in SLIM model from /Users/vladimir/temp/AnacondaProjects/homework/mrec/models/u.data.train.2.sims.tsv\n",
      "[2017-11-22 17:43:16,280] INFO: done\n",
      "[2017-11-22 17:43:16,280] INFO: processing /Users/vladimir/temp/AnacondaProjects/homework/mrec/splits/u.data.train.3...\n",
      "[2017-11-22 17:43:16,280] INFO: finding number of items...\n",
      "[2017-11-22 17:43:16,902] INFO: 943 users and 1682 items\n",
      "[2017-11-22 17:43:16,902] INFO: creating sims directory /Users/vladimir/temp/AnacondaProjects/homework/mrec/models/u.data.train.3-sims...\n",
      "[2017-11-22 17:43:16,922] INFO: checking for existing output sims...\n",
      "[2017-11-22 17:43:16,923] INFO: creating tasks...\n",
      "[2017-11-22 17:43:16,923] INFO: running 4 tasks in parallel across ipython engines...\n",
      "[2017-11-22 17:43:22,311] INFO: checking output files...\n",
      "[2017-11-22 17:43:22,311] INFO: SUCCESS: all tasks completed\n",
      "[2017-11-22 17:43:22,311] INFO: concatenating 4 partial output files...\n",
      "[2017-11-22 17:43:22,329] INFO: removing partial output files...\n",
      "[2017-11-22 17:43:22,331] INFO: loading 1682 items in SLIM model from /Users/vladimir/temp/AnacondaProjects/homework/mrec/models/u.data.train.3.sims.tsv\n",
      "[2017-11-22 17:43:23,739] INFO: done\n",
      "[2017-11-22 17:43:23,739] INFO: processing /Users/vladimir/temp/AnacondaProjects/homework/mrec/splits/u.data.train.4...\n",
      "[2017-11-22 17:43:23,746] INFO: finding number of items...\n",
      "[2017-11-22 17:43:24,190] INFO: 943 users and 1681 items\n",
      "[2017-11-22 17:43:24,190] INFO: creating sims directory /Users/vladimir/temp/AnacondaProjects/homework/mrec/models/u.data.train.4-sims...\n",
      "[2017-11-22 17:43:24,277] INFO: checking for existing output sims...\n",
      "[2017-11-22 17:43:24,277] INFO: creating tasks...\n",
      "[2017-11-22 17:43:24,278] INFO: running 4 tasks in parallel across ipython engines...\n",
      "[2017-11-22 17:43:29,007] INFO: checking output files...\n",
      "[2017-11-22 17:43:29,008] INFO: SUCCESS: all tasks completed\n",
      "[2017-11-22 17:43:29,008] INFO: concatenating 4 partial output files...\n",
      "[2017-11-22 17:43:29,048] INFO: removing partial output files...\n",
      "[2017-11-22 17:43:29,049] INFO: loading 1681 items in SLIM model from /Users/vladimir/temp/AnacondaProjects/homework/mrec/models/u.data.train.4.sims.tsv\n",
      "[2017-11-22 17:43:30,015] INFO: done\n"
     ]
    }
   ],
   "source": [
    "!sbin/mrec_train -n4 --input_format tsv --train \"splits/u.data.train.*\" --outdir models"
   ]
  },
  {
   "cell_type": "markdown",
   "metadata": {},
   "source": [
    "### Предсказание"
   ]
  },
  {
   "cell_type": "code",
   "execution_count": 164,
   "metadata": {},
   "outputs": [
    {
     "name": "stdout",
     "output_type": "stream",
     "text": [
      "[2017-11-22 17:43:44,276] INFO: processing /Users/vladimir/temp/AnacondaProjects/homework/mrec/splits/u.data.train.0...\n",
      "[2017-11-22 17:43:44,276] INFO: creating recs directory /Users/vladimir/temp/AnacondaProjects/homework/mrec/recs/u.data.train.0-recs...\n",
      "[2017-11-22 17:43:44,302] INFO: checking for existing output recs...\n",
      "[2017-11-22 17:43:44,303] INFO: creating tasks...\n",
      "[2017-11-22 17:43:44,303] INFO: loading dataset to get size...\n",
      "[2017-11-22 17:43:44,790] INFO: loading model to get size...\n",
      "[2017-11-22 17:43:45,276] INFO: created 1 tasks, 21272 users per task\n",
      "[2017-11-22 17:43:45,276] INFO: running in parallel across ipython engines...\n",
      "[2017-11-22 17:43:48,414] INFO: checking output files...\n",
      "[2017-11-22 17:43:48,414] INFO: SUCCESS: all tasks completed\n",
      "[2017-11-22 17:43:48,414] INFO: concatenating 1 partial output files...\n",
      "[2017-11-22 17:43:48,435] INFO: removing partial output files...\n",
      "[2017-11-22 17:43:48,436] INFO: done\n",
      "[2017-11-22 17:43:48,438] INFO: processing /Users/vladimir/temp/AnacondaProjects/homework/mrec/splits/u.data.train.1...\n",
      "[2017-11-22 17:43:48,438] INFO: creating recs directory /Users/vladimir/temp/AnacondaProjects/homework/mrec/recs/u.data.train.1-recs...\n",
      "[2017-11-22 17:43:48,459] INFO: checking for existing output recs...\n",
      "[2017-11-22 17:43:48,459] INFO: creating tasks...\n",
      "[2017-11-22 17:43:48,460] INFO: loading dataset to get size...\n",
      "[2017-11-22 17:43:48,878] INFO: loading model to get size...\n",
      "[2017-11-22 17:43:48,926] INFO: created 1 tasks, 21180 users per task\n",
      "[2017-11-22 17:43:48,926] INFO: running in parallel across ipython engines...\n",
      "[2017-11-22 17:43:51,962] INFO: checking output files...\n",
      "[2017-11-22 17:43:51,963] INFO: SUCCESS: all tasks completed\n",
      "[2017-11-22 17:43:51,963] INFO: concatenating 1 partial output files...\n",
      "[2017-11-22 17:43:51,999] INFO: removing partial output files...\n",
      "[2017-11-22 17:43:52,001] INFO: done\n",
      "[2017-11-22 17:43:52,003] INFO: processing /Users/vladimir/temp/AnacondaProjects/homework/mrec/splits/u.data.train.2...\n",
      "[2017-11-22 17:43:52,003] INFO: creating recs directory /Users/vladimir/temp/AnacondaProjects/homework/mrec/recs/u.data.train.2-recs...\n",
      "[2017-11-22 17:43:52,029] INFO: checking for existing output recs...\n",
      "[2017-11-22 17:43:52,029] INFO: creating tasks...\n",
      "[2017-11-22 17:43:52,030] INFO: loading dataset to get size...\n",
      "[2017-11-22 17:43:52,545] INFO: loading model to get size...\n",
      "[2017-11-22 17:43:52,590] INFO: created 1 tasks, 20851 users per task\n",
      "[2017-11-22 17:43:52,590] INFO: running in parallel across ipython engines...\n",
      "[2017-11-22 17:43:55,514] INFO: checking output files...\n",
      "[2017-11-22 17:43:55,514] INFO: SUCCESS: all tasks completed\n",
      "[2017-11-22 17:43:55,514] INFO: concatenating 1 partial output files...\n",
      "[2017-11-22 17:43:55,541] INFO: removing partial output files...\n",
      "[2017-11-22 17:43:55,542] INFO: done\n",
      "[2017-11-22 17:43:55,544] INFO: processing /Users/vladimir/temp/AnacondaProjects/homework/mrec/splits/u.data.train.3...\n",
      "[2017-11-22 17:43:55,544] INFO: creating recs directory /Users/vladimir/temp/AnacondaProjects/homework/mrec/recs/u.data.train.3-recs...\n",
      "[2017-11-22 17:43:55,565] INFO: checking for existing output recs...\n",
      "[2017-11-22 17:43:55,566] INFO: creating tasks...\n",
      "[2017-11-22 17:43:55,566] INFO: loading dataset to get size...\n",
      "[2017-11-22 17:43:55,937] INFO: loading model to get size...\n",
      "[2017-11-22 17:43:56,000] INFO: created 1 tasks, 21300 users per task\n",
      "[2017-11-22 17:43:56,000] INFO: running in parallel across ipython engines...\n",
      "[2017-11-22 17:43:58,870] INFO: checking output files...\n",
      "[2017-11-22 17:43:58,870] INFO: SUCCESS: all tasks completed\n",
      "[2017-11-22 17:43:58,870] INFO: concatenating 1 partial output files...\n",
      "[2017-11-22 17:43:58,886] INFO: removing partial output files...\n",
      "[2017-11-22 17:43:58,887] INFO: done\n",
      "[2017-11-22 17:43:58,890] INFO: processing /Users/vladimir/temp/AnacondaProjects/homework/mrec/splits/u.data.train.4...\n",
      "[2017-11-22 17:43:58,890] INFO: creating recs directory /Users/vladimir/temp/AnacondaProjects/homework/mrec/recs/u.data.train.4-recs...\n",
      "[2017-11-22 17:43:58,896] INFO: checking for existing output recs...\n",
      "[2017-11-22 17:43:58,897] INFO: creating tasks...\n",
      "[2017-11-22 17:43:58,897] INFO: loading dataset to get size...\n",
      "[2017-11-22 17:43:59,351] INFO: loading model to get size...\n",
      "[2017-11-22 17:43:59,397] INFO: created 1 tasks, 21059 users per task\n",
      "[2017-11-22 17:43:59,397] INFO: running in parallel across ipython engines...\n",
      "[2017-11-22 17:44:01,992] INFO: checking output files...\n",
      "[2017-11-22 17:44:01,992] INFO: SUCCESS: all tasks completed\n",
      "[2017-11-22 17:44:01,992] INFO: concatenating 1 partial output files...\n",
      "[2017-11-22 17:44:02,014] INFO: removing partial output files...\n",
      "[2017-11-22 17:44:02,014] INFO: done\n",
      "SLIM(SGDRegressor(alpha=0.0011, average=False, epsilon=0.1, eta0=0.01,\n",
      "       fit_intercept=False, l1_ratio=0.9090909090909091,\n",
      "       learning_rate='invscaling', loss='squared_loss', max_iter=5,\n",
      "       n_iter=None, penalty='elasticnet', power_t=0.25, random_state=None,\n",
      "       shuffle=True, tol=None, verbose=0, warm_start=False))\n",
      "mrr            0.6816 +/- 0.0033\n",
      "prec@5         0.4347 +/- 0.0008\n",
      "prec@10        0.3753 +/- 0.0011\n",
      "prec@15        0.3379 +/- 0.0004\n",
      "prec@20        0.3108 +/- 0.0004\n"
     ]
    }
   ],
   "source": [
    "!sbin/mrec_predict --input_format tsv --test_input_format tsv --train \"splits/u.data.train.*\" --modeldir models --outdir recs"
   ]
  },
  {
   "cell_type": "markdown",
   "metadata": {},
   "source": [
    "## Метод ближайших соседей (KNN)"
   ]
  },
  {
   "cell_type": "markdown",
   "metadata": {},
   "source": [
    "### Начнем обучаться"
   ]
  },
  {
   "cell_type": "code",
   "execution_count": 149,
   "metadata": {},
   "outputs": [
    {
     "name": "stdout",
     "output_type": "stream",
     "text": [
      "[2017-11-22 17:38:16,062] INFO: processing /Users/vladimir/temp/AnacondaProjects/homework/mrec/splits/u.data.train.0...\n",
      "[2017-11-22 17:38:16,062] INFO: finding number of items...\n",
      "[2017-11-22 17:38:16,591] INFO: 943 users and 1682 items\n",
      "[2017-11-22 17:38:16,591] INFO: creating sims directory /Users/vladimir/temp/AnacondaProjects/homework/mrec/models_knn/u.data.train.0-sims...\n",
      "[2017-11-22 17:38:16,601] INFO: checking for existing output sims...\n",
      "[2017-11-22 17:38:16,603] INFO: creating tasks...\n",
      "[2017-11-22 17:38:16,603] INFO: running 4 tasks in parallel across ipython engines...\n",
      "[2017-11-22 17:38:19,577] INFO: checking output files...\n",
      "[2017-11-22 17:38:19,577] INFO: SUCCESS: all tasks completed\n",
      "[2017-11-22 17:38:19,577] INFO: concatenating 4 partial output files...\n",
      "[2017-11-22 17:38:19,612] INFO: removing partial output files...\n",
      "[2017-11-22 17:38:19,614] INFO: loading 1682 items in CosineKNNRecommender model from /Users/vladimir/temp/AnacondaProjects/homework/mrec/models_knn/u.data.train.0.sims.tsv\n",
      "[2017-11-22 17:38:20,979] INFO: done\n",
      "[2017-11-22 17:38:20,979] INFO: processing /Users/vladimir/temp/AnacondaProjects/homework/mrec/splits/u.data.train.1...\n",
      "[2017-11-22 17:38:20,979] INFO: finding number of items...\n",
      "[2017-11-22 17:38:21,497] INFO: 943 users and 1681 items\n",
      "[2017-11-22 17:38:21,497] INFO: creating sims directory /Users/vladimir/temp/AnacondaProjects/homework/mrec/models_knn/u.data.train.1-sims...\n",
      "[2017-11-22 17:38:21,527] INFO: checking for existing output sims...\n",
      "[2017-11-22 17:38:21,529] INFO: creating tasks...\n",
      "[2017-11-22 17:38:21,529] INFO: running 4 tasks in parallel across ipython engines...\n",
      "[2017-11-22 17:38:25,081] INFO: checking output files...\n",
      "[2017-11-22 17:38:25,082] INFO: SUCCESS: all tasks completed\n",
      "[2017-11-22 17:38:25,082] INFO: concatenating 4 partial output files...\n",
      "[2017-11-22 17:38:25,108] INFO: removing partial output files...\n",
      "[2017-11-22 17:38:25,110] INFO: loading 1681 items in CosineKNNRecommender model from /Users/vladimir/temp/AnacondaProjects/homework/mrec/models_knn/u.data.train.1.sims.tsv\n",
      "[2017-11-22 17:38:26,506] INFO: done\n",
      "[2017-11-22 17:38:26,506] INFO: processing /Users/vladimir/temp/AnacondaProjects/homework/mrec/splits/u.data.train.2...\n",
      "[2017-11-22 17:38:26,506] INFO: finding number of items...\n",
      "[2017-11-22 17:38:27,080] INFO: 943 users and 1681 items\n",
      "[2017-11-22 17:38:27,081] INFO: creating sims directory /Users/vladimir/temp/AnacondaProjects/homework/mrec/models_knn/u.data.train.2-sims...\n",
      "[2017-11-22 17:38:27,104] INFO: checking for existing output sims...\n",
      "[2017-11-22 17:38:27,104] INFO: creating tasks...\n",
      "[2017-11-22 17:38:27,105] INFO: running 4 tasks in parallel across ipython engines...\n",
      "[2017-11-22 17:38:30,446] INFO: checking output files...\n",
      "[2017-11-22 17:38:30,446] INFO: SUCCESS: all tasks completed\n",
      "[2017-11-22 17:38:30,447] INFO: concatenating 4 partial output files...\n",
      "[2017-11-22 17:38:30,473] INFO: removing partial output files...\n",
      "[2017-11-22 17:38:30,475] INFO: loading 1681 items in CosineKNNRecommender model from /Users/vladimir/temp/AnacondaProjects/homework/mrec/models_knn/u.data.train.2.sims.tsv\n",
      "[2017-11-22 17:38:31,876] INFO: done\n",
      "[2017-11-22 17:38:31,876] INFO: processing /Users/vladimir/temp/AnacondaProjects/homework/mrec/splits/u.data.train.3...\n",
      "[2017-11-22 17:38:31,876] INFO: finding number of items...\n",
      "[2017-11-22 17:38:32,499] INFO: 943 users and 1680 items\n",
      "[2017-11-22 17:38:32,500] INFO: creating sims directory /Users/vladimir/temp/AnacondaProjects/homework/mrec/models_knn/u.data.train.3-sims...\n",
      "[2017-11-22 17:38:32,511] INFO: checking for existing output sims...\n",
      "[2017-11-22 17:38:32,511] INFO: creating tasks...\n",
      "[2017-11-22 17:38:32,512] INFO: running 4 tasks in parallel across ipython engines...\n",
      "[2017-11-22 17:38:36,507] INFO: checking output files...\n",
      "[2017-11-22 17:38:36,507] INFO: SUCCESS: all tasks completed\n",
      "[2017-11-22 17:38:36,508] INFO: concatenating 4 partial output files...\n",
      "[2017-11-22 17:38:36,527] INFO: removing partial output files...\n",
      "[2017-11-22 17:38:36,529] INFO: loading 1680 items in CosineKNNRecommender model from /Users/vladimir/temp/AnacondaProjects/homework/mrec/models_knn/u.data.train.3.sims.tsv\n",
      "[2017-11-22 17:38:37,680] INFO: done\n",
      "[2017-11-22 17:38:37,680] INFO: processing /Users/vladimir/temp/AnacondaProjects/homework/mrec/splits/u.data.train.4...\n",
      "[2017-11-22 17:38:37,680] INFO: finding number of items...\n",
      "[2017-11-22 17:38:38,302] INFO: 943 users and 1677 items\n",
      "[2017-11-22 17:38:38,302] INFO: creating sims directory /Users/vladimir/temp/AnacondaProjects/homework/mrec/models_knn/u.data.train.4-sims...\n",
      "[2017-11-22 17:38:38,322] INFO: checking for existing output sims...\n",
      "[2017-11-22 17:38:38,323] INFO: creating tasks...\n",
      "[2017-11-22 17:38:38,323] INFO: running 4 tasks in parallel across ipython engines...\n",
      "[2017-11-22 17:38:42,146] INFO: checking output files...\n",
      "[2017-11-22 17:38:42,153] INFO: SUCCESS: all tasks completed\n",
      "[2017-11-22 17:38:42,153] INFO: concatenating 4 partial output files...\n",
      "[2017-11-22 17:38:42,167] INFO: removing partial output files...\n",
      "[2017-11-22 17:38:42,169] INFO: loading 1677 items in CosineKNNRecommender model from /Users/vladimir/temp/AnacondaProjects/homework/mrec/models_knn/u.data.train.4.sims.tsv\n",
      "[2017-11-22 17:38:43,563] INFO: done\n"
     ]
    }
   ],
   "source": [
    "!sbin/mrec_train --model=knn -n4 --input_format tsv --train \"splits/u.data.train.*\" --outdir models_knn"
   ]
  },
  {
   "cell_type": "markdown",
   "metadata": {},
   "source": [
    "### Предсказание"
   ]
  },
  {
   "cell_type": "code",
   "execution_count": 150,
   "metadata": {},
   "outputs": [
    {
     "name": "stdout",
     "output_type": "stream",
     "text": [
      "[2017-11-22 17:38:46,173] INFO: processing /Users/vladimir/temp/AnacondaProjects/homework/mrec/splits/u.data.train.0...\n",
      "[2017-11-22 17:38:46,173] INFO: creating recs directory /Users/vladimir/temp/AnacondaProjects/homework/mrec/recs_knn/u.data.train.0-recs...\n",
      "[2017-11-22 17:38:46,197] INFO: checking for existing output recs...\n",
      "[2017-11-22 17:38:46,198] INFO: creating tasks...\n",
      "[2017-11-22 17:38:46,199] INFO: loading dataset to get size...\n",
      "[2017-11-22 17:38:46,713] INFO: loading model to get size...\n",
      "[2017-11-22 17:38:46,988] INFO: created 1 tasks, 10823 users per task\n",
      "[2017-11-22 17:38:46,988] INFO: running in parallel across ipython engines...\n",
      "[2017-11-22 17:38:50,334] INFO: checking output files...\n",
      "[2017-11-22 17:38:50,334] INFO: SUCCESS: all tasks completed\n",
      "[2017-11-22 17:38:50,334] INFO: concatenating 1 partial output files...\n",
      "[2017-11-22 17:38:50,377] INFO: removing partial output files...\n",
      "[2017-11-22 17:38:50,377] INFO: done\n",
      "[2017-11-22 17:38:50,379] INFO: processing /Users/vladimir/temp/AnacondaProjects/homework/mrec/splits/u.data.train.1...\n",
      "[2017-11-22 17:38:50,379] INFO: creating recs directory /Users/vladimir/temp/AnacondaProjects/homework/mrec/recs_knn/u.data.train.1-recs...\n",
      "[2017-11-22 17:38:50,408] INFO: checking for existing output recs...\n",
      "[2017-11-22 17:38:50,408] INFO: creating tasks...\n",
      "[2017-11-22 17:38:50,408] INFO: loading dataset to get size...\n",
      "[2017-11-22 17:38:50,816] INFO: loading model to get size...\n",
      "[2017-11-22 17:38:50,979] INFO: created 1 tasks, 10772 users per task\n",
      "[2017-11-22 17:38:50,979] INFO: running in parallel across ipython engines...\n",
      "[2017-11-22 17:38:54,209] INFO: checking output files...\n",
      "[2017-11-22 17:38:54,210] INFO: SUCCESS: all tasks completed\n",
      "[2017-11-22 17:38:54,210] INFO: concatenating 1 partial output files...\n",
      "[2017-11-22 17:38:54,231] INFO: removing partial output files...\n",
      "[2017-11-22 17:38:54,232] INFO: done\n",
      "[2017-11-22 17:38:54,234] INFO: processing /Users/vladimir/temp/AnacondaProjects/homework/mrec/splits/u.data.train.2...\n",
      "[2017-11-22 17:38:54,234] INFO: creating recs directory /Users/vladimir/temp/AnacondaProjects/homework/mrec/recs_knn/u.data.train.2-recs...\n",
      "[2017-11-22 17:38:54,255] INFO: checking for existing output recs...\n",
      "[2017-11-22 17:38:54,255] INFO: creating tasks...\n",
      "[2017-11-22 17:38:54,255] INFO: loading dataset to get size...\n",
      "[2017-11-22 17:38:54,685] INFO: loading model to get size...\n",
      "[2017-11-22 17:38:54,846] INFO: created 1 tasks, 10730 users per task\n",
      "[2017-11-22 17:38:54,846] INFO: running in parallel across ipython engines...\n",
      "[2017-11-22 17:38:57,967] INFO: checking output files...\n",
      "[2017-11-22 17:38:57,967] INFO: SUCCESS: all tasks completed\n",
      "[2017-11-22 17:38:57,968] INFO: concatenating 1 partial output files...\n",
      "[2017-11-22 17:38:57,977] INFO: removing partial output files...\n",
      "[2017-11-22 17:38:57,978] INFO: done\n",
      "[2017-11-22 17:38:57,980] INFO: processing /Users/vladimir/temp/AnacondaProjects/homework/mrec/splits/u.data.train.3...\n",
      "[2017-11-22 17:38:57,980] INFO: creating recs directory /Users/vladimir/temp/AnacondaProjects/homework/mrec/recs_knn/u.data.train.3-recs...\n",
      "[2017-11-22 17:38:57,987] INFO: checking for existing output recs...\n",
      "[2017-11-22 17:38:57,989] INFO: creating tasks...\n",
      "[2017-11-22 17:38:57,989] INFO: loading dataset to get size...\n",
      "[2017-11-22 17:38:58,449] INFO: loading model to get size...\n",
      "[2017-11-22 17:38:58,651] INFO: created 1 tasks, 10831 users per task\n",
      "[2017-11-22 17:38:58,651] INFO: running in parallel across ipython engines...\n",
      "[2017-11-22 17:39:02,097] INFO: checking output files...\n",
      "[2017-11-22 17:39:02,097] INFO: SUCCESS: all tasks completed\n",
      "[2017-11-22 17:39:02,097] INFO: concatenating 1 partial output files...\n",
      "[2017-11-22 17:39:02,104] INFO: removing partial output files...\n",
      "[2017-11-22 17:39:02,105] INFO: done\n",
      "[2017-11-22 17:39:02,107] INFO: processing /Users/vladimir/temp/AnacondaProjects/homework/mrec/splits/u.data.train.4...\n",
      "[2017-11-22 17:39:02,107] INFO: creating recs directory /Users/vladimir/temp/AnacondaProjects/homework/mrec/recs_knn/u.data.train.4-recs...\n",
      "[2017-11-22 17:39:02,115] INFO: checking for existing output recs...\n",
      "[2017-11-22 17:39:02,116] INFO: creating tasks...\n",
      "[2017-11-22 17:39:02,116] INFO: loading dataset to get size...\n",
      "[2017-11-22 17:39:02,456] INFO: loading model to get size...\n",
      "[2017-11-22 17:39:02,474] INFO: created 1 tasks, 10795 users per task\n",
      "[2017-11-22 17:39:02,474] INFO: running in parallel across ipython engines...\n",
      "[2017-11-22 17:39:06,081] INFO: checking output files...\n",
      "[2017-11-22 17:39:06,082] INFO: SUCCESS: all tasks completed\n",
      "[2017-11-22 17:39:06,082] INFO: concatenating 1 partial output files...\n",
      "[2017-11-22 17:39:06,103] INFO: removing partial output files...\n",
      "[2017-11-22 17:39:06,104] INFO: done\n",
      "CosineKNNRecommender(k=100)\n",
      "mrr            0.6226 +/- 0.0027\n",
      "prec@5         0.4017 +/- 0.0016\n",
      "prec@10        0.3566 +/- 0.0005\n",
      "prec@15        0.3261 +/- 0.0012\n",
      "prec@20        0.3023 +/- 0.0013\n"
     ]
    }
   ],
   "source": [
    "!sbin/mrec_predict --input_format tsv --test_input_format tsv --train \"splits/u.data.train.*\" --modeldir models_knn --outdir recs_knn"
   ]
  },
  {
   "cell_type": "markdown",
   "metadata": {},
   "source": [
    "Посмотрим на то что вышло"
   ]
  },
  {
   "cell_type": "code",
   "execution_count": 165,
   "metadata": {
    "collapsed": true
   },
   "outputs": [],
   "source": [
    "data_pred = pd.read_csv(\"recs/u.data.train.0.recs.tsv\", sep=\"\\t\", header=None, index_col=None)\n",
    "data_pred.columns = [\"user_id\", \"movie_id\", \"pred\"]"
   ]
  },
  {
   "cell_type": "code",
   "execution_count": 166,
   "metadata": {},
   "outputs": [
    {
     "data": {
      "text/html": [
       "<div>\n",
       "<style>\n",
       "    .dataframe thead tr:only-child th {\n",
       "        text-align: right;\n",
       "    }\n",
       "\n",
       "    .dataframe thead th {\n",
       "        text-align: left;\n",
       "    }\n",
       "\n",
       "    .dataframe tbody tr th {\n",
       "        vertical-align: top;\n",
       "    }\n",
       "</style>\n",
       "<table border=\"1\" class=\"dataframe\">\n",
       "  <thead>\n",
       "    <tr style=\"text-align: right;\">\n",
       "      <th></th>\n",
       "      <th>user_id</th>\n",
       "      <th>movie_id</th>\n",
       "      <th>pred</th>\n",
       "    </tr>\n",
       "  </thead>\n",
       "  <tbody>\n",
       "    <tr>\n",
       "      <th>0</th>\n",
       "      <td>1</td>\n",
       "      <td>50</td>\n",
       "      <td>0.570405</td>\n",
       "    </tr>\n",
       "    <tr>\n",
       "      <th>1</th>\n",
       "      <td>1</td>\n",
       "      <td>183</td>\n",
       "      <td>0.528868</td>\n",
       "    </tr>\n",
       "    <tr>\n",
       "      <th>2</th>\n",
       "      <td>1</td>\n",
       "      <td>181</td>\n",
       "      <td>0.520021</td>\n",
       "    </tr>\n",
       "    <tr>\n",
       "      <th>3</th>\n",
       "      <td>1</td>\n",
       "      <td>168</td>\n",
       "      <td>0.499544</td>\n",
       "    </tr>\n",
       "    <tr>\n",
       "      <th>4</th>\n",
       "      <td>1</td>\n",
       "      <td>82</td>\n",
       "      <td>0.479166</td>\n",
       "    </tr>\n",
       "  </tbody>\n",
       "</table>\n",
       "</div>"
      ],
      "text/plain": [
       "   user_id  movie_id      pred\n",
       "0        1        50  0.570405\n",
       "1        1       183  0.528868\n",
       "2        1       181  0.520021\n",
       "3        1       168  0.499544\n",
       "4        1        82  0.479166"
      ]
     },
     "execution_count": 166,
     "metadata": {},
     "output_type": "execute_result"
    }
   ],
   "source": [
    "data_pred.head()"
   ]
  },
  {
   "cell_type": "code",
   "execution_count": 167,
   "metadata": {},
   "outputs": [
    {
     "data": {
      "text/plain": [
       "0     50\n",
       "1    183\n",
       "2    181\n",
       "3    168\n",
       "4     82\n",
       "Name: movie_id, dtype: int64"
      ]
     },
     "execution_count": 167,
     "metadata": {},
     "output_type": "execute_result"
    }
   ],
   "source": [
    "mo = data_pred.head()[\"movie_id\"]\n",
    "mo"
   ]
  },
  {
   "cell_type": "code",
   "execution_count": 168,
   "metadata": {},
   "outputs": [
    {
     "data": {
      "text/plain": [
       "49                           Star Wars (1977)\n",
       "81                       Jurassic Park (1993)\n",
       "167    Monty Python and the Holy Grail (1974)\n",
       "180                 Return of the Jedi (1983)\n",
       "182                              Alien (1979)\n",
       "Name: movie title, dtype: object"
      ]
     },
     "execution_count": 168,
     "metadata": {},
     "output_type": "execute_result"
    }
   ],
   "source": [
    "ind = item[item[\"movie_id\"].isin(mo.values)][\"movie title\"]\n",
    "ind"
   ]
  },
  {
   "cell_type": "code",
   "execution_count": null,
   "metadata": {
    "collapsed": true
   },
   "outputs": [],
   "source": []
  }
 ],
 "metadata": {
  "kernelspec": {
   "display_name": "Python 3",
   "language": "python",
   "name": "python3"
  },
  "language_info": {
   "codemirror_mode": {
    "name": "ipython",
    "version": 3
   },
   "file_extension": ".py",
   "mimetype": "text/x-python",
   "name": "python",
   "nbconvert_exporter": "python",
   "pygments_lexer": "ipython3",
   "version": "3.6.3"
  }
 },
 "nbformat": 4,
 "nbformat_minor": 2
}
