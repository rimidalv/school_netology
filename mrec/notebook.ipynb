{
 "cells": [
  {
   "cell_type": "code",
   "execution_count": 1,
   "metadata": {
    "_cell_guid": "2796f74c-54ad-419a-b064-78b2d6fe2d5d",
    "_uuid": "29323239dc59cf0e8c5eaefd61d35ace5e706cb5"
   },
   "outputs": [],
   "source": [
    "import numpy as np\n",
    "import pandas as pd\n",
    "import gc"
   ]
  },
  {
   "cell_type": "code",
   "execution_count": 2,
   "metadata": {
    "_cell_guid": "47184e29-69d0-4491-9a21-86bc72295143",
    "_uuid": "f64b494acddf1af663f0cd7b7fc0d58e21a7fdcb"
   },
   "outputs": [],
   "source": [
    "train = pd.read_csv(\"train.csv\")\n",
    "test = pd.read_csv(\"test.csv\")"
   ]
  },
  {
   "cell_type": "code",
   "execution_count": 3,
   "metadata": {
    "_cell_guid": "cb4410d3-5c5a-4db2-b783-90482ddab2bb",
    "_uuid": "c0aaed46222ceb784b02b724be5ec0bb0fe6c614"
   },
   "outputs": [
    {
     "data": {
      "text/html": [
       "<div>\n",
       "<style scoped>\n",
       "    .dataframe tbody tr th:only-of-type {\n",
       "        vertical-align: middle;\n",
       "    }\n",
       "\n",
       "    .dataframe tbody tr th {\n",
       "        vertical-align: top;\n",
       "    }\n",
       "\n",
       "    .dataframe thead th {\n",
       "        text-align: right;\n",
       "    }\n",
       "</style>\n",
       "<table border=\"1\" class=\"dataframe\">\n",
       "  <thead>\n",
       "    <tr style=\"text-align: right;\">\n",
       "      <th></th>\n",
       "      <th>msno</th>\n",
       "      <th>song_id</th>\n",
       "      <th>source_system_tab</th>\n",
       "      <th>source_screen_name</th>\n",
       "      <th>source_type</th>\n",
       "      <th>target</th>\n",
       "    </tr>\n",
       "  </thead>\n",
       "  <tbody>\n",
       "    <tr>\n",
       "      <th>0</th>\n",
       "      <td>FGtllVqz18RPiwJj/edr2gV78zirAiY/9SmYvia+kCg=</td>\n",
       "      <td>BBzumQNXUHKdEBOB7mAJuzok+IJA1c2Ryg/yzTF6tik=</td>\n",
       "      <td>explore</td>\n",
       "      <td>Explore</td>\n",
       "      <td>online-playlist</td>\n",
       "      <td>1</td>\n",
       "    </tr>\n",
       "    <tr>\n",
       "      <th>1</th>\n",
       "      <td>Xumu+NIjS6QYVxDS4/t3SawvJ7viT9hPKXmf0RtLNx8=</td>\n",
       "      <td>bhp/MpSNoqoxOIB+/l8WPqu6jldth4DIpCm3ayXnJqM=</td>\n",
       "      <td>my library</td>\n",
       "      <td>Local playlist more</td>\n",
       "      <td>local-playlist</td>\n",
       "      <td>1</td>\n",
       "    </tr>\n",
       "    <tr>\n",
       "      <th>2</th>\n",
       "      <td>Xumu+NIjS6QYVxDS4/t3SawvJ7viT9hPKXmf0RtLNx8=</td>\n",
       "      <td>JNWfrrC7zNN7BdMpsISKa4Mw+xVJYNnxXh3/Epw7QgY=</td>\n",
       "      <td>my library</td>\n",
       "      <td>Local playlist more</td>\n",
       "      <td>local-playlist</td>\n",
       "      <td>1</td>\n",
       "    </tr>\n",
       "    <tr>\n",
       "      <th>3</th>\n",
       "      <td>Xumu+NIjS6QYVxDS4/t3SawvJ7viT9hPKXmf0RtLNx8=</td>\n",
       "      <td>2A87tzfnJTSWqD7gIZHisolhe4DMdzkbd6LzO1KHjNs=</td>\n",
       "      <td>my library</td>\n",
       "      <td>Local playlist more</td>\n",
       "      <td>local-playlist</td>\n",
       "      <td>1</td>\n",
       "    </tr>\n",
       "    <tr>\n",
       "      <th>4</th>\n",
       "      <td>FGtllVqz18RPiwJj/edr2gV78zirAiY/9SmYvia+kCg=</td>\n",
       "      <td>3qm6XTZ6MOCU11x8FIVbAGH5l5uMkT3/ZalWG1oo2Gc=</td>\n",
       "      <td>explore</td>\n",
       "      <td>Explore</td>\n",
       "      <td>online-playlist</td>\n",
       "      <td>1</td>\n",
       "    </tr>\n",
       "  </tbody>\n",
       "</table>\n",
       "</div>"
      ],
      "text/plain": [
       "                                           msno  \\\n",
       "0  FGtllVqz18RPiwJj/edr2gV78zirAiY/9SmYvia+kCg=   \n",
       "1  Xumu+NIjS6QYVxDS4/t3SawvJ7viT9hPKXmf0RtLNx8=   \n",
       "2  Xumu+NIjS6QYVxDS4/t3SawvJ7viT9hPKXmf0RtLNx8=   \n",
       "3  Xumu+NIjS6QYVxDS4/t3SawvJ7viT9hPKXmf0RtLNx8=   \n",
       "4  FGtllVqz18RPiwJj/edr2gV78zirAiY/9SmYvia+kCg=   \n",
       "\n",
       "                                        song_id source_system_tab  \\\n",
       "0  BBzumQNXUHKdEBOB7mAJuzok+IJA1c2Ryg/yzTF6tik=           explore   \n",
       "1  bhp/MpSNoqoxOIB+/l8WPqu6jldth4DIpCm3ayXnJqM=        my library   \n",
       "2  JNWfrrC7zNN7BdMpsISKa4Mw+xVJYNnxXh3/Epw7QgY=        my library   \n",
       "3  2A87tzfnJTSWqD7gIZHisolhe4DMdzkbd6LzO1KHjNs=        my library   \n",
       "4  3qm6XTZ6MOCU11x8FIVbAGH5l5uMkT3/ZalWG1oo2Gc=           explore   \n",
       "\n",
       "    source_screen_name      source_type  target  \n",
       "0              Explore  online-playlist       1  \n",
       "1  Local playlist more   local-playlist       1  \n",
       "2  Local playlist more   local-playlist       1  \n",
       "3  Local playlist more   local-playlist       1  \n",
       "4              Explore  online-playlist       1  "
      ]
     },
     "execution_count": 3,
     "metadata": {},
     "output_type": "execute_result"
    }
   ],
   "source": [
    "train.head()"
   ]
  },
  {
   "cell_type": "code",
   "execution_count": 4,
   "metadata": {
    "_cell_guid": "5574e125-7bf2-40ac-9ab1-ccca29879379",
    "_uuid": "ba221860bd31dc7ca2ec01983f54bbce707a593a"
   },
   "outputs": [
    {
     "data": {
      "text/plain": [
       "36"
      ]
     },
     "execution_count": 4,
     "metadata": {},
     "output_type": "execute_result"
    }
   ],
   "source": [
    "train[\"id\"] = -1\n",
    "test[\"target\"] = -1\n",
    "data = train.append(test)\n",
    "del train\n",
    "del test\n",
    "gc.collect()"
   ]
  },
  {
   "cell_type": "code",
   "execution_count": 5,
   "metadata": {
    "_cell_guid": "9bf2fbb0-1f3d-4dba-bf1e-9685ef05ee20",
    "_uuid": "0429c2b7d5a60d2c594d2a9b1d46d7eaebd325fc"
   },
   "outputs": [
    {
     "name": "stderr",
     "output_type": "stream",
     "text": [
      "/anaconda3/lib/python3.6/site-packages/numpy/lib/arraysetops.py:463: FutureWarning: elementwise comparison failed; returning scalar instead, but in the future will perform elementwise comparison\n",
      "  mask |= (ar1 == a)\n"
     ]
    },
    {
     "data": {
      "text/plain": [
       "56"
      ]
     },
     "execution_count": 5,
     "metadata": {},
     "output_type": "execute_result"
    }
   ],
   "source": [
    "data[\"user_id\"] = data[\"msno\"].astype(\"category\").cat.codes.copy()\n",
    "data[\"item_id\"] = data[\"song_id\"].astype(\"category\").cat.codes.copy()\n",
    "data.drop([\"msno\", \"song_id\"], inplace=True)\n",
    "gc.collect()\n",
    "train_data = data[data[\"id\"] == -1][[\"user_id\", \"item_id\", \"target\"]]\n",
    "test_data = data[data[\"id\"] != -1][[\"user_id\", \"item_id\", \"id\"]]\n",
    "del data\n",
    "gc.collect()"
   ]
  },
  {
   "cell_type": "code",
   "execution_count": 6,
   "metadata": {
    "_cell_guid": "8fa83ee6-b050-47dc-b3a7-707d2727ae2b",
    "_uuid": "f116a632c302fb4f12e02feaeb4f42948be3ae42"
   },
   "outputs": [
    {
     "name": "stderr",
     "output_type": "stream",
     "text": [
      "/anaconda3/lib/python3.6/site-packages/sklearn/model_selection/_split.py:2026: FutureWarning: From version 0.21, test_size will always complement train_size unless both are specified.\n",
      "  FutureWarning)\n"
     ]
    },
    {
     "data": {
      "text/plain": [
       "12"
      ]
     },
     "execution_count": 6,
     "metadata": {},
     "output_type": "execute_result"
    }
   ],
   "source": [
    "from sklearn.model_selection import train_test_split\n",
    "\n",
    "train_train, train_validation = train_test_split(train_data, train_size=0.8)\n",
    "del train_data\n",
    "gc.collect()"
   ]
  },
  {
   "cell_type": "code",
   "execution_count": 7,
   "metadata": {
    "_cell_guid": "640dccdf-274e-4bfb-a8c4-3a982b14bddf",
    "_uuid": "48d0f45f634ea88a8a597c03458207d65f8f4b66"
   },
   "outputs": [],
   "source": [
    "# создаём разреженную матрицу item*user\n",
    "from scipy.sparse import coo_matrix\n",
    "\n",
    "sparse_train = coo_matrix((\n",
    "    train_train[\"target\"].astype(np.float32),\n",
    "    (\n",
    "        train_train[\"user_id\"],\n",
    "        train_train[\"item_id\"]\n",
    "    )\n",
    "))\n",
    "sample_weight = coo_matrix((\n",
    "    np.ones(train_train.shape[0]),\n",
    "    (\n",
    "        train_train[\"user_id\"],\n",
    "        train_train[\"item_id\"]\n",
    "    )\n",
    "))"
   ]
  },
  {
   "cell_type": "code",
   "execution_count": 8,
   "metadata": {
    "_cell_guid": "e7901eea-f9b4-4b97-b513-ecc8c3bae688",
    "_uuid": "b271dc2575792e4de7fddac652cbbd25a945392e"
   },
   "outputs": [],
   "source": [
    "# функция, которая красиво печатает информацию о разреженных матрицах\n",
    "\n",
    "def sparse_info(sparse_matrix) -> None:\n",
    "    print(\"Размерности матрицы: {}\".format(sparse_matrix.shape))\n",
    "    print(\"Ненулевых элементов в матрице: {}\".format(sparse_matrix.nnz))\n",
    "    print(\"Доля ненулевых элементов: {}\"\n",
    "          .format(sparse_matrix.nnz / sparse_matrix.shape[0] / sparse_matrix.shape[1])\n",
    "    )\n",
    "    print(\"Среднее значение ненулевых элементов: {}\".format(sparse_matrix.data.mean()))\n",
    "    print(\"Максимальное значение ненулевых элементов: {}\".format(sparse_matrix.data.max()))\n",
    "    print(\"Минимальное значение ненулевых элементов: {}\".format(sparse_matrix.data.min()))"
   ]
  },
  {
   "cell_type": "code",
   "execution_count": 9,
   "metadata": {
    "_cell_guid": "9b67b208-efef-4421-b3da-5caaa13007d0",
    "_uuid": "efda4fd8668752bfc3eb83e9fbabeaa7e23b23f4"
   },
   "outputs": [
    {
     "name": "stdout",
     "output_type": "stream",
     "text": [
      "Размерности матрицы: (34403, 419839)\n",
      "Ненулевых элементов в матрице: 5901934\n",
      "Доля ненулевых элементов: 0.0004086158928292744\n",
      "Среднее значение ненулевых элементов: 0.503607988357544\n",
      "Максимальное значение ненулевых элементов: 1.0\n",
      "Минимальное значение ненулевых элементов: 0.0\n"
     ]
    }
   ],
   "source": [
    "sparse_info(sparse_train)"
   ]
  },
  {
   "cell_type": "code",
   "execution_count": 32,
   "metadata": {},
   "outputs": [],
   "source": [
    "from scipy.sparse import hstack, identity\n",
    "\n",
    "item_features = hstack([\n",
    "    identity(train_train.shape[0])\n",
    "])"
   ]
  },
  {
   "cell_type": "code",
   "execution_count": 10,
   "metadata": {
    "_cell_guid": "3c410721-6647-4215-a728-04b6dcfa5168",
    "_uuid": "9e68fb176fb934740615c415cde63a0aa9dd40f8"
   },
   "outputs": [
    {
     "name": "stdout",
     "output_type": "stream",
     "text": [
      "0.5036079698620824\n"
     ]
    }
   ],
   "source": [
    "avg_target = train_train[\"target\"].mean()\n",
    "print(avg_target)\n",
    "def get_recs(dataset, item_features):\n",
    "    return dataset.shape[0] * [avg_target]\n",
    "train_validation[\"target\"] = avg_target\n",
    "item_features = None"
   ]
  },
  {
   "cell_type": "code",
   "execution_count": 31,
   "metadata": {
    "_cell_guid": "7e6c4f46-33ba-44d1-9aa1-6936971c1126",
    "_uuid": "001e47689b253eea4e963c4173aa7fed04094fda"
   },
   "outputs": [
    {
     "name": "stdout",
     "output_type": "stream",
     "text": [
      "train AUC: 0.5\n"
     ]
    },
    {
     "data": {
      "text/plain": [
       "4986180    0\n",
       "6787896    0\n",
       "3806617    1\n",
       "6504477    0\n",
       "2319656    0\n",
       "1395848    1\n",
       "3535277    1\n",
       "3760130    0\n",
       "6288588    1\n",
       "6521309    0\n",
       "3751849    1\n",
       "4912761    0\n",
       "6542450    1\n",
       "4555237    1\n",
       "5914150    1\n",
       "5544020    0\n",
       "1692889    1\n",
       "506871     1\n",
       "5609599    0\n",
       "679523     1\n",
       "6147368    0\n",
       "351412     0\n",
       "1205463    1\n",
       "6035154    1\n",
       "2361336    1\n",
       "6842872    0\n",
       "3368972    1\n",
       "6199807    1\n",
       "1290824    1\n",
       "7038351    0\n",
       "          ..\n",
       "5729592    0\n",
       "7115522    0\n",
       "6017931    0\n",
       "6038773    0\n",
       "1291374    0\n",
       "5668665    0\n",
       "5970778    0\n",
       "2732905    1\n",
       "877577     1\n",
       "4015032    1\n",
       "2934411    0\n",
       "4259992    1\n",
       "2872101    1\n",
       "803516     1\n",
       "4270406    1\n",
       "3900694    1\n",
       "5855987    0\n",
       "3203889    0\n",
       "3205757    0\n",
       "7003113    0\n",
       "65237      0\n",
       "1509900    0\n",
       "200679     1\n",
       "6713592    0\n",
       "2842773    0\n",
       "411576     1\n",
       "4848011    1\n",
       "3418947    1\n",
       "5194055    0\n",
       "4364306    0\n",
       "Name: target, Length: 5901934, dtype: int64"
      ]
     },
     "execution_count": 31,
     "metadata": {},
     "output_type": "execute_result"
    }
   ],
   "source": [
    "from sklearn.metrics import roc_auc_score\n",
    "\n",
    "train_recs = get_recs(train_train, item_features)\n",
    "print(\"train AUC: {}\".format(roc_auc_score(train_train[\"target\"], train_recs)))\n",
    "roc_auc_score(train_train[\"target\"], train_recs)\n",
    "train_train[\"target\"]\n",
    "# validation_recs = get_recs(train_validation, item_features)\n",
    "# print(\"test AUC: {}\".format(roc_auc_score(train_validation[\"target\"].values, validation_recs)))"
   ]
  },
  {
   "cell_type": "code",
   "execution_count": null,
   "metadata": {
    "_cell_guid": "47fafceb-8ae1-4358-b729-65f02b463632",
    "_uuid": "2466d8d28d5b8083adc1a95ecfcea12537dd7ac7",
    "collapsed": true
   },
   "outputs": [],
   "source": []
  }
 ],
 "metadata": {
  "kernelspec": {
   "display_name": "Python 3",
   "language": "python",
   "name": "python3"
  },
  "language_info": {
   "codemirror_mode": {
    "name": "ipython",
    "version": 3
   },
   "file_extension": ".py",
   "mimetype": "text/x-python",
   "name": "python",
   "nbconvert_exporter": "python",
   "pygments_lexer": "ipython3",
   "version": "3.6.3"
  }
 },
 "nbformat": 4,
 "nbformat_minor": 1
}
